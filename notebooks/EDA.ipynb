{
 "cells": [
  {
   "cell_type": "code",
   "execution_count": 1,
   "id": "a161e703",
   "metadata": {},
   "outputs": [],
   "source": [
    "import pandas as pd\n",
    "import numpy as np\n",
    "import matplotlib as plt\n",
    "import seaborn as sns"
   ]
  },
  {
   "cell_type": "code",
   "execution_count": 2,
   "id": "688f0089",
   "metadata": {},
   "outputs": [
    {
     "name": "stderr",
     "output_type": "stream",
     "text": [
      "<>:1: SyntaxWarning: invalid escape sequence '\\D'\n",
      "<>:1: SyntaxWarning: invalid escape sequence '\\D'\n",
      "C:\\Users\\RUSHANK\\AppData\\Local\\Temp\\ipykernel_12048\\4284784556.py:1: SyntaxWarning: invalid escape sequence '\\D'\n",
      "  bank_target = pd.read_csv('D:\\Data_Science\\Project\\data\\\\raw\\\\bank_marketing_updated_v1.csv', skiprows = 2)\n"
     ]
    },
    {
     "data": {
      "application/vnd.microsoft.datawrangler.viewer.v0+json": {
       "columns": [
        {
         "name": "index",
         "rawType": "int64",
         "type": "integer"
        },
        {
         "name": "customerid",
         "rawType": "int64",
         "type": "integer"
        },
        {
         "name": "age",
         "rawType": "float64",
         "type": "float"
        },
        {
         "name": "salary",
         "rawType": "int64",
         "type": "integer"
        },
        {
         "name": "balance",
         "rawType": "int64",
         "type": "integer"
        },
        {
         "name": "marital",
         "rawType": "object",
         "type": "string"
        },
        {
         "name": "jobedu",
         "rawType": "object",
         "type": "string"
        },
        {
         "name": "targeted",
         "rawType": "object",
         "type": "string"
        },
        {
         "name": "default",
         "rawType": "object",
         "type": "string"
        },
        {
         "name": "housing",
         "rawType": "object",
         "type": "string"
        },
        {
         "name": "loan",
         "rawType": "object",
         "type": "string"
        },
        {
         "name": "contact",
         "rawType": "object",
         "type": "string"
        },
        {
         "name": "day",
         "rawType": "int64",
         "type": "integer"
        },
        {
         "name": "month",
         "rawType": "object",
         "type": "string"
        },
        {
         "name": "duration",
         "rawType": "object",
         "type": "string"
        },
        {
         "name": "campaign",
         "rawType": "int64",
         "type": "integer"
        },
        {
         "name": "pdays",
         "rawType": "int64",
         "type": "integer"
        },
        {
         "name": "previous",
         "rawType": "int64",
         "type": "integer"
        },
        {
         "name": "poutcome",
         "rawType": "object",
         "type": "string"
        },
        {
         "name": "response",
         "rawType": "object",
         "type": "string"
        }
       ],
       "ref": "cbac6047-ac9f-4b01-bd92-9b5d6f14b2f8",
       "rows": [
        [
         "0",
         "1",
         "58.0",
         "100000",
         "2143",
         "married",
         "management,tertiary",
         "yes",
         "no",
         "yes",
         "no",
         "unknown",
         "5",
         "may, 2017",
         "261 sec",
         "1",
         "-1",
         "0",
         "unknown",
         "no"
        ],
        [
         "1",
         "2",
         "44.0",
         "60000",
         "29",
         "single",
         "technician,secondary",
         "yes",
         "no",
         "yes",
         "no",
         "unknown",
         "5",
         "may, 2017",
         "151 sec",
         "1",
         "-1",
         "0",
         "unknown",
         "no"
        ],
        [
         "2",
         "3",
         "33.0",
         "120000",
         "2",
         "married",
         "entrepreneur,secondary",
         "yes",
         "no",
         "yes",
         "yes",
         "unknown",
         "5",
         "may, 2017",
         "76 sec",
         "1",
         "-1",
         "0",
         "unknown",
         "no"
        ],
        [
         "3",
         "4",
         "47.0",
         "20000",
         "1506",
         "married",
         "blue-collar,unknown",
         "no",
         "no",
         "yes",
         "no",
         "unknown",
         "5",
         "may, 2017",
         "92 sec",
         "1",
         "-1",
         "0",
         "unknown",
         "no"
        ],
        [
         "4",
         "5",
         "33.0",
         "0",
         "1",
         "single",
         "unknown,unknown",
         "no",
         "no",
         "no",
         "no",
         "unknown",
         "5",
         "may, 2017",
         "198 sec",
         "1",
         "-1",
         "0",
         "unknown",
         "no"
        ]
       ],
       "shape": {
        "columns": 19,
        "rows": 5
       }
      },
      "text/html": [
       "<div>\n",
       "<style scoped>\n",
       "    .dataframe tbody tr th:only-of-type {\n",
       "        vertical-align: middle;\n",
       "    }\n",
       "\n",
       "    .dataframe tbody tr th {\n",
       "        vertical-align: top;\n",
       "    }\n",
       "\n",
       "    .dataframe thead th {\n",
       "        text-align: right;\n",
       "    }\n",
       "</style>\n",
       "<table border=\"1\" class=\"dataframe\">\n",
       "  <thead>\n",
       "    <tr style=\"text-align: right;\">\n",
       "      <th></th>\n",
       "      <th>customerid</th>\n",
       "      <th>age</th>\n",
       "      <th>salary</th>\n",
       "      <th>balance</th>\n",
       "      <th>marital</th>\n",
       "      <th>jobedu</th>\n",
       "      <th>targeted</th>\n",
       "      <th>default</th>\n",
       "      <th>housing</th>\n",
       "      <th>loan</th>\n",
       "      <th>contact</th>\n",
       "      <th>day</th>\n",
       "      <th>month</th>\n",
       "      <th>duration</th>\n",
       "      <th>campaign</th>\n",
       "      <th>pdays</th>\n",
       "      <th>previous</th>\n",
       "      <th>poutcome</th>\n",
       "      <th>response</th>\n",
       "    </tr>\n",
       "  </thead>\n",
       "  <tbody>\n",
       "    <tr>\n",
       "      <th>0</th>\n",
       "      <td>1</td>\n",
       "      <td>58.0</td>\n",
       "      <td>100000</td>\n",
       "      <td>2143</td>\n",
       "      <td>married</td>\n",
       "      <td>management,tertiary</td>\n",
       "      <td>yes</td>\n",
       "      <td>no</td>\n",
       "      <td>yes</td>\n",
       "      <td>no</td>\n",
       "      <td>unknown</td>\n",
       "      <td>5</td>\n",
       "      <td>may, 2017</td>\n",
       "      <td>261 sec</td>\n",
       "      <td>1</td>\n",
       "      <td>-1</td>\n",
       "      <td>0</td>\n",
       "      <td>unknown</td>\n",
       "      <td>no</td>\n",
       "    </tr>\n",
       "    <tr>\n",
       "      <th>1</th>\n",
       "      <td>2</td>\n",
       "      <td>44.0</td>\n",
       "      <td>60000</td>\n",
       "      <td>29</td>\n",
       "      <td>single</td>\n",
       "      <td>technician,secondary</td>\n",
       "      <td>yes</td>\n",
       "      <td>no</td>\n",
       "      <td>yes</td>\n",
       "      <td>no</td>\n",
       "      <td>unknown</td>\n",
       "      <td>5</td>\n",
       "      <td>may, 2017</td>\n",
       "      <td>151 sec</td>\n",
       "      <td>1</td>\n",
       "      <td>-1</td>\n",
       "      <td>0</td>\n",
       "      <td>unknown</td>\n",
       "      <td>no</td>\n",
       "    </tr>\n",
       "    <tr>\n",
       "      <th>2</th>\n",
       "      <td>3</td>\n",
       "      <td>33.0</td>\n",
       "      <td>120000</td>\n",
       "      <td>2</td>\n",
       "      <td>married</td>\n",
       "      <td>entrepreneur,secondary</td>\n",
       "      <td>yes</td>\n",
       "      <td>no</td>\n",
       "      <td>yes</td>\n",
       "      <td>yes</td>\n",
       "      <td>unknown</td>\n",
       "      <td>5</td>\n",
       "      <td>may, 2017</td>\n",
       "      <td>76 sec</td>\n",
       "      <td>1</td>\n",
       "      <td>-1</td>\n",
       "      <td>0</td>\n",
       "      <td>unknown</td>\n",
       "      <td>no</td>\n",
       "    </tr>\n",
       "    <tr>\n",
       "      <th>3</th>\n",
       "      <td>4</td>\n",
       "      <td>47.0</td>\n",
       "      <td>20000</td>\n",
       "      <td>1506</td>\n",
       "      <td>married</td>\n",
       "      <td>blue-collar,unknown</td>\n",
       "      <td>no</td>\n",
       "      <td>no</td>\n",
       "      <td>yes</td>\n",
       "      <td>no</td>\n",
       "      <td>unknown</td>\n",
       "      <td>5</td>\n",
       "      <td>may, 2017</td>\n",
       "      <td>92 sec</td>\n",
       "      <td>1</td>\n",
       "      <td>-1</td>\n",
       "      <td>0</td>\n",
       "      <td>unknown</td>\n",
       "      <td>no</td>\n",
       "    </tr>\n",
       "    <tr>\n",
       "      <th>4</th>\n",
       "      <td>5</td>\n",
       "      <td>33.0</td>\n",
       "      <td>0</td>\n",
       "      <td>1</td>\n",
       "      <td>single</td>\n",
       "      <td>unknown,unknown</td>\n",
       "      <td>no</td>\n",
       "      <td>no</td>\n",
       "      <td>no</td>\n",
       "      <td>no</td>\n",
       "      <td>unknown</td>\n",
       "      <td>5</td>\n",
       "      <td>may, 2017</td>\n",
       "      <td>198 sec</td>\n",
       "      <td>1</td>\n",
       "      <td>-1</td>\n",
       "      <td>0</td>\n",
       "      <td>unknown</td>\n",
       "      <td>no</td>\n",
       "    </tr>\n",
       "  </tbody>\n",
       "</table>\n",
       "</div>"
      ],
      "text/plain": [
       "   customerid   age  salary  balance  marital                  jobedu  \\\n",
       "0           1  58.0  100000     2143  married     management,tertiary   \n",
       "1           2  44.0   60000       29   single    technician,secondary   \n",
       "2           3  33.0  120000        2  married  entrepreneur,secondary   \n",
       "3           4  47.0   20000     1506  married     blue-collar,unknown   \n",
       "4           5  33.0       0        1   single         unknown,unknown   \n",
       "\n",
       "  targeted default housing loan  contact  day      month duration  campaign  \\\n",
       "0      yes      no     yes   no  unknown    5  may, 2017  261 sec         1   \n",
       "1      yes      no     yes   no  unknown    5  may, 2017  151 sec         1   \n",
       "2      yes      no     yes  yes  unknown    5  may, 2017   76 sec         1   \n",
       "3       no      no     yes   no  unknown    5  may, 2017   92 sec         1   \n",
       "4       no      no      no   no  unknown    5  may, 2017  198 sec         1   \n",
       "\n",
       "   pdays  previous poutcome response  \n",
       "0     -1         0  unknown       no  \n",
       "1     -1         0  unknown       no  \n",
       "2     -1         0  unknown       no  \n",
       "3     -1         0  unknown       no  \n",
       "4     -1         0  unknown       no  "
      ]
     },
     "execution_count": 2,
     "metadata": {},
     "output_type": "execute_result"
    }
   ],
   "source": [
    "bank_target = pd.read_csv('D:\\Data_Science\\Project\\data\\\\raw\\\\bank_marketing_updated_v1.csv', skiprows = 2)\n",
    "bank_target.head(5)"
   ]
  },
  {
   "cell_type": "code",
   "execution_count": 3,
   "id": "e666b708",
   "metadata": {},
   "outputs": [
    {
     "name": "stdout",
     "output_type": "stream",
     "text": [
      "<class 'pandas.core.frame.DataFrame'>\n",
      "RangeIndex: 45211 entries, 0 to 45210\n",
      "Data columns (total 19 columns):\n",
      " #   Column      Non-Null Count  Dtype  \n",
      "---  ------      --------------  -----  \n",
      " 0   customerid  45211 non-null  int64  \n",
      " 1   age         45191 non-null  float64\n",
      " 2   salary      45211 non-null  int64  \n",
      " 3   balance     45211 non-null  int64  \n",
      " 4   marital     45211 non-null  object \n",
      " 5   jobedu      45211 non-null  object \n",
      " 6   targeted    45211 non-null  object \n",
      " 7   default     45211 non-null  object \n",
      " 8   housing     45211 non-null  object \n",
      " 9   loan        45211 non-null  object \n",
      " 10  contact     45211 non-null  object \n",
      " 11  day         45211 non-null  int64  \n",
      " 12  month       45161 non-null  object \n",
      " 13  duration    45211 non-null  object \n",
      " 14  campaign    45211 non-null  int64  \n",
      " 15  pdays       45211 non-null  int64  \n",
      " 16  previous    45211 non-null  int64  \n",
      " 17  poutcome    45211 non-null  object \n",
      " 18  response    45181 non-null  object \n",
      "dtypes: float64(1), int64(7), object(11)\n",
      "memory usage: 6.6+ MB\n"
     ]
    }
   ],
   "source": [
    "bank_target.info()"
   ]
  },
  {
   "cell_type": "code",
   "execution_count": 4,
   "id": "9e5bcafe",
   "metadata": {},
   "outputs": [
    {
     "data": {
      "application/vnd.microsoft.datawrangler.viewer.v0+json": {
       "columns": [
        {
         "name": "index",
         "rawType": "object",
         "type": "string"
        },
        {
         "name": "customerid",
         "rawType": "float64",
         "type": "float"
        },
        {
         "name": "age",
         "rawType": "float64",
         "type": "float"
        },
        {
         "name": "salary",
         "rawType": "float64",
         "type": "float"
        },
        {
         "name": "balance",
         "rawType": "float64",
         "type": "float"
        },
        {
         "name": "day",
         "rawType": "float64",
         "type": "float"
        },
        {
         "name": "campaign",
         "rawType": "float64",
         "type": "float"
        },
        {
         "name": "pdays",
         "rawType": "float64",
         "type": "float"
        },
        {
         "name": "previous",
         "rawType": "float64",
         "type": "float"
        }
       ],
       "ref": "227339f7-c754-4c5a-8f3f-bfb8f1ab6e21",
       "rows": [
        [
         "count",
         "45211.0",
         "45191.0",
         "45211.0",
         "45211.0",
         "45211.0",
         "45211.0",
         "45211.0",
         "45211.0"
        ],
        [
         "mean",
         "22606.0",
         "40.93565090394105",
         "57006.17106456393",
         "1362.2720576850766",
         "15.80641879188693",
         "2.763840658246887",
         "40.19782796222158",
         "0.5803233726305546"
        ],
        [
         "std",
         "13051.435846935257",
         "10.619197578972633",
         "32085.718415161806",
         "3044.765829168518",
         "8.322476153044592",
         "3.0980208832791694",
         "100.12874599059835",
         "2.3034410449312213"
        ],
        [
         "min",
         "1.0",
         "18.0",
         "0.0",
         "-8019.0",
         "1.0",
         "1.0",
         "-1.0",
         "0.0"
        ],
        [
         "25%",
         "11303.5",
         "33.0",
         "20000.0",
         "72.0",
         "8.0",
         "1.0",
         "-1.0",
         "0.0"
        ],
        [
         "50%",
         "22606.0",
         "39.0",
         "60000.0",
         "448.0",
         "16.0",
         "2.0",
         "-1.0",
         "0.0"
        ],
        [
         "75%",
         "33908.5",
         "48.0",
         "70000.0",
         "1428.0",
         "21.0",
         "3.0",
         "-1.0",
         "0.0"
        ],
        [
         "max",
         "45211.0",
         "95.0",
         "120000.0",
         "102127.0",
         "31.0",
         "63.0",
         "871.0",
         "275.0"
        ]
       ],
       "shape": {
        "columns": 8,
        "rows": 8
       }
      },
      "text/html": [
       "<div>\n",
       "<style scoped>\n",
       "    .dataframe tbody tr th:only-of-type {\n",
       "        vertical-align: middle;\n",
       "    }\n",
       "\n",
       "    .dataframe tbody tr th {\n",
       "        vertical-align: top;\n",
       "    }\n",
       "\n",
       "    .dataframe thead th {\n",
       "        text-align: right;\n",
       "    }\n",
       "</style>\n",
       "<table border=\"1\" class=\"dataframe\">\n",
       "  <thead>\n",
       "    <tr style=\"text-align: right;\">\n",
       "      <th></th>\n",
       "      <th>customerid</th>\n",
       "      <th>age</th>\n",
       "      <th>salary</th>\n",
       "      <th>balance</th>\n",
       "      <th>day</th>\n",
       "      <th>campaign</th>\n",
       "      <th>pdays</th>\n",
       "      <th>previous</th>\n",
       "    </tr>\n",
       "  </thead>\n",
       "  <tbody>\n",
       "    <tr>\n",
       "      <th>count</th>\n",
       "      <td>45211.000000</td>\n",
       "      <td>45191.000000</td>\n",
       "      <td>45211.000000</td>\n",
       "      <td>45211.000000</td>\n",
       "      <td>45211.000000</td>\n",
       "      <td>45211.000000</td>\n",
       "      <td>45211.000000</td>\n",
       "      <td>45211.000000</td>\n",
       "    </tr>\n",
       "    <tr>\n",
       "      <th>mean</th>\n",
       "      <td>22606.000000</td>\n",
       "      <td>40.935651</td>\n",
       "      <td>57006.171065</td>\n",
       "      <td>1362.272058</td>\n",
       "      <td>15.806419</td>\n",
       "      <td>2.763841</td>\n",
       "      <td>40.197828</td>\n",
       "      <td>0.580323</td>\n",
       "    </tr>\n",
       "    <tr>\n",
       "      <th>std</th>\n",
       "      <td>13051.435847</td>\n",
       "      <td>10.619198</td>\n",
       "      <td>32085.718415</td>\n",
       "      <td>3044.765829</td>\n",
       "      <td>8.322476</td>\n",
       "      <td>3.098021</td>\n",
       "      <td>100.128746</td>\n",
       "      <td>2.303441</td>\n",
       "    </tr>\n",
       "    <tr>\n",
       "      <th>min</th>\n",
       "      <td>1.000000</td>\n",
       "      <td>18.000000</td>\n",
       "      <td>0.000000</td>\n",
       "      <td>-8019.000000</td>\n",
       "      <td>1.000000</td>\n",
       "      <td>1.000000</td>\n",
       "      <td>-1.000000</td>\n",
       "      <td>0.000000</td>\n",
       "    </tr>\n",
       "    <tr>\n",
       "      <th>25%</th>\n",
       "      <td>11303.500000</td>\n",
       "      <td>33.000000</td>\n",
       "      <td>20000.000000</td>\n",
       "      <td>72.000000</td>\n",
       "      <td>8.000000</td>\n",
       "      <td>1.000000</td>\n",
       "      <td>-1.000000</td>\n",
       "      <td>0.000000</td>\n",
       "    </tr>\n",
       "    <tr>\n",
       "      <th>50%</th>\n",
       "      <td>22606.000000</td>\n",
       "      <td>39.000000</td>\n",
       "      <td>60000.000000</td>\n",
       "      <td>448.000000</td>\n",
       "      <td>16.000000</td>\n",
       "      <td>2.000000</td>\n",
       "      <td>-1.000000</td>\n",
       "      <td>0.000000</td>\n",
       "    </tr>\n",
       "    <tr>\n",
       "      <th>75%</th>\n",
       "      <td>33908.500000</td>\n",
       "      <td>48.000000</td>\n",
       "      <td>70000.000000</td>\n",
       "      <td>1428.000000</td>\n",
       "      <td>21.000000</td>\n",
       "      <td>3.000000</td>\n",
       "      <td>-1.000000</td>\n",
       "      <td>0.000000</td>\n",
       "    </tr>\n",
       "    <tr>\n",
       "      <th>max</th>\n",
       "      <td>45211.000000</td>\n",
       "      <td>95.000000</td>\n",
       "      <td>120000.000000</td>\n",
       "      <td>102127.000000</td>\n",
       "      <td>31.000000</td>\n",
       "      <td>63.000000</td>\n",
       "      <td>871.000000</td>\n",
       "      <td>275.000000</td>\n",
       "    </tr>\n",
       "  </tbody>\n",
       "</table>\n",
       "</div>"
      ],
      "text/plain": [
       "         customerid           age         salary        balance           day  \\\n",
       "count  45211.000000  45191.000000   45211.000000   45211.000000  45211.000000   \n",
       "mean   22606.000000     40.935651   57006.171065    1362.272058     15.806419   \n",
       "std    13051.435847     10.619198   32085.718415    3044.765829      8.322476   \n",
       "min        1.000000     18.000000       0.000000   -8019.000000      1.000000   \n",
       "25%    11303.500000     33.000000   20000.000000      72.000000      8.000000   \n",
       "50%    22606.000000     39.000000   60000.000000     448.000000     16.000000   \n",
       "75%    33908.500000     48.000000   70000.000000    1428.000000     21.000000   \n",
       "max    45211.000000     95.000000  120000.000000  102127.000000     31.000000   \n",
       "\n",
       "           campaign         pdays      previous  \n",
       "count  45211.000000  45211.000000  45211.000000  \n",
       "mean       2.763841     40.197828      0.580323  \n",
       "std        3.098021    100.128746      2.303441  \n",
       "min        1.000000     -1.000000      0.000000  \n",
       "25%        1.000000     -1.000000      0.000000  \n",
       "50%        2.000000     -1.000000      0.000000  \n",
       "75%        3.000000     -1.000000      0.000000  \n",
       "max       63.000000    871.000000    275.000000  "
      ]
     },
     "execution_count": 4,
     "metadata": {},
     "output_type": "execute_result"
    }
   ],
   "source": [
    "bank_target.describe()"
   ]
  },
  {
   "cell_type": "code",
   "execution_count": 5,
   "id": "e0130f15",
   "metadata": {},
   "outputs": [
    {
     "data": {
      "text/plain": [
       "np.float64(40.93565090394105)"
      ]
     },
     "execution_count": 5,
     "metadata": {},
     "output_type": "execute_result"
    }
   ],
   "source": [
    "bank_target['age'].mean()"
   ]
  },
  {
   "cell_type": "markdown",
   "id": "76559e10",
   "metadata": {},
   "source": [
    "How let's split the Jobedu columns into Job and Education colums by spliting them"
   ]
  },
  {
   "cell_type": "code",
   "execution_count": 6,
   "id": "95fb8077",
   "metadata": {},
   "outputs": [
    {
     "data": {
      "application/vnd.microsoft.datawrangler.viewer.v0+json": {
       "columns": [
        {
         "name": "index",
         "rawType": "int64",
         "type": "integer"
        },
        {
         "name": "customerid",
         "rawType": "int64",
         "type": "integer"
        },
        {
         "name": "age",
         "rawType": "float64",
         "type": "float"
        },
        {
         "name": "salary",
         "rawType": "int64",
         "type": "integer"
        },
        {
         "name": "balance",
         "rawType": "int64",
         "type": "integer"
        },
        {
         "name": "marital",
         "rawType": "object",
         "type": "string"
        },
        {
         "name": "jobedu",
         "rawType": "object",
         "type": "string"
        },
        {
         "name": "targeted",
         "rawType": "object",
         "type": "string"
        },
        {
         "name": "default",
         "rawType": "object",
         "type": "string"
        },
        {
         "name": "housing",
         "rawType": "object",
         "type": "string"
        },
        {
         "name": "loan",
         "rawType": "object",
         "type": "string"
        },
        {
         "name": "contact",
         "rawType": "object",
         "type": "string"
        },
        {
         "name": "day",
         "rawType": "int64",
         "type": "integer"
        },
        {
         "name": "month",
         "rawType": "object",
         "type": "string"
        },
        {
         "name": "duration",
         "rawType": "object",
         "type": "string"
        },
        {
         "name": "campaign",
         "rawType": "int64",
         "type": "integer"
        },
        {
         "name": "pdays",
         "rawType": "int64",
         "type": "integer"
        },
        {
         "name": "previous",
         "rawType": "int64",
         "type": "integer"
        },
        {
         "name": "poutcome",
         "rawType": "object",
         "type": "string"
        },
        {
         "name": "response",
         "rawType": "object",
         "type": "string"
        },
        {
         "name": "Job",
         "rawType": "object",
         "type": "string"
        }
       ],
       "ref": "60cc62af-ef93-436d-9093-96d39ac9c38d",
       "rows": [
        [
         "0",
         "1",
         "58.0",
         "100000",
         "2143",
         "married",
         "management,tertiary",
         "yes",
         "no",
         "yes",
         "no",
         "unknown",
         "5",
         "may, 2017",
         "261 sec",
         "1",
         "-1",
         "0",
         "unknown",
         "no",
         "management"
        ],
        [
         "1",
         "2",
         "44.0",
         "60000",
         "29",
         "single",
         "technician,secondary",
         "yes",
         "no",
         "yes",
         "no",
         "unknown",
         "5",
         "may, 2017",
         "151 sec",
         "1",
         "-1",
         "0",
         "unknown",
         "no",
         "technician"
        ],
        [
         "2",
         "3",
         "33.0",
         "120000",
         "2",
         "married",
         "entrepreneur,secondary",
         "yes",
         "no",
         "yes",
         "yes",
         "unknown",
         "5",
         "may, 2017",
         "76 sec",
         "1",
         "-1",
         "0",
         "unknown",
         "no",
         "entrepreneur"
        ],
        [
         "3",
         "4",
         "47.0",
         "20000",
         "1506",
         "married",
         "blue-collar,unknown",
         "no",
         "no",
         "yes",
         "no",
         "unknown",
         "5",
         "may, 2017",
         "92 sec",
         "1",
         "-1",
         "0",
         "unknown",
         "no",
         "blue-collar"
        ],
        [
         "4",
         "5",
         "33.0",
         "0",
         "1",
         "single",
         "unknown,unknown",
         "no",
         "no",
         "no",
         "no",
         "unknown",
         "5",
         "may, 2017",
         "198 sec",
         "1",
         "-1",
         "0",
         "unknown",
         "no",
         "unknown"
        ]
       ],
       "shape": {
        "columns": 20,
        "rows": 5
       }
      },
      "text/html": [
       "<div>\n",
       "<style scoped>\n",
       "    .dataframe tbody tr th:only-of-type {\n",
       "        vertical-align: middle;\n",
       "    }\n",
       "\n",
       "    .dataframe tbody tr th {\n",
       "        vertical-align: top;\n",
       "    }\n",
       "\n",
       "    .dataframe thead th {\n",
       "        text-align: right;\n",
       "    }\n",
       "</style>\n",
       "<table border=\"1\" class=\"dataframe\">\n",
       "  <thead>\n",
       "    <tr style=\"text-align: right;\">\n",
       "      <th></th>\n",
       "      <th>customerid</th>\n",
       "      <th>age</th>\n",
       "      <th>salary</th>\n",
       "      <th>balance</th>\n",
       "      <th>marital</th>\n",
       "      <th>jobedu</th>\n",
       "      <th>targeted</th>\n",
       "      <th>default</th>\n",
       "      <th>housing</th>\n",
       "      <th>loan</th>\n",
       "      <th>contact</th>\n",
       "      <th>day</th>\n",
       "      <th>month</th>\n",
       "      <th>duration</th>\n",
       "      <th>campaign</th>\n",
       "      <th>pdays</th>\n",
       "      <th>previous</th>\n",
       "      <th>poutcome</th>\n",
       "      <th>response</th>\n",
       "      <th>Job</th>\n",
       "    </tr>\n",
       "  </thead>\n",
       "  <tbody>\n",
       "    <tr>\n",
       "      <th>0</th>\n",
       "      <td>1</td>\n",
       "      <td>58.0</td>\n",
       "      <td>100000</td>\n",
       "      <td>2143</td>\n",
       "      <td>married</td>\n",
       "      <td>management,tertiary</td>\n",
       "      <td>yes</td>\n",
       "      <td>no</td>\n",
       "      <td>yes</td>\n",
       "      <td>no</td>\n",
       "      <td>unknown</td>\n",
       "      <td>5</td>\n",
       "      <td>may, 2017</td>\n",
       "      <td>261 sec</td>\n",
       "      <td>1</td>\n",
       "      <td>-1</td>\n",
       "      <td>0</td>\n",
       "      <td>unknown</td>\n",
       "      <td>no</td>\n",
       "      <td>management</td>\n",
       "    </tr>\n",
       "    <tr>\n",
       "      <th>1</th>\n",
       "      <td>2</td>\n",
       "      <td>44.0</td>\n",
       "      <td>60000</td>\n",
       "      <td>29</td>\n",
       "      <td>single</td>\n",
       "      <td>technician,secondary</td>\n",
       "      <td>yes</td>\n",
       "      <td>no</td>\n",
       "      <td>yes</td>\n",
       "      <td>no</td>\n",
       "      <td>unknown</td>\n",
       "      <td>5</td>\n",
       "      <td>may, 2017</td>\n",
       "      <td>151 sec</td>\n",
       "      <td>1</td>\n",
       "      <td>-1</td>\n",
       "      <td>0</td>\n",
       "      <td>unknown</td>\n",
       "      <td>no</td>\n",
       "      <td>technician</td>\n",
       "    </tr>\n",
       "    <tr>\n",
       "      <th>2</th>\n",
       "      <td>3</td>\n",
       "      <td>33.0</td>\n",
       "      <td>120000</td>\n",
       "      <td>2</td>\n",
       "      <td>married</td>\n",
       "      <td>entrepreneur,secondary</td>\n",
       "      <td>yes</td>\n",
       "      <td>no</td>\n",
       "      <td>yes</td>\n",
       "      <td>yes</td>\n",
       "      <td>unknown</td>\n",
       "      <td>5</td>\n",
       "      <td>may, 2017</td>\n",
       "      <td>76 sec</td>\n",
       "      <td>1</td>\n",
       "      <td>-1</td>\n",
       "      <td>0</td>\n",
       "      <td>unknown</td>\n",
       "      <td>no</td>\n",
       "      <td>entrepreneur</td>\n",
       "    </tr>\n",
       "    <tr>\n",
       "      <th>3</th>\n",
       "      <td>4</td>\n",
       "      <td>47.0</td>\n",
       "      <td>20000</td>\n",
       "      <td>1506</td>\n",
       "      <td>married</td>\n",
       "      <td>blue-collar,unknown</td>\n",
       "      <td>no</td>\n",
       "      <td>no</td>\n",
       "      <td>yes</td>\n",
       "      <td>no</td>\n",
       "      <td>unknown</td>\n",
       "      <td>5</td>\n",
       "      <td>may, 2017</td>\n",
       "      <td>92 sec</td>\n",
       "      <td>1</td>\n",
       "      <td>-1</td>\n",
       "      <td>0</td>\n",
       "      <td>unknown</td>\n",
       "      <td>no</td>\n",
       "      <td>blue-collar</td>\n",
       "    </tr>\n",
       "    <tr>\n",
       "      <th>4</th>\n",
       "      <td>5</td>\n",
       "      <td>33.0</td>\n",
       "      <td>0</td>\n",
       "      <td>1</td>\n",
       "      <td>single</td>\n",
       "      <td>unknown,unknown</td>\n",
       "      <td>no</td>\n",
       "      <td>no</td>\n",
       "      <td>no</td>\n",
       "      <td>no</td>\n",
       "      <td>unknown</td>\n",
       "      <td>5</td>\n",
       "      <td>may, 2017</td>\n",
       "      <td>198 sec</td>\n",
       "      <td>1</td>\n",
       "      <td>-1</td>\n",
       "      <td>0</td>\n",
       "      <td>unknown</td>\n",
       "      <td>no</td>\n",
       "      <td>unknown</td>\n",
       "    </tr>\n",
       "  </tbody>\n",
       "</table>\n",
       "</div>"
      ],
      "text/plain": [
       "   customerid   age  salary  balance  marital                  jobedu  \\\n",
       "0           1  58.0  100000     2143  married     management,tertiary   \n",
       "1           2  44.0   60000       29   single    technician,secondary   \n",
       "2           3  33.0  120000        2  married  entrepreneur,secondary   \n",
       "3           4  47.0   20000     1506  married     blue-collar,unknown   \n",
       "4           5  33.0       0        1   single         unknown,unknown   \n",
       "\n",
       "  targeted default housing loan  contact  day      month duration  campaign  \\\n",
       "0      yes      no     yes   no  unknown    5  may, 2017  261 sec         1   \n",
       "1      yes      no     yes   no  unknown    5  may, 2017  151 sec         1   \n",
       "2      yes      no     yes  yes  unknown    5  may, 2017   76 sec         1   \n",
       "3       no      no     yes   no  unknown    5  may, 2017   92 sec         1   \n",
       "4       no      no      no   no  unknown    5  may, 2017  198 sec         1   \n",
       "\n",
       "   pdays  previous poutcome response           Job  \n",
       "0     -1         0  unknown       no    management  \n",
       "1     -1         0  unknown       no    technician  \n",
       "2     -1         0  unknown       no  entrepreneur  \n",
       "3     -1         0  unknown       no   blue-collar  \n",
       "4     -1         0  unknown       no       unknown  "
      ]
     },
     "execution_count": 6,
     "metadata": {},
     "output_type": "execute_result"
    }
   ],
   "source": [
    "bank_target['Job'] = bank_target.jobedu.apply(lambda x: x.split(',')[0])\n",
    "bank_target.head(5)"
   ]
  },
  {
   "cell_type": "code",
   "execution_count": 7,
   "id": "6f45c50d",
   "metadata": {},
   "outputs": [
    {
     "data": {
      "application/vnd.microsoft.datawrangler.viewer.v0+json": {
       "columns": [
        {
         "name": "index",
         "rawType": "int64",
         "type": "integer"
        },
        {
         "name": "customerid",
         "rawType": "int64",
         "type": "integer"
        },
        {
         "name": "age",
         "rawType": "float64",
         "type": "float"
        },
        {
         "name": "salary",
         "rawType": "int64",
         "type": "integer"
        },
        {
         "name": "balance",
         "rawType": "int64",
         "type": "integer"
        },
        {
         "name": "marital",
         "rawType": "object",
         "type": "string"
        },
        {
         "name": "jobedu",
         "rawType": "object",
         "type": "string"
        },
        {
         "name": "targeted",
         "rawType": "object",
         "type": "string"
        },
        {
         "name": "default",
         "rawType": "object",
         "type": "string"
        },
        {
         "name": "housing",
         "rawType": "object",
         "type": "string"
        },
        {
         "name": "loan",
         "rawType": "object",
         "type": "string"
        },
        {
         "name": "contact",
         "rawType": "object",
         "type": "string"
        },
        {
         "name": "day",
         "rawType": "int64",
         "type": "integer"
        },
        {
         "name": "month",
         "rawType": "object",
         "type": "string"
        },
        {
         "name": "duration",
         "rawType": "object",
         "type": "string"
        },
        {
         "name": "campaign",
         "rawType": "int64",
         "type": "integer"
        },
        {
         "name": "pdays",
         "rawType": "int64",
         "type": "integer"
        },
        {
         "name": "previous",
         "rawType": "int64",
         "type": "integer"
        },
        {
         "name": "poutcome",
         "rawType": "object",
         "type": "string"
        },
        {
         "name": "response",
         "rawType": "object",
         "type": "string"
        },
        {
         "name": "Job",
         "rawType": "object",
         "type": "string"
        },
        {
         "name": "Education",
         "rawType": "object",
         "type": "string"
        }
       ],
       "ref": "642e3f1c-4a9b-44f3-87b7-4d0ddd0128b5",
       "rows": [
        [
         "0",
         "1",
         "58.0",
         "100000",
         "2143",
         "married",
         "management,tertiary",
         "yes",
         "no",
         "yes",
         "no",
         "unknown",
         "5",
         "may, 2017",
         "261 sec",
         "1",
         "-1",
         "0",
         "unknown",
         "no",
         "management",
         "tertiary"
        ],
        [
         "1",
         "2",
         "44.0",
         "60000",
         "29",
         "single",
         "technician,secondary",
         "yes",
         "no",
         "yes",
         "no",
         "unknown",
         "5",
         "may, 2017",
         "151 sec",
         "1",
         "-1",
         "0",
         "unknown",
         "no",
         "technician",
         "secondary"
        ],
        [
         "2",
         "3",
         "33.0",
         "120000",
         "2",
         "married",
         "entrepreneur,secondary",
         "yes",
         "no",
         "yes",
         "yes",
         "unknown",
         "5",
         "may, 2017",
         "76 sec",
         "1",
         "-1",
         "0",
         "unknown",
         "no",
         "entrepreneur",
         "secondary"
        ],
        [
         "3",
         "4",
         "47.0",
         "20000",
         "1506",
         "married",
         "blue-collar,unknown",
         "no",
         "no",
         "yes",
         "no",
         "unknown",
         "5",
         "may, 2017",
         "92 sec",
         "1",
         "-1",
         "0",
         "unknown",
         "no",
         "blue-collar",
         "unknown"
        ],
        [
         "4",
         "5",
         "33.0",
         "0",
         "1",
         "single",
         "unknown,unknown",
         "no",
         "no",
         "no",
         "no",
         "unknown",
         "5",
         "may, 2017",
         "198 sec",
         "1",
         "-1",
         "0",
         "unknown",
         "no",
         "unknown",
         "unknown"
        ]
       ],
       "shape": {
        "columns": 21,
        "rows": 5
       }
      },
      "text/html": [
       "<div>\n",
       "<style scoped>\n",
       "    .dataframe tbody tr th:only-of-type {\n",
       "        vertical-align: middle;\n",
       "    }\n",
       "\n",
       "    .dataframe tbody tr th {\n",
       "        vertical-align: top;\n",
       "    }\n",
       "\n",
       "    .dataframe thead th {\n",
       "        text-align: right;\n",
       "    }\n",
       "</style>\n",
       "<table border=\"1\" class=\"dataframe\">\n",
       "  <thead>\n",
       "    <tr style=\"text-align: right;\">\n",
       "      <th></th>\n",
       "      <th>customerid</th>\n",
       "      <th>age</th>\n",
       "      <th>salary</th>\n",
       "      <th>balance</th>\n",
       "      <th>marital</th>\n",
       "      <th>jobedu</th>\n",
       "      <th>targeted</th>\n",
       "      <th>default</th>\n",
       "      <th>housing</th>\n",
       "      <th>loan</th>\n",
       "      <th>...</th>\n",
       "      <th>day</th>\n",
       "      <th>month</th>\n",
       "      <th>duration</th>\n",
       "      <th>campaign</th>\n",
       "      <th>pdays</th>\n",
       "      <th>previous</th>\n",
       "      <th>poutcome</th>\n",
       "      <th>response</th>\n",
       "      <th>Job</th>\n",
       "      <th>Education</th>\n",
       "    </tr>\n",
       "  </thead>\n",
       "  <tbody>\n",
       "    <tr>\n",
       "      <th>0</th>\n",
       "      <td>1</td>\n",
       "      <td>58.0</td>\n",
       "      <td>100000</td>\n",
       "      <td>2143</td>\n",
       "      <td>married</td>\n",
       "      <td>management,tertiary</td>\n",
       "      <td>yes</td>\n",
       "      <td>no</td>\n",
       "      <td>yes</td>\n",
       "      <td>no</td>\n",
       "      <td>...</td>\n",
       "      <td>5</td>\n",
       "      <td>may, 2017</td>\n",
       "      <td>261 sec</td>\n",
       "      <td>1</td>\n",
       "      <td>-1</td>\n",
       "      <td>0</td>\n",
       "      <td>unknown</td>\n",
       "      <td>no</td>\n",
       "      <td>management</td>\n",
       "      <td>tertiary</td>\n",
       "    </tr>\n",
       "    <tr>\n",
       "      <th>1</th>\n",
       "      <td>2</td>\n",
       "      <td>44.0</td>\n",
       "      <td>60000</td>\n",
       "      <td>29</td>\n",
       "      <td>single</td>\n",
       "      <td>technician,secondary</td>\n",
       "      <td>yes</td>\n",
       "      <td>no</td>\n",
       "      <td>yes</td>\n",
       "      <td>no</td>\n",
       "      <td>...</td>\n",
       "      <td>5</td>\n",
       "      <td>may, 2017</td>\n",
       "      <td>151 sec</td>\n",
       "      <td>1</td>\n",
       "      <td>-1</td>\n",
       "      <td>0</td>\n",
       "      <td>unknown</td>\n",
       "      <td>no</td>\n",
       "      <td>technician</td>\n",
       "      <td>secondary</td>\n",
       "    </tr>\n",
       "    <tr>\n",
       "      <th>2</th>\n",
       "      <td>3</td>\n",
       "      <td>33.0</td>\n",
       "      <td>120000</td>\n",
       "      <td>2</td>\n",
       "      <td>married</td>\n",
       "      <td>entrepreneur,secondary</td>\n",
       "      <td>yes</td>\n",
       "      <td>no</td>\n",
       "      <td>yes</td>\n",
       "      <td>yes</td>\n",
       "      <td>...</td>\n",
       "      <td>5</td>\n",
       "      <td>may, 2017</td>\n",
       "      <td>76 sec</td>\n",
       "      <td>1</td>\n",
       "      <td>-1</td>\n",
       "      <td>0</td>\n",
       "      <td>unknown</td>\n",
       "      <td>no</td>\n",
       "      <td>entrepreneur</td>\n",
       "      <td>secondary</td>\n",
       "    </tr>\n",
       "    <tr>\n",
       "      <th>3</th>\n",
       "      <td>4</td>\n",
       "      <td>47.0</td>\n",
       "      <td>20000</td>\n",
       "      <td>1506</td>\n",
       "      <td>married</td>\n",
       "      <td>blue-collar,unknown</td>\n",
       "      <td>no</td>\n",
       "      <td>no</td>\n",
       "      <td>yes</td>\n",
       "      <td>no</td>\n",
       "      <td>...</td>\n",
       "      <td>5</td>\n",
       "      <td>may, 2017</td>\n",
       "      <td>92 sec</td>\n",
       "      <td>1</td>\n",
       "      <td>-1</td>\n",
       "      <td>0</td>\n",
       "      <td>unknown</td>\n",
       "      <td>no</td>\n",
       "      <td>blue-collar</td>\n",
       "      <td>unknown</td>\n",
       "    </tr>\n",
       "    <tr>\n",
       "      <th>4</th>\n",
       "      <td>5</td>\n",
       "      <td>33.0</td>\n",
       "      <td>0</td>\n",
       "      <td>1</td>\n",
       "      <td>single</td>\n",
       "      <td>unknown,unknown</td>\n",
       "      <td>no</td>\n",
       "      <td>no</td>\n",
       "      <td>no</td>\n",
       "      <td>no</td>\n",
       "      <td>...</td>\n",
       "      <td>5</td>\n",
       "      <td>may, 2017</td>\n",
       "      <td>198 sec</td>\n",
       "      <td>1</td>\n",
       "      <td>-1</td>\n",
       "      <td>0</td>\n",
       "      <td>unknown</td>\n",
       "      <td>no</td>\n",
       "      <td>unknown</td>\n",
       "      <td>unknown</td>\n",
       "    </tr>\n",
       "  </tbody>\n",
       "</table>\n",
       "<p>5 rows × 21 columns</p>\n",
       "</div>"
      ],
      "text/plain": [
       "   customerid   age  salary  balance  marital                  jobedu  \\\n",
       "0           1  58.0  100000     2143  married     management,tertiary   \n",
       "1           2  44.0   60000       29   single    technician,secondary   \n",
       "2           3  33.0  120000        2  married  entrepreneur,secondary   \n",
       "3           4  47.0   20000     1506  married     blue-collar,unknown   \n",
       "4           5  33.0       0        1   single         unknown,unknown   \n",
       "\n",
       "  targeted default housing loan  ... day      month duration campaign  pdays  \\\n",
       "0      yes      no     yes   no  ...   5  may, 2017  261 sec        1     -1   \n",
       "1      yes      no     yes   no  ...   5  may, 2017  151 sec        1     -1   \n",
       "2      yes      no     yes  yes  ...   5  may, 2017   76 sec        1     -1   \n",
       "3       no      no     yes   no  ...   5  may, 2017   92 sec        1     -1   \n",
       "4       no      no      no   no  ...   5  may, 2017  198 sec        1     -1   \n",
       "\n",
       "   previous  poutcome response           Job  Education  \n",
       "0         0   unknown       no    management   tertiary  \n",
       "1         0   unknown       no    technician  secondary  \n",
       "2         0   unknown       no  entrepreneur  secondary  \n",
       "3         0   unknown       no   blue-collar    unknown  \n",
       "4         0   unknown       no       unknown    unknown  \n",
       "\n",
       "[5 rows x 21 columns]"
      ]
     },
     "execution_count": 7,
     "metadata": {},
     "output_type": "execute_result"
    }
   ],
   "source": [
    "bank_target['Education'] = bank_target.jobedu.apply(lambda x: x.split(',')[1])\n",
    "bank_target.head(5)"
   ]
  },
  {
   "cell_type": "markdown",
   "id": "c675b59a",
   "metadata": {},
   "source": [
    "Now that we don't need the Jobedu column we can drop the column"
   ]
  },
  {
   "cell_type": "code",
   "execution_count": 8,
   "id": "f05f1106",
   "metadata": {},
   "outputs": [
    {
     "data": {
      "application/vnd.microsoft.datawrangler.viewer.v0+json": {
       "columns": [
        {
         "name": "index",
         "rawType": "int64",
         "type": "integer"
        },
        {
         "name": "customerid",
         "rawType": "int64",
         "type": "integer"
        },
        {
         "name": "age",
         "rawType": "float64",
         "type": "float"
        },
        {
         "name": "salary",
         "rawType": "int64",
         "type": "integer"
        },
        {
         "name": "balance",
         "rawType": "int64",
         "type": "integer"
        },
        {
         "name": "marital",
         "rawType": "object",
         "type": "string"
        },
        {
         "name": "targeted",
         "rawType": "object",
         "type": "string"
        },
        {
         "name": "default",
         "rawType": "object",
         "type": "string"
        },
        {
         "name": "housing",
         "rawType": "object",
         "type": "string"
        },
        {
         "name": "loan",
         "rawType": "object",
         "type": "string"
        },
        {
         "name": "contact",
         "rawType": "object",
         "type": "string"
        },
        {
         "name": "day",
         "rawType": "int64",
         "type": "integer"
        },
        {
         "name": "month",
         "rawType": "object",
         "type": "string"
        },
        {
         "name": "duration",
         "rawType": "object",
         "type": "string"
        },
        {
         "name": "campaign",
         "rawType": "int64",
         "type": "integer"
        },
        {
         "name": "pdays",
         "rawType": "int64",
         "type": "integer"
        },
        {
         "name": "previous",
         "rawType": "int64",
         "type": "integer"
        },
        {
         "name": "poutcome",
         "rawType": "object",
         "type": "string"
        },
        {
         "name": "response",
         "rawType": "object",
         "type": "string"
        },
        {
         "name": "Job",
         "rawType": "object",
         "type": "string"
        },
        {
         "name": "Education",
         "rawType": "object",
         "type": "string"
        }
       ],
       "ref": "da865f26-7da5-472b-90d6-2b01d61ee67e",
       "rows": [
        [
         "0",
         "1",
         "58.0",
         "100000",
         "2143",
         "married",
         "yes",
         "no",
         "yes",
         "no",
         "unknown",
         "5",
         "may, 2017",
         "261 sec",
         "1",
         "-1",
         "0",
         "unknown",
         "no",
         "management",
         "tertiary"
        ],
        [
         "1",
         "2",
         "44.0",
         "60000",
         "29",
         "single",
         "yes",
         "no",
         "yes",
         "no",
         "unknown",
         "5",
         "may, 2017",
         "151 sec",
         "1",
         "-1",
         "0",
         "unknown",
         "no",
         "technician",
         "secondary"
        ],
        [
         "2",
         "3",
         "33.0",
         "120000",
         "2",
         "married",
         "yes",
         "no",
         "yes",
         "yes",
         "unknown",
         "5",
         "may, 2017",
         "76 sec",
         "1",
         "-1",
         "0",
         "unknown",
         "no",
         "entrepreneur",
         "secondary"
        ],
        [
         "3",
         "4",
         "47.0",
         "20000",
         "1506",
         "married",
         "no",
         "no",
         "yes",
         "no",
         "unknown",
         "5",
         "may, 2017",
         "92 sec",
         "1",
         "-1",
         "0",
         "unknown",
         "no",
         "blue-collar",
         "unknown"
        ],
        [
         "4",
         "5",
         "33.0",
         "0",
         "1",
         "single",
         "no",
         "no",
         "no",
         "no",
         "unknown",
         "5",
         "may, 2017",
         "198 sec",
         "1",
         "-1",
         "0",
         "unknown",
         "no",
         "unknown",
         "unknown"
        ]
       ],
       "shape": {
        "columns": 20,
        "rows": 5
       }
      },
      "text/html": [
       "<div>\n",
       "<style scoped>\n",
       "    .dataframe tbody tr th:only-of-type {\n",
       "        vertical-align: middle;\n",
       "    }\n",
       "\n",
       "    .dataframe tbody tr th {\n",
       "        vertical-align: top;\n",
       "    }\n",
       "\n",
       "    .dataframe thead th {\n",
       "        text-align: right;\n",
       "    }\n",
       "</style>\n",
       "<table border=\"1\" class=\"dataframe\">\n",
       "  <thead>\n",
       "    <tr style=\"text-align: right;\">\n",
       "      <th></th>\n",
       "      <th>customerid</th>\n",
       "      <th>age</th>\n",
       "      <th>salary</th>\n",
       "      <th>balance</th>\n",
       "      <th>marital</th>\n",
       "      <th>targeted</th>\n",
       "      <th>default</th>\n",
       "      <th>housing</th>\n",
       "      <th>loan</th>\n",
       "      <th>contact</th>\n",
       "      <th>day</th>\n",
       "      <th>month</th>\n",
       "      <th>duration</th>\n",
       "      <th>campaign</th>\n",
       "      <th>pdays</th>\n",
       "      <th>previous</th>\n",
       "      <th>poutcome</th>\n",
       "      <th>response</th>\n",
       "      <th>Job</th>\n",
       "      <th>Education</th>\n",
       "    </tr>\n",
       "  </thead>\n",
       "  <tbody>\n",
       "    <tr>\n",
       "      <th>0</th>\n",
       "      <td>1</td>\n",
       "      <td>58.0</td>\n",
       "      <td>100000</td>\n",
       "      <td>2143</td>\n",
       "      <td>married</td>\n",
       "      <td>yes</td>\n",
       "      <td>no</td>\n",
       "      <td>yes</td>\n",
       "      <td>no</td>\n",
       "      <td>unknown</td>\n",
       "      <td>5</td>\n",
       "      <td>may, 2017</td>\n",
       "      <td>261 sec</td>\n",
       "      <td>1</td>\n",
       "      <td>-1</td>\n",
       "      <td>0</td>\n",
       "      <td>unknown</td>\n",
       "      <td>no</td>\n",
       "      <td>management</td>\n",
       "      <td>tertiary</td>\n",
       "    </tr>\n",
       "    <tr>\n",
       "      <th>1</th>\n",
       "      <td>2</td>\n",
       "      <td>44.0</td>\n",
       "      <td>60000</td>\n",
       "      <td>29</td>\n",
       "      <td>single</td>\n",
       "      <td>yes</td>\n",
       "      <td>no</td>\n",
       "      <td>yes</td>\n",
       "      <td>no</td>\n",
       "      <td>unknown</td>\n",
       "      <td>5</td>\n",
       "      <td>may, 2017</td>\n",
       "      <td>151 sec</td>\n",
       "      <td>1</td>\n",
       "      <td>-1</td>\n",
       "      <td>0</td>\n",
       "      <td>unknown</td>\n",
       "      <td>no</td>\n",
       "      <td>technician</td>\n",
       "      <td>secondary</td>\n",
       "    </tr>\n",
       "    <tr>\n",
       "      <th>2</th>\n",
       "      <td>3</td>\n",
       "      <td>33.0</td>\n",
       "      <td>120000</td>\n",
       "      <td>2</td>\n",
       "      <td>married</td>\n",
       "      <td>yes</td>\n",
       "      <td>no</td>\n",
       "      <td>yes</td>\n",
       "      <td>yes</td>\n",
       "      <td>unknown</td>\n",
       "      <td>5</td>\n",
       "      <td>may, 2017</td>\n",
       "      <td>76 sec</td>\n",
       "      <td>1</td>\n",
       "      <td>-1</td>\n",
       "      <td>0</td>\n",
       "      <td>unknown</td>\n",
       "      <td>no</td>\n",
       "      <td>entrepreneur</td>\n",
       "      <td>secondary</td>\n",
       "    </tr>\n",
       "    <tr>\n",
       "      <th>3</th>\n",
       "      <td>4</td>\n",
       "      <td>47.0</td>\n",
       "      <td>20000</td>\n",
       "      <td>1506</td>\n",
       "      <td>married</td>\n",
       "      <td>no</td>\n",
       "      <td>no</td>\n",
       "      <td>yes</td>\n",
       "      <td>no</td>\n",
       "      <td>unknown</td>\n",
       "      <td>5</td>\n",
       "      <td>may, 2017</td>\n",
       "      <td>92 sec</td>\n",
       "      <td>1</td>\n",
       "      <td>-1</td>\n",
       "      <td>0</td>\n",
       "      <td>unknown</td>\n",
       "      <td>no</td>\n",
       "      <td>blue-collar</td>\n",
       "      <td>unknown</td>\n",
       "    </tr>\n",
       "    <tr>\n",
       "      <th>4</th>\n",
       "      <td>5</td>\n",
       "      <td>33.0</td>\n",
       "      <td>0</td>\n",
       "      <td>1</td>\n",
       "      <td>single</td>\n",
       "      <td>no</td>\n",
       "      <td>no</td>\n",
       "      <td>no</td>\n",
       "      <td>no</td>\n",
       "      <td>unknown</td>\n",
       "      <td>5</td>\n",
       "      <td>may, 2017</td>\n",
       "      <td>198 sec</td>\n",
       "      <td>1</td>\n",
       "      <td>-1</td>\n",
       "      <td>0</td>\n",
       "      <td>unknown</td>\n",
       "      <td>no</td>\n",
       "      <td>unknown</td>\n",
       "      <td>unknown</td>\n",
       "    </tr>\n",
       "  </tbody>\n",
       "</table>\n",
       "</div>"
      ],
      "text/plain": [
       "   customerid   age  salary  balance  marital targeted default housing loan  \\\n",
       "0           1  58.0  100000     2143  married      yes      no     yes   no   \n",
       "1           2  44.0   60000       29   single      yes      no     yes   no   \n",
       "2           3  33.0  120000        2  married      yes      no     yes  yes   \n",
       "3           4  47.0   20000     1506  married       no      no     yes   no   \n",
       "4           5  33.0       0        1   single       no      no      no   no   \n",
       "\n",
       "   contact  day      month duration  campaign  pdays  previous poutcome  \\\n",
       "0  unknown    5  may, 2017  261 sec         1     -1         0  unknown   \n",
       "1  unknown    5  may, 2017  151 sec         1     -1         0  unknown   \n",
       "2  unknown    5  may, 2017   76 sec         1     -1         0  unknown   \n",
       "3  unknown    5  may, 2017   92 sec         1     -1         0  unknown   \n",
       "4  unknown    5  may, 2017  198 sec         1     -1         0  unknown   \n",
       "\n",
       "  response           Job  Education  \n",
       "0       no    management   tertiary  \n",
       "1       no    technician  secondary  \n",
       "2       no  entrepreneur  secondary  \n",
       "3       no   blue-collar    unknown  \n",
       "4       no       unknown    unknown  "
      ]
     },
     "execution_count": 8,
     "metadata": {},
     "output_type": "execute_result"
    }
   ],
   "source": [
    "bank_target.drop('jobedu', axis = 1, inplace=True)\n",
    "bank_target.head(5)"
   ]
  },
  {
   "cell_type": "code",
   "execution_count": 9,
   "id": "6de817aa",
   "metadata": {},
   "outputs": [
    {
     "data": {
      "application/vnd.microsoft.datawrangler.viewer.v0+json": {
       "columns": [
        {
         "name": "index",
         "rawType": "object",
         "type": "string"
        },
        {
         "name": "0",
         "rawType": "int64",
         "type": "integer"
        }
       ],
       "ref": "b1d1b8e8-76d9-4793-b35b-41a7dd5f2220",
       "rows": [
        [
         "customerid",
         "0"
        ],
        [
         "age",
         "20"
        ],
        [
         "salary",
         "0"
        ],
        [
         "balance",
         "0"
        ],
        [
         "marital",
         "0"
        ],
        [
         "targeted",
         "0"
        ],
        [
         "default",
         "0"
        ],
        [
         "housing",
         "0"
        ],
        [
         "loan",
         "0"
        ],
        [
         "contact",
         "0"
        ],
        [
         "day",
         "0"
        ],
        [
         "month",
         "50"
        ],
        [
         "duration",
         "0"
        ],
        [
         "campaign",
         "0"
        ],
        [
         "pdays",
         "0"
        ],
        [
         "previous",
         "0"
        ],
        [
         "poutcome",
         "0"
        ],
        [
         "response",
         "30"
        ],
        [
         "Job",
         "0"
        ],
        [
         "Education",
         "0"
        ]
       ],
       "shape": {
        "columns": 1,
        "rows": 20
       }
      },
      "text/plain": [
       "customerid     0\n",
       "age           20\n",
       "salary         0\n",
       "balance        0\n",
       "marital        0\n",
       "targeted       0\n",
       "default        0\n",
       "housing        0\n",
       "loan           0\n",
       "contact        0\n",
       "day            0\n",
       "month         50\n",
       "duration       0\n",
       "campaign       0\n",
       "pdays          0\n",
       "previous       0\n",
       "poutcome       0\n",
       "response      30\n",
       "Job            0\n",
       "Education      0\n",
       "dtype: int64"
      ]
     },
     "execution_count": 9,
     "metadata": {},
     "output_type": "execute_result"
    }
   ],
   "source": [
    "bank_target.isnull().sum()"
   ]
  },
  {
   "cell_type": "markdown",
   "id": "fed30062",
   "metadata": {},
   "source": [
    "Let's now look at the age column since there are about 20 missing values and it's seen that age is not important\n",
    "we can drop the age where the vaules are missing "
   ]
  },
  {
   "cell_type": "markdown",
   "id": "cae521db",
   "metadata": {},
   "source": [
    "This could be considered as a MCAR(Missing Completely at Random) where you can drop the values where NA"
   ]
  },
  {
   "cell_type": "code",
   "execution_count": 10,
   "id": "07ea804f",
   "metadata": {},
   "outputs": [
    {
     "data": {
      "application/vnd.microsoft.datawrangler.viewer.v0+json": {
       "columns": [
        {
         "name": "index",
         "rawType": "int64",
         "type": "integer"
        },
        {
         "name": "customerid",
         "rawType": "int64",
         "type": "integer"
        },
        {
         "name": "age",
         "rawType": "float64",
         "type": "float"
        },
        {
         "name": "salary",
         "rawType": "int64",
         "type": "integer"
        },
        {
         "name": "balance",
         "rawType": "int64",
         "type": "integer"
        },
        {
         "name": "marital",
         "rawType": "object",
         "type": "string"
        },
        {
         "name": "targeted",
         "rawType": "object",
         "type": "string"
        },
        {
         "name": "default",
         "rawType": "object",
         "type": "string"
        },
        {
         "name": "housing",
         "rawType": "object",
         "type": "string"
        },
        {
         "name": "loan",
         "rawType": "object",
         "type": "string"
        },
        {
         "name": "contact",
         "rawType": "object",
         "type": "string"
        },
        {
         "name": "day",
         "rawType": "int64",
         "type": "integer"
        },
        {
         "name": "month",
         "rawType": "object",
         "type": "string"
        },
        {
         "name": "duration",
         "rawType": "object",
         "type": "string"
        },
        {
         "name": "campaign",
         "rawType": "int64",
         "type": "integer"
        },
        {
         "name": "pdays",
         "rawType": "int64",
         "type": "integer"
        },
        {
         "name": "previous",
         "rawType": "int64",
         "type": "integer"
        },
        {
         "name": "poutcome",
         "rawType": "object",
         "type": "string"
        },
        {
         "name": "response",
         "rawType": "object",
         "type": "string"
        },
        {
         "name": "Job",
         "rawType": "object",
         "type": "string"
        },
        {
         "name": "Education",
         "rawType": "object",
         "type": "string"
        }
       ],
       "ref": "2ce8d415-dcf7-4fc7-aa2d-493c213edfd4",
       "rows": [
        [
         "0",
         "1",
         "58.0",
         "100000",
         "2143",
         "married",
         "yes",
         "no",
         "yes",
         "no",
         "unknown",
         "5",
         "may, 2017",
         "261 sec",
         "1",
         "-1",
         "0",
         "unknown",
         "no",
         "management",
         "tertiary"
        ],
        [
         "1",
         "2",
         "44.0",
         "60000",
         "29",
         "single",
         "yes",
         "no",
         "yes",
         "no",
         "unknown",
         "5",
         "may, 2017",
         "151 sec",
         "1",
         "-1",
         "0",
         "unknown",
         "no",
         "technician",
         "secondary"
        ],
        [
         "2",
         "3",
         "33.0",
         "120000",
         "2",
         "married",
         "yes",
         "no",
         "yes",
         "yes",
         "unknown",
         "5",
         "may, 2017",
         "76 sec",
         "1",
         "-1",
         "0",
         "unknown",
         "no",
         "entrepreneur",
         "secondary"
        ],
        [
         "3",
         "4",
         "47.0",
         "20000",
         "1506",
         "married",
         "no",
         "no",
         "yes",
         "no",
         "unknown",
         "5",
         "may, 2017",
         "92 sec",
         "1",
         "-1",
         "0",
         "unknown",
         "no",
         "blue-collar",
         "unknown"
        ],
        [
         "4",
         "5",
         "33.0",
         "0",
         "1",
         "single",
         "no",
         "no",
         "no",
         "no",
         "unknown",
         "5",
         "may, 2017",
         "198 sec",
         "1",
         "-1",
         "0",
         "unknown",
         "no",
         "unknown",
         "unknown"
        ]
       ],
       "shape": {
        "columns": 20,
        "rows": 5
       }
      },
      "text/html": [
       "<div>\n",
       "<style scoped>\n",
       "    .dataframe tbody tr th:only-of-type {\n",
       "        vertical-align: middle;\n",
       "    }\n",
       "\n",
       "    .dataframe tbody tr th {\n",
       "        vertical-align: top;\n",
       "    }\n",
       "\n",
       "    .dataframe thead th {\n",
       "        text-align: right;\n",
       "    }\n",
       "</style>\n",
       "<table border=\"1\" class=\"dataframe\">\n",
       "  <thead>\n",
       "    <tr style=\"text-align: right;\">\n",
       "      <th></th>\n",
       "      <th>customerid</th>\n",
       "      <th>age</th>\n",
       "      <th>salary</th>\n",
       "      <th>balance</th>\n",
       "      <th>marital</th>\n",
       "      <th>targeted</th>\n",
       "      <th>default</th>\n",
       "      <th>housing</th>\n",
       "      <th>loan</th>\n",
       "      <th>contact</th>\n",
       "      <th>day</th>\n",
       "      <th>month</th>\n",
       "      <th>duration</th>\n",
       "      <th>campaign</th>\n",
       "      <th>pdays</th>\n",
       "      <th>previous</th>\n",
       "      <th>poutcome</th>\n",
       "      <th>response</th>\n",
       "      <th>Job</th>\n",
       "      <th>Education</th>\n",
       "    </tr>\n",
       "  </thead>\n",
       "  <tbody>\n",
       "    <tr>\n",
       "      <th>0</th>\n",
       "      <td>1</td>\n",
       "      <td>58.0</td>\n",
       "      <td>100000</td>\n",
       "      <td>2143</td>\n",
       "      <td>married</td>\n",
       "      <td>yes</td>\n",
       "      <td>no</td>\n",
       "      <td>yes</td>\n",
       "      <td>no</td>\n",
       "      <td>unknown</td>\n",
       "      <td>5</td>\n",
       "      <td>may, 2017</td>\n",
       "      <td>261 sec</td>\n",
       "      <td>1</td>\n",
       "      <td>-1</td>\n",
       "      <td>0</td>\n",
       "      <td>unknown</td>\n",
       "      <td>no</td>\n",
       "      <td>management</td>\n",
       "      <td>tertiary</td>\n",
       "    </tr>\n",
       "    <tr>\n",
       "      <th>1</th>\n",
       "      <td>2</td>\n",
       "      <td>44.0</td>\n",
       "      <td>60000</td>\n",
       "      <td>29</td>\n",
       "      <td>single</td>\n",
       "      <td>yes</td>\n",
       "      <td>no</td>\n",
       "      <td>yes</td>\n",
       "      <td>no</td>\n",
       "      <td>unknown</td>\n",
       "      <td>5</td>\n",
       "      <td>may, 2017</td>\n",
       "      <td>151 sec</td>\n",
       "      <td>1</td>\n",
       "      <td>-1</td>\n",
       "      <td>0</td>\n",
       "      <td>unknown</td>\n",
       "      <td>no</td>\n",
       "      <td>technician</td>\n",
       "      <td>secondary</td>\n",
       "    </tr>\n",
       "    <tr>\n",
       "      <th>2</th>\n",
       "      <td>3</td>\n",
       "      <td>33.0</td>\n",
       "      <td>120000</td>\n",
       "      <td>2</td>\n",
       "      <td>married</td>\n",
       "      <td>yes</td>\n",
       "      <td>no</td>\n",
       "      <td>yes</td>\n",
       "      <td>yes</td>\n",
       "      <td>unknown</td>\n",
       "      <td>5</td>\n",
       "      <td>may, 2017</td>\n",
       "      <td>76 sec</td>\n",
       "      <td>1</td>\n",
       "      <td>-1</td>\n",
       "      <td>0</td>\n",
       "      <td>unknown</td>\n",
       "      <td>no</td>\n",
       "      <td>entrepreneur</td>\n",
       "      <td>secondary</td>\n",
       "    </tr>\n",
       "    <tr>\n",
       "      <th>3</th>\n",
       "      <td>4</td>\n",
       "      <td>47.0</td>\n",
       "      <td>20000</td>\n",
       "      <td>1506</td>\n",
       "      <td>married</td>\n",
       "      <td>no</td>\n",
       "      <td>no</td>\n",
       "      <td>yes</td>\n",
       "      <td>no</td>\n",
       "      <td>unknown</td>\n",
       "      <td>5</td>\n",
       "      <td>may, 2017</td>\n",
       "      <td>92 sec</td>\n",
       "      <td>1</td>\n",
       "      <td>-1</td>\n",
       "      <td>0</td>\n",
       "      <td>unknown</td>\n",
       "      <td>no</td>\n",
       "      <td>blue-collar</td>\n",
       "      <td>unknown</td>\n",
       "    </tr>\n",
       "    <tr>\n",
       "      <th>4</th>\n",
       "      <td>5</td>\n",
       "      <td>33.0</td>\n",
       "      <td>0</td>\n",
       "      <td>1</td>\n",
       "      <td>single</td>\n",
       "      <td>no</td>\n",
       "      <td>no</td>\n",
       "      <td>no</td>\n",
       "      <td>no</td>\n",
       "      <td>unknown</td>\n",
       "      <td>5</td>\n",
       "      <td>may, 2017</td>\n",
       "      <td>198 sec</td>\n",
       "      <td>1</td>\n",
       "      <td>-1</td>\n",
       "      <td>0</td>\n",
       "      <td>unknown</td>\n",
       "      <td>no</td>\n",
       "      <td>unknown</td>\n",
       "      <td>unknown</td>\n",
       "    </tr>\n",
       "  </tbody>\n",
       "</table>\n",
       "</div>"
      ],
      "text/plain": [
       "   customerid   age  salary  balance  marital targeted default housing loan  \\\n",
       "0           1  58.0  100000     2143  married      yes      no     yes   no   \n",
       "1           2  44.0   60000       29   single      yes      no     yes   no   \n",
       "2           3  33.0  120000        2  married      yes      no     yes  yes   \n",
       "3           4  47.0   20000     1506  married       no      no     yes   no   \n",
       "4           5  33.0       0        1   single       no      no      no   no   \n",
       "\n",
       "   contact  day      month duration  campaign  pdays  previous poutcome  \\\n",
       "0  unknown    5  may, 2017  261 sec         1     -1         0  unknown   \n",
       "1  unknown    5  may, 2017  151 sec         1     -1         0  unknown   \n",
       "2  unknown    5  may, 2017   76 sec         1     -1         0  unknown   \n",
       "3  unknown    5  may, 2017   92 sec         1     -1         0  unknown   \n",
       "4  unknown    5  may, 2017  198 sec         1     -1         0  unknown   \n",
       "\n",
       "  response           Job  Education  \n",
       "0       no    management   tertiary  \n",
       "1       no    technician  secondary  \n",
       "2       no  entrepreneur  secondary  \n",
       "3       no   blue-collar    unknown  \n",
       "4       no       unknown    unknown  "
      ]
     },
     "execution_count": 10,
     "metadata": {},
     "output_type": "execute_result"
    }
   ],
   "source": [
    "bank_target = bank_target[~bank_target.age.isnull()].copy()\n",
    "bank_target.head(5)"
   ]
  },
  {
   "cell_type": "code",
   "execution_count": 11,
   "id": "6900bf01",
   "metadata": {},
   "outputs": [
    {
     "name": "stdout",
     "output_type": "stream",
     "text": [
      "0\n",
      "(45191, 20)\n"
     ]
    }
   ],
   "source": [
    "print(bank_target.age.isnull().sum())\n",
    "print(bank_target.shape)"
   ]
  },
  {
   "cell_type": "markdown",
   "id": "f7c49082",
   "metadata": {},
   "source": [
    "Let's move to the month since it's something that we can take from a mean values\n",
    "For all the NA vules let's replace them with the highes mean value"
   ]
  },
  {
   "cell_type": "markdown",
   "id": "b39d9439",
   "metadata": {},
   "source": [
    "This is a MAR (Missing at Random) as we can make out the missing data of take values from a logic "
   ]
  },
  {
   "cell_type": "code",
   "execution_count": 12,
   "id": "56476eb0",
   "metadata": {},
   "outputs": [
    {
     "data": {
      "text/plain": [
       "np.int64(50)"
      ]
     },
     "execution_count": 12,
     "metadata": {},
     "output_type": "execute_result"
    }
   ],
   "source": [
    "bank_target.month.isnull().sum()"
   ]
  },
  {
   "cell_type": "code",
   "execution_count": 13,
   "id": "c58528b6",
   "metadata": {},
   "outputs": [
    {
     "data": {
      "application/vnd.microsoft.datawrangler.viewer.v0+json": {
       "columns": [
        {
         "name": "month",
         "rawType": "object",
         "type": "string"
        },
        {
         "name": "proportion",
         "rawType": "float64",
         "type": "float"
        }
       ],
       "ref": "d13b803c-5cf0-4282-b4ae-a85c7990772d",
       "rows": [
        [
         "may, 2017",
         "0.30437961055359875"
        ],
        [
         "jul, 2017",
         "0.15252209742805875"
        ],
        [
         "aug, 2017",
         "0.1381227708734853"
        ],
        [
         "jun, 2017",
         "0.11814093617775415"
        ],
        [
         "nov, 2017",
         "0.08788019760306595"
        ],
        [
         "apr, 2017",
         "0.06490773354600031"
        ],
        [
         "feb, 2017",
         "0.05861633548215591"
        ],
        [
         "jan, 2017",
         "0.031058239737710727"
        ],
        [
         "oct, 2017",
         "0.016326621031877892"
        ],
        [
         "sep, 2017",
         "0.012760018608360471"
        ],
        [
         "mar, 2017",
         "0.010544737599964556"
        ],
        [
         "dec, 2017",
         "0.004740701357967258"
        ]
       ],
       "shape": {
        "columns": 1,
        "rows": 12
       }
      },
      "text/plain": [
       "month\n",
       "may, 2017    0.304380\n",
       "jul, 2017    0.152522\n",
       "aug, 2017    0.138123\n",
       "jun, 2017    0.118141\n",
       "nov, 2017    0.087880\n",
       "apr, 2017    0.064908\n",
       "feb, 2017    0.058616\n",
       "jan, 2017    0.031058\n",
       "oct, 2017    0.016327\n",
       "sep, 2017    0.012760\n",
       "mar, 2017    0.010545\n",
       "dec, 2017    0.004741\n",
       "Name: proportion, dtype: float64"
      ]
     },
     "execution_count": 13,
     "metadata": {},
     "output_type": "execute_result"
    }
   ],
   "source": [
    "bank_target.month.value_counts(normalize=True)"
   ]
  },
  {
   "cell_type": "code",
   "execution_count": 14,
   "id": "ef574fa2",
   "metadata": {},
   "outputs": [
    {
     "data": {
      "application/vnd.microsoft.datawrangler.viewer.v0+json": {
       "columns": [
        {
         "name": "index",
         "rawType": "int64",
         "type": "integer"
        },
        {
         "name": "month",
         "rawType": "object",
         "type": "string"
        }
       ],
       "ref": "b81906ff-0560-4a32-b5e3-11d6c9a3b445",
       "rows": [
        [
         "0",
         "may, 2017"
        ]
       ],
       "shape": {
        "columns": 1,
        "rows": 1
       }
      },
      "text/plain": [
       "0    may, 2017\n",
       "Name: month, dtype: object"
      ]
     },
     "execution_count": 14,
     "metadata": {},
     "output_type": "execute_result"
    }
   ],
   "source": [
    "bank_target.month.mode()  ##This is to get the highest value"
   ]
  },
  {
   "cell_type": "code",
   "execution_count": 15,
   "id": "b536a63b",
   "metadata": {},
   "outputs": [
    {
     "data": {
      "text/plain": [
       "'may, 2017'"
      ]
     },
     "execution_count": 15,
     "metadata": {},
     "output_type": "execute_result"
    }
   ],
   "source": [
    "month_mode = bank_target.month.mode()[0]  ##We use fillna to replace all the values where is there null value. And take the highest count as [0]\n",
    "month_mode"
   ]
  },
  {
   "cell_type": "code",
   "execution_count": 16,
   "id": "bb1b11d8",
   "metadata": {},
   "outputs": [
    {
     "name": "stderr",
     "output_type": "stream",
     "text": [
      "C:\\Users\\RUSHANK\\AppData\\Local\\Temp\\ipykernel_12048\\3365498652.py:1: FutureWarning: A value is trying to be set on a copy of a DataFrame or Series through chained assignment using an inplace method.\n",
      "The behavior will change in pandas 3.0. This inplace method will never work because the intermediate object on which we are setting values always behaves as a copy.\n",
      "\n",
      "For example, when doing 'df[col].method(value, inplace=True)', try using 'df.method({col: value}, inplace=True)' or df[col] = df[col].method(value) instead, to perform the operation inplace on the original object.\n",
      "\n",
      "\n",
      "  bank_target.month.fillna(month_mode, inplace = True)\n"
     ]
    }
   ],
   "source": [
    "bank_target.month.fillna(month_mode, inplace = True)"
   ]
  },
  {
   "cell_type": "code",
   "execution_count": 17,
   "id": "c40bc3b3",
   "metadata": {},
   "outputs": [
    {
     "data": {
      "application/vnd.microsoft.datawrangler.viewer.v0+json": {
       "columns": [
        {
         "name": "month",
         "rawType": "object",
         "type": "string"
        },
        {
         "name": "proportion",
         "rawType": "float64",
         "type": "float"
        }
       ],
       "ref": "4c97318a-ab3e-4769-bd04-6894c509cae2",
       "rows": [
        [
         "may, 2017",
         "0.30514925538270893"
        ],
        [
         "jul, 2017",
         "0.15235334469252726"
        ],
        [
         "aug, 2017",
         "0.13796994976875926"
        ],
        [
         "jun, 2017",
         "0.11801022327454581"
        ],
        [
         "nov, 2017",
         "0.08778296563475028"
        ],
        [
         "apr, 2017",
         "0.06483591865636963"
        ],
        [
         "feb, 2017",
         "0.05855148148967715"
        ],
        [
         "jan, 2017",
         "0.031023876435573455"
        ],
        [
         "oct, 2017",
         "0.016308557013564647"
        ],
        [
         "sep, 2017",
         "0.012745900732446726"
        ],
        [
         "mar, 2017",
         "0.010533070744174726"
        ],
        [
         "dec, 2017",
         "0.004735456174902082"
        ]
       ],
       "shape": {
        "columns": 1,
        "rows": 12
       }
      },
      "text/plain": [
       "month\n",
       "may, 2017    0.305149\n",
       "jul, 2017    0.152353\n",
       "aug, 2017    0.137970\n",
       "jun, 2017    0.118010\n",
       "nov, 2017    0.087783\n",
       "apr, 2017    0.064836\n",
       "feb, 2017    0.058551\n",
       "jan, 2017    0.031024\n",
       "oct, 2017    0.016309\n",
       "sep, 2017    0.012746\n",
       "mar, 2017    0.010533\n",
       "dec, 2017    0.004735\n",
       "Name: proportion, dtype: float64"
      ]
     },
     "execution_count": 17,
     "metadata": {},
     "output_type": "execute_result"
    }
   ],
   "source": [
    "bank_target.month.value_counts(normalize=True)"
   ]
  },
  {
   "cell_type": "code",
   "execution_count": 18,
   "id": "8f3c5293",
   "metadata": {},
   "outputs": [
    {
     "data": {
      "application/vnd.microsoft.datawrangler.viewer.v0+json": {
       "columns": [
        {
         "name": "index",
         "rawType": "object",
         "type": "string"
        },
        {
         "name": "pdays",
         "rawType": "float64",
         "type": "float"
        }
       ],
       "ref": "19d5e723-4cb4-4028-80d3-b81ffffec8ae",
       "rows": [
        [
         "count",
         "45191.0"
        ],
        [
         "mean",
         "40.18125290433936"
        ],
        [
         "std",
         "100.0740993839215"
        ],
        [
         "min",
         "-1.0"
        ],
        [
         "25%",
         "-1.0"
        ],
        [
         "50%",
         "-1.0"
        ],
        [
         "75%",
         "-1.0"
        ],
        [
         "max",
         "871.0"
        ]
       ],
       "shape": {
        "columns": 1,
        "rows": 8
       }
      },
      "text/plain": [
       "count    45191.000000\n",
       "mean        40.181253\n",
       "std        100.074099\n",
       "min         -1.000000\n",
       "25%         -1.000000\n",
       "50%         -1.000000\n",
       "75%         -1.000000\n",
       "max        871.000000\n",
       "Name: pdays, dtype: float64"
      ]
     },
     "execution_count": 18,
     "metadata": {},
     "output_type": "execute_result"
    }
   ],
   "source": [
    "bank_target.pdays.describe()"
   ]
  },
  {
   "cell_type": "markdown",
   "id": "4ae10160",
   "metadata": {},
   "source": [
    "Here the -1 represents that the people were not contaced earlier so it's safe to assume that there are missing values.\n",
    "\n",
    "There is no missing values as such but there are indications that tells that the values are missing "
   ]
  },
  {
   "cell_type": "markdown",
   "id": "ee12d356",
   "metadata": {},
   "source": [
    "What we want is to the missing values must not be ignored in the calculations\n",
    "-- How to acheive this \n",
    "\n",
    "    Treat the -1 values with NaN values (make them missing)"
   ]
  },
  {
   "cell_type": "code",
   "execution_count": 19,
   "id": "f283dd9a",
   "metadata": {},
   "outputs": [
    {
     "data": {
      "application/vnd.microsoft.datawrangler.viewer.v0+json": {
       "columns": [
        {
         "name": "index",
         "rawType": "object",
         "type": "string"
        },
        {
         "name": "pdays",
         "rawType": "float64",
         "type": "float"
        }
       ],
       "ref": "a5946826-d1b7-4a6b-abc5-583fc851aad3",
       "rows": [
        [
         "count",
         "8252.0"
        ],
        [
         "mean",
         "224.52375181774116"
        ],
        [
         "std",
         "115.20271497174637"
        ],
        [
         "min",
         "1.0"
        ],
        [
         "25%",
         "133.0"
        ],
        [
         "50%",
         "194.5"
        ],
        [
         "75%",
         "327.0"
        ],
        [
         "max",
         "871.0"
        ]
       ],
       "shape": {
        "columns": 1,
        "rows": 8
       }
      },
      "text/plain": [
       "count    8252.000000\n",
       "mean      224.523752\n",
       "std       115.202715\n",
       "min         1.000000\n",
       "25%       133.000000\n",
       "50%       194.500000\n",
       "75%       327.000000\n",
       "max       871.000000\n",
       "Name: pdays, dtype: float64"
      ]
     },
     "execution_count": 19,
     "metadata": {},
     "output_type": "execute_result"
    }
   ],
   "source": [
    "bank_target.loc[bank_target.pdays<0, 'pdays'] = np.nan\n",
    "bank_target.pdays.describe()"
   ]
  },
  {
   "cell_type": "code",
   "execution_count": 20,
   "id": "79be46bf",
   "metadata": {},
   "outputs": [
    {
     "data": {
      "application/vnd.microsoft.datawrangler.viewer.v0+json": {
       "columns": [
        {
         "name": "index",
         "rawType": "object",
         "type": "string"
        },
        {
         "name": "0",
         "rawType": "int64",
         "type": "integer"
        }
       ],
       "ref": "5d62eb4c-7725-42c1-8582-9027a027ef3b",
       "rows": [
        [
         "customerid",
         "0"
        ],
        [
         "age",
         "0"
        ],
        [
         "salary",
         "0"
        ],
        [
         "balance",
         "0"
        ],
        [
         "marital",
         "0"
        ],
        [
         "targeted",
         "0"
        ],
        [
         "default",
         "0"
        ],
        [
         "housing",
         "0"
        ],
        [
         "loan",
         "0"
        ],
        [
         "contact",
         "0"
        ],
        [
         "day",
         "0"
        ],
        [
         "month",
         "0"
        ],
        [
         "duration",
         "0"
        ],
        [
         "campaign",
         "0"
        ],
        [
         "pdays",
         "36939"
        ],
        [
         "previous",
         "0"
        ],
        [
         "poutcome",
         "0"
        ],
        [
         "response",
         "30"
        ],
        [
         "Job",
         "0"
        ],
        [
         "Education",
         "0"
        ]
       ],
       "shape": {
        "columns": 1,
        "rows": 20
       }
      },
      "text/plain": [
       "customerid        0\n",
       "age               0\n",
       "salary            0\n",
       "balance           0\n",
       "marital           0\n",
       "targeted          0\n",
       "default           0\n",
       "housing           0\n",
       "loan              0\n",
       "contact           0\n",
       "day               0\n",
       "month             0\n",
       "duration          0\n",
       "campaign          0\n",
       "pdays         36939\n",
       "previous          0\n",
       "poutcome          0\n",
       "response         30\n",
       "Job               0\n",
       "Education         0\n",
       "dtype: int64"
      ]
     },
     "execution_count": 20,
     "metadata": {},
     "output_type": "execute_result"
    }
   ],
   "source": [
    "bank_target.isnull().sum()"
   ]
  },
  {
   "cell_type": "markdown",
   "id": "fd8255e3",
   "metadata": {},
   "source": [
    "Handling outliers \n",
    "\n"
   ]
  },
  {
   "cell_type": "code",
   "execution_count": 21,
   "id": "22906e73",
   "metadata": {},
   "outputs": [
    {
     "data": {
      "application/vnd.microsoft.datawrangler.viewer.v0+json": {
       "columns": [
        {
         "name": "index",
         "rawType": "object",
         "type": "string"
        },
        {
         "name": "age",
         "rawType": "float64",
         "type": "float"
        }
       ],
       "ref": "b86d983b-cec9-40ac-8d77-d82799453210",
       "rows": [
        [
         "count",
         "45191.0"
        ],
        [
         "mean",
         "40.93565090394105"
        ],
        [
         "std",
         "10.619197578972633"
        ],
        [
         "min",
         "18.0"
        ],
        [
         "25%",
         "33.0"
        ],
        [
         "50%",
         "39.0"
        ],
        [
         "75%",
         "48.0"
        ],
        [
         "max",
         "95.0"
        ]
       ],
       "shape": {
        "columns": 1,
        "rows": 8
       }
      },
      "text/plain": [
       "count    45191.000000\n",
       "mean        40.935651\n",
       "std         10.619198\n",
       "min         18.000000\n",
       "25%         33.000000\n",
       "50%         39.000000\n",
       "75%         48.000000\n",
       "max         95.000000\n",
       "Name: age, dtype: float64"
      ]
     },
     "execution_count": 21,
     "metadata": {},
     "output_type": "execute_result"
    }
   ],
   "source": [
    "bank_target.age.describe()"
   ]
  },
  {
   "cell_type": "code",
   "execution_count": 22,
   "id": "f3e020b8",
   "metadata": {},
   "outputs": [
    {
     "data": {
      "text/plain": [
       "<Axes: ylabel='Frequency'>"
      ]
     },
     "execution_count": 22,
     "metadata": {},
     "output_type": "execute_result"
    },
    {
     "data": {
      "image/png": "[encoded data removed]",
      "text/plain": [
       "<Figure size 640x480 with 1 Axes>"
      ]
     },
     "metadata": {},
     "output_type": "display_data"
    }
   ],
   "source": [
    "bank_target.age.plot.hist()\n"
   ]
  },
  {
   "cell_type": "code",
   "execution_count": 23,
   "id": "e60d06cf",
   "metadata": {},
   "outputs": [
    {
     "data": {
      "text/plain": [
       "<Axes: ylabel='age'>"
      ]
     },
     "execution_count": 23,
     "metadata": {},
     "output_type": "execute_result"
    },
    {
     "data": {
      "image/png": "[encoded data removed]",
      "text/plain": [
       "<Figure size 640x480 with 1 Axes>"
      ]
     },
     "metadata": {},
     "output_type": "display_data"
    }
   ],
   "source": [
    "sns.boxplot(bank_target.age)"
   ]
  },
  {
   "cell_type": "code",
   "execution_count": 24,
   "id": "3f402a21",
   "metadata": {},
   "outputs": [
    {
     "data": {
      "application/vnd.microsoft.datawrangler.viewer.v0+json": {
       "columns": [
        {
         "name": "index",
         "rawType": "object",
         "type": "string"
        },
        {
         "name": "balance",
         "rawType": "float64",
         "type": "float"
        }
       ],
       "ref": "e484cb9d-ec3e-4642-90b9-288530f0e4b6",
       "rows": [
        [
         "count",
         "45191.0"
        ],
        [
         "mean",
         "1362.4325197495077"
        ],
        [
         "std",
         "3045.120417121147"
        ],
        [
         "min",
         "-8019.0"
        ],
        [
         "25%",
         "72.0"
        ],
        [
         "50%",
         "448.0"
        ],
        [
         "75%",
         "1428.0"
        ],
        [
         "max",
         "102127.0"
        ]
       ],
       "shape": {
        "columns": 1,
        "rows": 8
       }
      },
      "text/plain": [
       "count     45191.000000\n",
       "mean       1362.432520\n",
       "std        3045.120417\n",
       "min       -8019.000000\n",
       "25%          72.000000\n",
       "50%         448.000000\n",
       "75%        1428.000000\n",
       "max      102127.000000\n",
       "Name: balance, dtype: float64"
      ]
     },
     "execution_count": 24,
     "metadata": {},
     "output_type": "execute_result"
    }
   ],
   "source": [
    "#Let's check for balances \n",
    "\n",
    "bank_target.balance.describe()"
   ]
  },
  {
   "cell_type": "code",
   "execution_count": 25,
   "id": "04ee9e15",
   "metadata": {},
   "outputs": [
    {
     "data": {
      "text/plain": [
       "<Axes: ylabel='balance'>"
      ]
     },
     "execution_count": 25,
     "metadata": {},
     "output_type": "execute_result"
    },
    {
     "data": {
      "image/png": "[encoded data removed]",
      "text/plain": [
       "<Figure size 640x480 with 1 Axes>"
      ]
     },
     "metadata": {},
     "output_type": "display_data"
    }
   ],
   "source": [
    "sns.boxplot(bank_target.balance)"
   ]
  },
  {
   "cell_type": "code",
   "execution_count": 26,
   "id": "d6c65cb6",
   "metadata": {},
   "outputs": [
    {
     "data": {
      "application/vnd.microsoft.datawrangler.viewer.v0+json": {
       "columns": [
        {
         "name": "index",
         "rawType": "float64",
         "type": "float"
        },
        {
         "name": "balance",
         "rawType": "float64",
         "type": "float"
        }
       ],
       "ref": "0620cc52-3e7e-441f-a8d2-446dafc60d9b",
       "rows": [
        [
         "0.5",
         "448.0"
        ],
        [
         "0.7",
         "1126.0"
        ],
        [
         "0.9",
         "3575.0"
        ],
        [
         "0.95",
         "5768.0"
        ],
        [
         "0.99",
         "13167.09999999997"
        ]
       ],
       "shape": {
        "columns": 1,
        "rows": 5
       }
      },
      "text/plain": [
       "0.50      448.0\n",
       "0.70     1126.0\n",
       "0.90     3575.0\n",
       "0.95     5768.0\n",
       "0.99    13167.1\n",
       "Name: balance, dtype: float64"
      ]
     },
     "execution_count": 26,
     "metadata": {},
     "output_type": "execute_result"
    }
   ],
   "source": [
    "bank_target.balance.quantile([0.5,0.7,0.9,0.95,0.99])"
   ]
  },
  {
   "cell_type": "code",
   "execution_count": 27,
   "id": "e06ee2b2",
   "metadata": {},
   "outputs": [
    {
     "data": {
      "application/vnd.microsoft.datawrangler.viewer.v0+json": {
       "columns": [
        {
         "name": "index",
         "rawType": "object",
         "type": "string"
        },
        {
         "name": "customerid",
         "rawType": "float64",
         "type": "float"
        },
        {
         "name": "age",
         "rawType": "float64",
         "type": "float"
        },
        {
         "name": "salary",
         "rawType": "float64",
         "type": "float"
        },
        {
         "name": "balance",
         "rawType": "float64",
         "type": "float"
        },
        {
         "name": "day",
         "rawType": "float64",
         "type": "float"
        },
        {
         "name": "campaign",
         "rawType": "float64",
         "type": "float"
        },
        {
         "name": "pdays",
         "rawType": "float64",
         "type": "float"
        },
        {
         "name": "previous",
         "rawType": "float64",
         "type": "float"
        }
       ],
       "ref": "6b9b9fbc-fcdd-4530-81c2-cdb9bfa51450",
       "rows": [
        [
         "count",
         "351.0",
         "351.0",
         "351.0",
         "351.0",
         "351.0",
         "351.0",
         "62.0",
         "351.0"
        ],
        [
         "mean",
         "25510.903133903135",
         "45.34188034188034",
         "70008.54700854702",
         "24295.780626780626",
         "16.02279202279202",
         "2.7492877492877494",
         "188.51612903225808",
         "0.5555555555555556"
        ],
        [
         "std",
         "12274.35449227448",
         "12.114333229570235",
         "34378.27280457296",
         "12128.560692621159",
         "8.101819489440569",
         "3.0368862446061526",
         "118.79638758313635",
         "1.7845901223423557"
        ],
        [
         "min",
         "335.0",
         "23.0",
         "0.0",
         "15030.0",
         "1.0",
         "1.0",
         "31.0",
         "0.0"
        ],
        [
         "25%",
         "17915.0",
         "35.0",
         "50000.0",
         "17074.0",
         "9.0",
         "1.0",
         "96.25",
         "0.0"
        ],
        [
         "50%",
         "26479.0",
         "44.0",
         "60000.0",
         "20723.0",
         "18.0",
         "2.0",
         "167.5",
         "0.0"
        ],
        [
         "75%",
         "35416.5",
         "55.0",
         "100000.0",
         "26254.0",
         "21.0",
         "3.0",
         "246.5",
         "0.0"
        ],
        [
         "max",
         "45128.0",
         "84.0",
         "120000.0",
         "102127.0",
         "31.0",
         "31.0",
         "589.0",
         "23.0"
        ]
       ],
       "shape": {
        "columns": 8,
        "rows": 8
       }
      },
      "text/html": [
       "<div>\n",
       "<style scoped>\n",
       "    .dataframe tbody tr th:only-of-type {\n",
       "        vertical-align: middle;\n",
       "    }\n",
       "\n",
       "    .dataframe tbody tr th {\n",
       "        vertical-align: top;\n",
       "    }\n",
       "\n",
       "    .dataframe thead th {\n",
       "        text-align: right;\n",
       "    }\n",
       "</style>\n",
       "<table border=\"1\" class=\"dataframe\">\n",
       "  <thead>\n",
       "    <tr style=\"text-align: right;\">\n",
       "      <th></th>\n",
       "      <th>customerid</th>\n",
       "      <th>age</th>\n",
       "      <th>salary</th>\n",
       "      <th>balance</th>\n",
       "      <th>day</th>\n",
       "      <th>campaign</th>\n",
       "      <th>pdays</th>\n",
       "      <th>previous</th>\n",
       "    </tr>\n",
       "  </thead>\n",
       "  <tbody>\n",
       "    <tr>\n",
       "      <th>count</th>\n",
       "      <td>351.000000</td>\n",
       "      <td>351.000000</td>\n",
       "      <td>351.000000</td>\n",
       "      <td>351.000000</td>\n",
       "      <td>351.000000</td>\n",
       "      <td>351.000000</td>\n",
       "      <td>62.000000</td>\n",
       "      <td>351.000000</td>\n",
       "    </tr>\n",
       "    <tr>\n",
       "      <th>mean</th>\n",
       "      <td>25510.903134</td>\n",
       "      <td>45.341880</td>\n",
       "      <td>70008.547009</td>\n",
       "      <td>24295.780627</td>\n",
       "      <td>16.022792</td>\n",
       "      <td>2.749288</td>\n",
       "      <td>188.516129</td>\n",
       "      <td>0.555556</td>\n",
       "    </tr>\n",
       "    <tr>\n",
       "      <th>std</th>\n",
       "      <td>12274.354492</td>\n",
       "      <td>12.114333</td>\n",
       "      <td>34378.272805</td>\n",
       "      <td>12128.560693</td>\n",
       "      <td>8.101819</td>\n",
       "      <td>3.036886</td>\n",
       "      <td>118.796388</td>\n",
       "      <td>1.784590</td>\n",
       "    </tr>\n",
       "    <tr>\n",
       "      <th>min</th>\n",
       "      <td>335.000000</td>\n",
       "      <td>23.000000</td>\n",
       "      <td>0.000000</td>\n",
       "      <td>15030.000000</td>\n",
       "      <td>1.000000</td>\n",
       "      <td>1.000000</td>\n",
       "      <td>31.000000</td>\n",
       "      <td>0.000000</td>\n",
       "    </tr>\n",
       "    <tr>\n",
       "      <th>25%</th>\n",
       "      <td>17915.000000</td>\n",
       "      <td>35.000000</td>\n",
       "      <td>50000.000000</td>\n",
       "      <td>17074.000000</td>\n",
       "      <td>9.000000</td>\n",
       "      <td>1.000000</td>\n",
       "      <td>96.250000</td>\n",
       "      <td>0.000000</td>\n",
       "    </tr>\n",
       "    <tr>\n",
       "      <th>50%</th>\n",
       "      <td>26479.000000</td>\n",
       "      <td>44.000000</td>\n",
       "      <td>60000.000000</td>\n",
       "      <td>20723.000000</td>\n",
       "      <td>18.000000</td>\n",
       "      <td>2.000000</td>\n",
       "      <td>167.500000</td>\n",
       "      <td>0.000000</td>\n",
       "    </tr>\n",
       "    <tr>\n",
       "      <th>75%</th>\n",
       "      <td>35416.500000</td>\n",
       "      <td>55.000000</td>\n",
       "      <td>100000.000000</td>\n",
       "      <td>26254.000000</td>\n",
       "      <td>21.000000</td>\n",
       "      <td>3.000000</td>\n",
       "      <td>246.500000</td>\n",
       "      <td>0.000000</td>\n",
       "    </tr>\n",
       "    <tr>\n",
       "      <th>max</th>\n",
       "      <td>45128.000000</td>\n",
       "      <td>84.000000</td>\n",
       "      <td>120000.000000</td>\n",
       "      <td>102127.000000</td>\n",
       "      <td>31.000000</td>\n",
       "      <td>31.000000</td>\n",
       "      <td>589.000000</td>\n",
       "      <td>23.000000</td>\n",
       "    </tr>\n",
       "  </tbody>\n",
       "</table>\n",
       "</div>"
      ],
      "text/plain": [
       "         customerid         age         salary        balance         day  \\\n",
       "count    351.000000  351.000000     351.000000     351.000000  351.000000   \n",
       "mean   25510.903134   45.341880   70008.547009   24295.780627   16.022792   \n",
       "std    12274.354492   12.114333   34378.272805   12128.560693    8.101819   \n",
       "min      335.000000   23.000000       0.000000   15030.000000    1.000000   \n",
       "25%    17915.000000   35.000000   50000.000000   17074.000000    9.000000   \n",
       "50%    26479.000000   44.000000   60000.000000   20723.000000   18.000000   \n",
       "75%    35416.500000   55.000000  100000.000000   26254.000000   21.000000   \n",
       "max    45128.000000   84.000000  120000.000000  102127.000000   31.000000   \n",
       "\n",
       "         campaign       pdays    previous  \n",
       "count  351.000000   62.000000  351.000000  \n",
       "mean     2.749288  188.516129    0.555556  \n",
       "std      3.036886  118.796388    1.784590  \n",
       "min      1.000000   31.000000    0.000000  \n",
       "25%      1.000000   96.250000    0.000000  \n",
       "50%      2.000000  167.500000    0.000000  \n",
       "75%      3.000000  246.500000    0.000000  \n",
       "max     31.000000  589.000000   23.000000  "
      ]
     },
     "execution_count": 27,
     "metadata": {},
     "output_type": "execute_result"
    }
   ],
   "source": [
    "bank_target[bank_target['balance'] > 15000].describe()"
   ]
  },
  {
   "cell_type": "code",
   "execution_count": 28,
   "id": "f4de725e",
   "metadata": {},
   "outputs": [
    {
     "data": {
      "application/vnd.microsoft.datawrangler.viewer.v0+json": {
       "columns": [
        {
         "name": "index",
         "rawType": "object",
         "type": "string"
        },
        {
         "name": "salary",
         "rawType": "float64",
         "type": "float"
        }
       ],
       "ref": "e4b61015-d3c9-4bc5-b5e1-1ddf3549e44b",
       "rows": [
        [
         "count",
         "45191.0"
        ],
        [
         "mean",
         "57005.974640968336"
        ],
        [
         "std",
         "32084.253153832156"
        ],
        [
         "min",
         "0.0"
        ],
        [
         "25%",
         "20000.0"
        ],
        [
         "50%",
         "60000.0"
        ],
        [
         "75%",
         "70000.0"
        ],
        [
         "max",
         "120000.0"
        ]
       ],
       "shape": {
        "columns": 1,
        "rows": 8
       }
      },
      "text/plain": [
       "count     45191.000000\n",
       "mean      57005.974641\n",
       "std       32084.253154\n",
       "min           0.000000\n",
       "25%       20000.000000\n",
       "50%       60000.000000\n",
       "75%       70000.000000\n",
       "max      120000.000000\n",
       "Name: salary, dtype: float64"
      ]
     },
     "execution_count": 28,
     "metadata": {},
     "output_type": "execute_result"
    }
   ],
   "source": [
    "bank_target.salary.describe()"
   ]
  },
  {
   "cell_type": "code",
   "execution_count": 29,
   "id": "d8d576e3",
   "metadata": {},
   "outputs": [
    {
     "data": {
      "text/plain": [
       "<Axes: ylabel='salary'>"
      ]
     },
     "execution_count": 29,
     "metadata": {},
     "output_type": "execute_result"
    },
    {
     "data": {
      "image/png": "[encoded data removed]",
      "text/plain": [
       "<Figure size 640x480 with 1 Axes>"
      ]
     },
     "metadata": {},
     "output_type": "display_data"
    }
   ],
   "source": [
    "sns.boxplot(bank_target.salary)"
   ]
  },
  {
   "cell_type": "markdown",
   "id": "f6025e22",
   "metadata": {},
   "source": [
    "This is binning the balances into different groups\n",
    "\n",
    "- Binning usually means dividing the values in groups for ease of understanding and also prevents outliers"
   ]
  },
  {
   "cell_type": "code",
   "execution_count": 30,
   "id": "cea5365c",
   "metadata": {},
   "outputs": [
    {
     "data": {
      "application/vnd.microsoft.datawrangler.viewer.v0+json": {
       "columns": [
        {
         "name": "index",
         "rawType": "int64",
         "type": "integer"
        },
        {
         "name": "customerid",
         "rawType": "int64",
         "type": "integer"
        },
        {
         "name": "age",
         "rawType": "float64",
         "type": "float"
        },
        {
         "name": "salary",
         "rawType": "int64",
         "type": "integer"
        },
        {
         "name": "balance",
         "rawType": "int64",
         "type": "integer"
        },
        {
         "name": "marital",
         "rawType": "object",
         "type": "string"
        },
        {
         "name": "targeted",
         "rawType": "object",
         "type": "string"
        },
        {
         "name": "default",
         "rawType": "object",
         "type": "string"
        },
        {
         "name": "housing",
         "rawType": "object",
         "type": "string"
        },
        {
         "name": "loan",
         "rawType": "object",
         "type": "string"
        },
        {
         "name": "contact",
         "rawType": "object",
         "type": "string"
        },
        {
         "name": "day",
         "rawType": "int64",
         "type": "integer"
        },
        {
         "name": "month",
         "rawType": "object",
         "type": "string"
        },
        {
         "name": "duration",
         "rawType": "object",
         "type": "string"
        },
        {
         "name": "campaign",
         "rawType": "int64",
         "type": "integer"
        },
        {
         "name": "pdays",
         "rawType": "float64",
         "type": "float"
        },
        {
         "name": "previous",
         "rawType": "int64",
         "type": "integer"
        },
        {
         "name": "poutcome",
         "rawType": "object",
         "type": "string"
        },
        {
         "name": "response",
         "rawType": "object",
         "type": "string"
        },
        {
         "name": "Job",
         "rawType": "object",
         "type": "string"
        },
        {
         "name": "Education",
         "rawType": "object",
         "type": "string"
        },
        {
         "name": "balanced group",
         "rawType": "category",
         "type": "unknown"
        }
       ],
       "ref": "75d3ab1b-5286-486d-af16-13c0c11b3168",
       "rows": [
        [
         "0",
         "1",
         "58.0",
         "100000",
         "2143",
         "married",
         "yes",
         "no",
         "yes",
         "no",
         "unknown",
         "5",
         "may, 2017",
         "261 sec",
         "1",
         null,
         "0",
         "unknown",
         "no",
         "management",
         "tertiary",
         "Moderate"
        ],
        [
         "1",
         "2",
         "44.0",
         "60000",
         "29",
         "single",
         "yes",
         "no",
         "yes",
         "no",
         "unknown",
         "5",
         "may, 2017",
         "151 sec",
         "1",
         null,
         "0",
         "unknown",
         "no",
         "technician",
         "secondary",
         "very low"
        ],
        [
         "2",
         "3",
         "33.0",
         "120000",
         "2",
         "married",
         "yes",
         "no",
         "yes",
         "yes",
         "unknown",
         "5",
         "may, 2017",
         "76 sec",
         "1",
         null,
         "0",
         "unknown",
         "no",
         "entrepreneur",
         "secondary",
         "very low"
        ],
        [
         "3",
         "4",
         "47.0",
         "20000",
         "1506",
         "married",
         "no",
         "no",
         "yes",
         "no",
         "unknown",
         "5",
         "may, 2017",
         "92 sec",
         "1",
         null,
         "0",
         "unknown",
         "no",
         "blue-collar",
         "unknown",
         "Moderate"
        ],
        [
         "4",
         "5",
         "33.0",
         "0",
         "1",
         "single",
         "no",
         "no",
         "no",
         "no",
         "unknown",
         "5",
         "may, 2017",
         "198 sec",
         "1",
         null,
         "0",
         "unknown",
         "no",
         "unknown",
         "unknown",
         "very low"
        ]
       ],
       "shape": {
        "columns": 21,
        "rows": 5
       }
      },
      "text/html": [
       "<div>\n",
       "<style scoped>\n",
       "    .dataframe tbody tr th:only-of-type {\n",
       "        vertical-align: middle;\n",
       "    }\n",
       "\n",
       "    .dataframe tbody tr th {\n",
       "        vertical-align: top;\n",
       "    }\n",
       "\n",
       "    .dataframe thead th {\n",
       "        text-align: right;\n",
       "    }\n",
       "</style>\n",
       "<table border=\"1\" class=\"dataframe\">\n",
       "  <thead>\n",
       "    <tr style=\"text-align: right;\">\n",
       "      <th></th>\n",
       "      <th>customerid</th>\n",
       "      <th>age</th>\n",
       "      <th>salary</th>\n",
       "      <th>balance</th>\n",
       "      <th>marital</th>\n",
       "      <th>targeted</th>\n",
       "      <th>default</th>\n",
       "      <th>housing</th>\n",
       "      <th>loan</th>\n",
       "      <th>contact</th>\n",
       "      <th>...</th>\n",
       "      <th>month</th>\n",
       "      <th>duration</th>\n",
       "      <th>campaign</th>\n",
       "      <th>pdays</th>\n",
       "      <th>previous</th>\n",
       "      <th>poutcome</th>\n",
       "      <th>response</th>\n",
       "      <th>Job</th>\n",
       "      <th>Education</th>\n",
       "      <th>balanced group</th>\n",
       "    </tr>\n",
       "  </thead>\n",
       "  <tbody>\n",
       "    <tr>\n",
       "      <th>0</th>\n",
       "      <td>1</td>\n",
       "      <td>58.0</td>\n",
       "      <td>100000</td>\n",
       "      <td>2143</td>\n",
       "      <td>married</td>\n",
       "      <td>yes</td>\n",
       "      <td>no</td>\n",
       "      <td>yes</td>\n",
       "      <td>no</td>\n",
       "      <td>unknown</td>\n",
       "      <td>...</td>\n",
       "      <td>may, 2017</td>\n",
       "      <td>261 sec</td>\n",
       "      <td>1</td>\n",
       "      <td>NaN</td>\n",
       "      <td>0</td>\n",
       "      <td>unknown</td>\n",
       "      <td>no</td>\n",
       "      <td>management</td>\n",
       "      <td>tertiary</td>\n",
       "      <td>Moderate</td>\n",
       "    </tr>\n",
       "    <tr>\n",
       "      <th>1</th>\n",
       "      <td>2</td>\n",
       "      <td>44.0</td>\n",
       "      <td>60000</td>\n",
       "      <td>29</td>\n",
       "      <td>single</td>\n",
       "      <td>yes</td>\n",
       "      <td>no</td>\n",
       "      <td>yes</td>\n",
       "      <td>no</td>\n",
       "      <td>unknown</td>\n",
       "      <td>...</td>\n",
       "      <td>may, 2017</td>\n",
       "      <td>151 sec</td>\n",
       "      <td>1</td>\n",
       "      <td>NaN</td>\n",
       "      <td>0</td>\n",
       "      <td>unknown</td>\n",
       "      <td>no</td>\n",
       "      <td>technician</td>\n",
       "      <td>secondary</td>\n",
       "      <td>very low</td>\n",
       "    </tr>\n",
       "    <tr>\n",
       "      <th>2</th>\n",
       "      <td>3</td>\n",
       "      <td>33.0</td>\n",
       "      <td>120000</td>\n",
       "      <td>2</td>\n",
       "      <td>married</td>\n",
       "      <td>yes</td>\n",
       "      <td>no</td>\n",
       "      <td>yes</td>\n",
       "      <td>yes</td>\n",
       "      <td>unknown</td>\n",
       "      <td>...</td>\n",
       "      <td>may, 2017</td>\n",
       "      <td>76 sec</td>\n",
       "      <td>1</td>\n",
       "      <td>NaN</td>\n",
       "      <td>0</td>\n",
       "      <td>unknown</td>\n",
       "      <td>no</td>\n",
       "      <td>entrepreneur</td>\n",
       "      <td>secondary</td>\n",
       "      <td>very low</td>\n",
       "    </tr>\n",
       "    <tr>\n",
       "      <th>3</th>\n",
       "      <td>4</td>\n",
       "      <td>47.0</td>\n",
       "      <td>20000</td>\n",
       "      <td>1506</td>\n",
       "      <td>married</td>\n",
       "      <td>no</td>\n",
       "      <td>no</td>\n",
       "      <td>yes</td>\n",
       "      <td>no</td>\n",
       "      <td>unknown</td>\n",
       "      <td>...</td>\n",
       "      <td>may, 2017</td>\n",
       "      <td>92 sec</td>\n",
       "      <td>1</td>\n",
       "      <td>NaN</td>\n",
       "      <td>0</td>\n",
       "      <td>unknown</td>\n",
       "      <td>no</td>\n",
       "      <td>blue-collar</td>\n",
       "      <td>unknown</td>\n",
       "      <td>Moderate</td>\n",
       "    </tr>\n",
       "    <tr>\n",
       "      <th>4</th>\n",
       "      <td>5</td>\n",
       "      <td>33.0</td>\n",
       "      <td>0</td>\n",
       "      <td>1</td>\n",
       "      <td>single</td>\n",
       "      <td>no</td>\n",
       "      <td>no</td>\n",
       "      <td>no</td>\n",
       "      <td>no</td>\n",
       "      <td>unknown</td>\n",
       "      <td>...</td>\n",
       "      <td>may, 2017</td>\n",
       "      <td>198 sec</td>\n",
       "      <td>1</td>\n",
       "      <td>NaN</td>\n",
       "      <td>0</td>\n",
       "      <td>unknown</td>\n",
       "      <td>no</td>\n",
       "      <td>unknown</td>\n",
       "      <td>unknown</td>\n",
       "      <td>very low</td>\n",
       "    </tr>\n",
       "  </tbody>\n",
       "</table>\n",
       "<p>5 rows × 21 columns</p>\n",
       "</div>"
      ],
      "text/plain": [
       "   customerid   age  salary  balance  marital targeted default housing loan  \\\n",
       "0           1  58.0  100000     2143  married      yes      no     yes   no   \n",
       "1           2  44.0   60000       29   single      yes      no     yes   no   \n",
       "2           3  33.0  120000        2  married      yes      no     yes  yes   \n",
       "3           4  47.0   20000     1506  married       no      no     yes   no   \n",
       "4           5  33.0       0        1   single       no      no      no   no   \n",
       "\n",
       "   contact  ...      month duration campaign  pdays  previous  poutcome  \\\n",
       "0  unknown  ...  may, 2017  261 sec        1    NaN         0   unknown   \n",
       "1  unknown  ...  may, 2017  151 sec        1    NaN         0   unknown   \n",
       "2  unknown  ...  may, 2017   76 sec        1    NaN         0   unknown   \n",
       "3  unknown  ...  may, 2017   92 sec        1    NaN         0   unknown   \n",
       "4  unknown  ...  may, 2017  198 sec        1    NaN         0   unknown   \n",
       "\n",
       "  response           Job  Education balanced group  \n",
       "0       no    management   tertiary       Moderate  \n",
       "1       no    technician  secondary       very low  \n",
       "2       no  entrepreneur  secondary       very low  \n",
       "3       no   blue-collar    unknown       Moderate  \n",
       "4       no       unknown    unknown       very low  \n",
       "\n",
       "[5 rows x 21 columns]"
      ]
     },
     "execution_count": 30,
     "metadata": {},
     "output_type": "execute_result"
    }
   ],
   "source": [
    "bins = [0,400,1000,4000,15000,float('inf')]\n",
    "labels = ['very low', 'low','Moderate', 'High', 'Ultra Luxurious']\n",
    "\n",
    "bank_target['balanced group'] = pd.cut(bank_target['balance'], bins=bins, labels=labels)\n",
    "bank_target.head(5)"
   ]
  },
  {
   "cell_type": "code",
   "execution_count": 31,
   "id": "6f9cfa88",
   "metadata": {},
   "outputs": [
    {
     "data": {
      "application/vnd.microsoft.datawrangler.viewer.v0+json": {
       "columns": [
        {
         "name": "index",
         "rawType": "int64",
         "type": "integer"
        },
        {
         "name": "customerid",
         "rawType": "int64",
         "type": "integer"
        },
        {
         "name": "age",
         "rawType": "float64",
         "type": "float"
        },
        {
         "name": "salary",
         "rawType": "int64",
         "type": "integer"
        },
        {
         "name": "balance",
         "rawType": "int64",
         "type": "integer"
        },
        {
         "name": "marital",
         "rawType": "object",
         "type": "string"
        },
        {
         "name": "targeted",
         "rawType": "object",
         "type": "string"
        },
        {
         "name": "default",
         "rawType": "object",
         "type": "string"
        },
        {
         "name": "housing",
         "rawType": "object",
         "type": "string"
        },
        {
         "name": "loan",
         "rawType": "object",
         "type": "string"
        },
        {
         "name": "contact",
         "rawType": "object",
         "type": "string"
        },
        {
         "name": "day",
         "rawType": "int64",
         "type": "integer"
        },
        {
         "name": "month",
         "rawType": "object",
         "type": "string"
        },
        {
         "name": "duration",
         "rawType": "object",
         "type": "string"
        },
        {
         "name": "campaign",
         "rawType": "int64",
         "type": "integer"
        },
        {
         "name": "pdays",
         "rawType": "float64",
         "type": "float"
        },
        {
         "name": "previous",
         "rawType": "int64",
         "type": "integer"
        },
        {
         "name": "poutcome",
         "rawType": "object",
         "type": "string"
        },
        {
         "name": "response",
         "rawType": "object",
         "type": "string"
        },
        {
         "name": "Job",
         "rawType": "object",
         "type": "string"
        },
        {
         "name": "Education",
         "rawType": "object",
         "type": "string"
        },
        {
         "name": "balanced group",
         "rawType": "category",
         "type": "unknown"
        }
       ],
       "ref": "ce251c7c-e32f-422a-b342-d38da5d5caa4",
       "rows": [
        [
         "34",
         "35",
         "51.0",
         "100000",
         "10635",
         "married",
         "yes",
         "no",
         "yes",
         "no",
         "unknown",
         "5",
         "may, 2017",
         "336 sec",
         "1",
         null,
         "0",
         "unknown",
         "no",
         "management",
         "tertiary",
         "High"
        ],
        [
         "65",
         "66",
         "51.0",
         "100000",
         "6530",
         "married",
         "yes",
         "no",
         "yes",
         "no",
         "unknown",
         "5",
         "may, 2017",
         "91 sec",
         "1",
         null,
         "0",
         "unknown",
         "no",
         "management",
         "tertiary",
         "High"
        ],
        [
         "69",
         "70",
         "35.0",
         "20000",
         "12223",
         "single",
         "yes",
         "no",
         "yes",
         "yes",
         "unknown",
         "5",
         "may, 2017",
         "177 sec",
         "1",
         null,
         "0",
         "unknown",
         "no",
         "blue-collar",
         "secondary",
         "High"
        ],
        [
         "70",
         "71",
         "57.0",
         "20000",
         "5935",
         "married",
         "yes",
         "no",
         "yes",
         "yes",
         "unknown",
         "5",
         "may, 2017",
         "258 sec",
         "1",
         null,
         "0",
         "unknown",
         "no",
         "blue-collar",
         "secondary",
         "High"
        ],
        [
         "205",
         "206",
         "50.0",
         "70000",
         "5699",
         "married",
         "yes",
         "no",
         "yes",
         "no",
         "unknown",
         "5",
         "may, 2017",
         "381 sec",
         "2",
         null,
         "0",
         "unknown",
         "no",
         "services",
         "secondary",
         "High"
        ],
        [
         "334",
         "335",
         "45.0",
         "100000",
         "24598",
         "divorced",
         "no",
         "no",
         "yes",
         "no",
         "unknown",
         "5",
         "may, 2017",
         "313 sec",
         "3",
         null,
         "0",
         "unknown",
         "no",
         "management",
         "tertiary",
         "Ultra Luxurious"
        ],
        [
         "382",
         "383",
         "40.0",
         "100000",
         "8486",
         "married",
         "yes",
         "no",
         "no",
         "no",
         "unknown",
         "6",
         "may, 2017",
         "260 sec",
         "3",
         null,
         "0",
         "unknown",
         "no",
         "management",
         "secondary",
         "High"
        ],
        [
         "391",
         "392",
         "37.0",
         "60000",
         "8730",
         "married",
         "yes",
         "no",
         "yes",
         "no",
         "unknown",
         "6",
         "may, 2017",
         "149 sec",
         "1",
         null,
         "0",
         "unknown",
         "no",
         "technician",
         "tertiary",
         "High"
        ],
        [
         "446",
         "447",
         "39.0",
         "60000",
         "45248",
         "single",
         "no",
         "no",
         "yes",
         "no",
         "unknown",
         "6",
         "may, 2017",
         "1623 sec",
         "1",
         null,
         "0",
         "unknown",
         "yes",
         "technician",
         "unknown",
         "Ultra Luxurious"
        ],
        [
         "493",
         "494",
         "55.0",
         "8000",
         "5345",
         "married",
         "yes",
         "no",
         "no",
         "no",
         "unknown",
         "6",
         "may, 2017",
         "278 sec",
         "1",
         null,
         "0",
         "unknown",
         "no",
         "unemployed",
         "tertiary",
         "High"
        ],
        [
         "510",
         "511",
         "58.0",
         "55000",
         "5435",
         "married",
         "yes",
         "no",
         "yes",
         "no",
         "unknown",
         "6",
         "may, 2017",
         "118 sec",
         "1",
         null,
         "0",
         "unknown",
         "no",
         "retired",
         "secondary",
         "High"
        ],
        [
         "565",
         "566",
         "57.0",
         "20000",
         "5431",
         "married",
         "yes",
         "no",
         "yes",
         "yes",
         "unknown",
         "6",
         "may, 2017",
         "383 sec",
         "1",
         null,
         "0",
         "unknown",
         "no",
         "blue-collar",
         "primary",
         "High"
        ],
        [
         "569",
         "570",
         "28.0",
         "70000",
         "5090",
         "single",
         "yes",
         "no",
         "yes",
         "no",
         "unknown",
         "6",
         "may, 2017",
         "1297 sec",
         "3",
         null,
         "0",
         "unknown",
         "yes",
         "services",
         "secondary",
         "High"
        ],
        [
         "757",
         "758",
         "55.0",
         "16000",
         "6920",
         "divorced",
         "no",
         "no",
         "yes",
         "no",
         "unknown",
         "6",
         "may, 2017",
         "406 sec",
         "3",
         null,
         "0",
         "unknown",
         "no",
         "housemaid",
         "tertiary",
         "High"
        ],
        [
         "908",
         "909",
         "44.0",
         "55000",
         "7624",
         "married",
         "yes",
         "no",
         "no",
         "no",
         "unknown",
         "7",
         "may, 2017",
         "126 sec",
         "5",
         null,
         "0",
         "unknown",
         "no",
         "retired",
         "secondary",
         "High"
        ],
        [
         "916",
         "917",
         "40.0",
         "70000",
         "8823",
         "single",
         "no",
         "no",
         "yes",
         "no",
         "unknown",
         "7",
         "may, 2017",
         "378 sec",
         "1",
         null,
         "0",
         "unknown",
         "no",
         "services",
         "tertiary",
         "High"
        ],
        [
         "920",
         "921",
         "44.0",
         "50000",
         "58544",
         "married",
         "yes",
         "no",
         "yes",
         "no",
         "unknown",
         "7",
         "may, 2017",
         "144 sec",
         "2",
         null,
         "0",
         "unknown",
         "no",
         "admin.",
         "secondary",
         "Ultra Luxurious"
        ],
        [
         "1120",
         "1121",
         "57.0",
         "55000",
         "8266",
         "divorced",
         "yes",
         "no",
         "yes",
         "no",
         "unknown",
         "7",
         "may, 2017",
         "71 sec",
         "1",
         null,
         "0",
         "unknown",
         "no",
         "retired",
         "secondary",
         "High"
        ],
        [
         "1213",
         "1214",
         "31.0",
         "100000",
         "7444",
         "single",
         "no",
         "no",
         "yes",
         "yes",
         "unknown",
         "8",
         "may, 2017",
         "20 sec",
         "1",
         null,
         "0",
         "unknown",
         "no",
         "management",
         "tertiary",
         "High"
        ],
        [
         "1229",
         "1230",
         "36.0",
         "60000",
         "5611",
         "married",
         "yes",
         "no",
         "yes",
         "no",
         "unknown",
         "8",
         "may, 2017",
         "39 sec",
         "1",
         null,
         "0",
         "unknown",
         "no",
         "technician",
         "secondary",
         "High"
        ],
        [
         "1236",
         "1237",
         "34.0",
         "120000",
         "10350",
         "married",
         "yes",
         "no",
         "yes",
         "no",
         "unknown",
         "8",
         "may, 2017",
         "187 sec",
         "3",
         null,
         "0",
         "unknown",
         "no",
         "entrepreneur",
         "tertiary",
         "High"
        ],
        [
         "1241",
         "1242",
         "29.0",
         "20000",
         "5903",
         "married",
         "yes",
         "no",
         "yes",
         "no",
         "unknown",
         "8",
         "may, 2017",
         "194 sec",
         "1",
         null,
         "0",
         "unknown",
         "no",
         "blue-collar",
         "secondary",
         "High"
        ],
        [
         "1272",
         "1273",
         "30.0",
         "100000",
         "5956",
         "single",
         "no",
         "no",
         "yes",
         "no",
         "unknown",
         "8",
         "may, 2017",
         "255 sec",
         "1",
         null,
         "0",
         "unknown",
         "no",
         "management",
         "tertiary",
         "High"
        ],
        [
         "1307",
         "1308",
         "49.0",
         "16000",
         "7317",
         "married",
         "yes",
         "no",
         "yes",
         "no",
         "unknown",
         "8",
         "may, 2017",
         "140 sec",
         "1",
         null,
         "0",
         "unknown",
         "no",
         "housemaid",
         "secondary",
         "High"
        ],
        [
         "1438",
         "1439",
         "39.0",
         "8000",
         "6322",
         "divorced",
         "yes",
         "no",
         "no",
         "no",
         "unknown",
         "8",
         "may, 2017",
         "184 sec",
         "1",
         null,
         "0",
         "unknown",
         "no",
         "unemployed",
         "secondary",
         "High"
        ],
        [
         "1470",
         "1471",
         "60.0",
         "20000",
         "7601",
         "divorced",
         "yes",
         "no",
         "yes",
         "no",
         "unknown",
         "8",
         "may, 2017",
         "285 sec",
         "1",
         null,
         "0",
         "unknown",
         "no",
         "blue-collar",
         "primary",
         "High"
        ],
        [
         "1490",
         "1491",
         "38.0",
         "70000",
         "5873",
         "divorced",
         "yes",
         "no",
         "no",
         "no",
         "unknown",
         "8",
         "may, 2017",
         "191 sec",
         "2",
         null,
         "0",
         "unknown",
         "no",
         "services",
         "secondary",
         "High"
        ],
        [
         "1606",
         "1607",
         "33.0",
         "70000",
         "5034",
         "married",
         "yes",
         "no",
         "yes",
         "no",
         "unknown",
         "8",
         "may, 2017",
         "207 sec",
         "3",
         null,
         "0",
         "unknown",
         "no",
         "services",
         "secondary",
         "High"
        ],
        [
         "1788",
         "1789",
         "32.0",
         "120000",
         "6259",
         "single",
         "no",
         "no",
         "yes",
         "no",
         "unknown",
         "9",
         "may, 2017",
         "230 sec",
         "2",
         null,
         "0",
         "unknown",
         "no",
         "entrepreneur",
         "tertiary",
         "High"
        ],
        [
         "1825",
         "1826",
         "29.0",
         "60000",
         "5406",
         "single",
         "no",
         "no",
         "no",
         "no",
         "unknown",
         "9",
         "may, 2017",
         "530 sec",
         "2",
         null,
         "0",
         "unknown",
         "no",
         "self-employed",
         "tertiary",
         "High"
        ],
        [
         "1843",
         "1844",
         "27.0",
         "8000",
         "7459",
         "married",
         "yes",
         "no",
         "yes",
         "no",
         "unknown",
         "9",
         "may, 2017",
         "407 sec",
         "2",
         null,
         "0",
         "unknown",
         "no",
         "unemployed",
         "primary",
         "High"
        ],
        [
         "1917",
         "1918",
         "35.0",
         "100000",
         "6809",
         "single",
         "yes",
         "no",
         "yes",
         "no",
         "unknown",
         "9",
         "may, 2017",
         "750 sec",
         "7",
         null,
         "0",
         "unknown",
         "no",
         "management",
         "secondary",
         "High"
        ],
        [
         "1964",
         "1965",
         "34.0",
         "20000",
         "6411",
         "married",
         "yes",
         "no",
         "yes",
         "yes",
         "unknown",
         "9",
         "may, 2017",
         "226 sec",
         "2",
         null,
         "0",
         "unknown",
         "no",
         "blue-collar",
         "secondary",
         "High"
        ],
        [
         "1981",
         "1982",
         "45.0",
         "100000",
         "5694",
         "single",
         "no",
         "no",
         "yes",
         "no",
         "unknown",
         "9",
         "may, 2017",
         "214 sec",
         "2",
         null,
         "0",
         "unknown",
         "no",
         "management",
         "tertiary",
         "High"
        ],
        [
         "1997",
         "1998",
         "34.0",
         "50000",
         "9569",
         "divorced",
         "yes",
         "no",
         "yes",
         "no",
         "unknown",
         "9",
         "may, 2017",
         "43 sec",
         "2",
         null,
         "0",
         "unknown",
         "no",
         "admin.",
         "primary",
         "High"
        ],
        [
         "2019",
         "2020",
         "31.0",
         "100000",
         "6248",
         "single",
         "no",
         "no",
         "yes",
         "no",
         "unknown",
         "9",
         "may, 2017",
         "154 sec",
         "2",
         null,
         "0",
         "unknown",
         "no",
         "management",
         "tertiary",
         "High"
        ],
        [
         "2055",
         "2056",
         "51.0",
         "20000",
         "7816",
         "married",
         "yes",
         "no",
         "yes",
         "no",
         "unknown",
         "12",
         "may, 2017",
         "76 sec",
         "2",
         null,
         "0",
         "unknown",
         "no",
         "blue-collar",
         "tertiary",
         "High"
        ],
        [
         "2065",
         "2066",
         "55.0",
         "55000",
         "18722",
         "married",
         "yes",
         "no",
         "yes",
         "no",
         "unknown",
         "12",
         "may, 2017",
         "128 sec",
         "2",
         null,
         "0",
         "unknown",
         "no",
         "retired",
         "secondary",
         "Ultra Luxurious"
        ],
        [
         "2144",
         "2145",
         "31.0",
         "60000",
         "6890",
         "married",
         "yes",
         "no",
         "yes",
         "no",
         "unknown",
         "12",
         "may, 2017",
         "34 sec",
         "1",
         null,
         "0",
         "unknown",
         "no",
         "technician",
         "secondary",
         "High"
        ],
        [
         "2185",
         "2186",
         "49.0",
         "70000",
         "5028",
         "single",
         "yes",
         "no",
         "yes",
         "no",
         "unknown",
         "12",
         "may, 2017",
         "891 sec",
         "1",
         null,
         "0",
         "unknown",
         "no",
         "services",
         "secondary",
         "High"
        ],
        [
         "2278",
         "2279",
         "53.0",
         "20000",
         "6386",
         "married",
         "yes",
         "no",
         "yes",
         "no",
         "unknown",
         "12",
         "may, 2017",
         "170 sec",
         "8",
         null,
         "0",
         "unknown",
         "no",
         "blue-collar",
         "primary",
         "High"
        ],
        [
         "2343",
         "2344",
         "26.0",
         "60000",
         "24299",
         "single",
         "yes",
         "no",
         "yes",
         "no",
         "unknown",
         "13",
         "may, 2017",
         "704 sec",
         "1",
         null,
         "0",
         "unknown",
         "no",
         "technician",
         "secondary",
         "Ultra Luxurious"
        ],
        [
         "2443",
         "2444",
         "58.0",
         "60000",
         "7495",
         "married",
         "yes",
         "no",
         "yes",
         "no",
         "unknown",
         "13",
         "may, 2017",
         "325 sec",
         "1",
         null,
         "0",
         "unknown",
         "no",
         "technician",
         "secondary",
         "High"
        ],
        [
         "2456",
         "2457",
         "59.0",
         "55000",
         "5521",
         "married",
         "yes",
         "no",
         "yes",
         "yes",
         "unknown",
         "13",
         "may, 2017",
         "94 sec",
         "1",
         null,
         "0",
         "unknown",
         "no",
         "retired",
         "primary",
         "High"
        ],
        [
         "2479",
         "2480",
         "59.0",
         "100000",
         "13308",
         "divorced",
         "yes",
         "no",
         "yes",
         "no",
         "unknown",
         "13",
         "may, 2017",
         "131 sec",
         "1",
         null,
         "0",
         "unknown",
         "no",
         "management",
         "primary",
         "High"
        ],
        [
         "2492",
         "2493",
         "44.0",
         "100000",
         "6203",
         "married",
         "yes",
         "no",
         "yes",
         "yes",
         "unknown",
         "13",
         "may, 2017",
         "129 sec",
         "1",
         null,
         "0",
         "unknown",
         "no",
         "management",
         "tertiary",
         "High"
        ],
        [
         "2500",
         "2501",
         "50.0",
         "20000",
         "5356",
         "married",
         "yes",
         "no",
         "no",
         "no",
         "unknown",
         "13",
         "may, 2017",
         "289 sec",
         "1",
         null,
         "0",
         "unknown",
         "no",
         "blue-collar",
         "primary",
         "High"
        ],
        [
         "2512",
         "2513",
         "45.0",
         "20000",
         "8680",
         "married",
         "yes",
         "no",
         "yes",
         "no",
         "unknown",
         "13",
         "may, 2017",
         "503 sec",
         "1",
         null,
         "0",
         "unknown",
         "no",
         "blue-collar",
         "secondary",
         "High"
        ],
        [
         "2554",
         "2555",
         "28.0",
         "60000",
         "26765",
         "single",
         "yes",
         "no",
         "no",
         "no",
         "unknown",
         "13",
         "may, 2017",
         "210 sec",
         "8",
         null,
         "0",
         "unknown",
         "no",
         "technician",
         "secondary",
         "Ultra Luxurious"
        ],
        [
         "2576",
         "2577",
         "51.0",
         "60000",
         "12061",
         "married",
         "yes",
         "no",
         "yes",
         "no",
         "unknown",
         "13",
         "may, 2017",
         "332 sec",
         "1",
         null,
         "0",
         "unknown",
         "no",
         "technician",
         "secondary",
         "High"
        ]
       ],
       "shape": {
        "columns": 21,
        "rows": 2844
       }
      },
      "text/html": [
       "<div>\n",
       "<style scoped>\n",
       "    .dataframe tbody tr th:only-of-type {\n",
       "        vertical-align: middle;\n",
       "    }\n",
       "\n",
       "    .dataframe tbody tr th {\n",
       "        vertical-align: top;\n",
       "    }\n",
       "\n",
       "    .dataframe thead th {\n",
       "        text-align: right;\n",
       "    }\n",
       "</style>\n",
       "<table border=\"1\" class=\"dataframe\">\n",
       "  <thead>\n",
       "    <tr style=\"text-align: right;\">\n",
       "      <th></th>\n",
       "      <th>customerid</th>\n",
       "      <th>age</th>\n",
       "      <th>salary</th>\n",
       "      <th>balance</th>\n",
       "      <th>marital</th>\n",
       "      <th>targeted</th>\n",
       "      <th>default</th>\n",
       "      <th>housing</th>\n",
       "      <th>loan</th>\n",
       "      <th>contact</th>\n",
       "      <th>...</th>\n",
       "      <th>month</th>\n",
       "      <th>duration</th>\n",
       "      <th>campaign</th>\n",
       "      <th>pdays</th>\n",
       "      <th>previous</th>\n",
       "      <th>poutcome</th>\n",
       "      <th>response</th>\n",
       "      <th>Job</th>\n",
       "      <th>Education</th>\n",
       "      <th>balanced group</th>\n",
       "    </tr>\n",
       "  </thead>\n",
       "  <tbody>\n",
       "    <tr>\n",
       "      <th>34</th>\n",
       "      <td>35</td>\n",
       "      <td>51.0</td>\n",
       "      <td>100000</td>\n",
       "      <td>10635</td>\n",
       "      <td>married</td>\n",
       "      <td>yes</td>\n",
       "      <td>no</td>\n",
       "      <td>yes</td>\n",
       "      <td>no</td>\n",
       "      <td>unknown</td>\n",
       "      <td>...</td>\n",
       "      <td>may, 2017</td>\n",
       "      <td>336 sec</td>\n",
       "      <td>1</td>\n",
       "      <td>NaN</td>\n",
       "      <td>0</td>\n",
       "      <td>unknown</td>\n",
       "      <td>no</td>\n",
       "      <td>management</td>\n",
       "      <td>tertiary</td>\n",
       "      <td>High</td>\n",
       "    </tr>\n",
       "    <tr>\n",
       "      <th>65</th>\n",
       "      <td>66</td>\n",
       "      <td>51.0</td>\n",
       "      <td>100000</td>\n",
       "      <td>6530</td>\n",
       "      <td>married</td>\n",
       "      <td>yes</td>\n",
       "      <td>no</td>\n",
       "      <td>yes</td>\n",
       "      <td>no</td>\n",
       "      <td>unknown</td>\n",
       "      <td>...</td>\n",
       "      <td>may, 2017</td>\n",
       "      <td>91 sec</td>\n",
       "      <td>1</td>\n",
       "      <td>NaN</td>\n",
       "      <td>0</td>\n",
       "      <td>unknown</td>\n",
       "      <td>no</td>\n",
       "      <td>management</td>\n",
       "      <td>tertiary</td>\n",
       "      <td>High</td>\n",
       "    </tr>\n",
       "    <tr>\n",
       "      <th>69</th>\n",
       "      <td>70</td>\n",
       "      <td>35.0</td>\n",
       "      <td>20000</td>\n",
       "      <td>12223</td>\n",
       "      <td>single</td>\n",
       "      <td>yes</td>\n",
       "      <td>no</td>\n",
       "      <td>yes</td>\n",
       "      <td>yes</td>\n",
       "      <td>unknown</td>\n",
       "      <td>...</td>\n",
       "      <td>may, 2017</td>\n",
       "      <td>177 sec</td>\n",
       "      <td>1</td>\n",
       "      <td>NaN</td>\n",
       "      <td>0</td>\n",
       "      <td>unknown</td>\n",
       "      <td>no</td>\n",
       "      <td>blue-collar</td>\n",
       "      <td>secondary</td>\n",
       "      <td>High</td>\n",
       "    </tr>\n",
       "    <tr>\n",
       "      <th>70</th>\n",
       "      <td>71</td>\n",
       "      <td>57.0</td>\n",
       "      <td>20000</td>\n",
       "      <td>5935</td>\n",
       "      <td>married</td>\n",
       "      <td>yes</td>\n",
       "      <td>no</td>\n",
       "      <td>yes</td>\n",
       "      <td>yes</td>\n",
       "      <td>unknown</td>\n",
       "      <td>...</td>\n",
       "      <td>may, 2017</td>\n",
       "      <td>258 sec</td>\n",
       "      <td>1</td>\n",
       "      <td>NaN</td>\n",
       "      <td>0</td>\n",
       "      <td>unknown</td>\n",
       "      <td>no</td>\n",
       "      <td>blue-collar</td>\n",
       "      <td>secondary</td>\n",
       "      <td>High</td>\n",
       "    </tr>\n",
       "    <tr>\n",
       "      <th>205</th>\n",
       "      <td>206</td>\n",
       "      <td>50.0</td>\n",
       "      <td>70000</td>\n",
       "      <td>5699</td>\n",
       "      <td>married</td>\n",
       "      <td>yes</td>\n",
       "      <td>no</td>\n",
       "      <td>yes</td>\n",
       "      <td>no</td>\n",
       "      <td>unknown</td>\n",
       "      <td>...</td>\n",
       "      <td>may, 2017</td>\n",
       "      <td>381 sec</td>\n",
       "      <td>2</td>\n",
       "      <td>NaN</td>\n",
       "      <td>0</td>\n",
       "      <td>unknown</td>\n",
       "      <td>no</td>\n",
       "      <td>services</td>\n",
       "      <td>secondary</td>\n",
       "      <td>High</td>\n",
       "    </tr>\n",
       "    <tr>\n",
       "      <th>...</th>\n",
       "      <td>...</td>\n",
       "      <td>...</td>\n",
       "      <td>...</td>\n",
       "      <td>...</td>\n",
       "      <td>...</td>\n",
       "      <td>...</td>\n",
       "      <td>...</td>\n",
       "      <td>...</td>\n",
       "      <td>...</td>\n",
       "      <td>...</td>\n",
       "      <td>...</td>\n",
       "      <td>...</td>\n",
       "      <td>...</td>\n",
       "      <td>...</td>\n",
       "      <td>...</td>\n",
       "      <td>...</td>\n",
       "      <td>...</td>\n",
       "      <td>...</td>\n",
       "      <td>...</td>\n",
       "      <td>...</td>\n",
       "      <td>...</td>\n",
       "    </tr>\n",
       "    <tr>\n",
       "      <th>45118</th>\n",
       "      <td>45119</td>\n",
       "      <td>78.0</td>\n",
       "      <td>55000</td>\n",
       "      <td>14204</td>\n",
       "      <td>married</td>\n",
       "      <td>yes</td>\n",
       "      <td>no</td>\n",
       "      <td>no</td>\n",
       "      <td>no</td>\n",
       "      <td>cellular</td>\n",
       "      <td>...</td>\n",
       "      <td>oct, 2017</td>\n",
       "      <td>2.5 min</td>\n",
       "      <td>1</td>\n",
       "      <td>183.0</td>\n",
       "      <td>1</td>\n",
       "      <td>other</td>\n",
       "      <td>no</td>\n",
       "      <td>retired</td>\n",
       "      <td>primary</td>\n",
       "      <td>High</td>\n",
       "    </tr>\n",
       "    <tr>\n",
       "      <th>45127</th>\n",
       "      <td>45128</td>\n",
       "      <td>67.0</td>\n",
       "      <td>20000</td>\n",
       "      <td>16353</td>\n",
       "      <td>married</td>\n",
       "      <td>yes</td>\n",
       "      <td>no</td>\n",
       "      <td>no</td>\n",
       "      <td>no</td>\n",
       "      <td>cellular</td>\n",
       "      <td>...</td>\n",
       "      <td>oct, 2017</td>\n",
       "      <td>3.71666666666667 min</td>\n",
       "      <td>2</td>\n",
       "      <td>NaN</td>\n",
       "      <td>0</td>\n",
       "      <td>unknown</td>\n",
       "      <td>no</td>\n",
       "      <td>blue-collar</td>\n",
       "      <td>secondary</td>\n",
       "      <td>Ultra Luxurious</td>\n",
       "    </tr>\n",
       "    <tr>\n",
       "      <th>45130</th>\n",
       "      <td>45131</td>\n",
       "      <td>33.0</td>\n",
       "      <td>60000</td>\n",
       "      <td>5083</td>\n",
       "      <td>married</td>\n",
       "      <td>yes</td>\n",
       "      <td>no</td>\n",
       "      <td>no</td>\n",
       "      <td>no</td>\n",
       "      <td>cellular</td>\n",
       "      <td>...</td>\n",
       "      <td>oct, 2017</td>\n",
       "      <td>2.68333333333333 min</td>\n",
       "      <td>1</td>\n",
       "      <td>96.0</td>\n",
       "      <td>2</td>\n",
       "      <td>other</td>\n",
       "      <td>no</td>\n",
       "      <td>technician</td>\n",
       "      <td>secondary</td>\n",
       "      <td>High</td>\n",
       "    </tr>\n",
       "    <tr>\n",
       "      <th>45181</th>\n",
       "      <td>45182</td>\n",
       "      <td>46.0</td>\n",
       "      <td>20000</td>\n",
       "      <td>6879</td>\n",
       "      <td>married</td>\n",
       "      <td>yes</td>\n",
       "      <td>no</td>\n",
       "      <td>no</td>\n",
       "      <td>no</td>\n",
       "      <td>cellular</td>\n",
       "      <td>...</td>\n",
       "      <td>nov, 2017</td>\n",
       "      <td>1.23333333333333 min</td>\n",
       "      <td>2</td>\n",
       "      <td>118.0</td>\n",
       "      <td>3</td>\n",
       "      <td>failure</td>\n",
       "      <td>no</td>\n",
       "      <td>blue-collar</td>\n",
       "      <td>secondary</td>\n",
       "      <td>High</td>\n",
       "    </tr>\n",
       "    <tr>\n",
       "      <th>45208</th>\n",
       "      <td>45209</td>\n",
       "      <td>72.0</td>\n",
       "      <td>55000</td>\n",
       "      <td>5715</td>\n",
       "      <td>married</td>\n",
       "      <td>yes</td>\n",
       "      <td>no</td>\n",
       "      <td>no</td>\n",
       "      <td>no</td>\n",
       "      <td>cellular</td>\n",
       "      <td>...</td>\n",
       "      <td>nov, 2017</td>\n",
       "      <td>18.7833333333333 min</td>\n",
       "      <td>5</td>\n",
       "      <td>184.0</td>\n",
       "      <td>3</td>\n",
       "      <td>success</td>\n",
       "      <td>yes</td>\n",
       "      <td>retired</td>\n",
       "      <td>secondary</td>\n",
       "      <td>High</td>\n",
       "    </tr>\n",
       "  </tbody>\n",
       "</table>\n",
       "<p>2844 rows × 21 columns</p>\n",
       "</div>"
      ],
      "text/plain": [
       "       customerid   age  salary  balance  marital targeted default housing  \\\n",
       "34             35  51.0  100000    10635  married      yes      no     yes   \n",
       "65             66  51.0  100000     6530  married      yes      no     yes   \n",
       "69             70  35.0   20000    12223   single      yes      no     yes   \n",
       "70             71  57.0   20000     5935  married      yes      no     yes   \n",
       "205           206  50.0   70000     5699  married      yes      no     yes   \n",
       "...           ...   ...     ...      ...      ...      ...     ...     ...   \n",
       "45118       45119  78.0   55000    14204  married      yes      no      no   \n",
       "45127       45128  67.0   20000    16353  married      yes      no      no   \n",
       "45130       45131  33.0   60000     5083  married      yes      no      no   \n",
       "45181       45182  46.0   20000     6879  married      yes      no      no   \n",
       "45208       45209  72.0   55000     5715  married      yes      no      no   \n",
       "\n",
       "      loan   contact  ...      month              duration campaign  pdays  \\\n",
       "34      no   unknown  ...  may, 2017               336 sec        1    NaN   \n",
       "65      no   unknown  ...  may, 2017                91 sec        1    NaN   \n",
       "69     yes   unknown  ...  may, 2017               177 sec        1    NaN   \n",
       "70     yes   unknown  ...  may, 2017               258 sec        1    NaN   \n",
       "205     no   unknown  ...  may, 2017               381 sec        2    NaN   \n",
       "...    ...       ...  ...        ...                   ...      ...    ...   \n",
       "45118   no  cellular  ...  oct, 2017               2.5 min        1  183.0   \n",
       "45127   no  cellular  ...  oct, 2017  3.71666666666667 min        2    NaN   \n",
       "45130   no  cellular  ...  oct, 2017  2.68333333333333 min        1   96.0   \n",
       "45181   no  cellular  ...  nov, 2017  1.23333333333333 min        2  118.0   \n",
       "45208   no  cellular  ...  nov, 2017  18.7833333333333 min        5  184.0   \n",
       "\n",
       "       previous  poutcome response          Job  Education   balanced group  \n",
       "34            0   unknown       no   management   tertiary             High  \n",
       "65            0   unknown       no   management   tertiary             High  \n",
       "69            0   unknown       no  blue-collar  secondary             High  \n",
       "70            0   unknown       no  blue-collar  secondary             High  \n",
       "205           0   unknown       no     services  secondary             High  \n",
       "...         ...       ...      ...          ...        ...              ...  \n",
       "45118         1     other       no      retired    primary             High  \n",
       "45127         0   unknown       no  blue-collar  secondary  Ultra Luxurious  \n",
       "45130         2     other       no   technician  secondary             High  \n",
       "45181         3   failure       no  blue-collar  secondary             High  \n",
       "45208         3   success      yes      retired  secondary             High  \n",
       "\n",
       "[2844 rows x 21 columns]"
      ]
     },
     "execution_count": 31,
     "metadata": {},
     "output_type": "execute_result"
    }
   ],
   "source": [
    "bank_target[bank_target['balance']>5000]"
   ]
  },
  {
   "cell_type": "code",
   "execution_count": 32,
   "id": "0df16eb0",
   "metadata": {},
   "outputs": [
    {
     "data": {
      "application/vnd.microsoft.datawrangler.viewer.v0+json": {
       "columns": [
        {
         "name": "index",
         "rawType": "int64",
         "type": "integer"
        },
        {
         "name": "customerid",
         "rawType": "int64",
         "type": "integer"
        },
        {
         "name": "age",
         "rawType": "float64",
         "type": "float"
        },
        {
         "name": "salary",
         "rawType": "int64",
         "type": "integer"
        },
        {
         "name": "balance",
         "rawType": "int64",
         "type": "integer"
        },
        {
         "name": "marital",
         "rawType": "object",
         "type": "string"
        },
        {
         "name": "targeted",
         "rawType": "object",
         "type": "string"
        },
        {
         "name": "default",
         "rawType": "object",
         "type": "string"
        },
        {
         "name": "housing",
         "rawType": "object",
         "type": "string"
        },
        {
         "name": "loan",
         "rawType": "object",
         "type": "string"
        },
        {
         "name": "contact",
         "rawType": "object",
         "type": "string"
        },
        {
         "name": "day",
         "rawType": "int64",
         "type": "integer"
        },
        {
         "name": "month",
         "rawType": "object",
         "type": "string"
        },
        {
         "name": "duration",
         "rawType": "object",
         "type": "string"
        },
        {
         "name": "campaign",
         "rawType": "int64",
         "type": "integer"
        },
        {
         "name": "pdays",
         "rawType": "float64",
         "type": "float"
        },
        {
         "name": "previous",
         "rawType": "int64",
         "type": "integer"
        },
        {
         "name": "poutcome",
         "rawType": "object",
         "type": "string"
        },
        {
         "name": "response",
         "rawType": "object",
         "type": "string"
        },
        {
         "name": "Job",
         "rawType": "object",
         "type": "string"
        },
        {
         "name": "Education",
         "rawType": "object",
         "type": "string"
        },
        {
         "name": "balanced group",
         "rawType": "category",
         "type": "unknown"
        },
        {
         "name": "Balances Capped",
         "rawType": "float64",
         "type": "float"
        }
       ],
       "ref": "89cbb84a-e7c6-4171-9db8-ef4e824a0fc0",
       "rows": [
        [
         "0",
         "1",
         "58.0",
         "100000",
         "2143",
         "married",
         "yes",
         "no",
         "yes",
         "no",
         "unknown",
         "5",
         "may, 2017",
         "261 sec",
         "1",
         null,
         "0",
         "unknown",
         "no",
         "management",
         "tertiary",
         "Moderate",
         "2143.0"
        ],
        [
         "1",
         "2",
         "44.0",
         "60000",
         "29",
         "single",
         "yes",
         "no",
         "yes",
         "no",
         "unknown",
         "5",
         "may, 2017",
         "151 sec",
         "1",
         null,
         "0",
         "unknown",
         "no",
         "technician",
         "secondary",
         "very low",
         "29.0"
        ],
        [
         "2",
         "3",
         "33.0",
         "120000",
         "2",
         "married",
         "yes",
         "no",
         "yes",
         "yes",
         "unknown",
         "5",
         "may, 2017",
         "76 sec",
         "1",
         null,
         "0",
         "unknown",
         "no",
         "entrepreneur",
         "secondary",
         "very low",
         "2.0"
        ],
        [
         "3",
         "4",
         "47.0",
         "20000",
         "1506",
         "married",
         "no",
         "no",
         "yes",
         "no",
         "unknown",
         "5",
         "may, 2017",
         "92 sec",
         "1",
         null,
         "0",
         "unknown",
         "no",
         "blue-collar",
         "unknown",
         "Moderate",
         "1506.0"
        ],
        [
         "4",
         "5",
         "33.0",
         "0",
         "1",
         "single",
         "no",
         "no",
         "no",
         "no",
         "unknown",
         "5",
         "may, 2017",
         "198 sec",
         "1",
         null,
         "0",
         "unknown",
         "no",
         "unknown",
         "unknown",
         "very low",
         "1.0"
        ]
       ],
       "shape": {
        "columns": 22,
        "rows": 5
       }
      },
      "text/html": [
       "<div>\n",
       "<style scoped>\n",
       "    .dataframe tbody tr th:only-of-type {\n",
       "        vertical-align: middle;\n",
       "    }\n",
       "\n",
       "    .dataframe tbody tr th {\n",
       "        vertical-align: top;\n",
       "    }\n",
       "\n",
       "    .dataframe thead th {\n",
       "        text-align: right;\n",
       "    }\n",
       "</style>\n",
       "<table border=\"1\" class=\"dataframe\">\n",
       "  <thead>\n",
       "    <tr style=\"text-align: right;\">\n",
       "      <th></th>\n",
       "      <th>customerid</th>\n",
       "      <th>age</th>\n",
       "      <th>salary</th>\n",
       "      <th>balance</th>\n",
       "      <th>marital</th>\n",
       "      <th>targeted</th>\n",
       "      <th>default</th>\n",
       "      <th>housing</th>\n",
       "      <th>loan</th>\n",
       "      <th>contact</th>\n",
       "      <th>...</th>\n",
       "      <th>duration</th>\n",
       "      <th>campaign</th>\n",
       "      <th>pdays</th>\n",
       "      <th>previous</th>\n",
       "      <th>poutcome</th>\n",
       "      <th>response</th>\n",
       "      <th>Job</th>\n",
       "      <th>Education</th>\n",
       "      <th>balanced group</th>\n",
       "      <th>Balances Capped</th>\n",
       "    </tr>\n",
       "  </thead>\n",
       "  <tbody>\n",
       "    <tr>\n",
       "      <th>0</th>\n",
       "      <td>1</td>\n",
       "      <td>58.0</td>\n",
       "      <td>100000</td>\n",
       "      <td>2143</td>\n",
       "      <td>married</td>\n",
       "      <td>yes</td>\n",
       "      <td>no</td>\n",
       "      <td>yes</td>\n",
       "      <td>no</td>\n",
       "      <td>unknown</td>\n",
       "      <td>...</td>\n",
       "      <td>261 sec</td>\n",
       "      <td>1</td>\n",
       "      <td>NaN</td>\n",
       "      <td>0</td>\n",
       "      <td>unknown</td>\n",
       "      <td>no</td>\n",
       "      <td>management</td>\n",
       "      <td>tertiary</td>\n",
       "      <td>Moderate</td>\n",
       "      <td>2143.0</td>\n",
       "    </tr>\n",
       "    <tr>\n",
       "      <th>1</th>\n",
       "      <td>2</td>\n",
       "      <td>44.0</td>\n",
       "      <td>60000</td>\n",
       "      <td>29</td>\n",
       "      <td>single</td>\n",
       "      <td>yes</td>\n",
       "      <td>no</td>\n",
       "      <td>yes</td>\n",
       "      <td>no</td>\n",
       "      <td>unknown</td>\n",
       "      <td>...</td>\n",
       "      <td>151 sec</td>\n",
       "      <td>1</td>\n",
       "      <td>NaN</td>\n",
       "      <td>0</td>\n",
       "      <td>unknown</td>\n",
       "      <td>no</td>\n",
       "      <td>technician</td>\n",
       "      <td>secondary</td>\n",
       "      <td>very low</td>\n",
       "      <td>29.0</td>\n",
       "    </tr>\n",
       "    <tr>\n",
       "      <th>2</th>\n",
       "      <td>3</td>\n",
       "      <td>33.0</td>\n",
       "      <td>120000</td>\n",
       "      <td>2</td>\n",
       "      <td>married</td>\n",
       "      <td>yes</td>\n",
       "      <td>no</td>\n",
       "      <td>yes</td>\n",
       "      <td>yes</td>\n",
       "      <td>unknown</td>\n",
       "      <td>...</td>\n",
       "      <td>76 sec</td>\n",
       "      <td>1</td>\n",
       "      <td>NaN</td>\n",
       "      <td>0</td>\n",
       "      <td>unknown</td>\n",
       "      <td>no</td>\n",
       "      <td>entrepreneur</td>\n",
       "      <td>secondary</td>\n",
       "      <td>very low</td>\n",
       "      <td>2.0</td>\n",
       "    </tr>\n",
       "    <tr>\n",
       "      <th>3</th>\n",
       "      <td>4</td>\n",
       "      <td>47.0</td>\n",
       "      <td>20000</td>\n",
       "      <td>1506</td>\n",
       "      <td>married</td>\n",
       "      <td>no</td>\n",
       "      <td>no</td>\n",
       "      <td>yes</td>\n",
       "      <td>no</td>\n",
       "      <td>unknown</td>\n",
       "      <td>...</td>\n",
       "      <td>92 sec</td>\n",
       "      <td>1</td>\n",
       "      <td>NaN</td>\n",
       "      <td>0</td>\n",
       "      <td>unknown</td>\n",
       "      <td>no</td>\n",
       "      <td>blue-collar</td>\n",
       "      <td>unknown</td>\n",
       "      <td>Moderate</td>\n",
       "      <td>1506.0</td>\n",
       "    </tr>\n",
       "    <tr>\n",
       "      <th>4</th>\n",
       "      <td>5</td>\n",
       "      <td>33.0</td>\n",
       "      <td>0</td>\n",
       "      <td>1</td>\n",
       "      <td>single</td>\n",
       "      <td>no</td>\n",
       "      <td>no</td>\n",
       "      <td>no</td>\n",
       "      <td>no</td>\n",
       "      <td>unknown</td>\n",
       "      <td>...</td>\n",
       "      <td>198 sec</td>\n",
       "      <td>1</td>\n",
       "      <td>NaN</td>\n",
       "      <td>0</td>\n",
       "      <td>unknown</td>\n",
       "      <td>no</td>\n",
       "      <td>unknown</td>\n",
       "      <td>unknown</td>\n",
       "      <td>very low</td>\n",
       "      <td>1.0</td>\n",
       "    </tr>\n",
       "  </tbody>\n",
       "</table>\n",
       "<p>5 rows × 22 columns</p>\n",
       "</div>"
      ],
      "text/plain": [
       "   customerid   age  salary  balance  marital targeted default housing loan  \\\n",
       "0           1  58.0  100000     2143  married      yes      no     yes   no   \n",
       "1           2  44.0   60000       29   single      yes      no     yes   no   \n",
       "2           3  33.0  120000        2  married      yes      no     yes  yes   \n",
       "3           4  47.0   20000     1506  married       no      no     yes   no   \n",
       "4           5  33.0       0        1   single       no      no      no   no   \n",
       "\n",
       "   contact  ...  duration campaign pdays  previous  poutcome  response  \\\n",
       "0  unknown  ...   261 sec        1   NaN         0   unknown        no   \n",
       "1  unknown  ...   151 sec        1   NaN         0   unknown        no   \n",
       "2  unknown  ...    76 sec        1   NaN         0   unknown        no   \n",
       "3  unknown  ...    92 sec        1   NaN         0   unknown        no   \n",
       "4  unknown  ...   198 sec        1   NaN         0   unknown        no   \n",
       "\n",
       "            Job  Education balanced group Balances Capped  \n",
       "0    management   tertiary       Moderate          2143.0  \n",
       "1    technician  secondary       very low            29.0  \n",
       "2  entrepreneur  secondary       very low             2.0  \n",
       "3   blue-collar    unknown       Moderate          1506.0  \n",
       "4       unknown    unknown       very low             1.0  \n",
       "\n",
       "[5 rows x 22 columns]"
      ]
     },
     "execution_count": 32,
     "metadata": {},
     "output_type": "execute_result"
    }
   ],
   "source": [
    "lower_cap = bank_target['balance'].quantile(0.01)\n",
    "upper_cap = bank_target['balance'].quantile(0.99)\n",
    "\n",
    "bank_target['Balances Capped'] = bank_target['balance'].clip(lower=lower_cap, upper=upper_cap)\n",
    "bank_target.head(5)"
   ]
  },
  {
   "cell_type": "markdown",
   "id": "797108e1",
   "metadata": {},
   "source": [
    "Let's move with standising the value in our dataset \n",
    "\n",
    "- standarising is important to make the data more readable\n",
    "- It also helps eliminate errors while operation such as strings, date, time and other such types"
   ]
  },
  {
   "cell_type": "code",
   "execution_count": 33,
   "metadata": {},
   "outputs": [
    {
     "data": {
      "application/vnd.microsoft.datawrangler.viewer.v0+json": {
       "columns": [
        {
         "name": "index",
         "rawType": "int64",
         "type": "integer"
        },
        {
         "name": "duration",
         "rawType": "object",
         "type": "string"
        }
       ],
       "ref": "fb9acbdb-3fab-41d5-9028-563a970f8fab",
       "rows": [
        [
         "0",
         "261 sec"
        ],
        [
         "1",
         "151 sec"
        ],
        [
         "2",
         "76 sec"
        ],
        [
         "3",
         "92 sec"
        ],
        [
         "4",
         "198 sec"
        ]
       ],
       "shape": {
        "columns": 1,
        "rows": 5
       }
      },
      "text/plain": [
       "0    261 sec\n",
       "1    151 sec\n",
       "2     76 sec\n",
       "3     92 sec\n",
       "4    198 sec\n",
       "Name: duration, dtype: object"
      ]
     },
     "execution_count": 33,
     "metadata": {},
     "output_type": "execute_result"
    }
   ],
   "source": [
    "bank_target.duration.head(5)"
   ]
  },
  {
   "cell_type": "code",
   "execution_count": 34,
   "id": "326d87d1",
   "metadata": {},
   "outputs": [
    {
     "data": {
      "application/vnd.microsoft.datawrangler.viewer.v0+json": {
       "columns": [
        {
         "name": "index",
         "rawType": "object",
         "type": "string"
        },
        {
         "name": "duration",
         "rawType": "object",
         "type": "unknown"
        }
       ],
       "ref": "e643e595-f5f5-4197-b8e8-3e7d1a108738",
       "rows": [
        [
         "count",
         "45191"
        ],
        [
         "unique",
         "2646"
        ],
        [
         "top",
         "1.5 min"
        ],
        [
         "freq",
         "138"
        ]
       ],
       "shape": {
        "columns": 1,
        "rows": 4
       }
      },
      "text/plain": [
       "count       45191\n",
       "unique       2646\n",
       "top       1.5 min\n",
       "freq          138\n",
       "Name: duration, dtype: object"
      ]
     },
     "execution_count": 34,
     "metadata": {},
     "output_type": "execute_result"
    }
   ],
   "source": [
    "bank_target.duration.describe()"
   ]
  },
  {
   "cell_type": "code",
   "execution_count": 35,
   "id": "7a60fd84",
   "metadata": {},
   "outputs": [
    {
     "data": {
      "application/vnd.microsoft.datawrangler.viewer.v0+json": {
       "columns": [
        {
         "name": "index",
         "rawType": "int64",
         "type": "integer"
        },
        {
         "name": "duration",
         "rawType": "float64",
         "type": "float"
        }
       ],
       "ref": "85742fab-6677-4aca-bc4f-6b8457afa9a1",
       "rows": [
        [
         "0",
         "4.35"
        ],
        [
         "1",
         "2.5166666666666666"
        ],
        [
         "2",
         "1.2666666666666666"
        ],
        [
         "3",
         "1.5333333333333334"
        ],
        [
         "4",
         "3.3"
        ]
       ],
       "shape": {
        "columns": 1,
        "rows": 5
       }
      },
      "text/plain": [
       "0    4.350000\n",
       "1    2.516667\n",
       "2    1.266667\n",
       "3    1.533333\n",
       "4    3.300000\n",
       "Name: duration, dtype: float64"
      ]
     },
     "execution_count": 35,
     "metadata": {},
     "output_type": "execute_result"
    }
   ],
   "source": [
    "# Let's convert the seconds into min\n",
    "\n",
    "bank_target.duration[:5].apply(lambda x: float(x.split()[0])/60 if x.find('sec') > 0 else x.split()[0])\n",
    "\n",
    "# What all did we consider \n",
    "# 1. If the duration is in min or seconds\n",
    "# 2. Convert the values in min if they are in seconds"
   ]
  },
  {
   "cell_type": "code",
   "execution_count": 36,
   "id": "812b8b00",
   "metadata": {},
   "outputs": [],
   "source": [
    "bank_target.duration = bank_target.duration.apply(lambda x: float(x.split()[0])/60 if x.find('sec') > 0 else x.split()[0])"
   ]
  },
  {
   "cell_type": "code",
   "execution_count": 37,
   "id": "09f748f4",
   "metadata": {},
   "outputs": [
    {
     "data": {
      "application/vnd.microsoft.datawrangler.viewer.v0+json": {
       "columns": [
        {
         "name": "index",
         "rawType": "object",
         "type": "string"
        },
        {
         "name": "duration",
         "rawType": "object",
         "type": "unknown"
        }
       ],
       "ref": "500f93ba-e4ab-4102-ab1d-dec4fb9f7698",
       "rows": [
        [
         "count",
         "45191"
        ],
        [
         "unique",
         "2646"
        ],
        [
         "top",
         "1.5"
        ],
        [
         "freq",
         "138"
        ]
       ],
       "shape": {
        "columns": 1,
        "rows": 4
       }
      },
      "text/plain": [
       "count     45191\n",
       "unique     2646\n",
       "top         1.5\n",
       "freq        138\n",
       "Name: duration, dtype: object"
      ]
     },
     "execution_count": 37,
     "metadata": {},
     "output_type": "execute_result"
    }
   ],
   "source": [
    "bank_target.duration.describe()"
   ]
  },
  {
   "cell_type": "code",
   "execution_count": 38,
   "id": "68d535cf",
   "metadata": {},
   "outputs": [
    {
     "data": {
      "application/vnd.microsoft.datawrangler.viewer.v0+json": {
       "columns": [
        {
         "name": "index",
         "rawType": "int64",
         "type": "integer"
        },
        {
         "name": "customerid",
         "rawType": "int64",
         "type": "integer"
        },
        {
         "name": "age",
         "rawType": "float64",
         "type": "float"
        },
        {
         "name": "salary",
         "rawType": "int64",
         "type": "integer"
        },
        {
         "name": "balance",
         "rawType": "int64",
         "type": "integer"
        },
        {
         "name": "marital",
         "rawType": "object",
         "type": "string"
        },
        {
         "name": "targeted",
         "rawType": "object",
         "type": "string"
        },
        {
         "name": "default",
         "rawType": "object",
         "type": "string"
        },
        {
         "name": "housing",
         "rawType": "object",
         "type": "string"
        },
        {
         "name": "loan",
         "rawType": "object",
         "type": "string"
        },
        {
         "name": "contact",
         "rawType": "object",
         "type": "string"
        },
        {
         "name": "day",
         "rawType": "int64",
         "type": "integer"
        },
        {
         "name": "month",
         "rawType": "object",
         "type": "string"
        },
        {
         "name": "duration",
         "rawType": "object",
         "type": "unknown"
        },
        {
         "name": "campaign",
         "rawType": "int64",
         "type": "integer"
        },
        {
         "name": "pdays",
         "rawType": "float64",
         "type": "float"
        },
        {
         "name": "previous",
         "rawType": "int64",
         "type": "integer"
        },
        {
         "name": "poutcome",
         "rawType": "object",
         "type": "string"
        },
        {
         "name": "response",
         "rawType": "object",
         "type": "string"
        },
        {
         "name": "Job",
         "rawType": "object",
         "type": "string"
        },
        {
         "name": "Education",
         "rawType": "object",
         "type": "string"
        },
        {
         "name": "balanced group",
         "rawType": "category",
         "type": "unknown"
        },
        {
         "name": "Balances Capped",
         "rawType": "float64",
         "type": "float"
        }
       ],
       "ref": "1a9119d5-4180-4740-91ed-3fb85f9895e6",
       "rows": [
        [
         "0",
         "1",
         "58.0",
         "100000",
         "2143",
         "married",
         "yes",
         "no",
         "yes",
         "no",
         "unknown",
         "5",
         "may, 2017",
         "4.35",
         "1",
         null,
         "0",
         "unknown",
         "no",
         "management",
         "tertiary",
         "Moderate",
         "2143.0"
        ],
        [
         "1",
         "2",
         "44.0",
         "60000",
         "29",
         "single",
         "yes",
         "no",
         "yes",
         "no",
         "unknown",
         "5",
         "may, 2017",
         "2.5166666666666666",
         "1",
         null,
         "0",
         "unknown",
         "no",
         "technician",
         "secondary",
         "very low",
         "29.0"
        ],
        [
         "2",
         "3",
         "33.0",
         "120000",
         "2",
         "married",
         "yes",
         "no",
         "yes",
         "yes",
         "unknown",
         "5",
         "may, 2017",
         "1.2666666666666666",
         "1",
         null,
         "0",
         "unknown",
         "no",
         "entrepreneur",
         "secondary",
         "very low",
         "2.0"
        ],
        [
         "3",
         "4",
         "47.0",
         "20000",
         "1506",
         "married",
         "no",
         "no",
         "yes",
         "no",
         "unknown",
         "5",
         "may, 2017",
         "1.5333333333333334",
         "1",
         null,
         "0",
         "unknown",
         "no",
         "blue-collar",
         "unknown",
         "Moderate",
         "1506.0"
        ],
        [
         "4",
         "5",
         "33.0",
         "0",
         "1",
         "single",
         "no",
         "no",
         "no",
         "no",
         "unknown",
         "5",
         "may, 2017",
         "3.3",
         "1",
         null,
         "0",
         "unknown",
         "no",
         "unknown",
         "unknown",
         "very low",
         "1.0"
        ],
        [
         "5",
         "6",
         "35.0",
         "100000",
         "231",
         "married",
         "yes",
         "no",
         "yes",
         "no",
         "unknown",
         "5",
         "may, 2017",
         "2.316666666666667",
         "1",
         null,
         "0",
         "unknown",
         "no",
         "management",
         "tertiary",
         "very low",
         "231.0"
        ],
        [
         "6",
         "7",
         "28.0",
         "100000",
         "447",
         "single",
         "no",
         "no",
         "yes",
         "yes",
         "unknown",
         "5",
         "may, 2017",
         "3.6166666666666667",
         "1",
         null,
         "0",
         "unknown",
         "no",
         "management",
         "tertiary",
         "low",
         "447.0"
        ],
        [
         "7",
         "8",
         "42.0",
         "120000",
         "2",
         "divorced",
         "no",
         "yes",
         "yes",
         "no",
         "unknown",
         "5",
         "may, 2017",
         "6.333333333333333",
         "1",
         null,
         "0",
         "unknown",
         "no",
         "entrepreneur",
         "tertiary",
         "very low",
         "2.0"
        ],
        [
         "8",
         "9",
         "58.0",
         "55000",
         "121",
         "married",
         "yes",
         "no",
         "yes",
         "no",
         "unknown",
         "5",
         "may, 2017",
         "0.8333333333333334",
         "1",
         null,
         "0",
         "unknown",
         "no",
         "retired",
         "primary",
         "very low",
         "121.0"
        ],
        [
         "9",
         "10",
         "43.0",
         "60000",
         "593",
         "single",
         "yes",
         "no",
         "yes",
         "no",
         "unknown",
         "5",
         "may, 2017",
         "0.9166666666666666",
         "1",
         null,
         "0",
         "unknown",
         "no",
         "technician",
         "secondary",
         "low",
         "593.0"
        ]
       ],
       "shape": {
        "columns": 22,
        "rows": 10
       }
      },
      "text/html": [
       "<div>\n",
       "<style scoped>\n",
       "    .dataframe tbody tr th:only-of-type {\n",
       "        vertical-align: middle;\n",
       "    }\n",
       "\n",
       "    .dataframe tbody tr th {\n",
       "        vertical-align: top;\n",
       "    }\n",
       "\n",
       "    .dataframe thead th {\n",
       "        text-align: right;\n",
       "    }\n",
       "</style>\n",
       "<table border=\"1\" class=\"dataframe\">\n",
       "  <thead>\n",
       "    <tr style=\"text-align: right;\">\n",
       "      <th></th>\n",
       "      <th>customerid</th>\n",
       "      <th>age</th>\n",
       "      <th>salary</th>\n",
       "      <th>balance</th>\n",
       "      <th>marital</th>\n",
       "      <th>targeted</th>\n",
       "      <th>default</th>\n",
       "      <th>housing</th>\n",
       "      <th>loan</th>\n",
       "      <th>contact</th>\n",
       "      <th>...</th>\n",
       "      <th>duration</th>\n",
       "      <th>campaign</th>\n",
       "      <th>pdays</th>\n",
       "      <th>previous</th>\n",
       "      <th>poutcome</th>\n",
       "      <th>response</th>\n",
       "      <th>Job</th>\n",
       "      <th>Education</th>\n",
       "      <th>balanced group</th>\n",
       "      <th>Balances Capped</th>\n",
       "    </tr>\n",
       "  </thead>\n",
       "  <tbody>\n",
       "    <tr>\n",
       "      <th>0</th>\n",
       "      <td>1</td>\n",
       "      <td>58.0</td>\n",
       "      <td>100000</td>\n",
       "      <td>2143</td>\n",
       "      <td>married</td>\n",
       "      <td>yes</td>\n",
       "      <td>no</td>\n",
       "      <td>yes</td>\n",
       "      <td>no</td>\n",
       "      <td>unknown</td>\n",
       "      <td>...</td>\n",
       "      <td>4.35</td>\n",
       "      <td>1</td>\n",
       "      <td>NaN</td>\n",
       "      <td>0</td>\n",
       "      <td>unknown</td>\n",
       "      <td>no</td>\n",
       "      <td>management</td>\n",
       "      <td>tertiary</td>\n",
       "      <td>Moderate</td>\n",
       "      <td>2143.0</td>\n",
       "    </tr>\n",
       "    <tr>\n",
       "      <th>1</th>\n",
       "      <td>2</td>\n",
       "      <td>44.0</td>\n",
       "      <td>60000</td>\n",
       "      <td>29</td>\n",
       "      <td>single</td>\n",
       "      <td>yes</td>\n",
       "      <td>no</td>\n",
       "      <td>yes</td>\n",
       "      <td>no</td>\n",
       "      <td>unknown</td>\n",
       "      <td>...</td>\n",
       "      <td>2.516667</td>\n",
       "      <td>1</td>\n",
       "      <td>NaN</td>\n",
       "      <td>0</td>\n",
       "      <td>unknown</td>\n",
       "      <td>no</td>\n",
       "      <td>technician</td>\n",
       "      <td>secondary</td>\n",
       "      <td>very low</td>\n",
       "      <td>29.0</td>\n",
       "    </tr>\n",
       "    <tr>\n",
       "      <th>2</th>\n",
       "      <td>3</td>\n",
       "      <td>33.0</td>\n",
       "      <td>120000</td>\n",
       "      <td>2</td>\n",
       "      <td>married</td>\n",
       "      <td>yes</td>\n",
       "      <td>no</td>\n",
       "      <td>yes</td>\n",
       "      <td>yes</td>\n",
       "      <td>unknown</td>\n",
       "      <td>...</td>\n",
       "      <td>1.266667</td>\n",
       "      <td>1</td>\n",
       "      <td>NaN</td>\n",
       "      <td>0</td>\n",
       "      <td>unknown</td>\n",
       "      <td>no</td>\n",
       "      <td>entrepreneur</td>\n",
       "      <td>secondary</td>\n",
       "      <td>very low</td>\n",
       "      <td>2.0</td>\n",
       "    </tr>\n",
       "    <tr>\n",
       "      <th>3</th>\n",
       "      <td>4</td>\n",
       "      <td>47.0</td>\n",
       "      <td>20000</td>\n",
       "      <td>1506</td>\n",
       "      <td>married</td>\n",
       "      <td>no</td>\n",
       "      <td>no</td>\n",
       "      <td>yes</td>\n",
       "      <td>no</td>\n",
       "      <td>unknown</td>\n",
       "      <td>...</td>\n",
       "      <td>1.533333</td>\n",
       "      <td>1</td>\n",
       "      <td>NaN</td>\n",
       "      <td>0</td>\n",
       "      <td>unknown</td>\n",
       "      <td>no</td>\n",
       "      <td>blue-collar</td>\n",
       "      <td>unknown</td>\n",
       "      <td>Moderate</td>\n",
       "      <td>1506.0</td>\n",
       "    </tr>\n",
       "    <tr>\n",
       "      <th>4</th>\n",
       "      <td>5</td>\n",
       "      <td>33.0</td>\n",
       "      <td>0</td>\n",
       "      <td>1</td>\n",
       "      <td>single</td>\n",
       "      <td>no</td>\n",
       "      <td>no</td>\n",
       "      <td>no</td>\n",
       "      <td>no</td>\n",
       "      <td>unknown</td>\n",
       "      <td>...</td>\n",
       "      <td>3.3</td>\n",
       "      <td>1</td>\n",
       "      <td>NaN</td>\n",
       "      <td>0</td>\n",
       "      <td>unknown</td>\n",
       "      <td>no</td>\n",
       "      <td>unknown</td>\n",
       "      <td>unknown</td>\n",
       "      <td>very low</td>\n",
       "      <td>1.0</td>\n",
       "    </tr>\n",
       "    <tr>\n",
       "      <th>5</th>\n",
       "      <td>6</td>\n",
       "      <td>35.0</td>\n",
       "      <td>100000</td>\n",
       "      <td>231</td>\n",
       "      <td>married</td>\n",
       "      <td>yes</td>\n",
       "      <td>no</td>\n",
       "      <td>yes</td>\n",
       "      <td>no</td>\n",
       "      <td>unknown</td>\n",
       "      <td>...</td>\n",
       "      <td>2.316667</td>\n",
       "      <td>1</td>\n",
       "      <td>NaN</td>\n",
       "      <td>0</td>\n",
       "      <td>unknown</td>\n",
       "      <td>no</td>\n",
       "      <td>management</td>\n",
       "      <td>tertiary</td>\n",
       "      <td>very low</td>\n",
       "      <td>231.0</td>\n",
       "    </tr>\n",
       "    <tr>\n",
       "      <th>6</th>\n",
       "      <td>7</td>\n",
       "      <td>28.0</td>\n",
       "      <td>100000</td>\n",
       "      <td>447</td>\n",
       "      <td>single</td>\n",
       "      <td>no</td>\n",
       "      <td>no</td>\n",
       "      <td>yes</td>\n",
       "      <td>yes</td>\n",
       "      <td>unknown</td>\n",
       "      <td>...</td>\n",
       "      <td>3.616667</td>\n",
       "      <td>1</td>\n",
       "      <td>NaN</td>\n",
       "      <td>0</td>\n",
       "      <td>unknown</td>\n",
       "      <td>no</td>\n",
       "      <td>management</td>\n",
       "      <td>tertiary</td>\n",
       "      <td>low</td>\n",
       "      <td>447.0</td>\n",
       "    </tr>\n",
       "    <tr>\n",
       "      <th>7</th>\n",
       "      <td>8</td>\n",
       "      <td>42.0</td>\n",
       "      <td>120000</td>\n",
       "      <td>2</td>\n",
       "      <td>divorced</td>\n",
       "      <td>no</td>\n",
       "      <td>yes</td>\n",
       "      <td>yes</td>\n",
       "      <td>no</td>\n",
       "      <td>unknown</td>\n",
       "      <td>...</td>\n",
       "      <td>6.333333</td>\n",
       "      <td>1</td>\n",
       "      <td>NaN</td>\n",
       "      <td>0</td>\n",
       "      <td>unknown</td>\n",
       "      <td>no</td>\n",
       "      <td>entrepreneur</td>\n",
       "      <td>tertiary</td>\n",
       "      <td>very low</td>\n",
       "      <td>2.0</td>\n",
       "    </tr>\n",
       "    <tr>\n",
       "      <th>8</th>\n",
       "      <td>9</td>\n",
       "      <td>58.0</td>\n",
       "      <td>55000</td>\n",
       "      <td>121</td>\n",
       "      <td>married</td>\n",
       "      <td>yes</td>\n",
       "      <td>no</td>\n",
       "      <td>yes</td>\n",
       "      <td>no</td>\n",
       "      <td>unknown</td>\n",
       "      <td>...</td>\n",
       "      <td>0.833333</td>\n",
       "      <td>1</td>\n",
       "      <td>NaN</td>\n",
       "      <td>0</td>\n",
       "      <td>unknown</td>\n",
       "      <td>no</td>\n",
       "      <td>retired</td>\n",
       "      <td>primary</td>\n",
       "      <td>very low</td>\n",
       "      <td>121.0</td>\n",
       "    </tr>\n",
       "    <tr>\n",
       "      <th>9</th>\n",
       "      <td>10</td>\n",
       "      <td>43.0</td>\n",
       "      <td>60000</td>\n",
       "      <td>593</td>\n",
       "      <td>single</td>\n",
       "      <td>yes</td>\n",
       "      <td>no</td>\n",
       "      <td>yes</td>\n",
       "      <td>no</td>\n",
       "      <td>unknown</td>\n",
       "      <td>...</td>\n",
       "      <td>0.916667</td>\n",
       "      <td>1</td>\n",
       "      <td>NaN</td>\n",
       "      <td>0</td>\n",
       "      <td>unknown</td>\n",
       "      <td>no</td>\n",
       "      <td>technician</td>\n",
       "      <td>secondary</td>\n",
       "      <td>low</td>\n",
       "      <td>593.0</td>\n",
       "    </tr>\n",
       "  </tbody>\n",
       "</table>\n",
       "<p>10 rows × 22 columns</p>\n",
       "</div>"
      ],
      "text/plain": [
       "   customerid   age  salary  balance   marital targeted default housing loan  \\\n",
       "0           1  58.0  100000     2143   married      yes      no     yes   no   \n",
       "1           2  44.0   60000       29    single      yes      no     yes   no   \n",
       "2           3  33.0  120000        2   married      yes      no     yes  yes   \n",
       "3           4  47.0   20000     1506   married       no      no     yes   no   \n",
       "4           5  33.0       0        1    single       no      no      no   no   \n",
       "5           6  35.0  100000      231   married      yes      no     yes   no   \n",
       "6           7  28.0  100000      447    single       no      no     yes  yes   \n",
       "7           8  42.0  120000        2  divorced       no     yes     yes   no   \n",
       "8           9  58.0   55000      121   married      yes      no     yes   no   \n",
       "9          10  43.0   60000      593    single      yes      no     yes   no   \n",
       "\n",
       "   contact  ...  duration campaign pdays  previous  poutcome  response  \\\n",
       "0  unknown  ...      4.35        1   NaN         0   unknown        no   \n",
       "1  unknown  ...  2.516667        1   NaN         0   unknown        no   \n",
       "2  unknown  ...  1.266667        1   NaN         0   unknown        no   \n",
       "3  unknown  ...  1.533333        1   NaN         0   unknown        no   \n",
       "4  unknown  ...       3.3        1   NaN         0   unknown        no   \n",
       "5  unknown  ...  2.316667        1   NaN         0   unknown        no   \n",
       "6  unknown  ...  3.616667        1   NaN         0   unknown        no   \n",
       "7  unknown  ...  6.333333        1   NaN         0   unknown        no   \n",
       "8  unknown  ...  0.833333        1   NaN         0   unknown        no   \n",
       "9  unknown  ...  0.916667        1   NaN         0   unknown        no   \n",
       "\n",
       "            Job  Education balanced group Balances Capped  \n",
       "0    management   tertiary       Moderate          2143.0  \n",
       "1    technician  secondary       very low            29.0  \n",
       "2  entrepreneur  secondary       very low             2.0  \n",
       "3   blue-collar    unknown       Moderate          1506.0  \n",
       "4       unknown    unknown       very low             1.0  \n",
       "5    management   tertiary       very low           231.0  \n",
       "6    management   tertiary            low           447.0  \n",
       "7  entrepreneur   tertiary       very low             2.0  \n",
       "8       retired    primary       very low           121.0  \n",
       "9    technician  secondary            low           593.0  \n",
       "\n",
       "[10 rows x 22 columns]"
      ]
     },
     "execution_count": 38,
     "metadata": {},
     "output_type": "execute_result"
    }
   ],
   "source": [
    "bank_target.head(10)"
   ]
  },
  {
   "cell_type": "markdown",
   "id": "fc6cbb9c",
   "metadata": {},
   "source": [
    "**Univarient Analysis **\n",
    "\n",
    "There are analysis done considering just one variable at a time "
   ]
  },
  {
   "cell_type": "code",
   "execution_count": 39,
   "id": "e6332be3",
   "metadata": {},
   "outputs": [
    {
     "data": {
      "application/vnd.microsoft.datawrangler.viewer.v0+json": {
       "columns": [
        {
         "name": "index",
         "rawType": "object",
         "type": "string"
        },
        {
         "name": "0",
         "rawType": "object",
         "type": "unknown"
        }
       ],
       "ref": "6ce94940-29cb-478a-8bc8-3f67de99c828",
       "rows": [
        [
         "customerid",
         "int64"
        ],
        [
         "age",
         "float64"
        ],
        [
         "salary",
         "int64"
        ],
        [
         "balance",
         "int64"
        ],
        [
         "marital",
         "object"
        ],
        [
         "targeted",
         "object"
        ],
        [
         "default",
         "object"
        ],
        [
         "housing",
         "object"
        ],
        [
         "loan",
         "object"
        ],
        [
         "contact",
         "object"
        ],
        [
         "day",
         "int64"
        ],
        [
         "month",
         "object"
        ],
        [
         "duration",
         "object"
        ],
        [
         "campaign",
         "int64"
        ],
        [
         "pdays",
         "float64"
        ],
        [
         "previous",
         "int64"
        ],
        [
         "poutcome",
         "object"
        ],
        [
         "response",
         "object"
        ],
        [
         "Job",
         "object"
        ],
        [
         "Education",
         "object"
        ],
        [
         "balanced group",
         "category"
        ],
        [
         "Balances Capped",
         "float64"
        ]
       ],
       "shape": {
        "columns": 1,
        "rows": 22
       }
      },
      "text/plain": [
       "customerid            int64\n",
       "age                 float64\n",
       "salary                int64\n",
       "balance               int64\n",
       "marital              object\n",
       "targeted             object\n",
       "default              object\n",
       "housing              object\n",
       "loan                 object\n",
       "contact              object\n",
       "day                   int64\n",
       "month                object\n",
       "duration             object\n",
       "campaign              int64\n",
       "pdays               float64\n",
       "previous              int64\n",
       "poutcome             object\n",
       "response             object\n",
       "Job                  object\n",
       "Education            object\n",
       "balanced group     category\n",
       "Balances Capped     float64\n",
       "dtype: object"
      ]
     },
     "execution_count": 39,
     "metadata": {},
     "output_type": "execute_result"
    }
   ],
   "source": [
    "bank_target.dtypes"
   ]
  },
  {
   "cell_type": "code",
   "execution_count": null,
   "id": "e6c85ef0",
   "metadata": {},
   "outputs": [],
   "source": [
    "##Marital"
   ]
  }
 ],
 "metadata": {
  "kernelspec": {
   "display_name": "Python 3",
   "language": "python",
   "name": "python3"
  },
  "language_info": {
   "codemirror_mode": {
    "name": "ipython",
    "version": 3
   },
   "file_extension": ".py",
   "mimetype": "text/x-python",
   "name": "python",
   "nbconvert_exporter": "python",
   "pygments_lexer": "ipython3",
   "version": "3.13.1"
  }
 },
 "nbformat": 4,
 "nbformat_minor": 5
}

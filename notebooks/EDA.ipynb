{
 "cells": [
  {
   "cell_type": "code",
   "execution_count": 4,
   "id": "a161e703",
   "metadata": {},
   "outputs": [],
   "source": [
    "import pandas as pd\n",
    "import numpy as np\n",
    "import matplotlib as plt\n",
    "import seaborn as sns"
   ]
  },
  {
   "cell_type": "code",
   "execution_count": 5,
   "id": "688f0089",
   "metadata": {},
   "outputs": [
    {
     "name": "stderr",
     "output_type": "stream",
     "text": [
      "<>:1: SyntaxWarning: invalid escape sequence '\\D'\n",
      "<>:1: SyntaxWarning: invalid escape sequence '\\D'\n",
      "C:\\Users\\RUSHANK\\AppData\\Local\\Temp\\ipykernel_5876\\4284784556.py:1: SyntaxWarning: invalid escape sequence '\\D'\n",
      "  bank_target = pd.read_csv('D:\\Data_Science\\Project\\data\\\\raw\\\\bank_marketing_updated_v1.csv', skiprows = 2)\n"
     ]
    },
    {
     "data": {
      "application/vnd.microsoft.datawrangler.viewer.v0+json": {
       "columns": [
        {
         "name": "index",
         "rawType": "int64",
         "type": "integer"
        },
        {
         "name": "customerid",
         "rawType": "int64",
         "type": "integer"
        },
        {
         "name": "age",
         "rawType": "float64",
         "type": "float"
        },
        {
         "name": "salary",
         "rawType": "int64",
         "type": "integer"
        },
        {
         "name": "balance",
         "rawType": "int64",
         "type": "integer"
        },
        {
         "name": "marital",
         "rawType": "object",
         "type": "string"
        },
        {
         "name": "jobedu",
         "rawType": "object",
         "type": "string"
        },
        {
         "name": "targeted",
         "rawType": "object",
         "type": "string"
        },
        {
         "name": "default",
         "rawType": "object",
         "type": "string"
        },
        {
         "name": "housing",
         "rawType": "object",
         "type": "string"
        },
        {
         "name": "loan",
         "rawType": "object",
         "type": "string"
        },
        {
         "name": "contact",
         "rawType": "object",
         "type": "string"
        },
        {
         "name": "day",
         "rawType": "int64",
         "type": "integer"
        },
        {
         "name": "month",
         "rawType": "object",
         "type": "string"
        },
        {
         "name": "duration",
         "rawType": "object",
         "type": "string"
        },
        {
         "name": "campaign",
         "rawType": "int64",
         "type": "integer"
        },
        {
         "name": "pdays",
         "rawType": "int64",
         "type": "integer"
        },
        {
         "name": "previous",
         "rawType": "int64",
         "type": "integer"
        },
        {
         "name": "poutcome",
         "rawType": "object",
         "type": "string"
        },
        {
         "name": "response",
         "rawType": "object",
         "type": "string"
        }
       ],
       "ref": "2daa9666-061c-4e5a-a5b9-b10f62a01278",
       "rows": [
        [
         "0",
         "1",
         "58.0",
         "100000",
         "2143",
         "married",
         "management,tertiary",
         "yes",
         "no",
         "yes",
         "no",
         "unknown",
         "5",
         "may, 2017",
         "261 sec",
         "1",
         "-1",
         "0",
         "unknown",
         "no"
        ],
        [
         "1",
         "2",
         "44.0",
         "60000",
         "29",
         "single",
         "technician,secondary",
         "yes",
         "no",
         "yes",
         "no",
         "unknown",
         "5",
         "may, 2017",
         "151 sec",
         "1",
         "-1",
         "0",
         "unknown",
         "no"
        ],
        [
         "2",
         "3",
         "33.0",
         "120000",
         "2",
         "married",
         "entrepreneur,secondary",
         "yes",
         "no",
         "yes",
         "yes",
         "unknown",
         "5",
         "may, 2017",
         "76 sec",
         "1",
         "-1",
         "0",
         "unknown",
         "no"
        ],
        [
         "3",
         "4",
         "47.0",
         "20000",
         "1506",
         "married",
         "blue-collar,unknown",
         "no",
         "no",
         "yes",
         "no",
         "unknown",
         "5",
         "may, 2017",
         "92 sec",
         "1",
         "-1",
         "0",
         "unknown",
         "no"
        ],
        [
         "4",
         "5",
         "33.0",
         "0",
         "1",
         "single",
         "unknown,unknown",
         "no",
         "no",
         "no",
         "no",
         "unknown",
         "5",
         "may, 2017",
         "198 sec",
         "1",
         "-1",
         "0",
         "unknown",
         "no"
        ]
       ],
       "shape": {
        "columns": 19,
        "rows": 5
       }
      },
      "text/html": [
       "<div>\n",
       "<style scoped>\n",
       "    .dataframe tbody tr th:only-of-type {\n",
       "        vertical-align: middle;\n",
       "    }\n",
       "\n",
       "    .dataframe tbody tr th {\n",
       "        vertical-align: top;\n",
       "    }\n",
       "\n",
       "    .dataframe thead th {\n",
       "        text-align: right;\n",
       "    }\n",
       "</style>\n",
       "<table border=\"1\" class=\"dataframe\">\n",
       "  <thead>\n",
       "    <tr style=\"text-align: right;\">\n",
       "      <th></th>\n",
       "      <th>customerid</th>\n",
       "      <th>age</th>\n",
       "      <th>salary</th>\n",
       "      <th>balance</th>\n",
       "      <th>marital</th>\n",
       "      <th>jobedu</th>\n",
       "      <th>targeted</th>\n",
       "      <th>default</th>\n",
       "      <th>housing</th>\n",
       "      <th>loan</th>\n",
       "      <th>contact</th>\n",
       "      <th>day</th>\n",
       "      <th>month</th>\n",
       "      <th>duration</th>\n",
       "      <th>campaign</th>\n",
       "      <th>pdays</th>\n",
       "      <th>previous</th>\n",
       "      <th>poutcome</th>\n",
       "      <th>response</th>\n",
       "    </tr>\n",
       "  </thead>\n",
       "  <tbody>\n",
       "    <tr>\n",
       "      <th>0</th>\n",
       "      <td>1</td>\n",
       "      <td>58.0</td>\n",
       "      <td>100000</td>\n",
       "      <td>2143</td>\n",
       "      <td>married</td>\n",
       "      <td>management,tertiary</td>\n",
       "      <td>yes</td>\n",
       "      <td>no</td>\n",
       "      <td>yes</td>\n",
       "      <td>no</td>\n",
       "      <td>unknown</td>\n",
       "      <td>5</td>\n",
       "      <td>may, 2017</td>\n",
       "      <td>261 sec</td>\n",
       "      <td>1</td>\n",
       "      <td>-1</td>\n",
       "      <td>0</td>\n",
       "      <td>unknown</td>\n",
       "      <td>no</td>\n",
       "    </tr>\n",
       "    <tr>\n",
       "      <th>1</th>\n",
       "      <td>2</td>\n",
       "      <td>44.0</td>\n",
       "      <td>60000</td>\n",
       "      <td>29</td>\n",
       "      <td>single</td>\n",
       "      <td>technician,secondary</td>\n",
       "      <td>yes</td>\n",
       "      <td>no</td>\n",
       "      <td>yes</td>\n",
       "      <td>no</td>\n",
       "      <td>unknown</td>\n",
       "      <td>5</td>\n",
       "      <td>may, 2017</td>\n",
       "      <td>151 sec</td>\n",
       "      <td>1</td>\n",
       "      <td>-1</td>\n",
       "      <td>0</td>\n",
       "      <td>unknown</td>\n",
       "      <td>no</td>\n",
       "    </tr>\n",
       "    <tr>\n",
       "      <th>2</th>\n",
       "      <td>3</td>\n",
       "      <td>33.0</td>\n",
       "      <td>120000</td>\n",
       "      <td>2</td>\n",
       "      <td>married</td>\n",
       "      <td>entrepreneur,secondary</td>\n",
       "      <td>yes</td>\n",
       "      <td>no</td>\n",
       "      <td>yes</td>\n",
       "      <td>yes</td>\n",
       "      <td>unknown</td>\n",
       "      <td>5</td>\n",
       "      <td>may, 2017</td>\n",
       "      <td>76 sec</td>\n",
       "      <td>1</td>\n",
       "      <td>-1</td>\n",
       "      <td>0</td>\n",
       "      <td>unknown</td>\n",
       "      <td>no</td>\n",
       "    </tr>\n",
       "    <tr>\n",
       "      <th>3</th>\n",
       "      <td>4</td>\n",
       "      <td>47.0</td>\n",
       "      <td>20000</td>\n",
       "      <td>1506</td>\n",
       "      <td>married</td>\n",
       "      <td>blue-collar,unknown</td>\n",
       "      <td>no</td>\n",
       "      <td>no</td>\n",
       "      <td>yes</td>\n",
       "      <td>no</td>\n",
       "      <td>unknown</td>\n",
       "      <td>5</td>\n",
       "      <td>may, 2017</td>\n",
       "      <td>92 sec</td>\n",
       "      <td>1</td>\n",
       "      <td>-1</td>\n",
       "      <td>0</td>\n",
       "      <td>unknown</td>\n",
       "      <td>no</td>\n",
       "    </tr>\n",
       "    <tr>\n",
       "      <th>4</th>\n",
       "      <td>5</td>\n",
       "      <td>33.0</td>\n",
       "      <td>0</td>\n",
       "      <td>1</td>\n",
       "      <td>single</td>\n",
       "      <td>unknown,unknown</td>\n",
       "      <td>no</td>\n",
       "      <td>no</td>\n",
       "      <td>no</td>\n",
       "      <td>no</td>\n",
       "      <td>unknown</td>\n",
       "      <td>5</td>\n",
       "      <td>may, 2017</td>\n",
       "      <td>198 sec</td>\n",
       "      <td>1</td>\n",
       "      <td>-1</td>\n",
       "      <td>0</td>\n",
       "      <td>unknown</td>\n",
       "      <td>no</td>\n",
       "    </tr>\n",
       "  </tbody>\n",
       "</table>\n",
       "</div>"
      ],
      "text/plain": [
       "   customerid   age  salary  balance  marital                  jobedu  \\\n",
       "0           1  58.0  100000     2143  married     management,tertiary   \n",
       "1           2  44.0   60000       29   single    technician,secondary   \n",
       "2           3  33.0  120000        2  married  entrepreneur,secondary   \n",
       "3           4  47.0   20000     1506  married     blue-collar,unknown   \n",
       "4           5  33.0       0        1   single         unknown,unknown   \n",
       "\n",
       "  targeted default housing loan  contact  day      month duration  campaign  \\\n",
       "0      yes      no     yes   no  unknown    5  may, 2017  261 sec         1   \n",
       "1      yes      no     yes   no  unknown    5  may, 2017  151 sec         1   \n",
       "2      yes      no     yes  yes  unknown    5  may, 2017   76 sec         1   \n",
       "3       no      no     yes   no  unknown    5  may, 2017   92 sec         1   \n",
       "4       no      no      no   no  unknown    5  may, 2017  198 sec         1   \n",
       "\n",
       "   pdays  previous poutcome response  \n",
       "0     -1         0  unknown       no  \n",
       "1     -1         0  unknown       no  \n",
       "2     -1         0  unknown       no  \n",
       "3     -1         0  unknown       no  \n",
       "4     -1         0  unknown       no  "
      ]
     },
     "execution_count": 5,
     "metadata": {},
     "output_type": "execute_result"
    }
   ],
   "source": [
    "bank_target = pd.read_csv('D:\\Data_Science\\Project\\data\\\\raw\\\\bank_marketing_updated_v1.csv', skiprows = 2)\n",
    "bank_target.head(5)"
   ]
  },
  {
   "cell_type": "code",
   "execution_count": 6,
   "id": "e666b708",
   "metadata": {},
   "outputs": [
    {
     "name": "stdout",
     "output_type": "stream",
     "text": [
      "<class 'pandas.core.frame.DataFrame'>\n",
      "RangeIndex: 45211 entries, 0 to 45210\n",
      "Data columns (total 19 columns):\n",
      " #   Column      Non-Null Count  Dtype  \n",
      "---  ------      --------------  -----  \n",
      " 0   customerid  45211 non-null  int64  \n",
      " 1   age         45191 non-null  float64\n",
      " 2   salary      45211 non-null  int64  \n",
      " 3   balance     45211 non-null  int64  \n",
      " 4   marital     45211 non-null  object \n",
      " 5   jobedu      45211 non-null  object \n",
      " 6   targeted    45211 non-null  object \n",
      " 7   default     45211 non-null  object \n",
      " 8   housing     45211 non-null  object \n",
      " 9   loan        45211 non-null  object \n",
      " 10  contact     45211 non-null  object \n",
      " 11  day         45211 non-null  int64  \n",
      " 12  month       45161 non-null  object \n",
      " 13  duration    45211 non-null  object \n",
      " 14  campaign    45211 non-null  int64  \n",
      " 15  pdays       45211 non-null  int64  \n",
      " 16  previous    45211 non-null  int64  \n",
      " 17  poutcome    45211 non-null  object \n",
      " 18  response    45181 non-null  object \n",
      "dtypes: float64(1), int64(7), object(11)\n",
      "memory usage: 6.6+ MB\n"
     ]
    }
   ],
   "source": [
    "bank_target.info()"
   ]
  },
  {
   "cell_type": "code",
   "execution_count": 7,
   "id": "9e5bcafe",
   "metadata": {},
   "outputs": [
    {
     "data": {
      "application/vnd.microsoft.datawrangler.viewer.v0+json": {
       "columns": [
        {
         "name": "index",
         "rawType": "object",
         "type": "string"
        },
        {
         "name": "customerid",
         "rawType": "float64",
         "type": "float"
        },
        {
         "name": "age",
         "rawType": "float64",
         "type": "float"
        },
        {
         "name": "salary",
         "rawType": "float64",
         "type": "float"
        },
        {
         "name": "balance",
         "rawType": "float64",
         "type": "float"
        },
        {
         "name": "day",
         "rawType": "float64",
         "type": "float"
        },
        {
         "name": "campaign",
         "rawType": "float64",
         "type": "float"
        },
        {
         "name": "pdays",
         "rawType": "float64",
         "type": "float"
        },
        {
         "name": "previous",
         "rawType": "float64",
         "type": "float"
        }
       ],
       "ref": "b587517b-d77d-42a9-89b2-03eae39752b1",
       "rows": [
        [
         "count",
         "45211.0",
         "45191.0",
         "45211.0",
         "45211.0",
         "45211.0",
         "45211.0",
         "45211.0",
         "45211.0"
        ],
        [
         "mean",
         "22606.0",
         "40.93565090394105",
         "57006.17106456393",
         "1362.2720576850766",
         "15.80641879188693",
         "2.763840658246887",
         "40.19782796222158",
         "0.5803233726305546"
        ],
        [
         "std",
         "13051.435846935257",
         "10.619197578972633",
         "32085.718415161806",
         "3044.765829168518",
         "8.322476153044592",
         "3.0980208832791694",
         "100.12874599059835",
         "2.3034410449312213"
        ],
        [
         "min",
         "1.0",
         "18.0",
         "0.0",
         "-8019.0",
         "1.0",
         "1.0",
         "-1.0",
         "0.0"
        ],
        [
         "25%",
         "11303.5",
         "33.0",
         "20000.0",
         "72.0",
         "8.0",
         "1.0",
         "-1.0",
         "0.0"
        ],
        [
         "50%",
         "22606.0",
         "39.0",
         "60000.0",
         "448.0",
         "16.0",
         "2.0",
         "-1.0",
         "0.0"
        ],
        [
         "75%",
         "33908.5",
         "48.0",
         "70000.0",
         "1428.0",
         "21.0",
         "3.0",
         "-1.0",
         "0.0"
        ],
        [
         "max",
         "45211.0",
         "95.0",
         "120000.0",
         "102127.0",
         "31.0",
         "63.0",
         "871.0",
         "275.0"
        ]
       ],
       "shape": {
        "columns": 8,
        "rows": 8
       }
      },
      "text/html": [
       "<div>\n",
       "<style scoped>\n",
       "    .dataframe tbody tr th:only-of-type {\n",
       "        vertical-align: middle;\n",
       "    }\n",
       "\n",
       "    .dataframe tbody tr th {\n",
       "        vertical-align: top;\n",
       "    }\n",
       "\n",
       "    .dataframe thead th {\n",
       "        text-align: right;\n",
       "    }\n",
       "</style>\n",
       "<table border=\"1\" class=\"dataframe\">\n",
       "  <thead>\n",
       "    <tr style=\"text-align: right;\">\n",
       "      <th></th>\n",
       "      <th>customerid</th>\n",
       "      <th>age</th>\n",
       "      <th>salary</th>\n",
       "      <th>balance</th>\n",
       "      <th>day</th>\n",
       "      <th>campaign</th>\n",
       "      <th>pdays</th>\n",
       "      <th>previous</th>\n",
       "    </tr>\n",
       "  </thead>\n",
       "  <tbody>\n",
       "    <tr>\n",
       "      <th>count</th>\n",
       "      <td>45211.000000</td>\n",
       "      <td>45191.000000</td>\n",
       "      <td>45211.000000</td>\n",
       "      <td>45211.000000</td>\n",
       "      <td>45211.000000</td>\n",
       "      <td>45211.000000</td>\n",
       "      <td>45211.000000</td>\n",
       "      <td>45211.000000</td>\n",
       "    </tr>\n",
       "    <tr>\n",
       "      <th>mean</th>\n",
       "      <td>22606.000000</td>\n",
       "      <td>40.935651</td>\n",
       "      <td>57006.171065</td>\n",
       "      <td>1362.272058</td>\n",
       "      <td>15.806419</td>\n",
       "      <td>2.763841</td>\n",
       "      <td>40.197828</td>\n",
       "      <td>0.580323</td>\n",
       "    </tr>\n",
       "    <tr>\n",
       "      <th>std</th>\n",
       "      <td>13051.435847</td>\n",
       "      <td>10.619198</td>\n",
       "      <td>32085.718415</td>\n",
       "      <td>3044.765829</td>\n",
       "      <td>8.322476</td>\n",
       "      <td>3.098021</td>\n",
       "      <td>100.128746</td>\n",
       "      <td>2.303441</td>\n",
       "    </tr>\n",
       "    <tr>\n",
       "      <th>min</th>\n",
       "      <td>1.000000</td>\n",
       "      <td>18.000000</td>\n",
       "      <td>0.000000</td>\n",
       "      <td>-8019.000000</td>\n",
       "      <td>1.000000</td>\n",
       "      <td>1.000000</td>\n",
       "      <td>-1.000000</td>\n",
       "      <td>0.000000</td>\n",
       "    </tr>\n",
       "    <tr>\n",
       "      <th>25%</th>\n",
       "      <td>11303.500000</td>\n",
       "      <td>33.000000</td>\n",
       "      <td>20000.000000</td>\n",
       "      <td>72.000000</td>\n",
       "      <td>8.000000</td>\n",
       "      <td>1.000000</td>\n",
       "      <td>-1.000000</td>\n",
       "      <td>0.000000</td>\n",
       "    </tr>\n",
       "    <tr>\n",
       "      <th>50%</th>\n",
       "      <td>22606.000000</td>\n",
       "      <td>39.000000</td>\n",
       "      <td>60000.000000</td>\n",
       "      <td>448.000000</td>\n",
       "      <td>16.000000</td>\n",
       "      <td>2.000000</td>\n",
       "      <td>-1.000000</td>\n",
       "      <td>0.000000</td>\n",
       "    </tr>\n",
       "    <tr>\n",
       "      <th>75%</th>\n",
       "      <td>33908.500000</td>\n",
       "      <td>48.000000</td>\n",
       "      <td>70000.000000</td>\n",
       "      <td>1428.000000</td>\n",
       "      <td>21.000000</td>\n",
       "      <td>3.000000</td>\n",
       "      <td>-1.000000</td>\n",
       "      <td>0.000000</td>\n",
       "    </tr>\n",
       "    <tr>\n",
       "      <th>max</th>\n",
       "      <td>45211.000000</td>\n",
       "      <td>95.000000</td>\n",
       "      <td>120000.000000</td>\n",
       "      <td>102127.000000</td>\n",
       "      <td>31.000000</td>\n",
       "      <td>63.000000</td>\n",
       "      <td>871.000000</td>\n",
       "      <td>275.000000</td>\n",
       "    </tr>\n",
       "  </tbody>\n",
       "</table>\n",
       "</div>"
      ],
      "text/plain": [
       "         customerid           age         salary        balance           day  \\\n",
       "count  45211.000000  45191.000000   45211.000000   45211.000000  45211.000000   \n",
       "mean   22606.000000     40.935651   57006.171065    1362.272058     15.806419   \n",
       "std    13051.435847     10.619198   32085.718415    3044.765829      8.322476   \n",
       "min        1.000000     18.000000       0.000000   -8019.000000      1.000000   \n",
       "25%    11303.500000     33.000000   20000.000000      72.000000      8.000000   \n",
       "50%    22606.000000     39.000000   60000.000000     448.000000     16.000000   \n",
       "75%    33908.500000     48.000000   70000.000000    1428.000000     21.000000   \n",
       "max    45211.000000     95.000000  120000.000000  102127.000000     31.000000   \n",
       "\n",
       "           campaign         pdays      previous  \n",
       "count  45211.000000  45211.000000  45211.000000  \n",
       "mean       2.763841     40.197828      0.580323  \n",
       "std        3.098021    100.128746      2.303441  \n",
       "min        1.000000     -1.000000      0.000000  \n",
       "25%        1.000000     -1.000000      0.000000  \n",
       "50%        2.000000     -1.000000      0.000000  \n",
       "75%        3.000000     -1.000000      0.000000  \n",
       "max       63.000000    871.000000    275.000000  "
      ]
     },
     "execution_count": 7,
     "metadata": {},
     "output_type": "execute_result"
    }
   ],
   "source": [
    "bank_target.describe()"
   ]
  },
  {
   "cell_type": "code",
   "execution_count": 8,
   "id": "e0130f15",
   "metadata": {},
   "outputs": [
    {
     "data": {
      "text/plain": [
       "np.float64(40.93565090394105)"
      ]
     },
     "execution_count": 8,
     "metadata": {},
     "output_type": "execute_result"
    }
   ],
   "source": [
    "bank_target['age'].mean()"
   ]
  },
  {
   "cell_type": "markdown",
   "id": "76559e10",
   "metadata": {},
   "source": [
    "How let's split the Jobedu columns into Job and Education colums by spliting them"
   ]
  },
  {
   "cell_type": "code",
   "execution_count": 9,
   "id": "95fb8077",
   "metadata": {},
   "outputs": [
    {
     "data": {
      "application/vnd.microsoft.datawrangler.viewer.v0+json": {
       "columns": [
        {
         "name": "index",
         "rawType": "int64",
         "type": "integer"
        },
        {
         "name": "customerid",
         "rawType": "int64",
         "type": "integer"
        },
        {
         "name": "age",
         "rawType": "float64",
         "type": "float"
        },
        {
         "name": "salary",
         "rawType": "int64",
         "type": "integer"
        },
        {
         "name": "balance",
         "rawType": "int64",
         "type": "integer"
        },
        {
         "name": "marital",
         "rawType": "object",
         "type": "string"
        },
        {
         "name": "jobedu",
         "rawType": "object",
         "type": "string"
        },
        {
         "name": "targeted",
         "rawType": "object",
         "type": "string"
        },
        {
         "name": "default",
         "rawType": "object",
         "type": "string"
        },
        {
         "name": "housing",
         "rawType": "object",
         "type": "string"
        },
        {
         "name": "loan",
         "rawType": "object",
         "type": "string"
        },
        {
         "name": "contact",
         "rawType": "object",
         "type": "string"
        },
        {
         "name": "day",
         "rawType": "int64",
         "type": "integer"
        },
        {
         "name": "month",
         "rawType": "object",
         "type": "string"
        },
        {
         "name": "duration",
         "rawType": "object",
         "type": "string"
        },
        {
         "name": "campaign",
         "rawType": "int64",
         "type": "integer"
        },
        {
         "name": "pdays",
         "rawType": "int64",
         "type": "integer"
        },
        {
         "name": "previous",
         "rawType": "int64",
         "type": "integer"
        },
        {
         "name": "poutcome",
         "rawType": "object",
         "type": "string"
        },
        {
         "name": "response",
         "rawType": "object",
         "type": "string"
        },
        {
         "name": "Job",
         "rawType": "object",
         "type": "string"
        }
       ],
       "ref": "bb113a0c-3387-4e49-9bd3-8df2f5495b77",
       "rows": [
        [
         "0",
         "1",
         "58.0",
         "100000",
         "2143",
         "married",
         "management,tertiary",
         "yes",
         "no",
         "yes",
         "no",
         "unknown",
         "5",
         "may, 2017",
         "261 sec",
         "1",
         "-1",
         "0",
         "unknown",
         "no",
         "management"
        ],
        [
         "1",
         "2",
         "44.0",
         "60000",
         "29",
         "single",
         "technician,secondary",
         "yes",
         "no",
         "yes",
         "no",
         "unknown",
         "5",
         "may, 2017",
         "151 sec",
         "1",
         "-1",
         "0",
         "unknown",
         "no",
         "technician"
        ],
        [
         "2",
         "3",
         "33.0",
         "120000",
         "2",
         "married",
         "entrepreneur,secondary",
         "yes",
         "no",
         "yes",
         "yes",
         "unknown",
         "5",
         "may, 2017",
         "76 sec",
         "1",
         "-1",
         "0",
         "unknown",
         "no",
         "entrepreneur"
        ],
        [
         "3",
         "4",
         "47.0",
         "20000",
         "1506",
         "married",
         "blue-collar,unknown",
         "no",
         "no",
         "yes",
         "no",
         "unknown",
         "5",
         "may, 2017",
         "92 sec",
         "1",
         "-1",
         "0",
         "unknown",
         "no",
         "blue-collar"
        ],
        [
         "4",
         "5",
         "33.0",
         "0",
         "1",
         "single",
         "unknown,unknown",
         "no",
         "no",
         "no",
         "no",
         "unknown",
         "5",
         "may, 2017",
         "198 sec",
         "1",
         "-1",
         "0",
         "unknown",
         "no",
         "unknown"
        ]
       ],
       "shape": {
        "columns": 20,
        "rows": 5
       }
      },
      "text/html": [
       "<div>\n",
       "<style scoped>\n",
       "    .dataframe tbody tr th:only-of-type {\n",
       "        vertical-align: middle;\n",
       "    }\n",
       "\n",
       "    .dataframe tbody tr th {\n",
       "        vertical-align: top;\n",
       "    }\n",
       "\n",
       "    .dataframe thead th {\n",
       "        text-align: right;\n",
       "    }\n",
       "</style>\n",
       "<table border=\"1\" class=\"dataframe\">\n",
       "  <thead>\n",
       "    <tr style=\"text-align: right;\">\n",
       "      <th></th>\n",
       "      <th>customerid</th>\n",
       "      <th>age</th>\n",
       "      <th>salary</th>\n",
       "      <th>balance</th>\n",
       "      <th>marital</th>\n",
       "      <th>jobedu</th>\n",
       "      <th>targeted</th>\n",
       "      <th>default</th>\n",
       "      <th>housing</th>\n",
       "      <th>loan</th>\n",
       "      <th>contact</th>\n",
       "      <th>day</th>\n",
       "      <th>month</th>\n",
       "      <th>duration</th>\n",
       "      <th>campaign</th>\n",
       "      <th>pdays</th>\n",
       "      <th>previous</th>\n",
       "      <th>poutcome</th>\n",
       "      <th>response</th>\n",
       "      <th>Job</th>\n",
       "    </tr>\n",
       "  </thead>\n",
       "  <tbody>\n",
       "    <tr>\n",
       "      <th>0</th>\n",
       "      <td>1</td>\n",
       "      <td>58.0</td>\n",
       "      <td>100000</td>\n",
       "      <td>2143</td>\n",
       "      <td>married</td>\n",
       "      <td>management,tertiary</td>\n",
       "      <td>yes</td>\n",
       "      <td>no</td>\n",
       "      <td>yes</td>\n",
       "      <td>no</td>\n",
       "      <td>unknown</td>\n",
       "      <td>5</td>\n",
       "      <td>may, 2017</td>\n",
       "      <td>261 sec</td>\n",
       "      <td>1</td>\n",
       "      <td>-1</td>\n",
       "      <td>0</td>\n",
       "      <td>unknown</td>\n",
       "      <td>no</td>\n",
       "      <td>management</td>\n",
       "    </tr>\n",
       "    <tr>\n",
       "      <th>1</th>\n",
       "      <td>2</td>\n",
       "      <td>44.0</td>\n",
       "      <td>60000</td>\n",
       "      <td>29</td>\n",
       "      <td>single</td>\n",
       "      <td>technician,secondary</td>\n",
       "      <td>yes</td>\n",
       "      <td>no</td>\n",
       "      <td>yes</td>\n",
       "      <td>no</td>\n",
       "      <td>unknown</td>\n",
       "      <td>5</td>\n",
       "      <td>may, 2017</td>\n",
       "      <td>151 sec</td>\n",
       "      <td>1</td>\n",
       "      <td>-1</td>\n",
       "      <td>0</td>\n",
       "      <td>unknown</td>\n",
       "      <td>no</td>\n",
       "      <td>technician</td>\n",
       "    </tr>\n",
       "    <tr>\n",
       "      <th>2</th>\n",
       "      <td>3</td>\n",
       "      <td>33.0</td>\n",
       "      <td>120000</td>\n",
       "      <td>2</td>\n",
       "      <td>married</td>\n",
       "      <td>entrepreneur,secondary</td>\n",
       "      <td>yes</td>\n",
       "      <td>no</td>\n",
       "      <td>yes</td>\n",
       "      <td>yes</td>\n",
       "      <td>unknown</td>\n",
       "      <td>5</td>\n",
       "      <td>may, 2017</td>\n",
       "      <td>76 sec</td>\n",
       "      <td>1</td>\n",
       "      <td>-1</td>\n",
       "      <td>0</td>\n",
       "      <td>unknown</td>\n",
       "      <td>no</td>\n",
       "      <td>entrepreneur</td>\n",
       "    </tr>\n",
       "    <tr>\n",
       "      <th>3</th>\n",
       "      <td>4</td>\n",
       "      <td>47.0</td>\n",
       "      <td>20000</td>\n",
       "      <td>1506</td>\n",
       "      <td>married</td>\n",
       "      <td>blue-collar,unknown</td>\n",
       "      <td>no</td>\n",
       "      <td>no</td>\n",
       "      <td>yes</td>\n",
       "      <td>no</td>\n",
       "      <td>unknown</td>\n",
       "      <td>5</td>\n",
       "      <td>may, 2017</td>\n",
       "      <td>92 sec</td>\n",
       "      <td>1</td>\n",
       "      <td>-1</td>\n",
       "      <td>0</td>\n",
       "      <td>unknown</td>\n",
       "      <td>no</td>\n",
       "      <td>blue-collar</td>\n",
       "    </tr>\n",
       "    <tr>\n",
       "      <th>4</th>\n",
       "      <td>5</td>\n",
       "      <td>33.0</td>\n",
       "      <td>0</td>\n",
       "      <td>1</td>\n",
       "      <td>single</td>\n",
       "      <td>unknown,unknown</td>\n",
       "      <td>no</td>\n",
       "      <td>no</td>\n",
       "      <td>no</td>\n",
       "      <td>no</td>\n",
       "      <td>unknown</td>\n",
       "      <td>5</td>\n",
       "      <td>may, 2017</td>\n",
       "      <td>198 sec</td>\n",
       "      <td>1</td>\n",
       "      <td>-1</td>\n",
       "      <td>0</td>\n",
       "      <td>unknown</td>\n",
       "      <td>no</td>\n",
       "      <td>unknown</td>\n",
       "    </tr>\n",
       "  </tbody>\n",
       "</table>\n",
       "</div>"
      ],
      "text/plain": [
       "   customerid   age  salary  balance  marital                  jobedu  \\\n",
       "0           1  58.0  100000     2143  married     management,tertiary   \n",
       "1           2  44.0   60000       29   single    technician,secondary   \n",
       "2           3  33.0  120000        2  married  entrepreneur,secondary   \n",
       "3           4  47.0   20000     1506  married     blue-collar,unknown   \n",
       "4           5  33.0       0        1   single         unknown,unknown   \n",
       "\n",
       "  targeted default housing loan  contact  day      month duration  campaign  \\\n",
       "0      yes      no     yes   no  unknown    5  may, 2017  261 sec         1   \n",
       "1      yes      no     yes   no  unknown    5  may, 2017  151 sec         1   \n",
       "2      yes      no     yes  yes  unknown    5  may, 2017   76 sec         1   \n",
       "3       no      no     yes   no  unknown    5  may, 2017   92 sec         1   \n",
       "4       no      no      no   no  unknown    5  may, 2017  198 sec         1   \n",
       "\n",
       "   pdays  previous poutcome response           Job  \n",
       "0     -1         0  unknown       no    management  \n",
       "1     -1         0  unknown       no    technician  \n",
       "2     -1         0  unknown       no  entrepreneur  \n",
       "3     -1         0  unknown       no   blue-collar  \n",
       "4     -1         0  unknown       no       unknown  "
      ]
     },
     "execution_count": 9,
     "metadata": {},
     "output_type": "execute_result"
    }
   ],
   "source": [
    "bank_target['Job'] = bank_target.jobedu.apply(lambda x: x.split(',')[0])\n",
    "bank_target.head(5)"
   ]
  },
  {
   "cell_type": "code",
   "execution_count": 10,
   "id": "6f45c50d",
   "metadata": {},
   "outputs": [
    {
     "data": {
      "application/vnd.microsoft.datawrangler.viewer.v0+json": {
       "columns": [
        {
         "name": "index",
         "rawType": "int64",
         "type": "integer"
        },
        {
         "name": "customerid",
         "rawType": "int64",
         "type": "integer"
        },
        {
         "name": "age",
         "rawType": "float64",
         "type": "float"
        },
        {
         "name": "salary",
         "rawType": "int64",
         "type": "integer"
        },
        {
         "name": "balance",
         "rawType": "int64",
         "type": "integer"
        },
        {
         "name": "marital",
         "rawType": "object",
         "type": "string"
        },
        {
         "name": "jobedu",
         "rawType": "object",
         "type": "string"
        },
        {
         "name": "targeted",
         "rawType": "object",
         "type": "string"
        },
        {
         "name": "default",
         "rawType": "object",
         "type": "string"
        },
        {
         "name": "housing",
         "rawType": "object",
         "type": "string"
        },
        {
         "name": "loan",
         "rawType": "object",
         "type": "string"
        },
        {
         "name": "contact",
         "rawType": "object",
         "type": "string"
        },
        {
         "name": "day",
         "rawType": "int64",
         "type": "integer"
        },
        {
         "name": "month",
         "rawType": "object",
         "type": "string"
        },
        {
         "name": "duration",
         "rawType": "object",
         "type": "string"
        },
        {
         "name": "campaign",
         "rawType": "int64",
         "type": "integer"
        },
        {
         "name": "pdays",
         "rawType": "int64",
         "type": "integer"
        },
        {
         "name": "previous",
         "rawType": "int64",
         "type": "integer"
        },
        {
         "name": "poutcome",
         "rawType": "object",
         "type": "string"
        },
        {
         "name": "response",
         "rawType": "object",
         "type": "string"
        },
        {
         "name": "Job",
         "rawType": "object",
         "type": "string"
        },
        {
         "name": "Education",
         "rawType": "object",
         "type": "string"
        }
       ],
       "ref": "89c82d7b-7862-48c0-b2d2-ea54ed0cecf9",
       "rows": [
        [
         "0",
         "1",
         "58.0",
         "100000",
         "2143",
         "married",
         "management,tertiary",
         "yes",
         "no",
         "yes",
         "no",
         "unknown",
         "5",
         "may, 2017",
         "261 sec",
         "1",
         "-1",
         "0",
         "unknown",
         "no",
         "management",
         "tertiary"
        ],
        [
         "1",
         "2",
         "44.0",
         "60000",
         "29",
         "single",
         "technician,secondary",
         "yes",
         "no",
         "yes",
         "no",
         "unknown",
         "5",
         "may, 2017",
         "151 sec",
         "1",
         "-1",
         "0",
         "unknown",
         "no",
         "technician",
         "secondary"
        ],
        [
         "2",
         "3",
         "33.0",
         "120000",
         "2",
         "married",
         "entrepreneur,secondary",
         "yes",
         "no",
         "yes",
         "yes",
         "unknown",
         "5",
         "may, 2017",
         "76 sec",
         "1",
         "-1",
         "0",
         "unknown",
         "no",
         "entrepreneur",
         "secondary"
        ],
        [
         "3",
         "4",
         "47.0",
         "20000",
         "1506",
         "married",
         "blue-collar,unknown",
         "no",
         "no",
         "yes",
         "no",
         "unknown",
         "5",
         "may, 2017",
         "92 sec",
         "1",
         "-1",
         "0",
         "unknown",
         "no",
         "blue-collar",
         "unknown"
        ],
        [
         "4",
         "5",
         "33.0",
         "0",
         "1",
         "single",
         "unknown,unknown",
         "no",
         "no",
         "no",
         "no",
         "unknown",
         "5",
         "may, 2017",
         "198 sec",
         "1",
         "-1",
         "0",
         "unknown",
         "no",
         "unknown",
         "unknown"
        ]
       ],
       "shape": {
        "columns": 21,
        "rows": 5
       }
      },
      "text/html": [
       "<div>\n",
       "<style scoped>\n",
       "    .dataframe tbody tr th:only-of-type {\n",
       "        vertical-align: middle;\n",
       "    }\n",
       "\n",
       "    .dataframe tbody tr th {\n",
       "        vertical-align: top;\n",
       "    }\n",
       "\n",
       "    .dataframe thead th {\n",
       "        text-align: right;\n",
       "    }\n",
       "</style>\n",
       "<table border=\"1\" class=\"dataframe\">\n",
       "  <thead>\n",
       "    <tr style=\"text-align: right;\">\n",
       "      <th></th>\n",
       "      <th>customerid</th>\n",
       "      <th>age</th>\n",
       "      <th>salary</th>\n",
       "      <th>balance</th>\n",
       "      <th>marital</th>\n",
       "      <th>jobedu</th>\n",
       "      <th>targeted</th>\n",
       "      <th>default</th>\n",
       "      <th>housing</th>\n",
       "      <th>loan</th>\n",
       "      <th>...</th>\n",
       "      <th>day</th>\n",
       "      <th>month</th>\n",
       "      <th>duration</th>\n",
       "      <th>campaign</th>\n",
       "      <th>pdays</th>\n",
       "      <th>previous</th>\n",
       "      <th>poutcome</th>\n",
       "      <th>response</th>\n",
       "      <th>Job</th>\n",
       "      <th>Education</th>\n",
       "    </tr>\n",
       "  </thead>\n",
       "  <tbody>\n",
       "    <tr>\n",
       "      <th>0</th>\n",
       "      <td>1</td>\n",
       "      <td>58.0</td>\n",
       "      <td>100000</td>\n",
       "      <td>2143</td>\n",
       "      <td>married</td>\n",
       "      <td>management,tertiary</td>\n",
       "      <td>yes</td>\n",
       "      <td>no</td>\n",
       "      <td>yes</td>\n",
       "      <td>no</td>\n",
       "      <td>...</td>\n",
       "      <td>5</td>\n",
       "      <td>may, 2017</td>\n",
       "      <td>261 sec</td>\n",
       "      <td>1</td>\n",
       "      <td>-1</td>\n",
       "      <td>0</td>\n",
       "      <td>unknown</td>\n",
       "      <td>no</td>\n",
       "      <td>management</td>\n",
       "      <td>tertiary</td>\n",
       "    </tr>\n",
       "    <tr>\n",
       "      <th>1</th>\n",
       "      <td>2</td>\n",
       "      <td>44.0</td>\n",
       "      <td>60000</td>\n",
       "      <td>29</td>\n",
       "      <td>single</td>\n",
       "      <td>technician,secondary</td>\n",
       "      <td>yes</td>\n",
       "      <td>no</td>\n",
       "      <td>yes</td>\n",
       "      <td>no</td>\n",
       "      <td>...</td>\n",
       "      <td>5</td>\n",
       "      <td>may, 2017</td>\n",
       "      <td>151 sec</td>\n",
       "      <td>1</td>\n",
       "      <td>-1</td>\n",
       "      <td>0</td>\n",
       "      <td>unknown</td>\n",
       "      <td>no</td>\n",
       "      <td>technician</td>\n",
       "      <td>secondary</td>\n",
       "    </tr>\n",
       "    <tr>\n",
       "      <th>2</th>\n",
       "      <td>3</td>\n",
       "      <td>33.0</td>\n",
       "      <td>120000</td>\n",
       "      <td>2</td>\n",
       "      <td>married</td>\n",
       "      <td>entrepreneur,secondary</td>\n",
       "      <td>yes</td>\n",
       "      <td>no</td>\n",
       "      <td>yes</td>\n",
       "      <td>yes</td>\n",
       "      <td>...</td>\n",
       "      <td>5</td>\n",
       "      <td>may, 2017</td>\n",
       "      <td>76 sec</td>\n",
       "      <td>1</td>\n",
       "      <td>-1</td>\n",
       "      <td>0</td>\n",
       "      <td>unknown</td>\n",
       "      <td>no</td>\n",
       "      <td>entrepreneur</td>\n",
       "      <td>secondary</td>\n",
       "    </tr>\n",
       "    <tr>\n",
       "      <th>3</th>\n",
       "      <td>4</td>\n",
       "      <td>47.0</td>\n",
       "      <td>20000</td>\n",
       "      <td>1506</td>\n",
       "      <td>married</td>\n",
       "      <td>blue-collar,unknown</td>\n",
       "      <td>no</td>\n",
       "      <td>no</td>\n",
       "      <td>yes</td>\n",
       "      <td>no</td>\n",
       "      <td>...</td>\n",
       "      <td>5</td>\n",
       "      <td>may, 2017</td>\n",
       "      <td>92 sec</td>\n",
       "      <td>1</td>\n",
       "      <td>-1</td>\n",
       "      <td>0</td>\n",
       "      <td>unknown</td>\n",
       "      <td>no</td>\n",
       "      <td>blue-collar</td>\n",
       "      <td>unknown</td>\n",
       "    </tr>\n",
       "    <tr>\n",
       "      <th>4</th>\n",
       "      <td>5</td>\n",
       "      <td>33.0</td>\n",
       "      <td>0</td>\n",
       "      <td>1</td>\n",
       "      <td>single</td>\n",
       "      <td>unknown,unknown</td>\n",
       "      <td>no</td>\n",
       "      <td>no</td>\n",
       "      <td>no</td>\n",
       "      <td>no</td>\n",
       "      <td>...</td>\n",
       "      <td>5</td>\n",
       "      <td>may, 2017</td>\n",
       "      <td>198 sec</td>\n",
       "      <td>1</td>\n",
       "      <td>-1</td>\n",
       "      <td>0</td>\n",
       "      <td>unknown</td>\n",
       "      <td>no</td>\n",
       "      <td>unknown</td>\n",
       "      <td>unknown</td>\n",
       "    </tr>\n",
       "  </tbody>\n",
       "</table>\n",
       "<p>5 rows × 21 columns</p>\n",
       "</div>"
      ],
      "text/plain": [
       "   customerid   age  salary  balance  marital                  jobedu  \\\n",
       "0           1  58.0  100000     2143  married     management,tertiary   \n",
       "1           2  44.0   60000       29   single    technician,secondary   \n",
       "2           3  33.0  120000        2  married  entrepreneur,secondary   \n",
       "3           4  47.0   20000     1506  married     blue-collar,unknown   \n",
       "4           5  33.0       0        1   single         unknown,unknown   \n",
       "\n",
       "  targeted default housing loan  ... day      month duration campaign  pdays  \\\n",
       "0      yes      no     yes   no  ...   5  may, 2017  261 sec        1     -1   \n",
       "1      yes      no     yes   no  ...   5  may, 2017  151 sec        1     -1   \n",
       "2      yes      no     yes  yes  ...   5  may, 2017   76 sec        1     -1   \n",
       "3       no      no     yes   no  ...   5  may, 2017   92 sec        1     -1   \n",
       "4       no      no      no   no  ...   5  may, 2017  198 sec        1     -1   \n",
       "\n",
       "   previous  poutcome response           Job  Education  \n",
       "0         0   unknown       no    management   tertiary  \n",
       "1         0   unknown       no    technician  secondary  \n",
       "2         0   unknown       no  entrepreneur  secondary  \n",
       "3         0   unknown       no   blue-collar    unknown  \n",
       "4         0   unknown       no       unknown    unknown  \n",
       "\n",
       "[5 rows x 21 columns]"
      ]
     },
     "execution_count": 10,
     "metadata": {},
     "output_type": "execute_result"
    }
   ],
   "source": [
    "bank_target['Education'] = bank_target.jobedu.apply(lambda x: x.split(',')[1])\n",
    "bank_target.head(5)"
   ]
  },
  {
   "cell_type": "markdown",
   "id": "c675b59a",
   "metadata": {},
   "source": [
    "Now that we don't need the Jobedu column we can drop the column"
   ]
  },
  {
   "cell_type": "code",
   "execution_count": 11,
   "id": "f05f1106",
   "metadata": {},
   "outputs": [
    {
     "data": {
      "application/vnd.microsoft.datawrangler.viewer.v0+json": {
       "columns": [
        {
         "name": "index",
         "rawType": "int64",
         "type": "integer"
        },
        {
         "name": "customerid",
         "rawType": "int64",
         "type": "integer"
        },
        {
         "name": "age",
         "rawType": "float64",
         "type": "float"
        },
        {
         "name": "salary",
         "rawType": "int64",
         "type": "integer"
        },
        {
         "name": "balance",
         "rawType": "int64",
         "type": "integer"
        },
        {
         "name": "marital",
         "rawType": "object",
         "type": "string"
        },
        {
         "name": "targeted",
         "rawType": "object",
         "type": "string"
        },
        {
         "name": "default",
         "rawType": "object",
         "type": "string"
        },
        {
         "name": "housing",
         "rawType": "object",
         "type": "string"
        },
        {
         "name": "loan",
         "rawType": "object",
         "type": "string"
        },
        {
         "name": "contact",
         "rawType": "object",
         "type": "string"
        },
        {
         "name": "day",
         "rawType": "int64",
         "type": "integer"
        },
        {
         "name": "month",
         "rawType": "object",
         "type": "string"
        },
        {
         "name": "duration",
         "rawType": "object",
         "type": "string"
        },
        {
         "name": "campaign",
         "rawType": "int64",
         "type": "integer"
        },
        {
         "name": "pdays",
         "rawType": "int64",
         "type": "integer"
        },
        {
         "name": "previous",
         "rawType": "int64",
         "type": "integer"
        },
        {
         "name": "poutcome",
         "rawType": "object",
         "type": "string"
        },
        {
         "name": "response",
         "rawType": "object",
         "type": "string"
        },
        {
         "name": "Job",
         "rawType": "object",
         "type": "string"
        },
        {
         "name": "Education",
         "rawType": "object",
         "type": "string"
        }
       ],
       "ref": "3c840301-9b17-464a-aef3-6e6bc90c7581",
       "rows": [
        [
         "0",
         "1",
         "58.0",
         "100000",
         "2143",
         "married",
         "yes",
         "no",
         "yes",
         "no",
         "unknown",
         "5",
         "may, 2017",
         "261 sec",
         "1",
         "-1",
         "0",
         "unknown",
         "no",
         "management",
         "tertiary"
        ],
        [
         "1",
         "2",
         "44.0",
         "60000",
         "29",
         "single",
         "yes",
         "no",
         "yes",
         "no",
         "unknown",
         "5",
         "may, 2017",
         "151 sec",
         "1",
         "-1",
         "0",
         "unknown",
         "no",
         "technician",
         "secondary"
        ],
        [
         "2",
         "3",
         "33.0",
         "120000",
         "2",
         "married",
         "yes",
         "no",
         "yes",
         "yes",
         "unknown",
         "5",
         "may, 2017",
         "76 sec",
         "1",
         "-1",
         "0",
         "unknown",
         "no",
         "entrepreneur",
         "secondary"
        ],
        [
         "3",
         "4",
         "47.0",
         "20000",
         "1506",
         "married",
         "no",
         "no",
         "yes",
         "no",
         "unknown",
         "5",
         "may, 2017",
         "92 sec",
         "1",
         "-1",
         "0",
         "unknown",
         "no",
         "blue-collar",
         "unknown"
        ],
        [
         "4",
         "5",
         "33.0",
         "0",
         "1",
         "single",
         "no",
         "no",
         "no",
         "no",
         "unknown",
         "5",
         "may, 2017",
         "198 sec",
         "1",
         "-1",
         "0",
         "unknown",
         "no",
         "unknown",
         "unknown"
        ]
       ],
       "shape": {
        "columns": 20,
        "rows": 5
       }
      },
      "text/html": [
       "<div>\n",
       "<style scoped>\n",
       "    .dataframe tbody tr th:only-of-type {\n",
       "        vertical-align: middle;\n",
       "    }\n",
       "\n",
       "    .dataframe tbody tr th {\n",
       "        vertical-align: top;\n",
       "    }\n",
       "\n",
       "    .dataframe thead th {\n",
       "        text-align: right;\n",
       "    }\n",
       "</style>\n",
       "<table border=\"1\" class=\"dataframe\">\n",
       "  <thead>\n",
       "    <tr style=\"text-align: right;\">\n",
       "      <th></th>\n",
       "      <th>customerid</th>\n",
       "      <th>age</th>\n",
       "      <th>salary</th>\n",
       "      <th>balance</th>\n",
       "      <th>marital</th>\n",
       "      <th>targeted</th>\n",
       "      <th>default</th>\n",
       "      <th>housing</th>\n",
       "      <th>loan</th>\n",
       "      <th>contact</th>\n",
       "      <th>day</th>\n",
       "      <th>month</th>\n",
       "      <th>duration</th>\n",
       "      <th>campaign</th>\n",
       "      <th>pdays</th>\n",
       "      <th>previous</th>\n",
       "      <th>poutcome</th>\n",
       "      <th>response</th>\n",
       "      <th>Job</th>\n",
       "      <th>Education</th>\n",
       "    </tr>\n",
       "  </thead>\n",
       "  <tbody>\n",
       "    <tr>\n",
       "      <th>0</th>\n",
       "      <td>1</td>\n",
       "      <td>58.0</td>\n",
       "      <td>100000</td>\n",
       "      <td>2143</td>\n",
       "      <td>married</td>\n",
       "      <td>yes</td>\n",
       "      <td>no</td>\n",
       "      <td>yes</td>\n",
       "      <td>no</td>\n",
       "      <td>unknown</td>\n",
       "      <td>5</td>\n",
       "      <td>may, 2017</td>\n",
       "      <td>261 sec</td>\n",
       "      <td>1</td>\n",
       "      <td>-1</td>\n",
       "      <td>0</td>\n",
       "      <td>unknown</td>\n",
       "      <td>no</td>\n",
       "      <td>management</td>\n",
       "      <td>tertiary</td>\n",
       "    </tr>\n",
       "    <tr>\n",
       "      <th>1</th>\n",
       "      <td>2</td>\n",
       "      <td>44.0</td>\n",
       "      <td>60000</td>\n",
       "      <td>29</td>\n",
       "      <td>single</td>\n",
       "      <td>yes</td>\n",
       "      <td>no</td>\n",
       "      <td>yes</td>\n",
       "      <td>no</td>\n",
       "      <td>unknown</td>\n",
       "      <td>5</td>\n",
       "      <td>may, 2017</td>\n",
       "      <td>151 sec</td>\n",
       "      <td>1</td>\n",
       "      <td>-1</td>\n",
       "      <td>0</td>\n",
       "      <td>unknown</td>\n",
       "      <td>no</td>\n",
       "      <td>technician</td>\n",
       "      <td>secondary</td>\n",
       "    </tr>\n",
       "    <tr>\n",
       "      <th>2</th>\n",
       "      <td>3</td>\n",
       "      <td>33.0</td>\n",
       "      <td>120000</td>\n",
       "      <td>2</td>\n",
       "      <td>married</td>\n",
       "      <td>yes</td>\n",
       "      <td>no</td>\n",
       "      <td>yes</td>\n",
       "      <td>yes</td>\n",
       "      <td>unknown</td>\n",
       "      <td>5</td>\n",
       "      <td>may, 2017</td>\n",
       "      <td>76 sec</td>\n",
       "      <td>1</td>\n",
       "      <td>-1</td>\n",
       "      <td>0</td>\n",
       "      <td>unknown</td>\n",
       "      <td>no</td>\n",
       "      <td>entrepreneur</td>\n",
       "      <td>secondary</td>\n",
       "    </tr>\n",
       "    <tr>\n",
       "      <th>3</th>\n",
       "      <td>4</td>\n",
       "      <td>47.0</td>\n",
       "      <td>20000</td>\n",
       "      <td>1506</td>\n",
       "      <td>married</td>\n",
       "      <td>no</td>\n",
       "      <td>no</td>\n",
       "      <td>yes</td>\n",
       "      <td>no</td>\n",
       "      <td>unknown</td>\n",
       "      <td>5</td>\n",
       "      <td>may, 2017</td>\n",
       "      <td>92 sec</td>\n",
       "      <td>1</td>\n",
       "      <td>-1</td>\n",
       "      <td>0</td>\n",
       "      <td>unknown</td>\n",
       "      <td>no</td>\n",
       "      <td>blue-collar</td>\n",
       "      <td>unknown</td>\n",
       "    </tr>\n",
       "    <tr>\n",
       "      <th>4</th>\n",
       "      <td>5</td>\n",
       "      <td>33.0</td>\n",
       "      <td>0</td>\n",
       "      <td>1</td>\n",
       "      <td>single</td>\n",
       "      <td>no</td>\n",
       "      <td>no</td>\n",
       "      <td>no</td>\n",
       "      <td>no</td>\n",
       "      <td>unknown</td>\n",
       "      <td>5</td>\n",
       "      <td>may, 2017</td>\n",
       "      <td>198 sec</td>\n",
       "      <td>1</td>\n",
       "      <td>-1</td>\n",
       "      <td>0</td>\n",
       "      <td>unknown</td>\n",
       "      <td>no</td>\n",
       "      <td>unknown</td>\n",
       "      <td>unknown</td>\n",
       "    </tr>\n",
       "  </tbody>\n",
       "</table>\n",
       "</div>"
      ],
      "text/plain": [
       "   customerid   age  salary  balance  marital targeted default housing loan  \\\n",
       "0           1  58.0  100000     2143  married      yes      no     yes   no   \n",
       "1           2  44.0   60000       29   single      yes      no     yes   no   \n",
       "2           3  33.0  120000        2  married      yes      no     yes  yes   \n",
       "3           4  47.0   20000     1506  married       no      no     yes   no   \n",
       "4           5  33.0       0        1   single       no      no      no   no   \n",
       "\n",
       "   contact  day      month duration  campaign  pdays  previous poutcome  \\\n",
       "0  unknown    5  may, 2017  261 sec         1     -1         0  unknown   \n",
       "1  unknown    5  may, 2017  151 sec         1     -1         0  unknown   \n",
       "2  unknown    5  may, 2017   76 sec         1     -1         0  unknown   \n",
       "3  unknown    5  may, 2017   92 sec         1     -1         0  unknown   \n",
       "4  unknown    5  may, 2017  198 sec         1     -1         0  unknown   \n",
       "\n",
       "  response           Job  Education  \n",
       "0       no    management   tertiary  \n",
       "1       no    technician  secondary  \n",
       "2       no  entrepreneur  secondary  \n",
       "3       no   blue-collar    unknown  \n",
       "4       no       unknown    unknown  "
      ]
     },
     "execution_count": 11,
     "metadata": {},
     "output_type": "execute_result"
    }
   ],
   "source": [
    "bank_target.drop('jobedu', axis = 1, inplace=True)\n",
    "bank_target.head(5)"
   ]
  },
  {
   "cell_type": "code",
   "execution_count": 12,
   "id": "6de817aa",
   "metadata": {},
   "outputs": [
    {
     "data": {
      "application/vnd.microsoft.datawrangler.viewer.v0+json": {
       "columns": [
        {
         "name": "index",
         "rawType": "object",
         "type": "string"
        },
        {
         "name": "0",
         "rawType": "int64",
         "type": "integer"
        }
       ],
       "ref": "cb435f1c-9c8d-45d8-93db-7b9520268e96",
       "rows": [
        [
         "customerid",
         "0"
        ],
        [
         "age",
         "20"
        ],
        [
         "salary",
         "0"
        ],
        [
         "balance",
         "0"
        ],
        [
         "marital",
         "0"
        ],
        [
         "targeted",
         "0"
        ],
        [
         "default",
         "0"
        ],
        [
         "housing",
         "0"
        ],
        [
         "loan",
         "0"
        ],
        [
         "contact",
         "0"
        ],
        [
         "day",
         "0"
        ],
        [
         "month",
         "50"
        ],
        [
         "duration",
         "0"
        ],
        [
         "campaign",
         "0"
        ],
        [
         "pdays",
         "0"
        ],
        [
         "previous",
         "0"
        ],
        [
         "poutcome",
         "0"
        ],
        [
         "response",
         "30"
        ],
        [
         "Job",
         "0"
        ],
        [
         "Education",
         "0"
        ]
       ],
       "shape": {
        "columns": 1,
        "rows": 20
       }
      },
      "text/plain": [
       "customerid     0\n",
       "age           20\n",
       "salary         0\n",
       "balance        0\n",
       "marital        0\n",
       "targeted       0\n",
       "default        0\n",
       "housing        0\n",
       "loan           0\n",
       "contact        0\n",
       "day            0\n",
       "month         50\n",
       "duration       0\n",
       "campaign       0\n",
       "pdays          0\n",
       "previous       0\n",
       "poutcome       0\n",
       "response      30\n",
       "Job            0\n",
       "Education      0\n",
       "dtype: int64"
      ]
     },
     "execution_count": 12,
     "metadata": {},
     "output_type": "execute_result"
    }
   ],
   "source": [
    "bank_target.isnull().sum()"
   ]
  },
  {
   "cell_type": "markdown",
   "id": "fed30062",
   "metadata": {},
   "source": [
    "Let's now look at the age column since there are about 20 missing values and it's seen that age is not important\n",
    "we can drop the age where the vaules are missing "
   ]
  },
  {
   "cell_type": "markdown",
   "id": "cae521db",
   "metadata": {},
   "source": [
    "This could be considered as a MCAR(Missing Completely at Random) where you can drop the values where NA"
   ]
  },
  {
   "cell_type": "code",
   "execution_count": 13,
   "id": "07ea804f",
   "metadata": {},
   "outputs": [
    {
     "data": {
      "application/vnd.microsoft.datawrangler.viewer.v0+json": {
       "columns": [
        {
         "name": "index",
         "rawType": "int64",
         "type": "integer"
        },
        {
         "name": "customerid",
         "rawType": "int64",
         "type": "integer"
        },
        {
         "name": "age",
         "rawType": "float64",
         "type": "float"
        },
        {
         "name": "salary",
         "rawType": "int64",
         "type": "integer"
        },
        {
         "name": "balance",
         "rawType": "int64",
         "type": "integer"
        },
        {
         "name": "marital",
         "rawType": "object",
         "type": "string"
        },
        {
         "name": "targeted",
         "rawType": "object",
         "type": "string"
        },
        {
         "name": "default",
         "rawType": "object",
         "type": "string"
        },
        {
         "name": "housing",
         "rawType": "object",
         "type": "string"
        },
        {
         "name": "loan",
         "rawType": "object",
         "type": "string"
        },
        {
         "name": "contact",
         "rawType": "object",
         "type": "string"
        },
        {
         "name": "day",
         "rawType": "int64",
         "type": "integer"
        },
        {
         "name": "month",
         "rawType": "object",
         "type": "string"
        },
        {
         "name": "duration",
         "rawType": "object",
         "type": "string"
        },
        {
         "name": "campaign",
         "rawType": "int64",
         "type": "integer"
        },
        {
         "name": "pdays",
         "rawType": "int64",
         "type": "integer"
        },
        {
         "name": "previous",
         "rawType": "int64",
         "type": "integer"
        },
        {
         "name": "poutcome",
         "rawType": "object",
         "type": "string"
        },
        {
         "name": "response",
         "rawType": "object",
         "type": "string"
        },
        {
         "name": "Job",
         "rawType": "object",
         "type": "string"
        },
        {
         "name": "Education",
         "rawType": "object",
         "type": "string"
        }
       ],
       "ref": "63cfec65-19ed-4236-9511-c6cf770b7e45",
       "rows": [
        [
         "0",
         "1",
         "58.0",
         "100000",
         "2143",
         "married",
         "yes",
         "no",
         "yes",
         "no",
         "unknown",
         "5",
         "may, 2017",
         "261 sec",
         "1",
         "-1",
         "0",
         "unknown",
         "no",
         "management",
         "tertiary"
        ],
        [
         "1",
         "2",
         "44.0",
         "60000",
         "29",
         "single",
         "yes",
         "no",
         "yes",
         "no",
         "unknown",
         "5",
         "may, 2017",
         "151 sec",
         "1",
         "-1",
         "0",
         "unknown",
         "no",
         "technician",
         "secondary"
        ],
        [
         "2",
         "3",
         "33.0",
         "120000",
         "2",
         "married",
         "yes",
         "no",
         "yes",
         "yes",
         "unknown",
         "5",
         "may, 2017",
         "76 sec",
         "1",
         "-1",
         "0",
         "unknown",
         "no",
         "entrepreneur",
         "secondary"
        ],
        [
         "3",
         "4",
         "47.0",
         "20000",
         "1506",
         "married",
         "no",
         "no",
         "yes",
         "no",
         "unknown",
         "5",
         "may, 2017",
         "92 sec",
         "1",
         "-1",
         "0",
         "unknown",
         "no",
         "blue-collar",
         "unknown"
        ],
        [
         "4",
         "5",
         "33.0",
         "0",
         "1",
         "single",
         "no",
         "no",
         "no",
         "no",
         "unknown",
         "5",
         "may, 2017",
         "198 sec",
         "1",
         "-1",
         "0",
         "unknown",
         "no",
         "unknown",
         "unknown"
        ]
       ],
       "shape": {
        "columns": 20,
        "rows": 5
       }
      },
      "text/html": [
       "<div>\n",
       "<style scoped>\n",
       "    .dataframe tbody tr th:only-of-type {\n",
       "        vertical-align: middle;\n",
       "    }\n",
       "\n",
       "    .dataframe tbody tr th {\n",
       "        vertical-align: top;\n",
       "    }\n",
       "\n",
       "    .dataframe thead th {\n",
       "        text-align: right;\n",
       "    }\n",
       "</style>\n",
       "<table border=\"1\" class=\"dataframe\">\n",
       "  <thead>\n",
       "    <tr style=\"text-align: right;\">\n",
       "      <th></th>\n",
       "      <th>customerid</th>\n",
       "      <th>age</th>\n",
       "      <th>salary</th>\n",
       "      <th>balance</th>\n",
       "      <th>marital</th>\n",
       "      <th>targeted</th>\n",
       "      <th>default</th>\n",
       "      <th>housing</th>\n",
       "      <th>loan</th>\n",
       "      <th>contact</th>\n",
       "      <th>day</th>\n",
       "      <th>month</th>\n",
       "      <th>duration</th>\n",
       "      <th>campaign</th>\n",
       "      <th>pdays</th>\n",
       "      <th>previous</th>\n",
       "      <th>poutcome</th>\n",
       "      <th>response</th>\n",
       "      <th>Job</th>\n",
       "      <th>Education</th>\n",
       "    </tr>\n",
       "  </thead>\n",
       "  <tbody>\n",
       "    <tr>\n",
       "      <th>0</th>\n",
       "      <td>1</td>\n",
       "      <td>58.0</td>\n",
       "      <td>100000</td>\n",
       "      <td>2143</td>\n",
       "      <td>married</td>\n",
       "      <td>yes</td>\n",
       "      <td>no</td>\n",
       "      <td>yes</td>\n",
       "      <td>no</td>\n",
       "      <td>unknown</td>\n",
       "      <td>5</td>\n",
       "      <td>may, 2017</td>\n",
       "      <td>261 sec</td>\n",
       "      <td>1</td>\n",
       "      <td>-1</td>\n",
       "      <td>0</td>\n",
       "      <td>unknown</td>\n",
       "      <td>no</td>\n",
       "      <td>management</td>\n",
       "      <td>tertiary</td>\n",
       "    </tr>\n",
       "    <tr>\n",
       "      <th>1</th>\n",
       "      <td>2</td>\n",
       "      <td>44.0</td>\n",
       "      <td>60000</td>\n",
       "      <td>29</td>\n",
       "      <td>single</td>\n",
       "      <td>yes</td>\n",
       "      <td>no</td>\n",
       "      <td>yes</td>\n",
       "      <td>no</td>\n",
       "      <td>unknown</td>\n",
       "      <td>5</td>\n",
       "      <td>may, 2017</td>\n",
       "      <td>151 sec</td>\n",
       "      <td>1</td>\n",
       "      <td>-1</td>\n",
       "      <td>0</td>\n",
       "      <td>unknown</td>\n",
       "      <td>no</td>\n",
       "      <td>technician</td>\n",
       "      <td>secondary</td>\n",
       "    </tr>\n",
       "    <tr>\n",
       "      <th>2</th>\n",
       "      <td>3</td>\n",
       "      <td>33.0</td>\n",
       "      <td>120000</td>\n",
       "      <td>2</td>\n",
       "      <td>married</td>\n",
       "      <td>yes</td>\n",
       "      <td>no</td>\n",
       "      <td>yes</td>\n",
       "      <td>yes</td>\n",
       "      <td>unknown</td>\n",
       "      <td>5</td>\n",
       "      <td>may, 2017</td>\n",
       "      <td>76 sec</td>\n",
       "      <td>1</td>\n",
       "      <td>-1</td>\n",
       "      <td>0</td>\n",
       "      <td>unknown</td>\n",
       "      <td>no</td>\n",
       "      <td>entrepreneur</td>\n",
       "      <td>secondary</td>\n",
       "    </tr>\n",
       "    <tr>\n",
       "      <th>3</th>\n",
       "      <td>4</td>\n",
       "      <td>47.0</td>\n",
       "      <td>20000</td>\n",
       "      <td>1506</td>\n",
       "      <td>married</td>\n",
       "      <td>no</td>\n",
       "      <td>no</td>\n",
       "      <td>yes</td>\n",
       "      <td>no</td>\n",
       "      <td>unknown</td>\n",
       "      <td>5</td>\n",
       "      <td>may, 2017</td>\n",
       "      <td>92 sec</td>\n",
       "      <td>1</td>\n",
       "      <td>-1</td>\n",
       "      <td>0</td>\n",
       "      <td>unknown</td>\n",
       "      <td>no</td>\n",
       "      <td>blue-collar</td>\n",
       "      <td>unknown</td>\n",
       "    </tr>\n",
       "    <tr>\n",
       "      <th>4</th>\n",
       "      <td>5</td>\n",
       "      <td>33.0</td>\n",
       "      <td>0</td>\n",
       "      <td>1</td>\n",
       "      <td>single</td>\n",
       "      <td>no</td>\n",
       "      <td>no</td>\n",
       "      <td>no</td>\n",
       "      <td>no</td>\n",
       "      <td>unknown</td>\n",
       "      <td>5</td>\n",
       "      <td>may, 2017</td>\n",
       "      <td>198 sec</td>\n",
       "      <td>1</td>\n",
       "      <td>-1</td>\n",
       "      <td>0</td>\n",
       "      <td>unknown</td>\n",
       "      <td>no</td>\n",
       "      <td>unknown</td>\n",
       "      <td>unknown</td>\n",
       "    </tr>\n",
       "  </tbody>\n",
       "</table>\n",
       "</div>"
      ],
      "text/plain": [
       "   customerid   age  salary  balance  marital targeted default housing loan  \\\n",
       "0           1  58.0  100000     2143  married      yes      no     yes   no   \n",
       "1           2  44.0   60000       29   single      yes      no     yes   no   \n",
       "2           3  33.0  120000        2  married      yes      no     yes  yes   \n",
       "3           4  47.0   20000     1506  married       no      no     yes   no   \n",
       "4           5  33.0       0        1   single       no      no      no   no   \n",
       "\n",
       "   contact  day      month duration  campaign  pdays  previous poutcome  \\\n",
       "0  unknown    5  may, 2017  261 sec         1     -1         0  unknown   \n",
       "1  unknown    5  may, 2017  151 sec         1     -1         0  unknown   \n",
       "2  unknown    5  may, 2017   76 sec         1     -1         0  unknown   \n",
       "3  unknown    5  may, 2017   92 sec         1     -1         0  unknown   \n",
       "4  unknown    5  may, 2017  198 sec         1     -1         0  unknown   \n",
       "\n",
       "  response           Job  Education  \n",
       "0       no    management   tertiary  \n",
       "1       no    technician  secondary  \n",
       "2       no  entrepreneur  secondary  \n",
       "3       no   blue-collar    unknown  \n",
       "4       no       unknown    unknown  "
      ]
     },
     "execution_count": 13,
     "metadata": {},
     "output_type": "execute_result"
    }
   ],
   "source": [
    "bank_target = bank_target[~bank_target.age.isnull()].copy()\n",
    "bank_target.head(5)"
   ]
  },
  {
   "cell_type": "code",
   "execution_count": 14,
   "id": "6900bf01",
   "metadata": {},
   "outputs": [
    {
     "name": "stdout",
     "output_type": "stream",
     "text": [
      "0\n",
      "(45191, 20)\n"
     ]
    }
   ],
   "source": [
    "print(bank_target.age.isnull().sum())\n",
    "print(bank_target.shape)"
   ]
  },
  {
   "cell_type": "markdown",
   "id": "f7c49082",
   "metadata": {},
   "source": [
    "Let's move to the month since it's something that we can take from a mean values\n",
    "For all the NA vules let's replace them with the highes mean value"
   ]
  },
  {
   "cell_type": "markdown",
   "id": "b39d9439",
   "metadata": {},
   "source": [
    "This is a MAR (Missing at Random) as we can make out the missing data of take values from a logic "
   ]
  },
  {
   "cell_type": "code",
   "execution_count": 15,
   "id": "56476eb0",
   "metadata": {},
   "outputs": [
    {
     "data": {
      "text/plain": [
       "np.int64(50)"
      ]
     },
     "execution_count": 15,
     "metadata": {},
     "output_type": "execute_result"
    }
   ],
   "source": [
    "bank_target.month.isnull().sum()"
   ]
  },
  {
   "cell_type": "code",
   "execution_count": 16,
   "id": "c58528b6",
   "metadata": {},
   "outputs": [
    {
     "data": {
      "application/vnd.microsoft.datawrangler.viewer.v0+json": {
       "columns": [
        {
         "name": "month",
         "rawType": "object",
         "type": "string"
        },
        {
         "name": "proportion",
         "rawType": "float64",
         "type": "float"
        }
       ],
       "ref": "70b191aa-23b4-47cd-82b1-3f731b963ef4",
       "rows": [
        [
         "may, 2017",
         "0.30437961055359875"
        ],
        [
         "jul, 2017",
         "0.15252209742805875"
        ],
        [
         "aug, 2017",
         "0.1381227708734853"
        ],
        [
         "jun, 2017",
         "0.11814093617775415"
        ],
        [
         "nov, 2017",
         "0.08788019760306595"
        ],
        [
         "apr, 2017",
         "0.06490773354600031"
        ],
        [
         "feb, 2017",
         "0.05861633548215591"
        ],
        [
         "jan, 2017",
         "0.031058239737710727"
        ],
        [
         "oct, 2017",
         "0.016326621031877892"
        ],
        [
         "sep, 2017",
         "0.012760018608360471"
        ],
        [
         "mar, 2017",
         "0.010544737599964556"
        ],
        [
         "dec, 2017",
         "0.004740701357967258"
        ]
       ],
       "shape": {
        "columns": 1,
        "rows": 12
       }
      },
      "text/plain": [
       "month\n",
       "may, 2017    0.304380\n",
       "jul, 2017    0.152522\n",
       "aug, 2017    0.138123\n",
       "jun, 2017    0.118141\n",
       "nov, 2017    0.087880\n",
       "apr, 2017    0.064908\n",
       "feb, 2017    0.058616\n",
       "jan, 2017    0.031058\n",
       "oct, 2017    0.016327\n",
       "sep, 2017    0.012760\n",
       "mar, 2017    0.010545\n",
       "dec, 2017    0.004741\n",
       "Name: proportion, dtype: float64"
      ]
     },
     "execution_count": 16,
     "metadata": {},
     "output_type": "execute_result"
    }
   ],
   "source": [
    "bank_target.month.value_counts(normalize=True)"
   ]
  },
  {
   "cell_type": "code",
   "execution_count": 17,
   "id": "ef574fa2",
   "metadata": {},
   "outputs": [
    {
     "data": {
      "application/vnd.microsoft.datawrangler.viewer.v0+json": {
       "columns": [
        {
         "name": "index",
         "rawType": "int64",
         "type": "integer"
        },
        {
         "name": "month",
         "rawType": "object",
         "type": "string"
        }
       ],
       "ref": "589c8de7-41c2-48fa-b341-9b0ff4899987",
       "rows": [
        [
         "0",
         "may, 2017"
        ]
       ],
       "shape": {
        "columns": 1,
        "rows": 1
       }
      },
      "text/plain": [
       "0    may, 2017\n",
       "Name: month, dtype: object"
      ]
     },
     "execution_count": 17,
     "metadata": {},
     "output_type": "execute_result"
    }
   ],
   "source": [
    "bank_target.month.mode()  ##This is to get the highest value"
   ]
  },
  {
   "cell_type": "code",
   "execution_count": 18,
   "id": "b536a63b",
   "metadata": {},
   "outputs": [
    {
     "data": {
      "text/plain": [
       "'may, 2017'"
      ]
     },
     "execution_count": 18,
     "metadata": {},
     "output_type": "execute_result"
    }
   ],
   "source": [
    "month_mode = bank_target.month.mode()[0]  ##We use fillna to replace all the values where is there null value. And take the highest count as [0]\n",
    "month_mode"
   ]
  },
  {
   "cell_type": "code",
   "execution_count": 19,
   "id": "bb1b11d8",
   "metadata": {},
   "outputs": [
    {
     "name": "stderr",
     "output_type": "stream",
     "text": [
      "C:\\Users\\RUSHANK\\AppData\\Local\\Temp\\ipykernel_5876\\3365498652.py:1: FutureWarning: A value is trying to be set on a copy of a DataFrame or Series through chained assignment using an inplace method.\n",
      "The behavior will change in pandas 3.0. This inplace method will never work because the intermediate object on which we are setting values always behaves as a copy.\n",
      "\n",
      "For example, when doing 'df[col].method(value, inplace=True)', try using 'df.method({col: value}, inplace=True)' or df[col] = df[col].method(value) instead, to perform the operation inplace on the original object.\n",
      "\n",
      "\n",
      "  bank_target.month.fillna(month_mode, inplace = True)\n"
     ]
    }
   ],
   "source": [
    "bank_target.month.fillna(month_mode, inplace = True)"
   ]
  },
  {
   "cell_type": "code",
   "execution_count": 20,
   "id": "c40bc3b3",
   "metadata": {},
   "outputs": [
    {
     "data": {
      "application/vnd.microsoft.datawrangler.viewer.v0+json": {
       "columns": [
        {
         "name": "month",
         "rawType": "object",
         "type": "string"
        },
        {
         "name": "proportion",
         "rawType": "float64",
         "type": "float"
        }
       ],
       "ref": "1b59b0ba-8505-493d-bcda-801e3db45db6",
       "rows": [
        [
         "may, 2017",
         "0.30514925538270893"
        ],
        [
         "jul, 2017",
         "0.15235334469252726"
        ],
        [
         "aug, 2017",
         "0.13796994976875926"
        ],
        [
         "jun, 2017",
         "0.11801022327454581"
        ],
        [
         "nov, 2017",
         "0.08778296563475028"
        ],
        [
         "apr, 2017",
         "0.06483591865636963"
        ],
        [
         "feb, 2017",
         "0.05855148148967715"
        ],
        [
         "jan, 2017",
         "0.031023876435573455"
        ],
        [
         "oct, 2017",
         "0.016308557013564647"
        ],
        [
         "sep, 2017",
         "0.012745900732446726"
        ],
        [
         "mar, 2017",
         "0.010533070744174726"
        ],
        [
         "dec, 2017",
         "0.004735456174902082"
        ]
       ],
       "shape": {
        "columns": 1,
        "rows": 12
       }
      },
      "text/plain": [
       "month\n",
       "may, 2017    0.305149\n",
       "jul, 2017    0.152353\n",
       "aug, 2017    0.137970\n",
       "jun, 2017    0.118010\n",
       "nov, 2017    0.087783\n",
       "apr, 2017    0.064836\n",
       "feb, 2017    0.058551\n",
       "jan, 2017    0.031024\n",
       "oct, 2017    0.016309\n",
       "sep, 2017    0.012746\n",
       "mar, 2017    0.010533\n",
       "dec, 2017    0.004735\n",
       "Name: proportion, dtype: float64"
      ]
     },
     "execution_count": 20,
     "metadata": {},
     "output_type": "execute_result"
    }
   ],
   "source": [
    "bank_target.month.value_counts(normalize=True)"
   ]
  },
  {
   "cell_type": "code",
   "execution_count": 21,
   "id": "8f3c5293",
   "metadata": {},
   "outputs": [
    {
     "data": {
      "application/vnd.microsoft.datawrangler.viewer.v0+json": {
       "columns": [
        {
         "name": "index",
         "rawType": "object",
         "type": "string"
        },
        {
         "name": "pdays",
         "rawType": "float64",
         "type": "float"
        }
       ],
       "ref": "f5e59262-3e96-48e9-baba-4f1ddddbc7fd",
       "rows": [
        [
         "count",
         "45191.0"
        ],
        [
         "mean",
         "40.18125290433936"
        ],
        [
         "std",
         "100.0740993839215"
        ],
        [
         "min",
         "-1.0"
        ],
        [
         "25%",
         "-1.0"
        ],
        [
         "50%",
         "-1.0"
        ],
        [
         "75%",
         "-1.0"
        ],
        [
         "max",
         "871.0"
        ]
       ],
       "shape": {
        "columns": 1,
        "rows": 8
       }
      },
      "text/plain": [
       "count    45191.000000\n",
       "mean        40.181253\n",
       "std        100.074099\n",
       "min         -1.000000\n",
       "25%         -1.000000\n",
       "50%         -1.000000\n",
       "75%         -1.000000\n",
       "max        871.000000\n",
       "Name: pdays, dtype: float64"
      ]
     },
     "execution_count": 21,
     "metadata": {},
     "output_type": "execute_result"
    }
   ],
   "source": [
    "bank_target.pdays.describe()"
   ]
  },
  {
   "cell_type": "markdown",
   "id": "4ae10160",
   "metadata": {},
   "source": [
    "Here the -1 represents that the people were not contaced earlier so it's safe to assume that there are missing values.\n",
    "\n",
    "There is no missing values as such but there are indications that tells that the values are missing "
   ]
  },
  {
   "cell_type": "markdown",
   "id": "ee12d356",
   "metadata": {},
   "source": [
    "What we want is to the missing values must not be ignored in the calculations\n",
    "-- How to acheive this \n",
    "\n",
    "    Treat the -1 values with NaN values (make them missing)"
   ]
  },
  {
   "cell_type": "code",
   "execution_count": 22,
   "id": "f283dd9a",
   "metadata": {},
   "outputs": [
    {
     "data": {
      "application/vnd.microsoft.datawrangler.viewer.v0+json": {
       "columns": [
        {
         "name": "index",
         "rawType": "object",
         "type": "string"
        },
        {
         "name": "pdays",
         "rawType": "float64",
         "type": "float"
        }
       ],
       "ref": "eb3882e0-0e35-4690-8332-7ab3158343cb",
       "rows": [
        [
         "count",
         "8252.0"
        ],
        [
         "mean",
         "224.52375181774116"
        ],
        [
         "std",
         "115.20271497174637"
        ],
        [
         "min",
         "1.0"
        ],
        [
         "25%",
         "133.0"
        ],
        [
         "50%",
         "194.5"
        ],
        [
         "75%",
         "327.0"
        ],
        [
         "max",
         "871.0"
        ]
       ],
       "shape": {
        "columns": 1,
        "rows": 8
       }
      },
      "text/plain": [
       "count    8252.000000\n",
       "mean      224.523752\n",
       "std       115.202715\n",
       "min         1.000000\n",
       "25%       133.000000\n",
       "50%       194.500000\n",
       "75%       327.000000\n",
       "max       871.000000\n",
       "Name: pdays, dtype: float64"
      ]
     },
     "execution_count": 22,
     "metadata": {},
     "output_type": "execute_result"
    }
   ],
   "source": [
    "bank_target.loc[bank_target.pdays<0, 'pdays'] = np.nan\n",
    "bank_target.pdays.describe()"
   ]
  },
  {
   "cell_type": "code",
   "execution_count": 23,
   "id": "79be46bf",
   "metadata": {},
   "outputs": [
    {
     "data": {
      "application/vnd.microsoft.datawrangler.viewer.v0+json": {
       "columns": [
        {
         "name": "index",
         "rawType": "object",
         "type": "string"
        },
        {
         "name": "0",
         "rawType": "int64",
         "type": "integer"
        }
       ],
       "ref": "dd7aff59-96ad-4faf-bbbd-b09292cc4e94",
       "rows": [
        [
         "customerid",
         "0"
        ],
        [
         "age",
         "0"
        ],
        [
         "salary",
         "0"
        ],
        [
         "balance",
         "0"
        ],
        [
         "marital",
         "0"
        ],
        [
         "targeted",
         "0"
        ],
        [
         "default",
         "0"
        ],
        [
         "housing",
         "0"
        ],
        [
         "loan",
         "0"
        ],
        [
         "contact",
         "0"
        ],
        [
         "day",
         "0"
        ],
        [
         "month",
         "0"
        ],
        [
         "duration",
         "0"
        ],
        [
         "campaign",
         "0"
        ],
        [
         "pdays",
         "36939"
        ],
        [
         "previous",
         "0"
        ],
        [
         "poutcome",
         "0"
        ],
        [
         "response",
         "30"
        ],
        [
         "Job",
         "0"
        ],
        [
         "Education",
         "0"
        ]
       ],
       "shape": {
        "columns": 1,
        "rows": 20
       }
      },
      "text/plain": [
       "customerid        0\n",
       "age               0\n",
       "salary            0\n",
       "balance           0\n",
       "marital           0\n",
       "targeted          0\n",
       "default           0\n",
       "housing           0\n",
       "loan              0\n",
       "contact           0\n",
       "day               0\n",
       "month             0\n",
       "duration          0\n",
       "campaign          0\n",
       "pdays         36939\n",
       "previous          0\n",
       "poutcome          0\n",
       "response         30\n",
       "Job               0\n",
       "Education         0\n",
       "dtype: int64"
      ]
     },
     "execution_count": 23,
     "metadata": {},
     "output_type": "execute_result"
    }
   ],
   "source": [
    "bank_target.isnull().sum()"
   ]
  },
  {
   "cell_type": "markdown",
   "id": "fd8255e3",
   "metadata": {},
   "source": [
    "Handling outliers \n",
    "\n"
   ]
  },
  {
   "cell_type": "code",
   "execution_count": 24,
   "id": "22906e73",
   "metadata": {},
   "outputs": [
    {
     "data": {
      "application/vnd.microsoft.datawrangler.viewer.v0+json": {
       "columns": [
        {
         "name": "index",
         "rawType": "object",
         "type": "string"
        },
        {
         "name": "age",
         "rawType": "float64",
         "type": "float"
        }
       ],
       "ref": "8a4f25d4-7324-444b-a461-e37a1cb3b609",
       "rows": [
        [
         "count",
         "45191.0"
        ],
        [
         "mean",
         "40.93565090394105"
        ],
        [
         "std",
         "10.619197578972633"
        ],
        [
         "min",
         "18.0"
        ],
        [
         "25%",
         "33.0"
        ],
        [
         "50%",
         "39.0"
        ],
        [
         "75%",
         "48.0"
        ],
        [
         "max",
         "95.0"
        ]
       ],
       "shape": {
        "columns": 1,
        "rows": 8
       }
      },
      "text/plain": [
       "count    45191.000000\n",
       "mean        40.935651\n",
       "std         10.619198\n",
       "min         18.000000\n",
       "25%         33.000000\n",
       "50%         39.000000\n",
       "75%         48.000000\n",
       "max         95.000000\n",
       "Name: age, dtype: float64"
      ]
     },
     "execution_count": 24,
     "metadata": {},
     "output_type": "execute_result"
    }
   ],
   "source": [
    "bank_target.age.describe()"
   ]
  },
  {
   "cell_type": "code",
   "execution_count": 25,
   "id": "f3e020b8",
   "metadata": {},
   "outputs": [
    {
     "data": {
      "text/plain": [
       "<Axes: ylabel='Frequency'>"
      ]
     },
     "execution_count": 25,
     "metadata": {},
     "output_type": "execute_result"
    },
    {
     "data": {
      "image/png": "[encoded data removed]",
      "text/plain": [
       "<Figure size 640x480 with 1 Axes>"
      ]
     },
     "metadata": {},
     "output_type": "display_data"
    }
   ],
   "source": [
    "bank_target.age.plot.hist()\n"
   ]
  },
  {
   "cell_type": "code",
   "execution_count": 26,
   "id": "e60d06cf",
   "metadata": {},
   "outputs": [
    {
     "data": {
      "text/plain": [
       "<Axes: ylabel='age'>"
      ]
     },
     "execution_count": 26,
     "metadata": {},
     "output_type": "execute_result"
    },
    {
     "data": {
      "image/png": "[encoded data removed]",
      "text/plain": [
       "<Figure size 640x480 with 1 Axes>"
      ]
     },
     "metadata": {},
     "output_type": "display_data"
    }
   ],
   "source": [
    "sns.boxplot(bank_target.age)"
   ]
  },
  {
   "cell_type": "code",
   "execution_count": 27,
   "id": "3f402a21",
   "metadata": {},
   "outputs": [
    {
     "data": {
      "application/vnd.microsoft.datawrangler.viewer.v0+json": {
       "columns": [
        {
         "name": "index",
         "rawType": "object",
         "type": "string"
        },
        {
         "name": "balance",
         "rawType": "float64",
         "type": "float"
        }
       ],
       "ref": "19856b49-4331-4db5-a653-0896dde0a0a4",
       "rows": [
        [
         "count",
         "45191.0"
        ],
        [
         "mean",
         "1362.4325197495077"
        ],
        [
         "std",
         "3045.120417121147"
        ],
        [
         "min",
         "-8019.0"
        ],
        [
         "25%",
         "72.0"
        ],
        [
         "50%",
         "448.0"
        ],
        [
         "75%",
         "1428.0"
        ],
        [
         "max",
         "102127.0"
        ]
       ],
       "shape": {
        "columns": 1,
        "rows": 8
       }
      },
      "text/plain": [
       "count     45191.000000\n",
       "mean       1362.432520\n",
       "std        3045.120417\n",
       "min       -8019.000000\n",
       "25%          72.000000\n",
       "50%         448.000000\n",
       "75%        1428.000000\n",
       "max      102127.000000\n",
       "Name: balance, dtype: float64"
      ]
     },
     "execution_count": 27,
     "metadata": {},
     "output_type": "execute_result"
    }
   ],
   "source": [
    "#Let's check for balances \n",
    "\n",
    "bank_target.balance.describe()"
   ]
  },
  {
   "cell_type": "code",
   "execution_count": 28,
   "id": "04ee9e15",
   "metadata": {},
   "outputs": [
    {
     "data": {
      "text/plain": [
       "<Axes: ylabel='balance'>"
      ]
     },
     "execution_count": 28,
     "metadata": {},
     "output_type": "execute_result"
    },
    {
     "data": {
      "image/png": "[encoded data removed]",
      "text/plain": [
       "<Figure size 640x480 with 1 Axes>"
      ]
     },
     "metadata": {},
     "output_type": "display_data"
    }
   ],
   "source": [
    "sns.boxplot(bank_target.balance)"
   ]
  },
  {
   "cell_type": "code",
   "execution_count": 29,
   "id": "d6c65cb6",
   "metadata": {},
   "outputs": [
    {
     "data": {
      "application/vnd.microsoft.datawrangler.viewer.v0+json": {
       "columns": [
        {
         "name": "index",
         "rawType": "float64",
         "type": "float"
        },
        {
         "name": "balance",
         "rawType": "float64",
         "type": "float"
        }
       ],
       "ref": "b2ae27d8-4eb5-49e3-b983-461ac548123a",
       "rows": [
        [
         "0.5",
         "448.0"
        ],
        [
         "0.7",
         "1126.0"
        ],
        [
         "0.9",
         "3575.0"
        ],
        [
         "0.95",
         "5768.0"
        ],
        [
         "0.99",
         "13167.09999999997"
        ]
       ],
       "shape": {
        "columns": 1,
        "rows": 5
       }
      },
      "text/plain": [
       "0.50      448.0\n",
       "0.70     1126.0\n",
       "0.90     3575.0\n",
       "0.95     5768.0\n",
       "0.99    13167.1\n",
       "Name: balance, dtype: float64"
      ]
     },
     "execution_count": 29,
     "metadata": {},
     "output_type": "execute_result"
    }
   ],
   "source": [
    "bank_target.balance.quantile([0.5,0.7,0.9,0.95,0.99])"
   ]
  },
  {
   "cell_type": "code",
   "execution_count": 30,
   "id": "e06ee2b2",
   "metadata": {},
   "outputs": [
    {
     "data": {
      "application/vnd.microsoft.datawrangler.viewer.v0+json": {
       "columns": [
        {
         "name": "index",
         "rawType": "object",
         "type": "string"
        },
        {
         "name": "customerid",
         "rawType": "float64",
         "type": "float"
        },
        {
         "name": "age",
         "rawType": "float64",
         "type": "float"
        },
        {
         "name": "salary",
         "rawType": "float64",
         "type": "float"
        },
        {
         "name": "balance",
         "rawType": "float64",
         "type": "float"
        },
        {
         "name": "day",
         "rawType": "float64",
         "type": "float"
        },
        {
         "name": "campaign",
         "rawType": "float64",
         "type": "float"
        },
        {
         "name": "pdays",
         "rawType": "float64",
         "type": "float"
        },
        {
         "name": "previous",
         "rawType": "float64",
         "type": "float"
        }
       ],
       "ref": "06a4fcf3-7fde-446d-aa9e-dfdd8e4543f8",
       "rows": [
        [
         "count",
         "351.0",
         "351.0",
         "351.0",
         "351.0",
         "351.0",
         "351.0",
         "62.0",
         "351.0"
        ],
        [
         "mean",
         "25510.903133903135",
         "45.34188034188034",
         "70008.54700854702",
         "24295.780626780626",
         "16.02279202279202",
         "2.7492877492877494",
         "188.51612903225808",
         "0.5555555555555556"
        ],
        [
         "std",
         "12274.35449227448",
         "12.114333229570235",
         "34378.27280457296",
         "12128.560692621159",
         "8.101819489440569",
         "3.0368862446061526",
         "118.79638758313635",
         "1.7845901223423557"
        ],
        [
         "min",
         "335.0",
         "23.0",
         "0.0",
         "15030.0",
         "1.0",
         "1.0",
         "31.0",
         "0.0"
        ],
        [
         "25%",
         "17915.0",
         "35.0",
         "50000.0",
         "17074.0",
         "9.0",
         "1.0",
         "96.25",
         "0.0"
        ],
        [
         "50%",
         "26479.0",
         "44.0",
         "60000.0",
         "20723.0",
         "18.0",
         "2.0",
         "167.5",
         "0.0"
        ],
        [
         "75%",
         "35416.5",
         "55.0",
         "100000.0",
         "26254.0",
         "21.0",
         "3.0",
         "246.5",
         "0.0"
        ],
        [
         "max",
         "45128.0",
         "84.0",
         "120000.0",
         "102127.0",
         "31.0",
         "31.0",
         "589.0",
         "23.0"
        ]
       ],
       "shape": {
        "columns": 8,
        "rows": 8
       }
      },
      "text/html": [
       "<div>\n",
       "<style scoped>\n",
       "    .dataframe tbody tr th:only-of-type {\n",
       "        vertical-align: middle;\n",
       "    }\n",
       "\n",
       "    .dataframe tbody tr th {\n",
       "        vertical-align: top;\n",
       "    }\n",
       "\n",
       "    .dataframe thead th {\n",
       "        text-align: right;\n",
       "    }\n",
       "</style>\n",
       "<table border=\"1\" class=\"dataframe\">\n",
       "  <thead>\n",
       "    <tr style=\"text-align: right;\">\n",
       "      <th></th>\n",
       "      <th>customerid</th>\n",
       "      <th>age</th>\n",
       "      <th>salary</th>\n",
       "      <th>balance</th>\n",
       "      <th>day</th>\n",
       "      <th>campaign</th>\n",
       "      <th>pdays</th>\n",
       "      <th>previous</th>\n",
       "    </tr>\n",
       "  </thead>\n",
       "  <tbody>\n",
       "    <tr>\n",
       "      <th>count</th>\n",
       "      <td>351.000000</td>\n",
       "      <td>351.000000</td>\n",
       "      <td>351.000000</td>\n",
       "      <td>351.000000</td>\n",
       "      <td>351.000000</td>\n",
       "      <td>351.000000</td>\n",
       "      <td>62.000000</td>\n",
       "      <td>351.000000</td>\n",
       "    </tr>\n",
       "    <tr>\n",
       "      <th>mean</th>\n",
       "      <td>25510.903134</td>\n",
       "      <td>45.341880</td>\n",
       "      <td>70008.547009</td>\n",
       "      <td>24295.780627</td>\n",
       "      <td>16.022792</td>\n",
       "      <td>2.749288</td>\n",
       "      <td>188.516129</td>\n",
       "      <td>0.555556</td>\n",
       "    </tr>\n",
       "    <tr>\n",
       "      <th>std</th>\n",
       "      <td>12274.354492</td>\n",
       "      <td>12.114333</td>\n",
       "      <td>34378.272805</td>\n",
       "      <td>12128.560693</td>\n",
       "      <td>8.101819</td>\n",
       "      <td>3.036886</td>\n",
       "      <td>118.796388</td>\n",
       "      <td>1.784590</td>\n",
       "    </tr>\n",
       "    <tr>\n",
       "      <th>min</th>\n",
       "      <td>335.000000</td>\n",
       "      <td>23.000000</td>\n",
       "      <td>0.000000</td>\n",
       "      <td>15030.000000</td>\n",
       "      <td>1.000000</td>\n",
       "      <td>1.000000</td>\n",
       "      <td>31.000000</td>\n",
       "      <td>0.000000</td>\n",
       "    </tr>\n",
       "    <tr>\n",
       "      <th>25%</th>\n",
       "      <td>17915.000000</td>\n",
       "      <td>35.000000</td>\n",
       "      <td>50000.000000</td>\n",
       "      <td>17074.000000</td>\n",
       "      <td>9.000000</td>\n",
       "      <td>1.000000</td>\n",
       "      <td>96.250000</td>\n",
       "      <td>0.000000</td>\n",
       "    </tr>\n",
       "    <tr>\n",
       "      <th>50%</th>\n",
       "      <td>26479.000000</td>\n",
       "      <td>44.000000</td>\n",
       "      <td>60000.000000</td>\n",
       "      <td>20723.000000</td>\n",
       "      <td>18.000000</td>\n",
       "      <td>2.000000</td>\n",
       "      <td>167.500000</td>\n",
       "      <td>0.000000</td>\n",
       "    </tr>\n",
       "    <tr>\n",
       "      <th>75%</th>\n",
       "      <td>35416.500000</td>\n",
       "      <td>55.000000</td>\n",
       "      <td>100000.000000</td>\n",
       "      <td>26254.000000</td>\n",
       "      <td>21.000000</td>\n",
       "      <td>3.000000</td>\n",
       "      <td>246.500000</td>\n",
       "      <td>0.000000</td>\n",
       "    </tr>\n",
       "    <tr>\n",
       "      <th>max</th>\n",
       "      <td>45128.000000</td>\n",
       "      <td>84.000000</td>\n",
       "      <td>120000.000000</td>\n",
       "      <td>102127.000000</td>\n",
       "      <td>31.000000</td>\n",
       "      <td>31.000000</td>\n",
       "      <td>589.000000</td>\n",
       "      <td>23.000000</td>\n",
       "    </tr>\n",
       "  </tbody>\n",
       "</table>\n",
       "</div>"
      ],
      "text/plain": [
       "         customerid         age         salary        balance         day  \\\n",
       "count    351.000000  351.000000     351.000000     351.000000  351.000000   \n",
       "mean   25510.903134   45.341880   70008.547009   24295.780627   16.022792   \n",
       "std    12274.354492   12.114333   34378.272805   12128.560693    8.101819   \n",
       "min      335.000000   23.000000       0.000000   15030.000000    1.000000   \n",
       "25%    17915.000000   35.000000   50000.000000   17074.000000    9.000000   \n",
       "50%    26479.000000   44.000000   60000.000000   20723.000000   18.000000   \n",
       "75%    35416.500000   55.000000  100000.000000   26254.000000   21.000000   \n",
       "max    45128.000000   84.000000  120000.000000  102127.000000   31.000000   \n",
       "\n",
       "         campaign       pdays    previous  \n",
       "count  351.000000   62.000000  351.000000  \n",
       "mean     2.749288  188.516129    0.555556  \n",
       "std      3.036886  118.796388    1.784590  \n",
       "min      1.000000   31.000000    0.000000  \n",
       "25%      1.000000   96.250000    0.000000  \n",
       "50%      2.000000  167.500000    0.000000  \n",
       "75%      3.000000  246.500000    0.000000  \n",
       "max     31.000000  589.000000   23.000000  "
      ]
     },
     "execution_count": 30,
     "metadata": {},
     "output_type": "execute_result"
    }
   ],
   "source": [
    "bank_target[bank_target['balance'] > 15000].describe()"
   ]
  },
  {
   "cell_type": "code",
   "execution_count": 31,
   "id": "f4de725e",
   "metadata": {},
   "outputs": [
    {
     "data": {
      "application/vnd.microsoft.datawrangler.viewer.v0+json": {
       "columns": [
        {
         "name": "index",
         "rawType": "object",
         "type": "string"
        },
        {
         "name": "salary",
         "rawType": "float64",
         "type": "float"
        }
       ],
       "ref": "17c08cd2-39d5-4b17-a6d6-648de6807a78",
       "rows": [
        [
         "count",
         "45191.0"
        ],
        [
         "mean",
         "57005.974640968336"
        ],
        [
         "std",
         "32084.253153832156"
        ],
        [
         "min",
         "0.0"
        ],
        [
         "25%",
         "20000.0"
        ],
        [
         "50%",
         "60000.0"
        ],
        [
         "75%",
         "70000.0"
        ],
        [
         "max",
         "120000.0"
        ]
       ],
       "shape": {
        "columns": 1,
        "rows": 8
       }
      },
      "text/plain": [
       "count     45191.000000\n",
       "mean      57005.974641\n",
       "std       32084.253154\n",
       "min           0.000000\n",
       "25%       20000.000000\n",
       "50%       60000.000000\n",
       "75%       70000.000000\n",
       "max      120000.000000\n",
       "Name: salary, dtype: float64"
      ]
     },
     "execution_count": 31,
     "metadata": {},
     "output_type": "execute_result"
    }
   ],
   "source": [
    "bank_target.salary.describe()"
   ]
  },
  {
   "cell_type": "code",
   "execution_count": 32,
   "id": "d8d576e3",
   "metadata": {},
   "outputs": [
    {
     "data": {
      "text/plain": [
       "<Axes: ylabel='salary'>"
      ]
     },
     "execution_count": 32,
     "metadata": {},
     "output_type": "execute_result"
    },
    {
     "data": {
      "image/png": "[encoded data removed]",
      "text/plain": [
       "<Figure size 640x480 with 1 Axes>"
      ]
     },
     "metadata": {},
     "output_type": "display_data"
    }
   ],
   "source": [
    "sns.boxplot(bank_target.salary)"
   ]
  },
  {
   "cell_type": "markdown",
   "id": "f6025e22",
   "metadata": {},
   "source": [
    "This is binning the balances into different groups\n",
    "\n",
    "- Binning usually means dividing the values in groups for ease of understanding and also prevents outliers"
   ]
  },
  {
   "cell_type": "code",
   "execution_count": 33,
   "id": "cea5365c",
   "metadata": {},
   "outputs": [
    {
     "data": {
      "application/vnd.microsoft.datawrangler.viewer.v0+json": {
       "columns": [
        {
         "name": "index",
         "rawType": "int64",
         "type": "integer"
        },
        {
         "name": "customerid",
         "rawType": "int64",
         "type": "integer"
        },
        {
         "name": "age",
         "rawType": "float64",
         "type": "float"
        },
        {
         "name": "salary",
         "rawType": "int64",
         "type": "integer"
        },
        {
         "name": "balance",
         "rawType": "int64",
         "type": "integer"
        },
        {
         "name": "marital",
         "rawType": "object",
         "type": "string"
        },
        {
         "name": "targeted",
         "rawType": "object",
         "type": "string"
        },
        {
         "name": "default",
         "rawType": "object",
         "type": "string"
        },
        {
         "name": "housing",
         "rawType": "object",
         "type": "string"
        },
        {
         "name": "loan",
         "rawType": "object",
         "type": "string"
        },
        {
         "name": "contact",
         "rawType": "object",
         "type": "string"
        },
        {
         "name": "day",
         "rawType": "int64",
         "type": "integer"
        },
        {
         "name": "month",
         "rawType": "object",
         "type": "string"
        },
        {
         "name": "duration",
         "rawType": "object",
         "type": "string"
        },
        {
         "name": "campaign",
         "rawType": "int64",
         "type": "integer"
        },
        {
         "name": "pdays",
         "rawType": "float64",
         "type": "float"
        },
        {
         "name": "previous",
         "rawType": "int64",
         "type": "integer"
        },
        {
         "name": "poutcome",
         "rawType": "object",
         "type": "string"
        },
        {
         "name": "response",
         "rawType": "object",
         "type": "string"
        },
        {
         "name": "Job",
         "rawType": "object",
         "type": "string"
        },
        {
         "name": "Education",
         "rawType": "object",
         "type": "string"
        },
        {
         "name": "balanced group",
         "rawType": "category",
         "type": "unknown"
        }
       ],
       "ref": "58b4b8e2-3220-4512-adad-48177bcf3e66",
       "rows": [
        [
         "0",
         "1",
         "58.0",
         "100000",
         "2143",
         "married",
         "yes",
         "no",
         "yes",
         "no",
         "unknown",
         "5",
         "may, 2017",
         "261 sec",
         "1",
         null,
         "0",
         "unknown",
         "no",
         "management",
         "tertiary",
         "Moderate"
        ],
        [
         "1",
         "2",
         "44.0",
         "60000",
         "29",
         "single",
         "yes",
         "no",
         "yes",
         "no",
         "unknown",
         "5",
         "may, 2017",
         "151 sec",
         "1",
         null,
         "0",
         "unknown",
         "no",
         "technician",
         "secondary",
         "very low"
        ],
        [
         "2",
         "3",
         "33.0",
         "120000",
         "2",
         "married",
         "yes",
         "no",
         "yes",
         "yes",
         "unknown",
         "5",
         "may, 2017",
         "76 sec",
         "1",
         null,
         "0",
         "unknown",
         "no",
         "entrepreneur",
         "secondary",
         "very low"
        ],
        [
         "3",
         "4",
         "47.0",
         "20000",
         "1506",
         "married",
         "no",
         "no",
         "yes",
         "no",
         "unknown",
         "5",
         "may, 2017",
         "92 sec",
         "1",
         null,
         "0",
         "unknown",
         "no",
         "blue-collar",
         "unknown",
         "Moderate"
        ],
        [
         "4",
         "5",
         "33.0",
         "0",
         "1",
         "single",
         "no",
         "no",
         "no",
         "no",
         "unknown",
         "5",
         "may, 2017",
         "198 sec",
         "1",
         null,
         "0",
         "unknown",
         "no",
         "unknown",
         "unknown",
         "very low"
        ]
       ],
       "shape": {
        "columns": 21,
        "rows": 5
       }
      },
      "text/html": [
       "<div>\n",
       "<style scoped>\n",
       "    .dataframe tbody tr th:only-of-type {\n",
       "        vertical-align: middle;\n",
       "    }\n",
       "\n",
       "    .dataframe tbody tr th {\n",
       "        vertical-align: top;\n",
       "    }\n",
       "\n",
       "    .dataframe thead th {\n",
       "        text-align: right;\n",
       "    }\n",
       "</style>\n",
       "<table border=\"1\" class=\"dataframe\">\n",
       "  <thead>\n",
       "    <tr style=\"text-align: right;\">\n",
       "      <th></th>\n",
       "      <th>customerid</th>\n",
       "      <th>age</th>\n",
       "      <th>salary</th>\n",
       "      <th>balance</th>\n",
       "      <th>marital</th>\n",
       "      <th>targeted</th>\n",
       "      <th>default</th>\n",
       "      <th>housing</th>\n",
       "      <th>loan</th>\n",
       "      <th>contact</th>\n",
       "      <th>...</th>\n",
       "      <th>month</th>\n",
       "      <th>duration</th>\n",
       "      <th>campaign</th>\n",
       "      <th>pdays</th>\n",
       "      <th>previous</th>\n",
       "      <th>poutcome</th>\n",
       "      <th>response</th>\n",
       "      <th>Job</th>\n",
       "      <th>Education</th>\n",
       "      <th>balanced group</th>\n",
       "    </tr>\n",
       "  </thead>\n",
       "  <tbody>\n",
       "    <tr>\n",
       "      <th>0</th>\n",
       "      <td>1</td>\n",
       "      <td>58.0</td>\n",
       "      <td>100000</td>\n",
       "      <td>2143</td>\n",
       "      <td>married</td>\n",
       "      <td>yes</td>\n",
       "      <td>no</td>\n",
       "      <td>yes</td>\n",
       "      <td>no</td>\n",
       "      <td>unknown</td>\n",
       "      <td>...</td>\n",
       "      <td>may, 2017</td>\n",
       "      <td>261 sec</td>\n",
       "      <td>1</td>\n",
       "      <td>NaN</td>\n",
       "      <td>0</td>\n",
       "      <td>unknown</td>\n",
       "      <td>no</td>\n",
       "      <td>management</td>\n",
       "      <td>tertiary</td>\n",
       "      <td>Moderate</td>\n",
       "    </tr>\n",
       "    <tr>\n",
       "      <th>1</th>\n",
       "      <td>2</td>\n",
       "      <td>44.0</td>\n",
       "      <td>60000</td>\n",
       "      <td>29</td>\n",
       "      <td>single</td>\n",
       "      <td>yes</td>\n",
       "      <td>no</td>\n",
       "      <td>yes</td>\n",
       "      <td>no</td>\n",
       "      <td>unknown</td>\n",
       "      <td>...</td>\n",
       "      <td>may, 2017</td>\n",
       "      <td>151 sec</td>\n",
       "      <td>1</td>\n",
       "      <td>NaN</td>\n",
       "      <td>0</td>\n",
       "      <td>unknown</td>\n",
       "      <td>no</td>\n",
       "      <td>technician</td>\n",
       "      <td>secondary</td>\n",
       "      <td>very low</td>\n",
       "    </tr>\n",
       "    <tr>\n",
       "      <th>2</th>\n",
       "      <td>3</td>\n",
       "      <td>33.0</td>\n",
       "      <td>120000</td>\n",
       "      <td>2</td>\n",
       "      <td>married</td>\n",
       "      <td>yes</td>\n",
       "      <td>no</td>\n",
       "      <td>yes</td>\n",
       "      <td>yes</td>\n",
       "      <td>unknown</td>\n",
       "      <td>...</td>\n",
       "      <td>may, 2017</td>\n",
       "      <td>76 sec</td>\n",
       "      <td>1</td>\n",
       "      <td>NaN</td>\n",
       "      <td>0</td>\n",
       "      <td>unknown</td>\n",
       "      <td>no</td>\n",
       "      <td>entrepreneur</td>\n",
       "      <td>secondary</td>\n",
       "      <td>very low</td>\n",
       "    </tr>\n",
       "    <tr>\n",
       "      <th>3</th>\n",
       "      <td>4</td>\n",
       "      <td>47.0</td>\n",
       "      <td>20000</td>\n",
       "      <td>1506</td>\n",
       "      <td>married</td>\n",
       "      <td>no</td>\n",
       "      <td>no</td>\n",
       "      <td>yes</td>\n",
       "      <td>no</td>\n",
       "      <td>unknown</td>\n",
       "      <td>...</td>\n",
       "      <td>may, 2017</td>\n",
       "      <td>92 sec</td>\n",
       "      <td>1</td>\n",
       "      <td>NaN</td>\n",
       "      <td>0</td>\n",
       "      <td>unknown</td>\n",
       "      <td>no</td>\n",
       "      <td>blue-collar</td>\n",
       "      <td>unknown</td>\n",
       "      <td>Moderate</td>\n",
       "    </tr>\n",
       "    <tr>\n",
       "      <th>4</th>\n",
       "      <td>5</td>\n",
       "      <td>33.0</td>\n",
       "      <td>0</td>\n",
       "      <td>1</td>\n",
       "      <td>single</td>\n",
       "      <td>no</td>\n",
       "      <td>no</td>\n",
       "      <td>no</td>\n",
       "      <td>no</td>\n",
       "      <td>unknown</td>\n",
       "      <td>...</td>\n",
       "      <td>may, 2017</td>\n",
       "      <td>198 sec</td>\n",
       "      <td>1</td>\n",
       "      <td>NaN</td>\n",
       "      <td>0</td>\n",
       "      <td>unknown</td>\n",
       "      <td>no</td>\n",
       "      <td>unknown</td>\n",
       "      <td>unknown</td>\n",
       "      <td>very low</td>\n",
       "    </tr>\n",
       "  </tbody>\n",
       "</table>\n",
       "<p>5 rows × 21 columns</p>\n",
       "</div>"
      ],
      "text/plain": [
       "   customerid   age  salary  balance  marital targeted default housing loan  \\\n",
       "0           1  58.0  100000     2143  married      yes      no     yes   no   \n",
       "1           2  44.0   60000       29   single      yes      no     yes   no   \n",
       "2           3  33.0  120000        2  married      yes      no     yes  yes   \n",
       "3           4  47.0   20000     1506  married       no      no     yes   no   \n",
       "4           5  33.0       0        1   single       no      no      no   no   \n",
       "\n",
       "   contact  ...      month duration campaign  pdays  previous  poutcome  \\\n",
       "0  unknown  ...  may, 2017  261 sec        1    NaN         0   unknown   \n",
       "1  unknown  ...  may, 2017  151 sec        1    NaN         0   unknown   \n",
       "2  unknown  ...  may, 2017   76 sec        1    NaN         0   unknown   \n",
       "3  unknown  ...  may, 2017   92 sec        1    NaN         0   unknown   \n",
       "4  unknown  ...  may, 2017  198 sec        1    NaN         0   unknown   \n",
       "\n",
       "  response           Job  Education balanced group  \n",
       "0       no    management   tertiary       Moderate  \n",
       "1       no    technician  secondary       very low  \n",
       "2       no  entrepreneur  secondary       very low  \n",
       "3       no   blue-collar    unknown       Moderate  \n",
       "4       no       unknown    unknown       very low  \n",
       "\n",
       "[5 rows x 21 columns]"
      ]
     },
     "execution_count": 33,
     "metadata": {},
     "output_type": "execute_result"
    }
   ],
   "source": [
    "bins = [0,400,1000,4000,15000,float('inf')]\n",
    "labels = ['very low', 'low','Moderate', 'High', 'Ultra Luxurious']\n",
    "\n",
    "bank_target['balanced group'] = pd.cut(bank_target['balance'], bins=bins, labels=labels)\n",
    "bank_target.head(5)"
   ]
  },
  {
   "cell_type": "code",
   "execution_count": 34,
   "id": "6f9cfa88",
   "metadata": {},
   "outputs": [
    {
     "data": {
      "application/vnd.microsoft.datawrangler.viewer.v0+json": {
       "columns": [
        {
         "name": "index",
         "rawType": "int64",
         "type": "integer"
        },
        {
         "name": "customerid",
         "rawType": "int64",
         "type": "integer"
        },
        {
         "name": "age",
         "rawType": "float64",
         "type": "float"
        },
        {
         "name": "salary",
         "rawType": "int64",
         "type": "integer"
        },
        {
         "name": "balance",
         "rawType": "int64",
         "type": "integer"
        },
        {
         "name": "marital",
         "rawType": "object",
         "type": "string"
        },
        {
         "name": "targeted",
         "rawType": "object",
         "type": "string"
        },
        {
         "name": "default",
         "rawType": "object",
         "type": "string"
        },
        {
         "name": "housing",
         "rawType": "object",
         "type": "string"
        },
        {
         "name": "loan",
         "rawType": "object",
         "type": "string"
        },
        {
         "name": "contact",
         "rawType": "object",
         "type": "string"
        },
        {
         "name": "day",
         "rawType": "int64",
         "type": "integer"
        },
        {
         "name": "month",
         "rawType": "object",
         "type": "string"
        },
        {
         "name": "duration",
         "rawType": "object",
         "type": "string"
        },
        {
         "name": "campaign",
         "rawType": "int64",
         "type": "integer"
        },
        {
         "name": "pdays",
         "rawType": "float64",
         "type": "float"
        },
        {
         "name": "previous",
         "rawType": "int64",
         "type": "integer"
        },
        {
         "name": "poutcome",
         "rawType": "object",
         "type": "string"
        },
        {
         "name": "response",
         "rawType": "object",
         "type": "string"
        },
        {
         "name": "Job",
         "rawType": "object",
         "type": "string"
        },
        {
         "name": "Education",
         "rawType": "object",
         "type": "string"
        },
        {
         "name": "balanced group",
         "rawType": "category",
         "type": "unknown"
        }
       ],
       "ref": "6874ae15-c5f0-4ff6-84e6-4502be1e234b",
       "rows": [
        [
         "34",
         "35",
         "51.0",
         "100000",
         "10635",
         "married",
         "yes",
         "no",
         "yes",
         "no",
         "unknown",
         "5",
         "may, 2017",
         "336 sec",
         "1",
         null,
         "0",
         "unknown",
         "no",
         "management",
         "tertiary",
         "High"
        ],
        [
         "65",
         "66",
         "51.0",
         "100000",
         "6530",
         "married",
         "yes",
         "no",
         "yes",
         "no",
         "unknown",
         "5",
         "may, 2017",
         "91 sec",
         "1",
         null,
         "0",
         "unknown",
         "no",
         "management",
         "tertiary",
         "High"
        ],
        [
         "69",
         "70",
         "35.0",
         "20000",
         "12223",
         "single",
         "yes",
         "no",
         "yes",
         "yes",
         "unknown",
         "5",
         "may, 2017",
         "177 sec",
         "1",
         null,
         "0",
         "unknown",
         "no",
         "blue-collar",
         "secondary",
         "High"
        ],
        [
         "70",
         "71",
         "57.0",
         "20000",
         "5935",
         "married",
         "yes",
         "no",
         "yes",
         "yes",
         "unknown",
         "5",
         "may, 2017",
         "258 sec",
         "1",
         null,
         "0",
         "unknown",
         "no",
         "blue-collar",
         "secondary",
         "High"
        ],
        [
         "205",
         "206",
         "50.0",
         "70000",
         "5699",
         "married",
         "yes",
         "no",
         "yes",
         "no",
         "unknown",
         "5",
         "may, 2017",
         "381 sec",
         "2",
         null,
         "0",
         "unknown",
         "no",
         "services",
         "secondary",
         "High"
        ],
        [
         "334",
         "335",
         "45.0",
         "100000",
         "24598",
         "divorced",
         "no",
         "no",
         "yes",
         "no",
         "unknown",
         "5",
         "may, 2017",
         "313 sec",
         "3",
         null,
         "0",
         "unknown",
         "no",
         "management",
         "tertiary",
         "Ultra Luxurious"
        ],
        [
         "382",
         "383",
         "40.0",
         "100000",
         "8486",
         "married",
         "yes",
         "no",
         "no",
         "no",
         "unknown",
         "6",
         "may, 2017",
         "260 sec",
         "3",
         null,
         "0",
         "unknown",
         "no",
         "management",
         "secondary",
         "High"
        ],
        [
         "391",
         "392",
         "37.0",
         "60000",
         "8730",
         "married",
         "yes",
         "no",
         "yes",
         "no",
         "unknown",
         "6",
         "may, 2017",
         "149 sec",
         "1",
         null,
         "0",
         "unknown",
         "no",
         "technician",
         "tertiary",
         "High"
        ],
        [
         "446",
         "447",
         "39.0",
         "60000",
         "45248",
         "single",
         "no",
         "no",
         "yes",
         "no",
         "unknown",
         "6",
         "may, 2017",
         "1623 sec",
         "1",
         null,
         "0",
         "unknown",
         "yes",
         "technician",
         "unknown",
         "Ultra Luxurious"
        ],
        [
         "493",
         "494",
         "55.0",
         "8000",
         "5345",
         "married",
         "yes",
         "no",
         "no",
         "no",
         "unknown",
         "6",
         "may, 2017",
         "278 sec",
         "1",
         null,
         "0",
         "unknown",
         "no",
         "unemployed",
         "tertiary",
         "High"
        ],
        [
         "510",
         "511",
         "58.0",
         "55000",
         "5435",
         "married",
         "yes",
         "no",
         "yes",
         "no",
         "unknown",
         "6",
         "may, 2017",
         "118 sec",
         "1",
         null,
         "0",
         "unknown",
         "no",
         "retired",
         "secondary",
         "High"
        ],
        [
         "565",
         "566",
         "57.0",
         "20000",
         "5431",
         "married",
         "yes",
         "no",
         "yes",
         "yes",
         "unknown",
         "6",
         "may, 2017",
         "383 sec",
         "1",
         null,
         "0",
         "unknown",
         "no",
         "blue-collar",
         "primary",
         "High"
        ],
        [
         "569",
         "570",
         "28.0",
         "70000",
         "5090",
         "single",
         "yes",
         "no",
         "yes",
         "no",
         "unknown",
         "6",
         "may, 2017",
         "1297 sec",
         "3",
         null,
         "0",
         "unknown",
         "yes",
         "services",
         "secondary",
         "High"
        ],
        [
         "757",
         "758",
         "55.0",
         "16000",
         "6920",
         "divorced",
         "no",
         "no",
         "yes",
         "no",
         "unknown",
         "6",
         "may, 2017",
         "406 sec",
         "3",
         null,
         "0",
         "unknown",
         "no",
         "housemaid",
         "tertiary",
         "High"
        ],
        [
         "908",
         "909",
         "44.0",
         "55000",
         "7624",
         "married",
         "yes",
         "no",
         "no",
         "no",
         "unknown",
         "7",
         "may, 2017",
         "126 sec",
         "5",
         null,
         "0",
         "unknown",
         "no",
         "retired",
         "secondary",
         "High"
        ],
        [
         "916",
         "917",
         "40.0",
         "70000",
         "8823",
         "single",
         "no",
         "no",
         "yes",
         "no",
         "unknown",
         "7",
         "may, 2017",
         "378 sec",
         "1",
         null,
         "0",
         "unknown",
         "no",
         "services",
         "tertiary",
         "High"
        ],
        [
         "920",
         "921",
         "44.0",
         "50000",
         "58544",
         "married",
         "yes",
         "no",
         "yes",
         "no",
         "unknown",
         "7",
         "may, 2017",
         "144 sec",
         "2",
         null,
         "0",
         "unknown",
         "no",
         "admin.",
         "secondary",
         "Ultra Luxurious"
        ],
        [
         "1120",
         "1121",
         "57.0",
         "55000",
         "8266",
         "divorced",
         "yes",
         "no",
         "yes",
         "no",
         "unknown",
         "7",
         "may, 2017",
         "71 sec",
         "1",
         null,
         "0",
         "unknown",
         "no",
         "retired",
         "secondary",
         "High"
        ],
        [
         "1213",
         "1214",
         "31.0",
         "100000",
         "7444",
         "single",
         "no",
         "no",
         "yes",
         "yes",
         "unknown",
         "8",
         "may, 2017",
         "20 sec",
         "1",
         null,
         "0",
         "unknown",
         "no",
         "management",
         "tertiary",
         "High"
        ],
        [
         "1229",
         "1230",
         "36.0",
         "60000",
         "5611",
         "married",
         "yes",
         "no",
         "yes",
         "no",
         "unknown",
         "8",
         "may, 2017",
         "39 sec",
         "1",
         null,
         "0",
         "unknown",
         "no",
         "technician",
         "secondary",
         "High"
        ],
        [
         "1236",
         "1237",
         "34.0",
         "120000",
         "10350",
         "married",
         "yes",
         "no",
         "yes",
         "no",
         "unknown",
         "8",
         "may, 2017",
         "187 sec",
         "3",
         null,
         "0",
         "unknown",
         "no",
         "entrepreneur",
         "tertiary",
         "High"
        ],
        [
         "1241",
         "1242",
         "29.0",
         "20000",
         "5903",
         "married",
         "yes",
         "no",
         "yes",
         "no",
         "unknown",
         "8",
         "may, 2017",
         "194 sec",
         "1",
         null,
         "0",
         "unknown",
         "no",
         "blue-collar",
         "secondary",
         "High"
        ],
        [
         "1272",
         "1273",
         "30.0",
         "100000",
         "5956",
         "single",
         "no",
         "no",
         "yes",
         "no",
         "unknown",
         "8",
         "may, 2017",
         "255 sec",
         "1",
         null,
         "0",
         "unknown",
         "no",
         "management",
         "tertiary",
         "High"
        ],
        [
         "1307",
         "1308",
         "49.0",
         "16000",
         "7317",
         "married",
         "yes",
         "no",
         "yes",
         "no",
         "unknown",
         "8",
         "may, 2017",
         "140 sec",
         "1",
         null,
         "0",
         "unknown",
         "no",
         "housemaid",
         "secondary",
         "High"
        ],
        [
         "1438",
         "1439",
         "39.0",
         "8000",
         "6322",
         "divorced",
         "yes",
         "no",
         "no",
         "no",
         "unknown",
         "8",
         "may, 2017",
         "184 sec",
         "1",
         null,
         "0",
         "unknown",
         "no",
         "unemployed",
         "secondary",
         "High"
        ],
        [
         "1470",
         "1471",
         "60.0",
         "20000",
         "7601",
         "divorced",
         "yes",
         "no",
         "yes",
         "no",
         "unknown",
         "8",
         "may, 2017",
         "285 sec",
         "1",
         null,
         "0",
         "unknown",
         "no",
         "blue-collar",
         "primary",
         "High"
        ],
        [
         "1490",
         "1491",
         "38.0",
         "70000",
         "5873",
         "divorced",
         "yes",
         "no",
         "no",
         "no",
         "unknown",
         "8",
         "may, 2017",
         "191 sec",
         "2",
         null,
         "0",
         "unknown",
         "no",
         "services",
         "secondary",
         "High"
        ],
        [
         "1606",
         "1607",
         "33.0",
         "70000",
         "5034",
         "married",
         "yes",
         "no",
         "yes",
         "no",
         "unknown",
         "8",
         "may, 2017",
         "207 sec",
         "3",
         null,
         "0",
         "unknown",
         "no",
         "services",
         "secondary",
         "High"
        ],
        [
         "1788",
         "1789",
         "32.0",
         "120000",
         "6259",
         "single",
         "no",
         "no",
         "yes",
         "no",
         "unknown",
         "9",
         "may, 2017",
         "230 sec",
         "2",
         null,
         "0",
         "unknown",
         "no",
         "entrepreneur",
         "tertiary",
         "High"
        ],
        [
         "1825",
         "1826",
         "29.0",
         "60000",
         "5406",
         "single",
         "no",
         "no",
         "no",
         "no",
         "unknown",
         "9",
         "may, 2017",
         "530 sec",
         "2",
         null,
         "0",
         "unknown",
         "no",
         "self-employed",
         "tertiary",
         "High"
        ],
        [
         "1843",
         "1844",
         "27.0",
         "8000",
         "7459",
         "married",
         "yes",
         "no",
         "yes",
         "no",
         "unknown",
         "9",
         "may, 2017",
         "407 sec",
         "2",
         null,
         "0",
         "unknown",
         "no",
         "unemployed",
         "primary",
         "High"
        ],
        [
         "1917",
         "1918",
         "35.0",
         "100000",
         "6809",
         "single",
         "yes",
         "no",
         "yes",
         "no",
         "unknown",
         "9",
         "may, 2017",
         "750 sec",
         "7",
         null,
         "0",
         "unknown",
         "no",
         "management",
         "secondary",
         "High"
        ],
        [
         "1964",
         "1965",
         "34.0",
         "20000",
         "6411",
         "married",
         "yes",
         "no",
         "yes",
         "yes",
         "unknown",
         "9",
         "may, 2017",
         "226 sec",
         "2",
         null,
         "0",
         "unknown",
         "no",
         "blue-collar",
         "secondary",
         "High"
        ],
        [
         "1981",
         "1982",
         "45.0",
         "100000",
         "5694",
         "single",
         "no",
         "no",
         "yes",
         "no",
         "unknown",
         "9",
         "may, 2017",
         "214 sec",
         "2",
         null,
         "0",
         "unknown",
         "no",
         "management",
         "tertiary",
         "High"
        ],
        [
         "1997",
         "1998",
         "34.0",
         "50000",
         "9569",
         "divorced",
         "yes",
         "no",
         "yes",
         "no",
         "unknown",
         "9",
         "may, 2017",
         "43 sec",
         "2",
         null,
         "0",
         "unknown",
         "no",
         "admin.",
         "primary",
         "High"
        ],
        [
         "2019",
         "2020",
         "31.0",
         "100000",
         "6248",
         "single",
         "no",
         "no",
         "yes",
         "no",
         "unknown",
         "9",
         "may, 2017",
         "154 sec",
         "2",
         null,
         "0",
         "unknown",
         "no",
         "management",
         "tertiary",
         "High"
        ],
        [
         "2055",
         "2056",
         "51.0",
         "20000",
         "7816",
         "married",
         "yes",
         "no",
         "yes",
         "no",
         "unknown",
         "12",
         "may, 2017",
         "76 sec",
         "2",
         null,
         "0",
         "unknown",
         "no",
         "blue-collar",
         "tertiary",
         "High"
        ],
        [
         "2065",
         "2066",
         "55.0",
         "55000",
         "18722",
         "married",
         "yes",
         "no",
         "yes",
         "no",
         "unknown",
         "12",
         "may, 2017",
         "128 sec",
         "2",
         null,
         "0",
         "unknown",
         "no",
         "retired",
         "secondary",
         "Ultra Luxurious"
        ],
        [
         "2144",
         "2145",
         "31.0",
         "60000",
         "6890",
         "married",
         "yes",
         "no",
         "yes",
         "no",
         "unknown",
         "12",
         "may, 2017",
         "34 sec",
         "1",
         null,
         "0",
         "unknown",
         "no",
         "technician",
         "secondary",
         "High"
        ],
        [
         "2185",
         "2186",
         "49.0",
         "70000",
         "5028",
         "single",
         "yes",
         "no",
         "yes",
         "no",
         "unknown",
         "12",
         "may, 2017",
         "891 sec",
         "1",
         null,
         "0",
         "unknown",
         "no",
         "services",
         "secondary",
         "High"
        ],
        [
         "2278",
         "2279",
         "53.0",
         "20000",
         "6386",
         "married",
         "yes",
         "no",
         "yes",
         "no",
         "unknown",
         "12",
         "may, 2017",
         "170 sec",
         "8",
         null,
         "0",
         "unknown",
         "no",
         "blue-collar",
         "primary",
         "High"
        ],
        [
         "2343",
         "2344",
         "26.0",
         "60000",
         "24299",
         "single",
         "yes",
         "no",
         "yes",
         "no",
         "unknown",
         "13",
         "may, 2017",
         "704 sec",
         "1",
         null,
         "0",
         "unknown",
         "no",
         "technician",
         "secondary",
         "Ultra Luxurious"
        ],
        [
         "2443",
         "2444",
         "58.0",
         "60000",
         "7495",
         "married",
         "yes",
         "no",
         "yes",
         "no",
         "unknown",
         "13",
         "may, 2017",
         "325 sec",
         "1",
         null,
         "0",
         "unknown",
         "no",
         "technician",
         "secondary",
         "High"
        ],
        [
         "2456",
         "2457",
         "59.0",
         "55000",
         "5521",
         "married",
         "yes",
         "no",
         "yes",
         "yes",
         "unknown",
         "13",
         "may, 2017",
         "94 sec",
         "1",
         null,
         "0",
         "unknown",
         "no",
         "retired",
         "primary",
         "High"
        ],
        [
         "2479",
         "2480",
         "59.0",
         "100000",
         "13308",
         "divorced",
         "yes",
         "no",
         "yes",
         "no",
         "unknown",
         "13",
         "may, 2017",
         "131 sec",
         "1",
         null,
         "0",
         "unknown",
         "no",
         "management",
         "primary",
         "High"
        ],
        [
         "2492",
         "2493",
         "44.0",
         "100000",
         "6203",
         "married",
         "yes",
         "no",
         "yes",
         "yes",
         "unknown",
         "13",
         "may, 2017",
         "129 sec",
         "1",
         null,
         "0",
         "unknown",
         "no",
         "management",
         "tertiary",
         "High"
        ],
        [
         "2500",
         "2501",
         "50.0",
         "20000",
         "5356",
         "married",
         "yes",
         "no",
         "no",
         "no",
         "unknown",
         "13",
         "may, 2017",
         "289 sec",
         "1",
         null,
         "0",
         "unknown",
         "no",
         "blue-collar",
         "primary",
         "High"
        ],
        [
         "2512",
         "2513",
         "45.0",
         "20000",
         "8680",
         "married",
         "yes",
         "no",
         "yes",
         "no",
         "unknown",
         "13",
         "may, 2017",
         "503 sec",
         "1",
         null,
         "0",
         "unknown",
         "no",
         "blue-collar",
         "secondary",
         "High"
        ],
        [
         "2554",
         "2555",
         "28.0",
         "60000",
         "26765",
         "single",
         "yes",
         "no",
         "no",
         "no",
         "unknown",
         "13",
         "may, 2017",
         "210 sec",
         "8",
         null,
         "0",
         "unknown",
         "no",
         "technician",
         "secondary",
         "Ultra Luxurious"
        ],
        [
         "2576",
         "2577",
         "51.0",
         "60000",
         "12061",
         "married",
         "yes",
         "no",
         "yes",
         "no",
         "unknown",
         "13",
         "may, 2017",
         "332 sec",
         "1",
         null,
         "0",
         "unknown",
         "no",
         "technician",
         "secondary",
         "High"
        ]
       ],
       "shape": {
        "columns": 21,
        "rows": 2844
       }
      },
      "text/html": [
       "<div>\n",
       "<style scoped>\n",
       "    .dataframe tbody tr th:only-of-type {\n",
       "        vertical-align: middle;\n",
       "    }\n",
       "\n",
       "    .dataframe tbody tr th {\n",
       "        vertical-align: top;\n",
       "    }\n",
       "\n",
       "    .dataframe thead th {\n",
       "        text-align: right;\n",
       "    }\n",
       "</style>\n",
       "<table border=\"1\" class=\"dataframe\">\n",
       "  <thead>\n",
       "    <tr style=\"text-align: right;\">\n",
       "      <th></th>\n",
       "      <th>customerid</th>\n",
       "      <th>age</th>\n",
       "      <th>salary</th>\n",
       "      <th>balance</th>\n",
       "      <th>marital</th>\n",
       "      <th>targeted</th>\n",
       "      <th>default</th>\n",
       "      <th>housing</th>\n",
       "      <th>loan</th>\n",
       "      <th>contact</th>\n",
       "      <th>...</th>\n",
       "      <th>month</th>\n",
       "      <th>duration</th>\n",
       "      <th>campaign</th>\n",
       "      <th>pdays</th>\n",
       "      <th>previous</th>\n",
       "      <th>poutcome</th>\n",
       "      <th>response</th>\n",
       "      <th>Job</th>\n",
       "      <th>Education</th>\n",
       "      <th>balanced group</th>\n",
       "    </tr>\n",
       "  </thead>\n",
       "  <tbody>\n",
       "    <tr>\n",
       "      <th>34</th>\n",
       "      <td>35</td>\n",
       "      <td>51.0</td>\n",
       "      <td>100000</td>\n",
       "      <td>10635</td>\n",
       "      <td>married</td>\n",
       "      <td>yes</td>\n",
       "      <td>no</td>\n",
       "      <td>yes</td>\n",
       "      <td>no</td>\n",
       "      <td>unknown</td>\n",
       "      <td>...</td>\n",
       "      <td>may, 2017</td>\n",
       "      <td>336 sec</td>\n",
       "      <td>1</td>\n",
       "      <td>NaN</td>\n",
       "      <td>0</td>\n",
       "      <td>unknown</td>\n",
       "      <td>no</td>\n",
       "      <td>management</td>\n",
       "      <td>tertiary</td>\n",
       "      <td>High</td>\n",
       "    </tr>\n",
       "    <tr>\n",
       "      <th>65</th>\n",
       "      <td>66</td>\n",
       "      <td>51.0</td>\n",
       "      <td>100000</td>\n",
       "      <td>6530</td>\n",
       "      <td>married</td>\n",
       "      <td>yes</td>\n",
       "      <td>no</td>\n",
       "      <td>yes</td>\n",
       "      <td>no</td>\n",
       "      <td>unknown</td>\n",
       "      <td>...</td>\n",
       "      <td>may, 2017</td>\n",
       "      <td>91 sec</td>\n",
       "      <td>1</td>\n",
       "      <td>NaN</td>\n",
       "      <td>0</td>\n",
       "      <td>unknown</td>\n",
       "      <td>no</td>\n",
       "      <td>management</td>\n",
       "      <td>tertiary</td>\n",
       "      <td>High</td>\n",
       "    </tr>\n",
       "    <tr>\n",
       "      <th>69</th>\n",
       "      <td>70</td>\n",
       "      <td>35.0</td>\n",
       "      <td>20000</td>\n",
       "      <td>12223</td>\n",
       "      <td>single</td>\n",
       "      <td>yes</td>\n",
       "      <td>no</td>\n",
       "      <td>yes</td>\n",
       "      <td>yes</td>\n",
       "      <td>unknown</td>\n",
       "      <td>...</td>\n",
       "      <td>may, 2017</td>\n",
       "      <td>177 sec</td>\n",
       "      <td>1</td>\n",
       "      <td>NaN</td>\n",
       "      <td>0</td>\n",
       "      <td>unknown</td>\n",
       "      <td>no</td>\n",
       "      <td>blue-collar</td>\n",
       "      <td>secondary</td>\n",
       "      <td>High</td>\n",
       "    </tr>\n",
       "    <tr>\n",
       "      <th>70</th>\n",
       "      <td>71</td>\n",
       "      <td>57.0</td>\n",
       "      <td>20000</td>\n",
       "      <td>5935</td>\n",
       "      <td>married</td>\n",
       "      <td>yes</td>\n",
       "      <td>no</td>\n",
       "      <td>yes</td>\n",
       "      <td>yes</td>\n",
       "      <td>unknown</td>\n",
       "      <td>...</td>\n",
       "      <td>may, 2017</td>\n",
       "      <td>258 sec</td>\n",
       "      <td>1</td>\n",
       "      <td>NaN</td>\n",
       "      <td>0</td>\n",
       "      <td>unknown</td>\n",
       "      <td>no</td>\n",
       "      <td>blue-collar</td>\n",
       "      <td>secondary</td>\n",
       "      <td>High</td>\n",
       "    </tr>\n",
       "    <tr>\n",
       "      <th>205</th>\n",
       "      <td>206</td>\n",
       "      <td>50.0</td>\n",
       "      <td>70000</td>\n",
       "      <td>5699</td>\n",
       "      <td>married</td>\n",
       "      <td>yes</td>\n",
       "      <td>no</td>\n",
       "      <td>yes</td>\n",
       "      <td>no</td>\n",
       "      <td>unknown</td>\n",
       "      <td>...</td>\n",
       "      <td>may, 2017</td>\n",
       "      <td>381 sec</td>\n",
       "      <td>2</td>\n",
       "      <td>NaN</td>\n",
       "      <td>0</td>\n",
       "      <td>unknown</td>\n",
       "      <td>no</td>\n",
       "      <td>services</td>\n",
       "      <td>secondary</td>\n",
       "      <td>High</td>\n",
       "    </tr>\n",
       "    <tr>\n",
       "      <th>...</th>\n",
       "      <td>...</td>\n",
       "      <td>...</td>\n",
       "      <td>...</td>\n",
       "      <td>...</td>\n",
       "      <td>...</td>\n",
       "      <td>...</td>\n",
       "      <td>...</td>\n",
       "      <td>...</td>\n",
       "      <td>...</td>\n",
       "      <td>...</td>\n",
       "      <td>...</td>\n",
       "      <td>...</td>\n",
       "      <td>...</td>\n",
       "      <td>...</td>\n",
       "      <td>...</td>\n",
       "      <td>...</td>\n",
       "      <td>...</td>\n",
       "      <td>...</td>\n",
       "      <td>...</td>\n",
       "      <td>...</td>\n",
       "      <td>...</td>\n",
       "    </tr>\n",
       "    <tr>\n",
       "      <th>45118</th>\n",
       "      <td>45119</td>\n",
       "      <td>78.0</td>\n",
       "      <td>55000</td>\n",
       "      <td>14204</td>\n",
       "      <td>married</td>\n",
       "      <td>yes</td>\n",
       "      <td>no</td>\n",
       "      <td>no</td>\n",
       "      <td>no</td>\n",
       "      <td>cellular</td>\n",
       "      <td>...</td>\n",
       "      <td>oct, 2017</td>\n",
       "      <td>2.5 min</td>\n",
       "      <td>1</td>\n",
       "      <td>183.0</td>\n",
       "      <td>1</td>\n",
       "      <td>other</td>\n",
       "      <td>no</td>\n",
       "      <td>retired</td>\n",
       "      <td>primary</td>\n",
       "      <td>High</td>\n",
       "    </tr>\n",
       "    <tr>\n",
       "      <th>45127</th>\n",
       "      <td>45128</td>\n",
       "      <td>67.0</td>\n",
       "      <td>20000</td>\n",
       "      <td>16353</td>\n",
       "      <td>married</td>\n",
       "      <td>yes</td>\n",
       "      <td>no</td>\n",
       "      <td>no</td>\n",
       "      <td>no</td>\n",
       "      <td>cellular</td>\n",
       "      <td>...</td>\n",
       "      <td>oct, 2017</td>\n",
       "      <td>3.71666666666667 min</td>\n",
       "      <td>2</td>\n",
       "      <td>NaN</td>\n",
       "      <td>0</td>\n",
       "      <td>unknown</td>\n",
       "      <td>no</td>\n",
       "      <td>blue-collar</td>\n",
       "      <td>secondary</td>\n",
       "      <td>Ultra Luxurious</td>\n",
       "    </tr>\n",
       "    <tr>\n",
       "      <th>45130</th>\n",
       "      <td>45131</td>\n",
       "      <td>33.0</td>\n",
       "      <td>60000</td>\n",
       "      <td>5083</td>\n",
       "      <td>married</td>\n",
       "      <td>yes</td>\n",
       "      <td>no</td>\n",
       "      <td>no</td>\n",
       "      <td>no</td>\n",
       "      <td>cellular</td>\n",
       "      <td>...</td>\n",
       "      <td>oct, 2017</td>\n",
       "      <td>2.68333333333333 min</td>\n",
       "      <td>1</td>\n",
       "      <td>96.0</td>\n",
       "      <td>2</td>\n",
       "      <td>other</td>\n",
       "      <td>no</td>\n",
       "      <td>technician</td>\n",
       "      <td>secondary</td>\n",
       "      <td>High</td>\n",
       "    </tr>\n",
       "    <tr>\n",
       "      <th>45181</th>\n",
       "      <td>45182</td>\n",
       "      <td>46.0</td>\n",
       "      <td>20000</td>\n",
       "      <td>6879</td>\n",
       "      <td>married</td>\n",
       "      <td>yes</td>\n",
       "      <td>no</td>\n",
       "      <td>no</td>\n",
       "      <td>no</td>\n",
       "      <td>cellular</td>\n",
       "      <td>...</td>\n",
       "      <td>nov, 2017</td>\n",
       "      <td>1.23333333333333 min</td>\n",
       "      <td>2</td>\n",
       "      <td>118.0</td>\n",
       "      <td>3</td>\n",
       "      <td>failure</td>\n",
       "      <td>no</td>\n",
       "      <td>blue-collar</td>\n",
       "      <td>secondary</td>\n",
       "      <td>High</td>\n",
       "    </tr>\n",
       "    <tr>\n",
       "      <th>45208</th>\n",
       "      <td>45209</td>\n",
       "      <td>72.0</td>\n",
       "      <td>55000</td>\n",
       "      <td>5715</td>\n",
       "      <td>married</td>\n",
       "      <td>yes</td>\n",
       "      <td>no</td>\n",
       "      <td>no</td>\n",
       "      <td>no</td>\n",
       "      <td>cellular</td>\n",
       "      <td>...</td>\n",
       "      <td>nov, 2017</td>\n",
       "      <td>18.7833333333333 min</td>\n",
       "      <td>5</td>\n",
       "      <td>184.0</td>\n",
       "      <td>3</td>\n",
       "      <td>success</td>\n",
       "      <td>yes</td>\n",
       "      <td>retired</td>\n",
       "      <td>secondary</td>\n",
       "      <td>High</td>\n",
       "    </tr>\n",
       "  </tbody>\n",
       "</table>\n",
       "<p>2844 rows × 21 columns</p>\n",
       "</div>"
      ],
      "text/plain": [
       "       customerid   age  salary  balance  marital targeted default housing  \\\n",
       "34             35  51.0  100000    10635  married      yes      no     yes   \n",
       "65             66  51.0  100000     6530  married      yes      no     yes   \n",
       "69             70  35.0   20000    12223   single      yes      no     yes   \n",
       "70             71  57.0   20000     5935  married      yes      no     yes   \n",
       "205           206  50.0   70000     5699  married      yes      no     yes   \n",
       "...           ...   ...     ...      ...      ...      ...     ...     ...   \n",
       "45118       45119  78.0   55000    14204  married      yes      no      no   \n",
       "45127       45128  67.0   20000    16353  married      yes      no      no   \n",
       "45130       45131  33.0   60000     5083  married      yes      no      no   \n",
       "45181       45182  46.0   20000     6879  married      yes      no      no   \n",
       "45208       45209  72.0   55000     5715  married      yes      no      no   \n",
       "\n",
       "      loan   contact  ...      month              duration campaign  pdays  \\\n",
       "34      no   unknown  ...  may, 2017               336 sec        1    NaN   \n",
       "65      no   unknown  ...  may, 2017                91 sec        1    NaN   \n",
       "69     yes   unknown  ...  may, 2017               177 sec        1    NaN   \n",
       "70     yes   unknown  ...  may, 2017               258 sec        1    NaN   \n",
       "205     no   unknown  ...  may, 2017               381 sec        2    NaN   \n",
       "...    ...       ...  ...        ...                   ...      ...    ...   \n",
       "45118   no  cellular  ...  oct, 2017               2.5 min        1  183.0   \n",
       "45127   no  cellular  ...  oct, 2017  3.71666666666667 min        2    NaN   \n",
       "45130   no  cellular  ...  oct, 2017  2.68333333333333 min        1   96.0   \n",
       "45181   no  cellular  ...  nov, 2017  1.23333333333333 min        2  118.0   \n",
       "45208   no  cellular  ...  nov, 2017  18.7833333333333 min        5  184.0   \n",
       "\n",
       "       previous  poutcome response          Job  Education   balanced group  \n",
       "34            0   unknown       no   management   tertiary             High  \n",
       "65            0   unknown       no   management   tertiary             High  \n",
       "69            0   unknown       no  blue-collar  secondary             High  \n",
       "70            0   unknown       no  blue-collar  secondary             High  \n",
       "205           0   unknown       no     services  secondary             High  \n",
       "...         ...       ...      ...          ...        ...              ...  \n",
       "45118         1     other       no      retired    primary             High  \n",
       "45127         0   unknown       no  blue-collar  secondary  Ultra Luxurious  \n",
       "45130         2     other       no   technician  secondary             High  \n",
       "45181         3   failure       no  blue-collar  secondary             High  \n",
       "45208         3   success      yes      retired  secondary             High  \n",
       "\n",
       "[2844 rows x 21 columns]"
      ]
     },
     "execution_count": 34,
     "metadata": {},
     "output_type": "execute_result"
    }
   ],
   "source": [
    "bank_target[bank_target['balance']>5000]"
   ]
  },
  {
   "cell_type": "code",
   "execution_count": 35,
   "id": "0df16eb0",
   "metadata": {},
   "outputs": [
    {
     "data": {
      "application/vnd.microsoft.datawrangler.viewer.v0+json": {
       "columns": [
        {
         "name": "index",
         "rawType": "int64",
         "type": "integer"
        },
        {
         "name": "customerid",
         "rawType": "int64",
         "type": "integer"
        },
        {
         "name": "age",
         "rawType": "float64",
         "type": "float"
        },
        {
         "name": "salary",
         "rawType": "int64",
         "type": "integer"
        },
        {
         "name": "balance",
         "rawType": "int64",
         "type": "integer"
        },
        {
         "name": "marital",
         "rawType": "object",
         "type": "string"
        },
        {
         "name": "targeted",
         "rawType": "object",
         "type": "string"
        },
        {
         "name": "default",
         "rawType": "object",
         "type": "string"
        },
        {
         "name": "housing",
         "rawType": "object",
         "type": "string"
        },
        {
         "name": "loan",
         "rawType": "object",
         "type": "string"
        },
        {
         "name": "contact",
         "rawType": "object",
         "type": "string"
        },
        {
         "name": "day",
         "rawType": "int64",
         "type": "integer"
        },
        {
         "name": "month",
         "rawType": "object",
         "type": "string"
        },
        {
         "name": "duration",
         "rawType": "object",
         "type": "string"
        },
        {
         "name": "campaign",
         "rawType": "int64",
         "type": "integer"
        },
        {
         "name": "pdays",
         "rawType": "float64",
         "type": "float"
        },
        {
         "name": "previous",
         "rawType": "int64",
         "type": "integer"
        },
        {
         "name": "poutcome",
         "rawType": "object",
         "type": "string"
        },
        {
         "name": "response",
         "rawType": "object",
         "type": "string"
        },
        {
         "name": "Job",
         "rawType": "object",
         "type": "string"
        },
        {
         "name": "Education",
         "rawType": "object",
         "type": "string"
        },
        {
         "name": "balanced group",
         "rawType": "category",
         "type": "unknown"
        },
        {
         "name": "Balances Capped",
         "rawType": "float64",
         "type": "float"
        }
       ],
       "ref": "cb87d55e-c075-460f-a501-66b36edf39d1",
       "rows": [
        [
         "0",
         "1",
         "58.0",
         "100000",
         "2143",
         "married",
         "yes",
         "no",
         "yes",
         "no",
         "unknown",
         "5",
         "may, 2017",
         "261 sec",
         "1",
         null,
         "0",
         "unknown",
         "no",
         "management",
         "tertiary",
         "Moderate",
         "2143.0"
        ],
        [
         "1",
         "2",
         "44.0",
         "60000",
         "29",
         "single",
         "yes",
         "no",
         "yes",
         "no",
         "unknown",
         "5",
         "may, 2017",
         "151 sec",
         "1",
         null,
         "0",
         "unknown",
         "no",
         "technician",
         "secondary",
         "very low",
         "29.0"
        ],
        [
         "2",
         "3",
         "33.0",
         "120000",
         "2",
         "married",
         "yes",
         "no",
         "yes",
         "yes",
         "unknown",
         "5",
         "may, 2017",
         "76 sec",
         "1",
         null,
         "0",
         "unknown",
         "no",
         "entrepreneur",
         "secondary",
         "very low",
         "2.0"
        ],
        [
         "3",
         "4",
         "47.0",
         "20000",
         "1506",
         "married",
         "no",
         "no",
         "yes",
         "no",
         "unknown",
         "5",
         "may, 2017",
         "92 sec",
         "1",
         null,
         "0",
         "unknown",
         "no",
         "blue-collar",
         "unknown",
         "Moderate",
         "1506.0"
        ],
        [
         "4",
         "5",
         "33.0",
         "0",
         "1",
         "single",
         "no",
         "no",
         "no",
         "no",
         "unknown",
         "5",
         "may, 2017",
         "198 sec",
         "1",
         null,
         "0",
         "unknown",
         "no",
         "unknown",
         "unknown",
         "very low",
         "1.0"
        ]
       ],
       "shape": {
        "columns": 22,
        "rows": 5
       }
      },
      "text/html": [
       "<div>\n",
       "<style scoped>\n",
       "    .dataframe tbody tr th:only-of-type {\n",
       "        vertical-align: middle;\n",
       "    }\n",
       "\n",
       "    .dataframe tbody tr th {\n",
       "        vertical-align: top;\n",
       "    }\n",
       "\n",
       "    .dataframe thead th {\n",
       "        text-align: right;\n",
       "    }\n",
       "</style>\n",
       "<table border=\"1\" class=\"dataframe\">\n",
       "  <thead>\n",
       "    <tr style=\"text-align: right;\">\n",
       "      <th></th>\n",
       "      <th>customerid</th>\n",
       "      <th>age</th>\n",
       "      <th>salary</th>\n",
       "      <th>balance</th>\n",
       "      <th>marital</th>\n",
       "      <th>targeted</th>\n",
       "      <th>default</th>\n",
       "      <th>housing</th>\n",
       "      <th>loan</th>\n",
       "      <th>contact</th>\n",
       "      <th>...</th>\n",
       "      <th>duration</th>\n",
       "      <th>campaign</th>\n",
       "      <th>pdays</th>\n",
       "      <th>previous</th>\n",
       "      <th>poutcome</th>\n",
       "      <th>response</th>\n",
       "      <th>Job</th>\n",
       "      <th>Education</th>\n",
       "      <th>balanced group</th>\n",
       "      <th>Balances Capped</th>\n",
       "    </tr>\n",
       "  </thead>\n",
       "  <tbody>\n",
       "    <tr>\n",
       "      <th>0</th>\n",
       "      <td>1</td>\n",
       "      <td>58.0</td>\n",
       "      <td>100000</td>\n",
       "      <td>2143</td>\n",
       "      <td>married</td>\n",
       "      <td>yes</td>\n",
       "      <td>no</td>\n",
       "      <td>yes</td>\n",
       "      <td>no</td>\n",
       "      <td>unknown</td>\n",
       "      <td>...</td>\n",
       "      <td>261 sec</td>\n",
       "      <td>1</td>\n",
       "      <td>NaN</td>\n",
       "      <td>0</td>\n",
       "      <td>unknown</td>\n",
       "      <td>no</td>\n",
       "      <td>management</td>\n",
       "      <td>tertiary</td>\n",
       "      <td>Moderate</td>\n",
       "      <td>2143.0</td>\n",
       "    </tr>\n",
       "    <tr>\n",
       "      <th>1</th>\n",
       "      <td>2</td>\n",
       "      <td>44.0</td>\n",
       "      <td>60000</td>\n",
       "      <td>29</td>\n",
       "      <td>single</td>\n",
       "      <td>yes</td>\n",
       "      <td>no</td>\n",
       "      <td>yes</td>\n",
       "      <td>no</td>\n",
       "      <td>unknown</td>\n",
       "      <td>...</td>\n",
       "      <td>151 sec</td>\n",
       "      <td>1</td>\n",
       "      <td>NaN</td>\n",
       "      <td>0</td>\n",
       "      <td>unknown</td>\n",
       "      <td>no</td>\n",
       "      <td>technician</td>\n",
       "      <td>secondary</td>\n",
       "      <td>very low</td>\n",
       "      <td>29.0</td>\n",
       "    </tr>\n",
       "    <tr>\n",
       "      <th>2</th>\n",
       "      <td>3</td>\n",
       "      <td>33.0</td>\n",
       "      <td>120000</td>\n",
       "      <td>2</td>\n",
       "      <td>married</td>\n",
       "      <td>yes</td>\n",
       "      <td>no</td>\n",
       "      <td>yes</td>\n",
       "      <td>yes</td>\n",
       "      <td>unknown</td>\n",
       "      <td>...</td>\n",
       "      <td>76 sec</td>\n",
       "      <td>1</td>\n",
       "      <td>NaN</td>\n",
       "      <td>0</td>\n",
       "      <td>unknown</td>\n",
       "      <td>no</td>\n",
       "      <td>entrepreneur</td>\n",
       "      <td>secondary</td>\n",
       "      <td>very low</td>\n",
       "      <td>2.0</td>\n",
       "    </tr>\n",
       "    <tr>\n",
       "      <th>3</th>\n",
       "      <td>4</td>\n",
       "      <td>47.0</td>\n",
       "      <td>20000</td>\n",
       "      <td>1506</td>\n",
       "      <td>married</td>\n",
       "      <td>no</td>\n",
       "      <td>no</td>\n",
       "      <td>yes</td>\n",
       "      <td>no</td>\n",
       "      <td>unknown</td>\n",
       "      <td>...</td>\n",
       "      <td>92 sec</td>\n",
       "      <td>1</td>\n",
       "      <td>NaN</td>\n",
       "      <td>0</td>\n",
       "      <td>unknown</td>\n",
       "      <td>no</td>\n",
       "      <td>blue-collar</td>\n",
       "      <td>unknown</td>\n",
       "      <td>Moderate</td>\n",
       "      <td>1506.0</td>\n",
       "    </tr>\n",
       "    <tr>\n",
       "      <th>4</th>\n",
       "      <td>5</td>\n",
       "      <td>33.0</td>\n",
       "      <td>0</td>\n",
       "      <td>1</td>\n",
       "      <td>single</td>\n",
       "      <td>no</td>\n",
       "      <td>no</td>\n",
       "      <td>no</td>\n",
       "      <td>no</td>\n",
       "      <td>unknown</td>\n",
       "      <td>...</td>\n",
       "      <td>198 sec</td>\n",
       "      <td>1</td>\n",
       "      <td>NaN</td>\n",
       "      <td>0</td>\n",
       "      <td>unknown</td>\n",
       "      <td>no</td>\n",
       "      <td>unknown</td>\n",
       "      <td>unknown</td>\n",
       "      <td>very low</td>\n",
       "      <td>1.0</td>\n",
       "    </tr>\n",
       "  </tbody>\n",
       "</table>\n",
       "<p>5 rows × 22 columns</p>\n",
       "</div>"
      ],
      "text/plain": [
       "   customerid   age  salary  balance  marital targeted default housing loan  \\\n",
       "0           1  58.0  100000     2143  married      yes      no     yes   no   \n",
       "1           2  44.0   60000       29   single      yes      no     yes   no   \n",
       "2           3  33.0  120000        2  married      yes      no     yes  yes   \n",
       "3           4  47.0   20000     1506  married       no      no     yes   no   \n",
       "4           5  33.0       0        1   single       no      no      no   no   \n",
       "\n",
       "   contact  ...  duration campaign pdays  previous  poutcome  response  \\\n",
       "0  unknown  ...   261 sec        1   NaN         0   unknown        no   \n",
       "1  unknown  ...   151 sec        1   NaN         0   unknown        no   \n",
       "2  unknown  ...    76 sec        1   NaN         0   unknown        no   \n",
       "3  unknown  ...    92 sec        1   NaN         0   unknown        no   \n",
       "4  unknown  ...   198 sec        1   NaN         0   unknown        no   \n",
       "\n",
       "            Job  Education balanced group Balances Capped  \n",
       "0    management   tertiary       Moderate          2143.0  \n",
       "1    technician  secondary       very low            29.0  \n",
       "2  entrepreneur  secondary       very low             2.0  \n",
       "3   blue-collar    unknown       Moderate          1506.0  \n",
       "4       unknown    unknown       very low             1.0  \n",
       "\n",
       "[5 rows x 22 columns]"
      ]
     },
     "execution_count": 35,
     "metadata": {},
     "output_type": "execute_result"
    }
   ],
   "source": [
    "lower_cap = bank_target['balance'].quantile(0.01)\n",
    "upper_cap = bank_target['balance'].quantile(0.99)\n",
    "\n",
    "bank_target['Balances Capped'] = bank_target['balance'].clip(lower=lower_cap, upper=upper_cap)\n",
    "bank_target.head(5)"
   ]
  },
  {
   "cell_type": "markdown",
   "id": "797108e1",
   "metadata": {},
   "source": [
    "Let's move with standising the value in our dataset \n",
    "\n",
    "- standarising is important to make the data more readable\n",
    "- It also helps eliminate errors while operation such as strings, date, time and other such types"
   ]
  },
  {
   "cell_type": "code",
   "execution_count": 36,
   "metadata": {},
   "outputs": [
    {
     "data": {
      "application/vnd.microsoft.datawrangler.viewer.v0+json": {
       "columns": [
        {
         "name": "index",
         "rawType": "int64",
         "type": "integer"
        },
        {
         "name": "duration",
         "rawType": "object",
         "type": "string"
        }
       ],
       "ref": "f75beb37-e868-46d0-9f60-67f98cbce31c",
       "rows": [
        [
         "0",
         "261 sec"
        ],
        [
         "1",
         "151 sec"
        ],
        [
         "2",
         "76 sec"
        ],
        [
         "3",
         "92 sec"
        ],
        [
         "4",
         "198 sec"
        ]
       ],
       "shape": {
        "columns": 1,
        "rows": 5
       }
      },
      "text/plain": [
       "0    261 sec\n",
       "1    151 sec\n",
       "2     76 sec\n",
       "3     92 sec\n",
       "4    198 sec\n",
       "Name: duration, dtype: object"
      ]
     },
     "execution_count": 36,
     "metadata": {},
     "output_type": "execute_result"
    }
   ],
   "source": [
    "bank_target.duration.head(5)"
   ]
  },
  {
   "cell_type": "code",
   "execution_count": 37,
   "id": "326d87d1",
   "metadata": {},
   "outputs": [
    {
     "data": {
      "application/vnd.microsoft.datawrangler.viewer.v0+json": {
       "columns": [
        {
         "name": "index",
         "rawType": "object",
         "type": "string"
        },
        {
         "name": "duration",
         "rawType": "object",
         "type": "unknown"
        }
       ],
       "ref": "ed2b0dcb-9d17-44c1-9fd1-819b41b1aac7",
       "rows": [
        [
         "count",
         "45191"
        ],
        [
         "unique",
         "2646"
        ],
        [
         "top",
         "1.5 min"
        ],
        [
         "freq",
         "138"
        ]
       ],
       "shape": {
        "columns": 1,
        "rows": 4
       }
      },
      "text/plain": [
       "count       45191\n",
       "unique       2646\n",
       "top       1.5 min\n",
       "freq          138\n",
       "Name: duration, dtype: object"
      ]
     },
     "execution_count": 37,
     "metadata": {},
     "output_type": "execute_result"
    }
   ],
   "source": [
    "bank_target.duration.describe()"
   ]
  },
  {
   "cell_type": "code",
   "execution_count": 38,
   "id": "7a60fd84",
   "metadata": {},
   "outputs": [
    {
     "data": {
      "application/vnd.microsoft.datawrangler.viewer.v0+json": {
       "columns": [
        {
         "name": "index",
         "rawType": "int64",
         "type": "integer"
        },
        {
         "name": "duration",
         "rawType": "float64",
         "type": "float"
        }
       ],
       "ref": "763f6d59-928c-4364-8411-88be11b00431",
       "rows": [
        [
         "0",
         "4.35"
        ],
        [
         "1",
         "2.5166666666666666"
        ],
        [
         "2",
         "1.2666666666666666"
        ],
        [
         "3",
         "1.5333333333333334"
        ],
        [
         "4",
         "3.3"
        ]
       ],
       "shape": {
        "columns": 1,
        "rows": 5
       }
      },
      "text/plain": [
       "0    4.350000\n",
       "1    2.516667\n",
       "2    1.266667\n",
       "3    1.533333\n",
       "4    3.300000\n",
       "Name: duration, dtype: float64"
      ]
     },
     "execution_count": 38,
     "metadata": {},
     "output_type": "execute_result"
    }
   ],
   "source": [
    "# Let's convert the seconds into min\n",
    "\n",
    "bank_target.duration[:5].apply(lambda x: float(x.split()[0])/60 if x.find('sec') > 0 else x.split()[0])\n",
    "\n",
    "# What all did we consider \n",
    "# 1. If the duration is in min or seconds\n",
    "# 2. Convert the values in min if they are in seconds"
   ]
  },
  {
   "cell_type": "code",
   "execution_count": 39,
   "id": "812b8b00",
   "metadata": {},
   "outputs": [],
   "source": [
    "bank_target.duration = bank_target.duration.apply(lambda x: float(x.split()[0])/60 if x.find('sec') > 0 else x.split()[0])"
   ]
  },
  {
   "cell_type": "code",
   "execution_count": 40,
   "id": "09f748f4",
   "metadata": {},
   "outputs": [
    {
     "data": {
      "application/vnd.microsoft.datawrangler.viewer.v0+json": {
       "columns": [
        {
         "name": "index",
         "rawType": "object",
         "type": "string"
        },
        {
         "name": "duration",
         "rawType": "object",
         "type": "unknown"
        }
       ],
       "ref": "7755b40f-cb45-4747-8edf-ec3ccfb6bb85",
       "rows": [
        [
         "count",
         "45191"
        ],
        [
         "unique",
         "2646"
        ],
        [
         "top",
         "1.5"
        ],
        [
         "freq",
         "138"
        ]
       ],
       "shape": {
        "columns": 1,
        "rows": 4
       }
      },
      "text/plain": [
       "count     45191\n",
       "unique     2646\n",
       "top         1.5\n",
       "freq        138\n",
       "Name: duration, dtype: object"
      ]
     },
     "execution_count": 40,
     "metadata": {},
     "output_type": "execute_result"
    }
   ],
   "source": [
    "bank_target.duration.describe()"
   ]
  },
  {
   "cell_type": "code",
   "execution_count": 41,
   "id": "68d535cf",
   "metadata": {},
   "outputs": [
    {
     "data": {
      "application/vnd.microsoft.datawrangler.viewer.v0+json": {
       "columns": [
        {
         "name": "index",
         "rawType": "int64",
         "type": "integer"
        },
        {
         "name": "customerid",
         "rawType": "int64",
         "type": "integer"
        },
        {
         "name": "age",
         "rawType": "float64",
         "type": "float"
        },
        {
         "name": "salary",
         "rawType": "int64",
         "type": "integer"
        },
        {
         "name": "balance",
         "rawType": "int64",
         "type": "integer"
        },
        {
         "name": "marital",
         "rawType": "object",
         "type": "string"
        },
        {
         "name": "targeted",
         "rawType": "object",
         "type": "string"
        },
        {
         "name": "default",
         "rawType": "object",
         "type": "string"
        },
        {
         "name": "housing",
         "rawType": "object",
         "type": "string"
        },
        {
         "name": "loan",
         "rawType": "object",
         "type": "string"
        },
        {
         "name": "contact",
         "rawType": "object",
         "type": "string"
        },
        {
         "name": "day",
         "rawType": "int64",
         "type": "integer"
        },
        {
         "name": "month",
         "rawType": "object",
         "type": "string"
        },
        {
         "name": "duration",
         "rawType": "object",
         "type": "unknown"
        },
        {
         "name": "campaign",
         "rawType": "int64",
         "type": "integer"
        },
        {
         "name": "pdays",
         "rawType": "float64",
         "type": "float"
        },
        {
         "name": "previous",
         "rawType": "int64",
         "type": "integer"
        },
        {
         "name": "poutcome",
         "rawType": "object",
         "type": "string"
        },
        {
         "name": "response",
         "rawType": "object",
         "type": "string"
        },
        {
         "name": "Job",
         "rawType": "object",
         "type": "string"
        },
        {
         "name": "Education",
         "rawType": "object",
         "type": "string"
        },
        {
         "name": "balanced group",
         "rawType": "category",
         "type": "unknown"
        },
        {
         "name": "Balances Capped",
         "rawType": "float64",
         "type": "float"
        }
       ],
       "ref": "cad85e1a-1ef9-4297-bbb6-d7b33f27d90c",
       "rows": [
        [
         "0",
         "1",
         "58.0",
         "100000",
         "2143",
         "married",
         "yes",
         "no",
         "yes",
         "no",
         "unknown",
         "5",
         "may, 2017",
         "4.35",
         "1",
         null,
         "0",
         "unknown",
         "no",
         "management",
         "tertiary",
         "Moderate",
         "2143.0"
        ],
        [
         "1",
         "2",
         "44.0",
         "60000",
         "29",
         "single",
         "yes",
         "no",
         "yes",
         "no",
         "unknown",
         "5",
         "may, 2017",
         "2.5166666666666666",
         "1",
         null,
         "0",
         "unknown",
         "no",
         "technician",
         "secondary",
         "very low",
         "29.0"
        ],
        [
         "2",
         "3",
         "33.0",
         "120000",
         "2",
         "married",
         "yes",
         "no",
         "yes",
         "yes",
         "unknown",
         "5",
         "may, 2017",
         "1.2666666666666666",
         "1",
         null,
         "0",
         "unknown",
         "no",
         "entrepreneur",
         "secondary",
         "very low",
         "2.0"
        ],
        [
         "3",
         "4",
         "47.0",
         "20000",
         "1506",
         "married",
         "no",
         "no",
         "yes",
         "no",
         "unknown",
         "5",
         "may, 2017",
         "1.5333333333333334",
         "1",
         null,
         "0",
         "unknown",
         "no",
         "blue-collar",
         "unknown",
         "Moderate",
         "1506.0"
        ],
        [
         "4",
         "5",
         "33.0",
         "0",
         "1",
         "single",
         "no",
         "no",
         "no",
         "no",
         "unknown",
         "5",
         "may, 2017",
         "3.3",
         "1",
         null,
         "0",
         "unknown",
         "no",
         "unknown",
         "unknown",
         "very low",
         "1.0"
        ],
        [
         "5",
         "6",
         "35.0",
         "100000",
         "231",
         "married",
         "yes",
         "no",
         "yes",
         "no",
         "unknown",
         "5",
         "may, 2017",
         "2.316666666666667",
         "1",
         null,
         "0",
         "unknown",
         "no",
         "management",
         "tertiary",
         "very low",
         "231.0"
        ],
        [
         "6",
         "7",
         "28.0",
         "100000",
         "447",
         "single",
         "no",
         "no",
         "yes",
         "yes",
         "unknown",
         "5",
         "may, 2017",
         "3.6166666666666667",
         "1",
         null,
         "0",
         "unknown",
         "no",
         "management",
         "tertiary",
         "low",
         "447.0"
        ],
        [
         "7",
         "8",
         "42.0",
         "120000",
         "2",
         "divorced",
         "no",
         "yes",
         "yes",
         "no",
         "unknown",
         "5",
         "may, 2017",
         "6.333333333333333",
         "1",
         null,
         "0",
         "unknown",
         "no",
         "entrepreneur",
         "tertiary",
         "very low",
         "2.0"
        ],
        [
         "8",
         "9",
         "58.0",
         "55000",
         "121",
         "married",
         "yes",
         "no",
         "yes",
         "no",
         "unknown",
         "5",
         "may, 2017",
         "0.8333333333333334",
         "1",
         null,
         "0",
         "unknown",
         "no",
         "retired",
         "primary",
         "very low",
         "121.0"
        ],
        [
         "9",
         "10",
         "43.0",
         "60000",
         "593",
         "single",
         "yes",
         "no",
         "yes",
         "no",
         "unknown",
         "5",
         "may, 2017",
         "0.9166666666666666",
         "1",
         null,
         "0",
         "unknown",
         "no",
         "technician",
         "secondary",
         "low",
         "593.0"
        ]
       ],
       "shape": {
        "columns": 22,
        "rows": 10
       }
      },
      "text/html": [
       "<div>\n",
       "<style scoped>\n",
       "    .dataframe tbody tr th:only-of-type {\n",
       "        vertical-align: middle;\n",
       "    }\n",
       "\n",
       "    .dataframe tbody tr th {\n",
       "        vertical-align: top;\n",
       "    }\n",
       "\n",
       "    .dataframe thead th {\n",
       "        text-align: right;\n",
       "    }\n",
       "</style>\n",
       "<table border=\"1\" class=\"dataframe\">\n",
       "  <thead>\n",
       "    <tr style=\"text-align: right;\">\n",
       "      <th></th>\n",
       "      <th>customerid</th>\n",
       "      <th>age</th>\n",
       "      <th>salary</th>\n",
       "      <th>balance</th>\n",
       "      <th>marital</th>\n",
       "      <th>targeted</th>\n",
       "      <th>default</th>\n",
       "      <th>housing</th>\n",
       "      <th>loan</th>\n",
       "      <th>contact</th>\n",
       "      <th>...</th>\n",
       "      <th>duration</th>\n",
       "      <th>campaign</th>\n",
       "      <th>pdays</th>\n",
       "      <th>previous</th>\n",
       "      <th>poutcome</th>\n",
       "      <th>response</th>\n",
       "      <th>Job</th>\n",
       "      <th>Education</th>\n",
       "      <th>balanced group</th>\n",
       "      <th>Balances Capped</th>\n",
       "    </tr>\n",
       "  </thead>\n",
       "  <tbody>\n",
       "    <tr>\n",
       "      <th>0</th>\n",
       "      <td>1</td>\n",
       "      <td>58.0</td>\n",
       "      <td>100000</td>\n",
       "      <td>2143</td>\n",
       "      <td>married</td>\n",
       "      <td>yes</td>\n",
       "      <td>no</td>\n",
       "      <td>yes</td>\n",
       "      <td>no</td>\n",
       "      <td>unknown</td>\n",
       "      <td>...</td>\n",
       "      <td>4.35</td>\n",
       "      <td>1</td>\n",
       "      <td>NaN</td>\n",
       "      <td>0</td>\n",
       "      <td>unknown</td>\n",
       "      <td>no</td>\n",
       "      <td>management</td>\n",
       "      <td>tertiary</td>\n",
       "      <td>Moderate</td>\n",
       "      <td>2143.0</td>\n",
       "    </tr>\n",
       "    <tr>\n",
       "      <th>1</th>\n",
       "      <td>2</td>\n",
       "      <td>44.0</td>\n",
       "      <td>60000</td>\n",
       "      <td>29</td>\n",
       "      <td>single</td>\n",
       "      <td>yes</td>\n",
       "      <td>no</td>\n",
       "      <td>yes</td>\n",
       "      <td>no</td>\n",
       "      <td>unknown</td>\n",
       "      <td>...</td>\n",
       "      <td>2.516667</td>\n",
       "      <td>1</td>\n",
       "      <td>NaN</td>\n",
       "      <td>0</td>\n",
       "      <td>unknown</td>\n",
       "      <td>no</td>\n",
       "      <td>technician</td>\n",
       "      <td>secondary</td>\n",
       "      <td>very low</td>\n",
       "      <td>29.0</td>\n",
       "    </tr>\n",
       "    <tr>\n",
       "      <th>2</th>\n",
       "      <td>3</td>\n",
       "      <td>33.0</td>\n",
       "      <td>120000</td>\n",
       "      <td>2</td>\n",
       "      <td>married</td>\n",
       "      <td>yes</td>\n",
       "      <td>no</td>\n",
       "      <td>yes</td>\n",
       "      <td>yes</td>\n",
       "      <td>unknown</td>\n",
       "      <td>...</td>\n",
       "      <td>1.266667</td>\n",
       "      <td>1</td>\n",
       "      <td>NaN</td>\n",
       "      <td>0</td>\n",
       "      <td>unknown</td>\n",
       "      <td>no</td>\n",
       "      <td>entrepreneur</td>\n",
       "      <td>secondary</td>\n",
       "      <td>very low</td>\n",
       "      <td>2.0</td>\n",
       "    </tr>\n",
       "    <tr>\n",
       "      <th>3</th>\n",
       "      <td>4</td>\n",
       "      <td>47.0</td>\n",
       "      <td>20000</td>\n",
       "      <td>1506</td>\n",
       "      <td>married</td>\n",
       "      <td>no</td>\n",
       "      <td>no</td>\n",
       "      <td>yes</td>\n",
       "      <td>no</td>\n",
       "      <td>unknown</td>\n",
       "      <td>...</td>\n",
       "      <td>1.533333</td>\n",
       "      <td>1</td>\n",
       "      <td>NaN</td>\n",
       "      <td>0</td>\n",
       "      <td>unknown</td>\n",
       "      <td>no</td>\n",
       "      <td>blue-collar</td>\n",
       "      <td>unknown</td>\n",
       "      <td>Moderate</td>\n",
       "      <td>1506.0</td>\n",
       "    </tr>\n",
       "    <tr>\n",
       "      <th>4</th>\n",
       "      <td>5</td>\n",
       "      <td>33.0</td>\n",
       "      <td>0</td>\n",
       "      <td>1</td>\n",
       "      <td>single</td>\n",
       "      <td>no</td>\n",
       "      <td>no</td>\n",
       "      <td>no</td>\n",
       "      <td>no</td>\n",
       "      <td>unknown</td>\n",
       "      <td>...</td>\n",
       "      <td>3.3</td>\n",
       "      <td>1</td>\n",
       "      <td>NaN</td>\n",
       "      <td>0</td>\n",
       "      <td>unknown</td>\n",
       "      <td>no</td>\n",
       "      <td>unknown</td>\n",
       "      <td>unknown</td>\n",
       "      <td>very low</td>\n",
       "      <td>1.0</td>\n",
       "    </tr>\n",
       "    <tr>\n",
       "      <th>5</th>\n",
       "      <td>6</td>\n",
       "      <td>35.0</td>\n",
       "      <td>100000</td>\n",
       "      <td>231</td>\n",
       "      <td>married</td>\n",
       "      <td>yes</td>\n",
       "      <td>no</td>\n",
       "      <td>yes</td>\n",
       "      <td>no</td>\n",
       "      <td>unknown</td>\n",
       "      <td>...</td>\n",
       "      <td>2.316667</td>\n",
       "      <td>1</td>\n",
       "      <td>NaN</td>\n",
       "      <td>0</td>\n",
       "      <td>unknown</td>\n",
       "      <td>no</td>\n",
       "      <td>management</td>\n",
       "      <td>tertiary</td>\n",
       "      <td>very low</td>\n",
       "      <td>231.0</td>\n",
       "    </tr>\n",
       "    <tr>\n",
       "      <th>6</th>\n",
       "      <td>7</td>\n",
       "      <td>28.0</td>\n",
       "      <td>100000</td>\n",
       "      <td>447</td>\n",
       "      <td>single</td>\n",
       "      <td>no</td>\n",
       "      <td>no</td>\n",
       "      <td>yes</td>\n",
       "      <td>yes</td>\n",
       "      <td>unknown</td>\n",
       "      <td>...</td>\n",
       "      <td>3.616667</td>\n",
       "      <td>1</td>\n",
       "      <td>NaN</td>\n",
       "      <td>0</td>\n",
       "      <td>unknown</td>\n",
       "      <td>no</td>\n",
       "      <td>management</td>\n",
       "      <td>tertiary</td>\n",
       "      <td>low</td>\n",
       "      <td>447.0</td>\n",
       "    </tr>\n",
       "    <tr>\n",
       "      <th>7</th>\n",
       "      <td>8</td>\n",
       "      <td>42.0</td>\n",
       "      <td>120000</td>\n",
       "      <td>2</td>\n",
       "      <td>divorced</td>\n",
       "      <td>no</td>\n",
       "      <td>yes</td>\n",
       "      <td>yes</td>\n",
       "      <td>no</td>\n",
       "      <td>unknown</td>\n",
       "      <td>...</td>\n",
       "      <td>6.333333</td>\n",
       "      <td>1</td>\n",
       "      <td>NaN</td>\n",
       "      <td>0</td>\n",
       "      <td>unknown</td>\n",
       "      <td>no</td>\n",
       "      <td>entrepreneur</td>\n",
       "      <td>tertiary</td>\n",
       "      <td>very low</td>\n",
       "      <td>2.0</td>\n",
       "    </tr>\n",
       "    <tr>\n",
       "      <th>8</th>\n",
       "      <td>9</td>\n",
       "      <td>58.0</td>\n",
       "      <td>55000</td>\n",
       "      <td>121</td>\n",
       "      <td>married</td>\n",
       "      <td>yes</td>\n",
       "      <td>no</td>\n",
       "      <td>yes</td>\n",
       "      <td>no</td>\n",
       "      <td>unknown</td>\n",
       "      <td>...</td>\n",
       "      <td>0.833333</td>\n",
       "      <td>1</td>\n",
       "      <td>NaN</td>\n",
       "      <td>0</td>\n",
       "      <td>unknown</td>\n",
       "      <td>no</td>\n",
       "      <td>retired</td>\n",
       "      <td>primary</td>\n",
       "      <td>very low</td>\n",
       "      <td>121.0</td>\n",
       "    </tr>\n",
       "    <tr>\n",
       "      <th>9</th>\n",
       "      <td>10</td>\n",
       "      <td>43.0</td>\n",
       "      <td>60000</td>\n",
       "      <td>593</td>\n",
       "      <td>single</td>\n",
       "      <td>yes</td>\n",
       "      <td>no</td>\n",
       "      <td>yes</td>\n",
       "      <td>no</td>\n",
       "      <td>unknown</td>\n",
       "      <td>...</td>\n",
       "      <td>0.916667</td>\n",
       "      <td>1</td>\n",
       "      <td>NaN</td>\n",
       "      <td>0</td>\n",
       "      <td>unknown</td>\n",
       "      <td>no</td>\n",
       "      <td>technician</td>\n",
       "      <td>secondary</td>\n",
       "      <td>low</td>\n",
       "      <td>593.0</td>\n",
       "    </tr>\n",
       "  </tbody>\n",
       "</table>\n",
       "<p>10 rows × 22 columns</p>\n",
       "</div>"
      ],
      "text/plain": [
       "   customerid   age  salary  balance   marital targeted default housing loan  \\\n",
       "0           1  58.0  100000     2143   married      yes      no     yes   no   \n",
       "1           2  44.0   60000       29    single      yes      no     yes   no   \n",
       "2           3  33.0  120000        2   married      yes      no     yes  yes   \n",
       "3           4  47.0   20000     1506   married       no      no     yes   no   \n",
       "4           5  33.0       0        1    single       no      no      no   no   \n",
       "5           6  35.0  100000      231   married      yes      no     yes   no   \n",
       "6           7  28.0  100000      447    single       no      no     yes  yes   \n",
       "7           8  42.0  120000        2  divorced       no     yes     yes   no   \n",
       "8           9  58.0   55000      121   married      yes      no     yes   no   \n",
       "9          10  43.0   60000      593    single      yes      no     yes   no   \n",
       "\n",
       "   contact  ...  duration campaign pdays  previous  poutcome  response  \\\n",
       "0  unknown  ...      4.35        1   NaN         0   unknown        no   \n",
       "1  unknown  ...  2.516667        1   NaN         0   unknown        no   \n",
       "2  unknown  ...  1.266667        1   NaN         0   unknown        no   \n",
       "3  unknown  ...  1.533333        1   NaN         0   unknown        no   \n",
       "4  unknown  ...       3.3        1   NaN         0   unknown        no   \n",
       "5  unknown  ...  2.316667        1   NaN         0   unknown        no   \n",
       "6  unknown  ...  3.616667        1   NaN         0   unknown        no   \n",
       "7  unknown  ...  6.333333        1   NaN         0   unknown        no   \n",
       "8  unknown  ...  0.833333        1   NaN         0   unknown        no   \n",
       "9  unknown  ...  0.916667        1   NaN         0   unknown        no   \n",
       "\n",
       "            Job  Education balanced group Balances Capped  \n",
       "0    management   tertiary       Moderate          2143.0  \n",
       "1    technician  secondary       very low            29.0  \n",
       "2  entrepreneur  secondary       very low             2.0  \n",
       "3   blue-collar    unknown       Moderate          1506.0  \n",
       "4       unknown    unknown       very low             1.0  \n",
       "5    management   tertiary       very low           231.0  \n",
       "6    management   tertiary            low           447.0  \n",
       "7  entrepreneur   tertiary       very low             2.0  \n",
       "8       retired    primary       very low           121.0  \n",
       "9    technician  secondary            low           593.0  \n",
       "\n",
       "[10 rows x 22 columns]"
      ]
     },
     "execution_count": 41,
     "metadata": {},
     "output_type": "execute_result"
    }
   ],
   "source": [
    "bank_target.head(10)"
   ]
  },
  {
   "cell_type": "markdown",
   "id": "fc6cbb9c",
   "metadata": {},
   "source": [
    "**Univarient Analysis **\n",
    "\n",
    "There are analysis done considering just one variable at a time "
   ]
  },
  {
   "cell_type": "code",
   "execution_count": 42,
   "id": "e6332be3",
   "metadata": {},
   "outputs": [
    {
     "data": {
      "application/vnd.microsoft.datawrangler.viewer.v0+json": {
       "columns": [
        {
         "name": "index",
         "rawType": "object",
         "type": "string"
        },
        {
         "name": "0",
         "rawType": "object",
         "type": "unknown"
        }
       ],
       "ref": "5b0a77e4-7b9b-435c-9f0a-844245fe0c06",
       "rows": [
        [
         "customerid",
         "int64"
        ],
        [
         "age",
         "float64"
        ],
        [
         "salary",
         "int64"
        ],
        [
         "balance",
         "int64"
        ],
        [
         "marital",
         "object"
        ],
        [
         "targeted",
         "object"
        ],
        [
         "default",
         "object"
        ],
        [
         "housing",
         "object"
        ],
        [
         "loan",
         "object"
        ],
        [
         "contact",
         "object"
        ],
        [
         "day",
         "int64"
        ],
        [
         "month",
         "object"
        ],
        [
         "duration",
         "object"
        ],
        [
         "campaign",
         "int64"
        ],
        [
         "pdays",
         "float64"
        ],
        [
         "previous",
         "int64"
        ],
        [
         "poutcome",
         "object"
        ],
        [
         "response",
         "object"
        ],
        [
         "Job",
         "object"
        ],
        [
         "Education",
         "object"
        ],
        [
         "balanced group",
         "category"
        ],
        [
         "Balances Capped",
         "float64"
        ]
       ],
       "shape": {
        "columns": 1,
        "rows": 22
       }
      },
      "text/plain": [
       "customerid            int64\n",
       "age                 float64\n",
       "salary                int64\n",
       "balance               int64\n",
       "marital              object\n",
       "targeted             object\n",
       "default              object\n",
       "housing              object\n",
       "loan                 object\n",
       "contact              object\n",
       "day                   int64\n",
       "month                object\n",
       "duration             object\n",
       "campaign              int64\n",
       "pdays               float64\n",
       "previous              int64\n",
       "poutcome             object\n",
       "response             object\n",
       "Job                  object\n",
       "Education            object\n",
       "balanced group     category\n",
       "Balances Capped     float64\n",
       "dtype: object"
      ]
     },
     "execution_count": 42,
     "metadata": {},
     "output_type": "execute_result"
    }
   ],
   "source": [
    "bank_target.dtypes"
   ]
  },
  {
   "cell_type": "code",
   "execution_count": 43,
   "id": "e6c85ef0",
   "metadata": {},
   "outputs": [],
   "source": [
    "##Marital"
   ]
  },
  {
   "cell_type": "code",
   "execution_count": 44,
   "id": "7c0f4bfe",
   "metadata": {},
   "outputs": [
    {
     "data": {
      "application/vnd.microsoft.datawrangler.viewer.v0+json": {
       "columns": [
        {
         "name": "marital",
         "rawType": "object",
         "type": "string"
        },
        {
         "name": "count",
         "rawType": "int64",
         "type": "integer"
        }
       ],
       "ref": "112e0b2d-e54c-49b2-a2d5-a79e8e4a7c1d",
       "rows": [
        [
         "married",
         "27204"
        ],
        [
         "single",
         "12786"
        ],
        [
         "divorced",
         "5201"
        ]
       ],
       "shape": {
        "columns": 1,
        "rows": 3
       }
      },
      "text/plain": [
       "marital\n",
       "married     27204\n",
       "single      12786\n",
       "divorced     5201\n",
       "Name: count, dtype: int64"
      ]
     },
     "execution_count": 44,
     "metadata": {},
     "output_type": "execute_result"
    }
   ],
   "source": [
    "bank_target.marital.value_counts()"
   ]
  },
  {
   "cell_type": "code",
   "execution_count": 46,
   "id": "97b3a94e",
   "metadata": {},
   "outputs": [
    {
     "data": {
      "application/vnd.microsoft.datawrangler.viewer.v0+json": {
       "columns": [
        {
         "name": "marital",
         "rawType": "object",
         "type": "string"
        },
        {
         "name": "proportion",
         "rawType": "float64",
         "type": "float"
        }
       ],
       "ref": "58c9d2c8-0220-48b7-a996-4c2d55e1d539",
       "rows": [
        [
         "married",
         "60.19782700095152"
        ],
        [
         "single",
         "28.293244230045804"
        ],
        [
         "divorced",
         "11.508928769002678"
        ]
       ],
       "shape": {
        "columns": 1,
        "rows": 3
       }
      },
      "text/plain": [
       "marital\n",
       "married     60.197827\n",
       "single      28.293244\n",
       "divorced    11.508929\n",
       "Name: proportion, dtype: float64"
      ]
     },
     "execution_count": 46,
     "metadata": {},
     "output_type": "execute_result"
    }
   ],
   "source": [
    "bank_target.marital.value_counts(normalize=True)*100"
   ]
  },
  {
   "cell_type": "code",
   "execution_count": 51,
   "id": "31ee171a",
   "metadata": {},
   "outputs": [
    {
     "data": {
      "text/plain": [
       "<Axes: ylabel='marital'>"
      ]
     },
     "execution_count": 51,
     "metadata": {},
     "output_type": "execute_result"
    },
    {
     "data": {
      "image/png": "[encoded data removed]",
      "text/plain": [
       "<Figure size 640x480 with 1 Axes>"
      ]
     },
     "metadata": {},
     "output_type": "display_data"
    }
   ],
   "source": [
    "bank_target.marital.value_counts(normalize=True).plot.barh()"
   ]
  },
  {
   "cell_type": "code",
   "execution_count": 52,
   "id": "784d5b5e",
   "metadata": {},
   "outputs": [
    {
     "data": {
      "text/plain": [
       "Index(['marital', 'targeted', 'default', 'housing', 'loan', 'contact', 'month',\n",
       "       'duration', 'poutcome', 'response', 'Job', 'Education',\n",
       "       'balanced group'],\n",
       "      dtype='object')"
      ]
     },
     "execution_count": 52,
     "metadata": {},
     "output_type": "execute_result"
    }
   ],
   "source": [
    "bank_target.select_dtypes(include=['object', 'category']).columns"
   ]
  },
  {
   "cell_type": "code",
   "execution_count": 54,
   "id": "e738a11b",
   "metadata": {},
   "outputs": [
    {
     "data": {
      "text/plain": [
       "<Axes: ylabel='Job'>"
      ]
     },
     "execution_count": 54,
     "metadata": {},
     "output_type": "execute_result"
    },
    {
     "data": {
      "image/png": "[encoded data removed]",
      "text/plain": [
       "<Figure size 640x480 with 1 Axes>"
      ]
     },
     "metadata": {},
     "output_type": "display_data"
    }
   ],
   "source": [
    "bank_target.Job.value_counts(normalize=True).plot.barh()"
   ]
  },
  {
   "cell_type": "code",
   "execution_count": null,
   "id": "4bdb6261",
   "metadata": {},
   "outputs": [],
   "source": [
    "## Education Variable   "
   ]
  },
  {
   "cell_type": "code",
   "execution_count": 55,
   "id": "4140ef7a",
   "metadata": {},
   "outputs": [
    {
     "data": {
      "application/vnd.microsoft.datawrangler.viewer.v0+json": {
       "columns": [
        {
         "name": "Education",
         "rawType": "object",
         "type": "string"
        },
        {
         "name": "count",
         "rawType": "int64",
         "type": "integer"
        }
       ],
       "ref": "45586477-6c1f-481b-b509-2156bf3b53c4",
       "rows": [
        [
         "secondary",
         "23193"
        ],
        [
         "tertiary",
         "13295"
        ],
        [
         "primary",
         "6846"
        ],
        [
         "unknown",
         "1857"
        ]
       ],
       "shape": {
        "columns": 1,
        "rows": 4
       }
      },
      "text/plain": [
       "Education\n",
       "secondary    23193\n",
       "tertiary     13295\n",
       "primary       6846\n",
       "unknown       1857\n",
       "Name: count, dtype: int64"
      ]
     },
     "execution_count": 55,
     "metadata": {},
     "output_type": "execute_result"
    }
   ],
   "source": [
    "bank_target.Education.value_counts()"
   ]
  },
  {
   "cell_type": "code",
   "execution_count": 57,
   "id": "38faaacb",
   "metadata": {},
   "outputs": [
    {
     "data": {
      "application/vnd.microsoft.datawrangler.viewer.v0+json": {
       "columns": [
        {
         "name": "Education",
         "rawType": "object",
         "type": "string"
        },
        {
         "name": "proportion",
         "rawType": "float64",
         "type": "float"
        }
       ],
       "ref": "51cd3a38-f563-4e94-b35d-31cdb8653ee1",
       "rows": [
        [
         "secondary",
         "51.32216591799252"
        ],
        [
         "tertiary",
         "29.419574694076257"
        ],
        [
         "primary",
         "15.149034099710118"
        ],
        [
         "unknown",
         "4.109225288221106"
        ]
       ],
       "shape": {
        "columns": 1,
        "rows": 4
       }
      },
      "text/plain": [
       "Education\n",
       "secondary    51.322166\n",
       "tertiary     29.419575\n",
       "primary      15.149034\n",
       "unknown       4.109225\n",
       "Name: proportion, dtype: float64"
      ]
     },
     "execution_count": 57,
     "metadata": {},
     "output_type": "execute_result"
    }
   ],
   "source": [
    "bank_target.Education.value_counts(normalize=True)*100"
   ]
  },
  {
   "cell_type": "code",
   "execution_count": 69,
   "id": "f13bd3cb",
   "metadata": {},
   "outputs": [
    {
     "data": {
      "text/plain": [
       "<Axes: ylabel='proportion'>"
      ]
     },
     "execution_count": 69,
     "metadata": {},
     "output_type": "execute_result"
    },
    {
     "data": {
      "image/png": "[encoded data removed]",
      "text/plain": [
       "<Figure size 640x480 with 1 Axes>"
      ]
     },
     "metadata": {},
     "output_type": "display_data"
    }
   ],
   "source": [
    "bank_target.Education.value_counts(normalize=True).plot.pie(\n",
    "    autopct = '%1.1f%%'\n",
    ")"
   ]
  },
  {
   "cell_type": "code",
   "execution_count": 104,
   "id": "af9ad26c",
   "metadata": {},
   "outputs": [
    {
     "data": {
      "application/vnd.microsoft.datawrangler.viewer.v0+json": {
       "columns": [
        {
         "name": "poutcome",
         "rawType": "object",
         "type": "string"
        },
        {
         "name": "count",
         "rawType": "int64",
         "type": "integer"
        }
       ],
       "ref": "095c4114-e410-49ad-af74-0dae7e079ec3",
       "rows": [
        [
         "unknown",
         "36944"
        ],
        [
         "failure",
         "4898"
        ],
        [
         "other",
         "1840"
        ],
        [
         "success",
         "1509"
        ]
       ],
       "shape": {
        "columns": 1,
        "rows": 4
       }
      },
      "text/plain": [
       "poutcome\n",
       "unknown    36944\n",
       "failure     4898\n",
       "other       1840\n",
       "success     1509\n",
       "Name: count, dtype: int64"
      ]
     },
     "execution_count": 104,
     "metadata": {},
     "output_type": "execute_result"
    }
   ],
   "source": [
    "bank_target.poutcome.value_counts()"
   ]
  },
  {
   "cell_type": "code",
   "execution_count": 106,
   "id": "4ea816db",
   "metadata": {},
   "outputs": [
    {
     "data": {
      "application/vnd.microsoft.datawrangler.viewer.v0+json": {
       "columns": [
        {
         "name": "index",
         "rawType": "int64",
         "type": "integer"
        },
        {
         "name": "customerid",
         "rawType": "int64",
         "type": "integer"
        },
        {
         "name": "age",
         "rawType": "float64",
         "type": "float"
        },
        {
         "name": "salary",
         "rawType": "int64",
         "type": "integer"
        },
        {
         "name": "balance",
         "rawType": "int64",
         "type": "integer"
        },
        {
         "name": "marital",
         "rawType": "object",
         "type": "string"
        },
        {
         "name": "targeted",
         "rawType": "object",
         "type": "string"
        },
        {
         "name": "default",
         "rawType": "object",
         "type": "string"
        },
        {
         "name": "housing",
         "rawType": "object",
         "type": "string"
        },
        {
         "name": "loan",
         "rawType": "object",
         "type": "string"
        },
        {
         "name": "contact",
         "rawType": "object",
         "type": "string"
        },
        {
         "name": "day",
         "rawType": "int64",
         "type": "integer"
        },
        {
         "name": "month",
         "rawType": "object",
         "type": "string"
        },
        {
         "name": "duration",
         "rawType": "object",
         "type": "string"
        },
        {
         "name": "campaign",
         "rawType": "int64",
         "type": "integer"
        },
        {
         "name": "pdays",
         "rawType": "float64",
         "type": "float"
        },
        {
         "name": "previous",
         "rawType": "int64",
         "type": "integer"
        },
        {
         "name": "poutcome",
         "rawType": "object",
         "type": "string"
        },
        {
         "name": "response",
         "rawType": "object",
         "type": "unknown"
        },
        {
         "name": "Job",
         "rawType": "object",
         "type": "string"
        },
        {
         "name": "Education",
         "rawType": "object",
         "type": "string"
        },
        {
         "name": "balanced group",
         "rawType": "category",
         "type": "unknown"
        },
        {
         "name": "Balances Capped",
         "rawType": "float64",
         "type": "float"
        }
       ],
       "ref": "6878842b-7e3e-496c-ba40-2991b9099987",
       "rows": [
        [
         "24060",
         "24061",
         "33.0",
         "50000",
         "882",
         "married",
         "yes",
         "no",
         "no",
         "no",
         "telephone",
         "21",
         "oct, 2017",
         "0.65",
         "1",
         "151.0",
         "3",
         "failure",
         "no",
         "admin.",
         "tertiary",
         "low",
         "882.0"
        ],
        [
         "24064",
         "24065",
         "33.0",
         "70000",
         "3444",
         "married",
         "yes",
         "no",
         "yes",
         "no",
         "telephone",
         "21",
         "oct, 2017",
         "2.4",
         "1",
         "91.0",
         "4",
         "failure",
         "yes",
         "services",
         "secondary",
         "Moderate",
         "3444.0"
        ],
        [
         "24077",
         "24078",
         "36.0",
         "100000",
         "0",
         "married",
         "yes",
         "no",
         "yes",
         "no",
         "telephone",
         "23",
         "oct, 2017",
         "2.33333333333333",
         "1",
         "143.0",
         "3",
         "failure",
         "yes",
         "management",
         "tertiary",
         null,
         "0.0"
        ],
        [
         "24080",
         "24081",
         "56.0",
         "60000",
         "589",
         "married",
         "yes",
         "no",
         "yes",
         "no",
         "unknown",
         "23",
         "oct, 2017",
         "8.63333333333333",
         "1",
         "147.0",
         "2",
         "success",
         "yes",
         "technician",
         "secondary",
         "low",
         "589.0"
        ],
        [
         "24127",
         "24128",
         "51.0",
         "50000",
         "3132",
         "single",
         "yes",
         "no",
         "no",
         "no",
         "telephone",
         "5",
         "nov, 2017",
         "7.48333333333333",
         "1",
         "176.0",
         "1",
         "failure",
         "no",
         "admin.",
         "secondary",
         "Moderate",
         "3132.0"
        ],
        [
         "24151",
         "24152",
         "33.0",
         "8000",
         "1005",
         "divorced",
         "yes",
         "no",
         "yes",
         "no",
         "telephone",
         "10",
         "nov, 2017",
         "2.91666666666667",
         "1",
         "174.0",
         "2",
         "failure",
         "no",
         "unemployed",
         "secondary",
         "Moderate",
         "1005.0"
        ],
        [
         "24160",
         "24161",
         "34.0",
         "50000",
         "899",
         "married",
         "yes",
         "no",
         "yes",
         "no",
         "unknown",
         "12",
         "nov, 2017",
         "1.9",
         "1",
         "170.0",
         "3",
         "failure",
         "yes",
         "admin.",
         "tertiary",
         "low",
         "899.0"
        ],
        [
         "24165",
         "24166",
         "30.0",
         "50000",
         "873",
         "married",
         "yes",
         "no",
         "yes",
         "no",
         "telephone",
         "12",
         "nov, 2017",
         "1.98333333333333",
         "1",
         "167.0",
         "3",
         "success",
         "no",
         "admin.",
         "secondary",
         "low",
         "873.0"
        ],
        [
         "24170",
         "24171",
         "30.0",
         "100000",
         "1243",
         "single",
         "no",
         "no",
         "yes",
         "no",
         "telephone",
         "13",
         "nov, 2017",
         "1.43333333333333",
         "1",
         "174.0",
         "1",
         "failure",
         "no",
         "management",
         "tertiary",
         "Moderate",
         "1243.0"
        ],
        [
         "24184",
         "24185",
         "44.0",
         "120000",
         "1631",
         "married",
         "yes",
         "no",
         "yes",
         "no",
         "cellular",
         "17",
         "nov, 2017",
         "1.35",
         "1",
         "195.0",
         "2",
         "failure",
         "no",
         "entrepreneur",
         "tertiary",
         "Moderate",
         "1631.0"
        ],
        [
         "24186",
         "24187",
         "51.0",
         "100000",
         "119",
         "divorced",
         "no",
         "no",
         "no",
         "no",
         "cellular",
         "17",
         "nov, 2017",
         "3.33333333333333",
         "1",
         "165.0",
         "2",
         "failure",
         "no",
         "management",
         "tertiary",
         "very low",
         "119.0"
        ],
        [
         "24187",
         "24188",
         "51.0",
         "60000",
         "58",
         "married",
         "yes",
         "no",
         "yes",
         "no",
         "cellular",
         "17",
         "nov, 2017",
         "1.31666666666667",
         "1",
         "129.0",
         "2",
         "failure",
         "no",
         "technician",
         "secondary",
         "very low",
         "58.0"
        ],
        [
         "24189",
         "24190",
         "44.0",
         "100000",
         "6203",
         "married",
         "yes",
         "no",
         "yes",
         "yes",
         "cellular",
         "17",
         "nov, 2017",
         "0.966666666666667",
         "1",
         "188.0",
         "1",
         "failure",
         "no",
         "management",
         "tertiary",
         "High",
         "6203.0"
        ],
        [
         "24198",
         "24199",
         "34.0",
         "60000",
         "105",
         "single",
         "yes",
         "no",
         "yes",
         "no",
         "cellular",
         "17",
         "nov, 2017",
         "5.05",
         "1",
         "196.0",
         "2",
         "failure",
         "no",
         "technician",
         "secondary",
         "very low",
         "105.0"
        ],
        [
         "24203",
         "24204",
         "49.0",
         "100000",
         "1533",
         "married",
         "yes",
         "no",
         "no",
         "no",
         "cellular",
         "17",
         "nov, 2017",
         "5.4",
         "1",
         "172.0",
         "1",
         "failure",
         "no",
         "management",
         "tertiary",
         "Moderate",
         "1533.0"
        ],
        [
         "24207",
         "24208",
         "47.0",
         "16000",
         "228",
         "married",
         "yes",
         "no",
         "yes",
         "no",
         "cellular",
         "17",
         "nov, 2017",
         "1.33333333333333",
         "1",
         "118.0",
         "1",
         "failure",
         "no",
         "housemaid",
         "tertiary",
         "very low",
         "228.0"
        ],
        [
         "24208",
         "24209",
         "40.0",
         "100000",
         "1623",
         "single",
         "yes",
         "no",
         "yes",
         "no",
         "cellular",
         "17",
         "nov, 2017",
         "2.68333333333333",
         "1",
         "167.0",
         "2",
         "failure",
         "no",
         "management",
         "secondary",
         "Moderate",
         "1623.0"
        ],
        [
         "24230",
         "24231",
         "47.0",
         "20000",
         "1484",
         "married",
         "yes",
         "no",
         "no",
         "no",
         "cellular",
         "17",
         "nov, 2017",
         "4.95",
         "1",
         "119.0",
         "3",
         "failure",
         "no",
         "blue-collar",
         "secondary",
         "Moderate",
         "1484.0"
        ],
        [
         "24236",
         "24237",
         "54.0",
         "60000",
         "198",
         "single",
         "yes",
         "no",
         "yes",
         "yes",
         "cellular",
         "17",
         "nov, 2017",
         "2",
         "1",
         "171.0",
         "2",
         "failure",
         "no",
         "technician",
         "secondary",
         "very low",
         "198.0"
        ],
        [
         "24239",
         "24240",
         "48.0",
         "50000",
         "295",
         "divorced",
         "yes",
         "no",
         "yes",
         "no",
         "cellular",
         "17",
         "nov, 2017",
         "2.05",
         "1",
         "164.0",
         "2",
         "success",
         "no",
         "admin.",
         "secondary",
         "very low",
         "295.0"
        ],
        [
         "24250",
         "24251",
         "45.0",
         "60000",
         "1477",
         "married",
         "yes",
         "no",
         "yes",
         "no",
         "cellular",
         "17",
         "nov, 2017",
         "1.25",
         "1",
         "132.0",
         "1",
         "failure",
         "no",
         "technician",
         "secondary",
         "Moderate",
         "1477.0"
        ],
        [
         "24253",
         "24254",
         "39.0",
         "50000",
         "401",
         "married",
         "yes",
         "no",
         "yes",
         "no",
         "cellular",
         "17",
         "nov, 2017",
         "6.6",
         "1",
         "129.0",
         "2",
         "failure",
         null,
         "admin.",
         "secondary",
         "low",
         "401.0"
        ],
        [
         "24254",
         "24255",
         "39.0",
         "20000",
         "3324",
         "married",
         "yes",
         "no",
         "no",
         "no",
         "cellular",
         "17",
         "nov, 2017",
         "1.6",
         "1",
         "131.0",
         "1",
         "failure",
         "no",
         "blue-collar",
         "primary",
         "Moderate",
         "3324.0"
        ],
        [
         "24257",
         "24258",
         "37.0",
         "100000",
         "0",
         "married",
         "yes",
         "yes",
         "no",
         "no",
         "cellular",
         "17",
         "nov, 2017",
         "0.733333333333333",
         "1",
         "123.0",
         "2",
         "failure",
         "no",
         "management",
         "tertiary",
         null,
         "0.0"
        ],
        [
         "24264",
         "24265",
         "49.0",
         "100000",
         "64",
         "married",
         "yes",
         "no",
         "no",
         "no",
         "cellular",
         "17",
         "nov, 2017",
         "3.46666666666667",
         "1",
         "159.0",
         "1",
         "success",
         "no",
         "management",
         "tertiary",
         "very low",
         "64.0"
        ],
        [
         "24265",
         "24266",
         "58.0",
         "50000",
         "0",
         "married",
         "no",
         "no",
         "yes",
         "no",
         "cellular",
         "17",
         "nov, 2017",
         "3.65",
         "1",
         "186.0",
         "2",
         "failure",
         "no",
         "admin.",
         "unknown",
         null,
         "0.0"
        ],
        [
         "24266",
         "24267",
         "43.0",
         "60000",
         "1865",
         "married",
         "yes",
         "no",
         "yes",
         "no",
         "cellular",
         "17",
         "nov, 2017",
         "2.58333333333333",
         "1",
         "186.0",
         "1",
         "failure",
         "no",
         "technician",
         "secondary",
         "Moderate",
         "1865.0"
        ],
        [
         "24299",
         "24300",
         "50.0",
         "100000",
         "633",
         "married",
         "yes",
         "no",
         "no",
         "yes",
         "telephone",
         "17",
         "nov, 2017",
         "5.03333333333333",
         "1",
         "111.0",
         "6",
         "failure",
         "no",
         "management",
         "secondary",
         "low",
         "633.0"
        ],
        [
         "24311",
         "24312",
         "56.0",
         "55000",
         "2749",
         "married",
         "yes",
         "no",
         "yes",
         "yes",
         "cellular",
         "17",
         "nov, 2017",
         "0.633333333333333",
         "1",
         "172.0",
         "2",
         "failure",
         "no",
         "retired",
         "secondary",
         "Moderate",
         "2749.0"
        ],
        [
         "24312",
         "24313",
         "51.0",
         "120000",
         "209",
         "married",
         "yes",
         "no",
         "no",
         "no",
         "cellular",
         "17",
         "nov, 2017",
         "2.16666666666667",
         "1",
         "111.0",
         "2",
         "failure",
         "no",
         "entrepreneur",
         "tertiary",
         "very low",
         "209.0"
        ],
        [
         "24315",
         "24316",
         "50.0",
         "60000",
         "246",
         "single",
         "yes",
         "no",
         "yes",
         "no",
         "cellular",
         "17",
         "nov, 2017",
         "4.5",
         "1",
         "123.0",
         "2",
         "failure",
         "no",
         "technician",
         "secondary",
         "very low",
         "246.0"
        ],
        [
         "24323",
         "24324",
         "45.0",
         "60000",
         "1415",
         "married",
         "yes",
         "no",
         "yes",
         "no",
         "cellular",
         "17",
         "nov, 2017",
         "8.05",
         "1",
         "116.0",
         "1",
         "failure",
         "no",
         "technician",
         "secondary",
         "Moderate",
         "1415.0"
        ],
        [
         "24326",
         "24327",
         "40.0",
         "70000",
         "5766",
         "divorced",
         "yes",
         "no",
         "yes",
         "yes",
         "cellular",
         "17",
         "nov, 2017",
         "1.13333333333333",
         "2",
         "173.0",
         "1",
         "failure",
         "no",
         "services",
         "secondary",
         "High",
         "5766.0"
        ],
        [
         "24327",
         "24328",
         "30.0",
         "100000",
         "101",
         "married",
         "yes",
         "no",
         "yes",
         "no",
         "cellular",
         "17",
         "nov, 2017",
         "5.8",
         "1",
         "123.0",
         "1",
         "failure",
         "no",
         "management",
         "tertiary",
         "very low",
         "101.0"
        ],
        [
         "24331",
         "24332",
         "36.0",
         "100000",
         "5057",
         "married",
         "yes",
         "no",
         "yes",
         "no",
         "cellular",
         "17",
         "nov, 2017",
         "1.16666666666667",
         "1",
         "166.0",
         "10",
         "failure",
         "no",
         "management",
         "tertiary",
         "High",
         "5057.0"
        ],
        [
         "24343",
         "24344",
         "34.0",
         "16000",
         "1265",
         "married",
         "yes",
         "no",
         "yes",
         "no",
         "cellular",
         "17",
         "nov, 2017",
         "1.96666666666667",
         "1",
         "164.0",
         "3",
         "failure",
         "no",
         "housemaid",
         "tertiary",
         "Moderate",
         "1265.0"
        ],
        [
         "24346",
         "24347",
         "48.0",
         "100000",
         "8106",
         "single",
         "no",
         "no",
         "no",
         "no",
         "unknown",
         "17",
         "nov, 2017",
         "2.08333333333333",
         "1",
         "111.0",
         "3",
         "failure",
         "no",
         "management",
         "tertiary",
         "High",
         "8106.0"
        ],
        [
         "24350",
         "24351",
         "59.0",
         "100000",
         "0",
         "married",
         "yes",
         "no",
         "no",
         "no",
         "cellular",
         "17",
         "nov, 2017",
         "1.5",
         "2",
         "110.0",
         "2",
         "failure",
         "no",
         "management",
         "tertiary",
         null,
         "0.0"
        ],
        [
         "24353",
         "24354",
         "53.0",
         "70000",
         "1364",
         "married",
         "yes",
         "no",
         "no",
         "no",
         "cellular",
         "17",
         "nov, 2017",
         "8.46666666666667",
         "1",
         "115.0",
         "1",
         "failure",
         "no",
         "services",
         "secondary",
         "Moderate",
         "1364.0"
        ],
        [
         "24358",
         "24359",
         "46.0",
         "100000",
         "46",
         "single",
         "no",
         "no",
         "no",
         "yes",
         "cellular",
         "17",
         "nov, 2017",
         "1.33333333333333",
         "1",
         "152.0",
         "1",
         "failure",
         "no",
         "management",
         "tertiary",
         "very low",
         "46.0"
        ],
        [
         "24359",
         "24360",
         "52.0",
         "55000",
         "5423",
         "married",
         "yes",
         "no",
         "no",
         "yes",
         "cellular",
         "17",
         "nov, 2017",
         "1.55",
         "1",
         "115.0",
         "1",
         "failure",
         "no",
         "retired",
         "secondary",
         "High",
         "5423.0"
        ],
        [
         "24364",
         "24365",
         "58.0",
         "55000",
         "8332",
         "married",
         "yes",
         "no",
         "no",
         "no",
         "unknown",
         "17",
         "nov, 2017",
         "2.73333333333333",
         "2",
         "96.0",
         "4",
         "failure",
         "no",
         "retired",
         "secondary",
         "High",
         "8332.0"
        ],
        [
         "24366",
         "24367",
         "56.0",
         "60000",
         "689",
         "divorced",
         "yes",
         "no",
         "yes",
         "no",
         "cellular",
         "17",
         "nov, 2017",
         "1.83333333333333",
         "1",
         "103.0",
         "4",
         "failure",
         "no",
         "technician",
         "secondary",
         "low",
         "689.0"
        ],
        [
         "24395",
         "24396",
         "34.0",
         "50000",
         "0",
         "single",
         "yes",
         "no",
         "yes",
         "no",
         "cellular",
         "17",
         "nov, 2017",
         "3.56666666666667",
         "1",
         "174.0",
         "2",
         "failure",
         "no",
         "admin.",
         "secondary",
         null,
         "0.0"
        ],
        [
         "24402",
         "24403",
         "32.0",
         "50000",
         "4344",
         "single",
         "yes",
         "no",
         "yes",
         "no",
         "cellular",
         "17",
         "nov, 2017",
         "1.31666666666667",
         "2",
         "118.0",
         "3",
         "failure",
         "no",
         "admin.",
         "secondary",
         "High",
         "4344.0"
        ],
        [
         "24405",
         "24406",
         "54.0",
         "60000",
         "472",
         "married",
         "yes",
         "no",
         "yes",
         "yes",
         "unknown",
         "17",
         "nov, 2017",
         "3.81666666666667",
         "2",
         "150.0",
         "1",
         "failure",
         "no",
         "technician",
         "secondary",
         "low",
         "472.0"
        ],
        [
         "24411",
         "24412",
         "59.0",
         "100000",
         "252",
         "married",
         "yes",
         "no",
         "yes",
         "yes",
         "cellular",
         "17",
         "nov, 2017",
         "2.3",
         "1",
         "175.0",
         "2",
         "failure",
         "no",
         "management",
         "primary",
         "very low",
         "252.0"
        ],
        [
         "24412",
         "24413",
         "40.0",
         "60000",
         "0",
         "married",
         "yes",
         "no",
         "yes",
         "no",
         "cellular",
         "17",
         "nov, 2017",
         "1.23333333333333",
         "2",
         "196.0",
         "1",
         "failure",
         "no",
         "technician",
         "secondary",
         null,
         "0.0"
        ],
        [
         "24415",
         "24416",
         "45.0",
         "100000",
         "4425",
         "married",
         "yes",
         "no",
         "no",
         "no",
         "unknown",
         "17",
         "nov, 2017",
         "2.45",
         "1",
         "110.0",
         "2",
         "failure",
         "no",
         "management",
         "secondary",
         "High",
         "4425.0"
        ],
        [
         "24416",
         "24417",
         "43.0",
         "60000",
         "-36",
         "divorced",
         "yes",
         "no",
         "yes",
         "no",
         "cellular",
         "17",
         "nov, 2017",
         "3.16666666666667",
         "1",
         "104.0",
         "1",
         "failure",
         "no",
         "technician",
         "secondary",
         null,
         "-36.0"
        ]
       ],
       "shape": {
        "columns": 22,
        "rows": 6407
       }
      },
      "text/html": [
       "<div>\n",
       "<style scoped>\n",
       "    .dataframe tbody tr th:only-of-type {\n",
       "        vertical-align: middle;\n",
       "    }\n",
       "\n",
       "    .dataframe tbody tr th {\n",
       "        vertical-align: top;\n",
       "    }\n",
       "\n",
       "    .dataframe thead th {\n",
       "        text-align: right;\n",
       "    }\n",
       "</style>\n",
       "<table border=\"1\" class=\"dataframe\">\n",
       "  <thead>\n",
       "    <tr style=\"text-align: right;\">\n",
       "      <th></th>\n",
       "      <th>customerid</th>\n",
       "      <th>age</th>\n",
       "      <th>salary</th>\n",
       "      <th>balance</th>\n",
       "      <th>marital</th>\n",
       "      <th>targeted</th>\n",
       "      <th>default</th>\n",
       "      <th>housing</th>\n",
       "      <th>loan</th>\n",
       "      <th>contact</th>\n",
       "      <th>...</th>\n",
       "      <th>duration</th>\n",
       "      <th>campaign</th>\n",
       "      <th>pdays</th>\n",
       "      <th>previous</th>\n",
       "      <th>poutcome</th>\n",
       "      <th>response</th>\n",
       "      <th>Job</th>\n",
       "      <th>Education</th>\n",
       "      <th>balanced group</th>\n",
       "      <th>Balances Capped</th>\n",
       "    </tr>\n",
       "  </thead>\n",
       "  <tbody>\n",
       "    <tr>\n",
       "      <th>24060</th>\n",
       "      <td>24061</td>\n",
       "      <td>33.0</td>\n",
       "      <td>50000</td>\n",
       "      <td>882</td>\n",
       "      <td>married</td>\n",
       "      <td>yes</td>\n",
       "      <td>no</td>\n",
       "      <td>no</td>\n",
       "      <td>no</td>\n",
       "      <td>telephone</td>\n",
       "      <td>...</td>\n",
       "      <td>0.65</td>\n",
       "      <td>1</td>\n",
       "      <td>151.0</td>\n",
       "      <td>3</td>\n",
       "      <td>failure</td>\n",
       "      <td>no</td>\n",
       "      <td>admin.</td>\n",
       "      <td>tertiary</td>\n",
       "      <td>low</td>\n",
       "      <td>882.0</td>\n",
       "    </tr>\n",
       "    <tr>\n",
       "      <th>24064</th>\n",
       "      <td>24065</td>\n",
       "      <td>33.0</td>\n",
       "      <td>70000</td>\n",
       "      <td>3444</td>\n",
       "      <td>married</td>\n",
       "      <td>yes</td>\n",
       "      <td>no</td>\n",
       "      <td>yes</td>\n",
       "      <td>no</td>\n",
       "      <td>telephone</td>\n",
       "      <td>...</td>\n",
       "      <td>2.4</td>\n",
       "      <td>1</td>\n",
       "      <td>91.0</td>\n",
       "      <td>4</td>\n",
       "      <td>failure</td>\n",
       "      <td>yes</td>\n",
       "      <td>services</td>\n",
       "      <td>secondary</td>\n",
       "      <td>Moderate</td>\n",
       "      <td>3444.0</td>\n",
       "    </tr>\n",
       "    <tr>\n",
       "      <th>24077</th>\n",
       "      <td>24078</td>\n",
       "      <td>36.0</td>\n",
       "      <td>100000</td>\n",
       "      <td>0</td>\n",
       "      <td>married</td>\n",
       "      <td>yes</td>\n",
       "      <td>no</td>\n",
       "      <td>yes</td>\n",
       "      <td>no</td>\n",
       "      <td>telephone</td>\n",
       "      <td>...</td>\n",
       "      <td>2.33333333333333</td>\n",
       "      <td>1</td>\n",
       "      <td>143.0</td>\n",
       "      <td>3</td>\n",
       "      <td>failure</td>\n",
       "      <td>yes</td>\n",
       "      <td>management</td>\n",
       "      <td>tertiary</td>\n",
       "      <td>NaN</td>\n",
       "      <td>0.0</td>\n",
       "    </tr>\n",
       "    <tr>\n",
       "      <th>24080</th>\n",
       "      <td>24081</td>\n",
       "      <td>56.0</td>\n",
       "      <td>60000</td>\n",
       "      <td>589</td>\n",
       "      <td>married</td>\n",
       "      <td>yes</td>\n",
       "      <td>no</td>\n",
       "      <td>yes</td>\n",
       "      <td>no</td>\n",
       "      <td>unknown</td>\n",
       "      <td>...</td>\n",
       "      <td>8.63333333333333</td>\n",
       "      <td>1</td>\n",
       "      <td>147.0</td>\n",
       "      <td>2</td>\n",
       "      <td>success</td>\n",
       "      <td>yes</td>\n",
       "      <td>technician</td>\n",
       "      <td>secondary</td>\n",
       "      <td>low</td>\n",
       "      <td>589.0</td>\n",
       "    </tr>\n",
       "    <tr>\n",
       "      <th>24127</th>\n",
       "      <td>24128</td>\n",
       "      <td>51.0</td>\n",
       "      <td>50000</td>\n",
       "      <td>3132</td>\n",
       "      <td>single</td>\n",
       "      <td>yes</td>\n",
       "      <td>no</td>\n",
       "      <td>no</td>\n",
       "      <td>no</td>\n",
       "      <td>telephone</td>\n",
       "      <td>...</td>\n",
       "      <td>7.48333333333333</td>\n",
       "      <td>1</td>\n",
       "      <td>176.0</td>\n",
       "      <td>1</td>\n",
       "      <td>failure</td>\n",
       "      <td>no</td>\n",
       "      <td>admin.</td>\n",
       "      <td>secondary</td>\n",
       "      <td>Moderate</td>\n",
       "      <td>3132.0</td>\n",
       "    </tr>\n",
       "    <tr>\n",
       "      <th>...</th>\n",
       "      <td>...</td>\n",
       "      <td>...</td>\n",
       "      <td>...</td>\n",
       "      <td>...</td>\n",
       "      <td>...</td>\n",
       "      <td>...</td>\n",
       "      <td>...</td>\n",
       "      <td>...</td>\n",
       "      <td>...</td>\n",
       "      <td>...</td>\n",
       "      <td>...</td>\n",
       "      <td>...</td>\n",
       "      <td>...</td>\n",
       "      <td>...</td>\n",
       "      <td>...</td>\n",
       "      <td>...</td>\n",
       "      <td>...</td>\n",
       "      <td>...</td>\n",
       "      <td>...</td>\n",
       "      <td>...</td>\n",
       "      <td>...</td>\n",
       "    </tr>\n",
       "    <tr>\n",
       "      <th>45194</th>\n",
       "      <td>45195</td>\n",
       "      <td>59.0</td>\n",
       "      <td>100000</td>\n",
       "      <td>138</td>\n",
       "      <td>married</td>\n",
       "      <td>yes</td>\n",
       "      <td>no</td>\n",
       "      <td>yes</td>\n",
       "      <td>yes</td>\n",
       "      <td>cellular</td>\n",
       "      <td>...</td>\n",
       "      <td>2.7</td>\n",
       "      <td>2</td>\n",
       "      <td>187.0</td>\n",
       "      <td>5</td>\n",
       "      <td>failure</td>\n",
       "      <td>no</td>\n",
       "      <td>management</td>\n",
       "      <td>tertiary</td>\n",
       "      <td>very low</td>\n",
       "      <td>138.0</td>\n",
       "    </tr>\n",
       "    <tr>\n",
       "      <th>45195</th>\n",
       "      <td>45196</td>\n",
       "      <td>68.0</td>\n",
       "      <td>55000</td>\n",
       "      <td>1146</td>\n",
       "      <td>married</td>\n",
       "      <td>yes</td>\n",
       "      <td>no</td>\n",
       "      <td>no</td>\n",
       "      <td>no</td>\n",
       "      <td>cellular</td>\n",
       "      <td>...</td>\n",
       "      <td>3.53333333333333</td>\n",
       "      <td>1</td>\n",
       "      <td>187.0</td>\n",
       "      <td>6</td>\n",
       "      <td>success</td>\n",
       "      <td>yes</td>\n",
       "      <td>retired</td>\n",
       "      <td>secondary</td>\n",
       "      <td>Moderate</td>\n",
       "      <td>1146.0</td>\n",
       "    </tr>\n",
       "    <tr>\n",
       "      <th>45201</th>\n",
       "      <td>45202</td>\n",
       "      <td>53.0</td>\n",
       "      <td>100000</td>\n",
       "      <td>583</td>\n",
       "      <td>married</td>\n",
       "      <td>yes</td>\n",
       "      <td>no</td>\n",
       "      <td>no</td>\n",
       "      <td>no</td>\n",
       "      <td>cellular</td>\n",
       "      <td>...</td>\n",
       "      <td>3.76666666666667</td>\n",
       "      <td>1</td>\n",
       "      <td>184.0</td>\n",
       "      <td>4</td>\n",
       "      <td>success</td>\n",
       "      <td>yes</td>\n",
       "      <td>management</td>\n",
       "      <td>tertiary</td>\n",
       "      <td>low</td>\n",
       "      <td>583.0</td>\n",
       "    </tr>\n",
       "    <tr>\n",
       "      <th>45204</th>\n",
       "      <td>45205</td>\n",
       "      <td>73.0</td>\n",
       "      <td>55000</td>\n",
       "      <td>2850</td>\n",
       "      <td>married</td>\n",
       "      <td>yes</td>\n",
       "      <td>no</td>\n",
       "      <td>no</td>\n",
       "      <td>no</td>\n",
       "      <td>cellular</td>\n",
       "      <td>...</td>\n",
       "      <td>5</td>\n",
       "      <td>1</td>\n",
       "      <td>40.0</td>\n",
       "      <td>8</td>\n",
       "      <td>failure</td>\n",
       "      <td>yes</td>\n",
       "      <td>retired</td>\n",
       "      <td>secondary</td>\n",
       "      <td>Moderate</td>\n",
       "      <td>2850.0</td>\n",
       "    </tr>\n",
       "    <tr>\n",
       "      <th>45208</th>\n",
       "      <td>45209</td>\n",
       "      <td>72.0</td>\n",
       "      <td>55000</td>\n",
       "      <td>5715</td>\n",
       "      <td>married</td>\n",
       "      <td>yes</td>\n",
       "      <td>no</td>\n",
       "      <td>no</td>\n",
       "      <td>no</td>\n",
       "      <td>cellular</td>\n",
       "      <td>...</td>\n",
       "      <td>18.7833333333333</td>\n",
       "      <td>5</td>\n",
       "      <td>184.0</td>\n",
       "      <td>3</td>\n",
       "      <td>success</td>\n",
       "      <td>yes</td>\n",
       "      <td>retired</td>\n",
       "      <td>secondary</td>\n",
       "      <td>High</td>\n",
       "      <td>5715.0</td>\n",
       "    </tr>\n",
       "  </tbody>\n",
       "</table>\n",
       "<p>6407 rows × 22 columns</p>\n",
       "</div>"
      ],
      "text/plain": [
       "       customerid   age  salary  balance  marital targeted default housing  \\\n",
       "24060       24061  33.0   50000      882  married      yes      no      no   \n",
       "24064       24065  33.0   70000     3444  married      yes      no     yes   \n",
       "24077       24078  36.0  100000        0  married      yes      no     yes   \n",
       "24080       24081  56.0   60000      589  married      yes      no     yes   \n",
       "24127       24128  51.0   50000     3132   single      yes      no      no   \n",
       "...           ...   ...     ...      ...      ...      ...     ...     ...   \n",
       "45194       45195  59.0  100000      138  married      yes      no     yes   \n",
       "45195       45196  68.0   55000     1146  married      yes      no      no   \n",
       "45201       45202  53.0  100000      583  married      yes      no      no   \n",
       "45204       45205  73.0   55000     2850  married      yes      no      no   \n",
       "45208       45209  72.0   55000     5715  married      yes      no      no   \n",
       "\n",
       "      loan    contact  ...          duration campaign  pdays  previous  \\\n",
       "24060   no  telephone  ...              0.65        1  151.0         3   \n",
       "24064   no  telephone  ...               2.4        1   91.0         4   \n",
       "24077   no  telephone  ...  2.33333333333333        1  143.0         3   \n",
       "24080   no    unknown  ...  8.63333333333333        1  147.0         2   \n",
       "24127   no  telephone  ...  7.48333333333333        1  176.0         1   \n",
       "...    ...        ...  ...               ...      ...    ...       ...   \n",
       "45194  yes   cellular  ...               2.7        2  187.0         5   \n",
       "45195   no   cellular  ...  3.53333333333333        1  187.0         6   \n",
       "45201   no   cellular  ...  3.76666666666667        1  184.0         4   \n",
       "45204   no   cellular  ...                 5        1   40.0         8   \n",
       "45208   no   cellular  ...  18.7833333333333        5  184.0         3   \n",
       "\n",
       "       poutcome  response         Job  Education balanced group  \\\n",
       "24060   failure        no      admin.   tertiary            low   \n",
       "24064   failure       yes    services  secondary       Moderate   \n",
       "24077   failure       yes  management   tertiary            NaN   \n",
       "24080   success       yes  technician  secondary            low   \n",
       "24127   failure        no      admin.  secondary       Moderate   \n",
       "...         ...       ...         ...        ...            ...   \n",
       "45194   failure        no  management   tertiary       very low   \n",
       "45195   success       yes     retired  secondary       Moderate   \n",
       "45201   success       yes  management   tertiary            low   \n",
       "45204   failure       yes     retired  secondary       Moderate   \n",
       "45208   success       yes     retired  secondary           High   \n",
       "\n",
       "      Balances Capped  \n",
       "24060           882.0  \n",
       "24064          3444.0  \n",
       "24077             0.0  \n",
       "24080           589.0  \n",
       "24127          3132.0  \n",
       "...               ...  \n",
       "45194           138.0  \n",
       "45195          1146.0  \n",
       "45201           583.0  \n",
       "45204          2850.0  \n",
       "45208          5715.0  \n",
       "\n",
       "[6407 rows x 22 columns]"
      ]
     },
     "execution_count": 106,
     "metadata": {},
     "output_type": "execute_result"
    }
   ],
   "source": [
    "bank_target[~bank_target['poutcome'].isin(['unknown', 'other'])]\n"
   ]
  },
  {
   "cell_type": "code",
   "execution_count": 81,
   "id": "47e2c261",
   "metadata": {},
   "outputs": [
    {
     "data": {
      "application/vnd.microsoft.datawrangler.viewer.v0+json": {
       "columns": [
        {
         "name": "poutcome",
         "rawType": "object",
         "type": "string"
        },
        {
         "name": "count",
         "rawType": "int64",
         "type": "integer"
        }
       ],
       "ref": "bba41ca8-132e-418e-a470-537b159f512b",
       "rows": [
        [
         "unknown",
         "36944"
        ],
        [
         "failure",
         "4898"
        ],
        [
         "other",
         "1840"
        ],
        [
         "success",
         "1509"
        ]
       ],
       "shape": {
        "columns": 1,
        "rows": 4
       }
      },
      "text/plain": [
       "poutcome\n",
       "unknown    36944\n",
       "failure     4898\n",
       "other       1840\n",
       "success     1509\n",
       "Name: count, dtype: int64"
      ]
     },
     "execution_count": 81,
     "metadata": {},
     "output_type": "execute_result"
    }
   ],
   "source": [
    "bank_target.poutcome.value_counts()"
   ]
  },
  {
   "cell_type": "code",
   "execution_count": 85,
   "id": "2bedd3a2",
   "metadata": {},
   "outputs": [
    {
     "data": {
      "application/vnd.microsoft.datawrangler.viewer.v0+json": {
       "columns": [
        {
         "name": "poutcome",
         "rawType": "object",
         "type": "string"
        },
        {
         "name": "proportion",
         "rawType": "float64",
         "type": "float"
        }
       ],
       "ref": "edf67fe5-4061-4c05-af48-4c8b4a8c8596",
       "rows": [
        [
         "unknown",
         "81.75079108672081"
        ],
        [
         "failure",
         "10.838441282556262"
        ],
        [
         "other",
         "4.071607178420482"
        ],
        [
         "success",
         "3.33916045230245"
        ]
       ],
       "shape": {
        "columns": 1,
        "rows": 4
       }
      },
      "text/plain": [
       "poutcome\n",
       "unknown    81.750791\n",
       "failure    10.838441\n",
       "other       4.071607\n",
       "success     3.339160\n",
       "Name: proportion, dtype: float64"
      ]
     },
     "execution_count": 85,
     "metadata": {},
     "output_type": "execute_result"
    }
   ],
   "source": [
    "bank_target.poutcome.value_counts(normalize=True)*100"
   ]
  },
  {
   "cell_type": "code",
   "execution_count": 87,
   "id": "54f5c777",
   "metadata": {},
   "outputs": [
    {
     "data": {
      "text/plain": [
       "<Axes: ylabel='proportion'>"
      ]
     },
     "execution_count": 87,
     "metadata": {},
     "output_type": "execute_result"
    },
    {
     "data": {
      "image/png": "[encoded data removed]",
      "text/plain": [
       "<Figure size 640x480 with 1 Axes>"
      ]
     },
     "metadata": {},
     "output_type": "display_data"
    }
   ],
   "source": [
    "bank_target.poutcome.value_counts(normalize=True).plot.pie(\n",
    "    autopct = '%1.1f%%'\n",
    ")"
   ]
  },
  {
   "cell_type": "code",
   "execution_count": 118,
   "id": "1e38d333",
   "metadata": {},
   "outputs": [
    {
     "data": {
      "text/plain": [
       "<Axes: ylabel='poutcome'>"
      ]
     },
     "execution_count": 118,
     "metadata": {},
     "output_type": "execute_result"
    },
    {
     "data": {
      "image/png": "[encoded data removed]",
      "text/plain": [
       "<Figure size 640x480 with 1 Axes>"
      ]
     },
     "metadata": {},
     "output_type": "display_data"
    }
   ],
   "source": [
    "bank_target[~(bank_target.poutcome).isin(['unknown','other'])].poutcome.value_counts(normalize=True).plot.barh()"
   ]
  },
  {
   "cell_type": "code",
   "execution_count": 88,
   "id": "90315e36",
   "metadata": {},
   "outputs": [
    {
     "data": {
      "text/plain": [
       "<Axes: ylabel='poutcome'>"
      ]
     },
     "execution_count": 88,
     "metadata": {},
     "output_type": "execute_result"
    },
    {
     "data": {
      "image/png": "[encoded data removed]",
      "text/plain": [
       "<Figure size 640x480 with 1 Axes>"
      ]
     },
     "metadata": {},
     "output_type": "display_data"
    }
   ],
   "source": [
    "bank_target.poutcome.value_counts(normalize=True).plot.barh()"
   ]
  },
  {
   "cell_type": "code",
   "execution_count": 91,
   "id": "c8a65e2c",
   "metadata": {},
   "outputs": [
    {
     "data": {
      "text/plain": [
       "<Axes: ylabel='poutcome'>"
      ]
     },
     "execution_count": 91,
     "metadata": {},
     "output_type": "execute_result"
    },
    {
     "data": {
      "image/png": "[encoded data removed]",
      "text/plain": [
       "<Figure size 640x480 with 1 Axes>"
      ]
     },
     "metadata": {},
     "output_type": "display_data"
    }
   ],
   "source": [
    "bank_target[~(bank_target.poutcome == 'unknown')].poutcome.value_counts(normalize=True).plot.barh()"
   ]
  },
  {
   "cell_type": "markdown",
   "id": "b01614e6",
   "metadata": {},
   "source": [
    "**Let's now take response into the consideration now**"
   ]
  },
  {
   "cell_type": "code",
   "execution_count": null,
   "id": "0c5394bc",
   "metadata": {},
   "outputs": [],
   "source": [
    "## Response that is out target dataset  "
   ]
  },
  {
   "cell_type": "code",
   "execution_count": 97,
   "id": "3e779ba1",
   "metadata": {},
   "outputs": [
    {
     "data": {
      "application/vnd.microsoft.datawrangler.viewer.v0+json": {
       "columns": [
        {
         "name": "response",
         "rawType": "object",
         "type": "string"
        },
        {
         "name": "count",
         "rawType": "int64",
         "type": "integer"
        }
       ],
       "ref": "9f5a869d-4300-4f4f-9c33-c7dabc869dab",
       "rows": [
        [
         "no",
         "39876"
        ],
        [
         "yes",
         "5285"
        ]
       ],
       "shape": {
        "columns": 1,
        "rows": 2
       }
      },
      "text/plain": [
       "response\n",
       "no     39876\n",
       "yes     5285\n",
       "Name: count, dtype: int64"
      ]
     },
     "execution_count": 97,
     "metadata": {},
     "output_type": "execute_result"
    }
   ],
   "source": [
    "bank_target.response.value_counts()"
   ]
  },
  {
   "cell_type": "code",
   "execution_count": 98,
   "id": "8a73c0aa",
   "metadata": {},
   "outputs": [
    {
     "data": {
      "application/vnd.microsoft.datawrangler.viewer.v0+json": {
       "columns": [
        {
         "name": "response",
         "rawType": "object",
         "type": "string"
        },
        {
         "name": "proportion",
         "rawType": "float64",
         "type": "float"
        }
       ],
       "ref": "c39f67f1-98fa-485a-a60f-47d9b24fe307",
       "rows": [
        [
         "no",
         "88.29742476915922"
        ],
        [
         "yes",
         "11.70257523084077"
        ]
       ],
       "shape": {
        "columns": 1,
        "rows": 2
       }
      },
      "text/plain": [
       "response\n",
       "no     88.297425\n",
       "yes    11.702575\n",
       "Name: proportion, dtype: float64"
      ]
     },
     "execution_count": 98,
     "metadata": {},
     "output_type": "execute_result"
    }
   ],
   "source": [
    "bank_target.response.value_counts(normalize=True)*100"
   ]
  },
  {
   "cell_type": "code",
   "execution_count": 99,
   "id": "5018a930",
   "metadata": {},
   "outputs": [
    {
     "data": {
      "text/plain": [
       "<Axes: ylabel='response'>"
      ]
     },
     "execution_count": 99,
     "metadata": {},
     "output_type": "execute_result"
    },
    {
     "data": {
      "image/png": "[encoded data removed]",
      "text/plain": [
       "<Figure size 640x480 with 1 Axes>"
      ]
     },
     "metadata": {},
     "output_type": "display_data"
    }
   ],
   "source": [
    "bank_target.response.value_counts(normalize=True).plot.barh()"
   ]
  },
  {
   "cell_type": "code",
   "execution_count": 103,
   "id": "cb46d475",
   "metadata": {},
   "outputs": [
    {
     "data": {
      "text/plain": [
       "<Axes: ylabel='proportion'>"
      ]
     },
     "execution_count": 103,
     "metadata": {},
     "output_type": "execute_result"
    },
    {
     "data": {
      "image/png": "[encoded data removed]",
      "text/plain": [
       "<Figure size 640x480 with 1 Axes>"
      ]
     },
     "metadata": {},
     "output_type": "display_data"
    }
   ],
   "source": [
    "bank_target.response.value_counts(normalize=True).plot.pie(\n",
    "    autopct = '%1.1f%%'\n",
    ")"
   ]
  },
  {
   "cell_type": "code",
   "execution_count": null,
   "id": "18e451dd",
   "metadata": {},
   "outputs": [],
   "source": []
  },
  {
   "cell_type": "code",
   "execution_count": null,
   "id": "58eb2076",
   "metadata": {},
   "outputs": [],
   "source": []
  },
  {
   "cell_type": "code",
   "execution_count": null,
   "id": "d3d00d27",
   "metadata": {},
   "outputs": [],
   "source": []
  }
 ],
 "metadata": {
  "kernelspec": {
   "display_name": "Python 3",
   "language": "python",
   "name": "python3"
  },
  "language_info": {
   "codemirror_mode": {
    "name": "ipython",
    "version": 3
   },
   "file_extension": ".py",
   "mimetype": "text/x-python",
   "name": "python",
   "nbconvert_exporter": "python",
   "pygments_lexer": "ipython3",
   "version": "3.13.1"
  }
 },
 "nbformat": 4,
 "nbformat_minor": 5
}
